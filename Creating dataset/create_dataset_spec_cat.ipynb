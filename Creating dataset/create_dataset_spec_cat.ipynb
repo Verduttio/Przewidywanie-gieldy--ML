{
 "cells": [
  {
   "cell_type": "code",
   "execution_count": 121,
   "id": "c1a5aaf1",
   "metadata": {},
   "outputs": [],
   "source": [
    "import pandas as pd"
   ]
  },
  {
   "cell_type": "code",
   "execution_count": 122,
   "id": "5006a91f",
   "metadata": {},
   "outputs": [],
   "source": [
    "news = pd.read_json('Dane/News_kaggle/News_Category_Dataset_v2.json', lines=True)"
   ]
  },
  {
   "cell_type": "code",
   "execution_count": 123,
   "id": "0caef47c",
   "metadata": {},
   "outputs": [
    {
     "data": {
      "text/html": [
       "<div>\n",
       "<style scoped>\n",
       "    .dataframe tbody tr th:only-of-type {\n",
       "        vertical-align: middle;\n",
       "    }\n",
       "\n",
       "    .dataframe tbody tr th {\n",
       "        vertical-align: top;\n",
       "    }\n",
       "\n",
       "    .dataframe thead th {\n",
       "        text-align: right;\n",
       "    }\n",
       "</style>\n",
       "<table border=\"1\" class=\"dataframe\">\n",
       "  <thead>\n",
       "    <tr style=\"text-align: right;\">\n",
       "      <th></th>\n",
       "      <th>category</th>\n",
       "      <th>headline</th>\n",
       "      <th>authors</th>\n",
       "      <th>link</th>\n",
       "      <th>short_description</th>\n",
       "      <th>date</th>\n",
       "    </tr>\n",
       "  </thead>\n",
       "  <tbody>\n",
       "    <tr>\n",
       "      <th>200848</th>\n",
       "      <td>TECH</td>\n",
       "      <td>RIM CEO Thorsten Heins' 'Significant' Plans Fo...</td>\n",
       "      <td>Reuters, Reuters</td>\n",
       "      <td>https://www.huffingtonpost.com/entry/rim-ceo-t...</td>\n",
       "      <td>Verizon Wireless and AT&amp;T are already promotin...</td>\n",
       "      <td>2012-01-28</td>\n",
       "    </tr>\n",
       "    <tr>\n",
       "      <th>200849</th>\n",
       "      <td>SPORTS</td>\n",
       "      <td>Maria Sharapova Stunned By Victoria Azarenka I...</td>\n",
       "      <td></td>\n",
       "      <td>https://www.huffingtonpost.com/entry/maria-sha...</td>\n",
       "      <td>Afterward, Azarenka, more effusive with the pr...</td>\n",
       "      <td>2012-01-28</td>\n",
       "    </tr>\n",
       "    <tr>\n",
       "      <th>200850</th>\n",
       "      <td>SPORTS</td>\n",
       "      <td>Giants Over Patriots, Jets Over Colts Among  M...</td>\n",
       "      <td></td>\n",
       "      <td>https://www.huffingtonpost.com/entry/super-bow...</td>\n",
       "      <td>Leading up to Super Bowl XLVI, the most talked...</td>\n",
       "      <td>2012-01-28</td>\n",
       "    </tr>\n",
       "    <tr>\n",
       "      <th>200851</th>\n",
       "      <td>SPORTS</td>\n",
       "      <td>Aldon Smith Arrested: 49ers Linebacker Busted ...</td>\n",
       "      <td></td>\n",
       "      <td>https://www.huffingtonpost.com/entry/aldon-smi...</td>\n",
       "      <td>CORRECTION: An earlier version of this story i...</td>\n",
       "      <td>2012-01-28</td>\n",
       "    </tr>\n",
       "    <tr>\n",
       "      <th>200852</th>\n",
       "      <td>SPORTS</td>\n",
       "      <td>Dwight Howard Rips Teammates After Magic Loss ...</td>\n",
       "      <td></td>\n",
       "      <td>https://www.huffingtonpost.com/entry/dwight-ho...</td>\n",
       "      <td>The five-time all-star center tore into his te...</td>\n",
       "      <td>2012-01-28</td>\n",
       "    </tr>\n",
       "  </tbody>\n",
       "</table>\n",
       "</div>"
      ],
      "text/plain": [
       "       category                                           headline  \\\n",
       "200848     TECH  RIM CEO Thorsten Heins' 'Significant' Plans Fo...   \n",
       "200849   SPORTS  Maria Sharapova Stunned By Victoria Azarenka I...   \n",
       "200850   SPORTS  Giants Over Patriots, Jets Over Colts Among  M...   \n",
       "200851   SPORTS  Aldon Smith Arrested: 49ers Linebacker Busted ...   \n",
       "200852   SPORTS  Dwight Howard Rips Teammates After Magic Loss ...   \n",
       "\n",
       "                 authors                                               link  \\\n",
       "200848  Reuters, Reuters  https://www.huffingtonpost.com/entry/rim-ceo-t...   \n",
       "200849                    https://www.huffingtonpost.com/entry/maria-sha...   \n",
       "200850                    https://www.huffingtonpost.com/entry/super-bow...   \n",
       "200851                    https://www.huffingtonpost.com/entry/aldon-smi...   \n",
       "200852                    https://www.huffingtonpost.com/entry/dwight-ho...   \n",
       "\n",
       "                                        short_description       date  \n",
       "200848  Verizon Wireless and AT&T are already promotin... 2012-01-28  \n",
       "200849  Afterward, Azarenka, more effusive with the pr... 2012-01-28  \n",
       "200850  Leading up to Super Bowl XLVI, the most talked... 2012-01-28  \n",
       "200851  CORRECTION: An earlier version of this story i... 2012-01-28  \n",
       "200852  The five-time all-star center tore into his te... 2012-01-28  "
      ]
     },
     "execution_count": 123,
     "metadata": {},
     "output_type": "execute_result"
    }
   ],
   "source": [
    "news.tail()"
   ]
  },
  {
   "cell_type": "code",
   "execution_count": 124,
   "id": "7148ff17",
   "metadata": {},
   "outputs": [
    {
     "name": "stdout",
     "output_type": "stream",
     "text": [
      "<class 'pandas.core.frame.DataFrame'>\n",
      "RangeIndex: 200853 entries, 0 to 200852\n",
      "Data columns (total 6 columns):\n",
      " #   Column             Non-Null Count   Dtype         \n",
      "---  ------             --------------   -----         \n",
      " 0   category           200853 non-null  object        \n",
      " 1   headline           200853 non-null  object        \n",
      " 2   authors            200853 non-null  object        \n",
      " 3   link               200853 non-null  object        \n",
      " 4   short_description  200853 non-null  object        \n",
      " 5   date               200853 non-null  datetime64[ns]\n",
      "dtypes: datetime64[ns](1), object(5)\n",
      "memory usage: 9.2+ MB\n"
     ]
    }
   ],
   "source": [
    "news.info()"
   ]
  },
  {
   "cell_type": "code",
   "execution_count": 125,
   "id": "6b1bffd6",
   "metadata": {},
   "outputs": [
    {
     "name": "stderr",
     "output_type": "stream",
     "text": [
      "<ipython-input-125-d644a336d14c>:1: FutureWarning: Treating datetime data as categorical rather than numeric in `.describe` is deprecated and will be removed in a future version of pandas. Specify `datetime_is_numeric=True` to silence this warning and adopt the future behavior now.\n",
      "  news.describe()\n"
     ]
    },
    {
     "data": {
      "text/html": [
       "<div>\n",
       "<style scoped>\n",
       "    .dataframe tbody tr th:only-of-type {\n",
       "        vertical-align: middle;\n",
       "    }\n",
       "\n",
       "    .dataframe tbody tr th {\n",
       "        vertical-align: top;\n",
       "    }\n",
       "\n",
       "    .dataframe thead th {\n",
       "        text-align: right;\n",
       "    }\n",
       "</style>\n",
       "<table border=\"1\" class=\"dataframe\">\n",
       "  <thead>\n",
       "    <tr style=\"text-align: right;\">\n",
       "      <th></th>\n",
       "      <th>category</th>\n",
       "      <th>headline</th>\n",
       "      <th>authors</th>\n",
       "      <th>link</th>\n",
       "      <th>short_description</th>\n",
       "      <th>date</th>\n",
       "    </tr>\n",
       "  </thead>\n",
       "  <tbody>\n",
       "    <tr>\n",
       "      <th>count</th>\n",
       "      <td>200853</td>\n",
       "      <td>200853</td>\n",
       "      <td>200853</td>\n",
       "      <td>200853</td>\n",
       "      <td>200853</td>\n",
       "      <td>200853</td>\n",
       "    </tr>\n",
       "    <tr>\n",
       "      <th>unique</th>\n",
       "      <td>41</td>\n",
       "      <td>199344</td>\n",
       "      <td>27993</td>\n",
       "      <td>200812</td>\n",
       "      <td>178353</td>\n",
       "      <td>2309</td>\n",
       "    </tr>\n",
       "    <tr>\n",
       "      <th>top</th>\n",
       "      <td>POLITICS</td>\n",
       "      <td>Sunday Roundup</td>\n",
       "      <td></td>\n",
       "      <td>https://www.huffingtonpost.comhttp://blogs.wsj...</td>\n",
       "      <td></td>\n",
       "      <td>2012-12-21 00:00:00</td>\n",
       "    </tr>\n",
       "    <tr>\n",
       "      <th>freq</th>\n",
       "      <td>32739</td>\n",
       "      <td>90</td>\n",
       "      <td>36620</td>\n",
       "      <td>2</td>\n",
       "      <td>19712</td>\n",
       "      <td>100</td>\n",
       "    </tr>\n",
       "    <tr>\n",
       "      <th>first</th>\n",
       "      <td>NaN</td>\n",
       "      <td>NaN</td>\n",
       "      <td>NaN</td>\n",
       "      <td>NaN</td>\n",
       "      <td>NaN</td>\n",
       "      <td>2012-01-28 00:00:00</td>\n",
       "    </tr>\n",
       "    <tr>\n",
       "      <th>last</th>\n",
       "      <td>NaN</td>\n",
       "      <td>NaN</td>\n",
       "      <td>NaN</td>\n",
       "      <td>NaN</td>\n",
       "      <td>NaN</td>\n",
       "      <td>2018-05-26 00:00:00</td>\n",
       "    </tr>\n",
       "  </tbody>\n",
       "</table>\n",
       "</div>"
      ],
      "text/plain": [
       "        category        headline authors  \\\n",
       "count     200853          200853  200853   \n",
       "unique        41          199344   27993   \n",
       "top     POLITICS  Sunday Roundup           \n",
       "freq       32739              90   36620   \n",
       "first        NaN             NaN     NaN   \n",
       "last         NaN             NaN     NaN   \n",
       "\n",
       "                                                     link short_description  \\\n",
       "count                                              200853            200853   \n",
       "unique                                             200812            178353   \n",
       "top     https://www.huffingtonpost.comhttp://blogs.wsj...                     \n",
       "freq                                                    2             19712   \n",
       "first                                                 NaN               NaN   \n",
       "last                                                  NaN               NaN   \n",
       "\n",
       "                       date  \n",
       "count                200853  \n",
       "unique                 2309  \n",
       "top     2012-12-21 00:00:00  \n",
       "freq                    100  \n",
       "first   2012-01-28 00:00:00  \n",
       "last    2018-05-26 00:00:00  "
      ]
     },
     "execution_count": 125,
     "metadata": {},
     "output_type": "execute_result"
    }
   ],
   "source": [
    "news.describe()"
   ]
  },
  {
   "cell_type": "code",
   "execution_count": 126,
   "id": "8bc47114",
   "metadata": {},
   "outputs": [
    {
     "data": {
      "text/plain": [
       "POLITICS          32739\n",
       "WELLNESS          17827\n",
       "ENTERTAINMENT     16058\n",
       "TRAVEL             9887\n",
       "STYLE & BEAUTY     9649\n",
       "PARENTING          8677\n",
       "HEALTHY LIVING     6694\n",
       "QUEER VOICES       6314\n",
       "FOOD & DRINK       6226\n",
       "BUSINESS           5937\n",
       "COMEDY             5175\n",
       "SPORTS             4884\n",
       "BLACK VOICES       4528\n",
       "HOME & LIVING      4195\n",
       "PARENTS            3955\n",
       "THE WORLDPOST      3664\n",
       "WEDDINGS           3651\n",
       "WOMEN              3490\n",
       "IMPACT             3459\n",
       "DIVORCE            3426\n",
       "CRIME              3405\n",
       "MEDIA              2815\n",
       "WEIRD NEWS         2670\n",
       "GREEN              2622\n",
       "WORLDPOST          2579\n",
       "RELIGION           2556\n",
       "STYLE              2254\n",
       "SCIENCE            2178\n",
       "WORLD NEWS         2177\n",
       "TASTE              2096\n",
       "TECH               2082\n",
       "MONEY              1707\n",
       "ARTS               1509\n",
       "FIFTY              1401\n",
       "GOOD NEWS          1398\n",
       "ARTS & CULTURE     1339\n",
       "ENVIRONMENT        1323\n",
       "COLLEGE            1144\n",
       "LATINO VOICES      1129\n",
       "CULTURE & ARTS     1030\n",
       "EDUCATION          1004\n",
       "Name: category, dtype: int64"
      ]
     },
     "execution_count": 126,
     "metadata": {},
     "output_type": "execute_result"
    }
   ],
   "source": [
    "news.category.value_counts()"
   ]
  },
  {
   "cell_type": "markdown",
   "id": "5a42c785",
   "metadata": {},
   "source": [
    "# Analiza kategorii i odrzucenie niektórych z nich"
   ]
  },
  {
   "cell_type": "markdown",
   "id": "a840827b",
   "metadata": {},
   "source": [
    "Wydaje się, że odzwierciedlanie sytuacji ekonomicznej i gospodarczej kraju, czyli odzwierciedlenie indeksu SP_500 może zostać znalezione w kategoriach takich jak: <div>\n",
    "* POLITICS\n",
    "* BUSINESS\n",
    "* THE WORLDPOST\n",
    "* IMPACT\n",
    "* MEDIA\n",
    "* WORLDPOST\n",
    "* WORLD NEWS\n",
    "* MONEY\n",
    "* EDUCATION\n",
    "* ENVIRONMENT\n",
    "   "
   ]
  },
  {
   "cell_type": "markdown",
   "id": "48318f85",
   "metadata": {},
   "source": [
    "Usuńmy więc pozostałe kolumny a zostawmy te wymienione powyżej"
   ]
  },
  {
   "cell_type": "code",
   "execution_count": 127,
   "id": "be1fc652",
   "metadata": {},
   "outputs": [],
   "source": [
    "keep_categories = [\n",
    "        'POLITICS', \n",
    "        'BUSINESS',\n",
    "        'THE WORLDPOST',\n",
    "        'IMPACT',\n",
    "        'MEDIA',\n",
    "        'WORLDPOST',\n",
    "        'MONEY',\n",
    "        'EDUCATION',\n",
    "        'ENVIRONMENT'\n",
    "       ]"
   ]
  },
  {
   "cell_type": "code",
   "execution_count": 128,
   "id": "67427463",
   "metadata": {},
   "outputs": [],
   "source": [
    "news = news[news.category.isin (keep_categories)]"
   ]
  },
  {
   "cell_type": "code",
   "execution_count": 129,
   "id": "37f8df7b",
   "metadata": {},
   "outputs": [
    {
     "data": {
      "text/html": [
       "<div>\n",
       "<style scoped>\n",
       "    .dataframe tbody tr th:only-of-type {\n",
       "        vertical-align: middle;\n",
       "    }\n",
       "\n",
       "    .dataframe tbody tr th {\n",
       "        vertical-align: top;\n",
       "    }\n",
       "\n",
       "    .dataframe thead th {\n",
       "        text-align: right;\n",
       "    }\n",
       "</style>\n",
       "<table border=\"1\" class=\"dataframe\">\n",
       "  <thead>\n",
       "    <tr style=\"text-align: right;\">\n",
       "      <th></th>\n",
       "      <th>category</th>\n",
       "      <th>headline</th>\n",
       "      <th>authors</th>\n",
       "      <th>link</th>\n",
       "      <th>short_description</th>\n",
       "      <th>date</th>\n",
       "    </tr>\n",
       "  </thead>\n",
       "  <tbody>\n",
       "    <tr>\n",
       "      <th>12</th>\n",
       "      <td>IMPACT</td>\n",
       "      <td>With Its Way Of Life At Risk, This Remote Oyst...</td>\n",
       "      <td>Karen Pinchin</td>\n",
       "      <td>https://www.huffingtonpost.com/entry/remote-oy...</td>\n",
       "      <td>The revolution is coming to rural New Brunswick.</td>\n",
       "      <td>2018-05-26</td>\n",
       "    </tr>\n",
       "    <tr>\n",
       "      <th>13</th>\n",
       "      <td>POLITICS</td>\n",
       "      <td>Trump's Crackdown On Immigrant Parents Puts Mo...</td>\n",
       "      <td>Elise Foley and Roque Planas</td>\n",
       "      <td>https://www.huffingtonpost.com/entry/immigrant...</td>\n",
       "      <td>Last month a Health and Human Services officia...</td>\n",
       "      <td>2018-05-26</td>\n",
       "    </tr>\n",
       "    <tr>\n",
       "      <th>14</th>\n",
       "      <td>POLITICS</td>\n",
       "      <td>'Trump's Son Should Be Concerned': FBI Obtaine...</td>\n",
       "      <td>Michael Isikoff, Yahoo News</td>\n",
       "      <td>https://www.huffingtonpost.com/entry/fbi-wiret...</td>\n",
       "      <td>The wiretaps feature conversations between Ale...</td>\n",
       "      <td>2018-05-26</td>\n",
       "    </tr>\n",
       "    <tr>\n",
       "      <th>15</th>\n",
       "      <td>POLITICS</td>\n",
       "      <td>Edward Snowden: There's No One Trump Loves Mor...</td>\n",
       "      <td>Mary Papenfuss</td>\n",
       "      <td>https://www.huffingtonpost.com/entry/edward-sn...</td>\n",
       "      <td>But don't count on Robert Mueller to nail him,...</td>\n",
       "      <td>2018-05-26</td>\n",
       "    </tr>\n",
       "    <tr>\n",
       "      <th>16</th>\n",
       "      <td>POLITICS</td>\n",
       "      <td>Booyah: Obama Photographer Hilariously Trolls ...</td>\n",
       "      <td>Mary Papenfuss</td>\n",
       "      <td>https://www.huffingtonpost.com/entry/obama-pho...</td>\n",
       "      <td>Just a peeping minute.</td>\n",
       "      <td>2018-05-26</td>\n",
       "    </tr>\n",
       "  </tbody>\n",
       "</table>\n",
       "</div>"
      ],
      "text/plain": [
       "    category                                           headline  \\\n",
       "12    IMPACT  With Its Way Of Life At Risk, This Remote Oyst...   \n",
       "13  POLITICS  Trump's Crackdown On Immigrant Parents Puts Mo...   \n",
       "14  POLITICS  'Trump's Son Should Be Concerned': FBI Obtaine...   \n",
       "15  POLITICS  Edward Snowden: There's No One Trump Loves Mor...   \n",
       "16  POLITICS  Booyah: Obama Photographer Hilariously Trolls ...   \n",
       "\n",
       "                         authors  \\\n",
       "12                 Karen Pinchin   \n",
       "13  Elise Foley and Roque Planas   \n",
       "14   Michael Isikoff, Yahoo News   \n",
       "15                Mary Papenfuss   \n",
       "16                Mary Papenfuss   \n",
       "\n",
       "                                                 link  \\\n",
       "12  https://www.huffingtonpost.com/entry/remote-oy...   \n",
       "13  https://www.huffingtonpost.com/entry/immigrant...   \n",
       "14  https://www.huffingtonpost.com/entry/fbi-wiret...   \n",
       "15  https://www.huffingtonpost.com/entry/edward-sn...   \n",
       "16  https://www.huffingtonpost.com/entry/obama-pho...   \n",
       "\n",
       "                                    short_description       date  \n",
       "12   The revolution is coming to rural New Brunswick. 2018-05-26  \n",
       "13  Last month a Health and Human Services officia... 2018-05-26  \n",
       "14  The wiretaps feature conversations between Ale... 2018-05-26  \n",
       "15  But don't count on Robert Mueller to nail him,... 2018-05-26  \n",
       "16                             Just a peeping minute. 2018-05-26  "
      ]
     },
     "execution_count": 129,
     "metadata": {},
     "output_type": "execute_result"
    }
   ],
   "source": [
    "news.head()"
   ]
  },
  {
   "cell_type": "code",
   "execution_count": 130,
   "id": "fd38ffb9",
   "metadata": {},
   "outputs": [
    {
     "data": {
      "text/plain": [
       "(55227, 6)"
      ]
     },
     "execution_count": 130,
     "metadata": {},
     "output_type": "execute_result"
    }
   ],
   "source": [
    "news.shape"
   ]
  },
  {
   "cell_type": "markdown",
   "id": "8ce44117",
   "metadata": {},
   "source": [
    "**Rozmiar zmalał prawie 4-krotnie**"
   ]
  },
  {
   "cell_type": "markdown",
   "id": "905a65eb",
   "metadata": {},
   "source": [
    "Rzućmy jeszcze okiem na to jakie newsy zawiera kategoria *IMPACT*"
   ]
  },
  {
   "cell_type": "code",
   "execution_count": 131,
   "id": "8c3507a5",
   "metadata": {},
   "outputs": [
    {
     "data": {
      "text/plain": [
       "12        With Its Way Of Life At Risk, This Remote Oyst...\n",
       "66        Monsanto And Bayer Are Set To Merge. Here's Wh...\n",
       "125       You're Going To Use That Self-Checkout Machine...\n",
       "193       Machines Don't Always Steal Our Jobs. Increasi...\n",
       "286       She Started A Suicide Prevention Site At Age 1...\n",
       "                                ...                        \n",
       "200762    Texana Hollis, 101-Year-Old Evicted Detroit Wo...\n",
       "200763                    Malaria's Defeat, Africa's Future\n",
       "200825                          Tinker and Change the World\n",
       "200826            Pregnant and Displaced: Double the Danger\n",
       "200827    Tom Brady Helps Mentor, Tom Martinez, Find A K...\n",
       "Name: headline, Length: 3459, dtype: object"
      ]
     },
     "execution_count": 131,
     "metadata": {},
     "output_type": "execute_result"
    }
   ],
   "source": [
    "news[news.category == 'IMPACT']['headline']"
   ]
  },
  {
   "cell_type": "code",
   "execution_count": 132,
   "id": "0bc4eccf",
   "metadata": {},
   "outputs": [
    {
     "data": {
      "text/plain": [
       "'With Its Way Of Life At Risk, This Remote Oyster-Growing Region Called In Robots'"
      ]
     },
     "execution_count": 132,
     "metadata": {},
     "output_type": "execute_result"
    }
   ],
   "source": [
    "news[news.category == 'IMPACT']['headline'][12]"
   ]
  },
  {
   "cell_type": "code",
   "execution_count": 133,
   "id": "f589ca44",
   "metadata": {},
   "outputs": [
    {
     "data": {
      "text/plain": [
       "\"Monsanto And Bayer Are Set To Merge. Here's Why You Should Care.\""
      ]
     },
     "execution_count": 133,
     "metadata": {},
     "output_type": "execute_result"
    }
   ],
   "source": [
    "news[news.category == 'IMPACT']['headline'][66]"
   ]
  },
  {
   "cell_type": "markdown",
   "id": "3f448455",
   "metadata": {},
   "source": [
    "Spróbujmy ją zostawić na razie. Może potem sprawdzimy jak model uczy się z nią a jak bez niej"
   ]
  },
  {
   "cell_type": "markdown",
   "id": "9dd27b2f",
   "metadata": {},
   "source": [
    "# Grupowanie dat po liczbie wiadomości"
   ]
  },
  {
   "cell_type": "code",
   "execution_count": 134,
   "id": "d772adf9",
   "metadata": {},
   "outputs": [],
   "source": [
    "dates = news.date.value_counts()"
   ]
  },
  {
   "cell_type": "markdown",
   "id": "aecd16c9",
   "metadata": {},
   "source": [
    "Pogrupujmy daty po tych dla których jest więcej niż 50 wiadomości "
   ]
  },
  {
   "cell_type": "code",
   "execution_count": 135,
   "id": "2ac7fcad",
   "metadata": {},
   "outputs": [],
   "source": [
    "dates = pd.DataFrame(data=dates)"
   ]
  },
  {
   "cell_type": "code",
   "execution_count": 136,
   "id": "2dccc8a2",
   "metadata": {},
   "outputs": [
    {
     "data": {
      "text/html": [
       "<div>\n",
       "<style scoped>\n",
       "    .dataframe tbody tr th:only-of-type {\n",
       "        vertical-align: middle;\n",
       "    }\n",
       "\n",
       "    .dataframe tbody tr th {\n",
       "        vertical-align: top;\n",
       "    }\n",
       "\n",
       "    .dataframe thead th {\n",
       "        text-align: right;\n",
       "    }\n",
       "</style>\n",
       "<table border=\"1\" class=\"dataframe\">\n",
       "  <thead>\n",
       "    <tr style=\"text-align: right;\">\n",
       "      <th></th>\n",
       "      <th>date</th>\n",
       "    </tr>\n",
       "  </thead>\n",
       "  <tbody>\n",
       "    <tr>\n",
       "      <th>2014-11-05</th>\n",
       "      <td>97</td>\n",
       "    </tr>\n",
       "    <tr>\n",
       "      <th>2016-11-09</th>\n",
       "      <td>70</td>\n",
       "    </tr>\n",
       "    <tr>\n",
       "      <th>2016-10-20</th>\n",
       "      <td>66</td>\n",
       "    </tr>\n",
       "    <tr>\n",
       "      <th>2017-01-29</th>\n",
       "      <td>61</td>\n",
       "    </tr>\n",
       "    <tr>\n",
       "      <th>2016-10-10</th>\n",
       "      <td>61</td>\n",
       "    </tr>\n",
       "    <tr>\n",
       "      <th>...</th>\n",
       "      <td>...</td>\n",
       "    </tr>\n",
       "    <tr>\n",
       "      <th>2013-11-25</th>\n",
       "      <td>1</td>\n",
       "    </tr>\n",
       "    <tr>\n",
       "      <th>2014-02-03</th>\n",
       "      <td>1</td>\n",
       "    </tr>\n",
       "    <tr>\n",
       "      <th>2014-01-27</th>\n",
       "      <td>1</td>\n",
       "    </tr>\n",
       "    <tr>\n",
       "      <th>2014-02-26</th>\n",
       "      <td>1</td>\n",
       "    </tr>\n",
       "    <tr>\n",
       "      <th>2014-03-21</th>\n",
       "      <td>1</td>\n",
       "    </tr>\n",
       "  </tbody>\n",
       "</table>\n",
       "<p>2060 rows × 1 columns</p>\n",
       "</div>"
      ],
      "text/plain": [
       "            date\n",
       "2014-11-05    97\n",
       "2016-11-09    70\n",
       "2016-10-20    66\n",
       "2017-01-29    61\n",
       "2016-10-10    61\n",
       "...          ...\n",
       "2013-11-25     1\n",
       "2014-02-03     1\n",
       "2014-01-27     1\n",
       "2014-02-26     1\n",
       "2014-03-21     1\n",
       "\n",
       "[2060 rows x 1 columns]"
      ]
     },
     "execution_count": 136,
     "metadata": {},
     "output_type": "execute_result"
    }
   ],
   "source": [
    "dates"
   ]
  },
  {
   "cell_type": "code",
   "execution_count": 137,
   "id": "8445fa40",
   "metadata": {},
   "outputs": [],
   "source": [
    "dates.rename(columns={'date': 'news_amount'}, inplace=True)"
   ]
  },
  {
   "cell_type": "markdown",
   "id": "63989604",
   "metadata": {},
   "source": [
    "Pogrupujmy daty po tych dla których jest więcej niż *news_amount* wiadomości "
   ]
  },
  {
   "cell_type": "code",
   "execution_count": 138,
   "id": "a7cdf45c",
   "metadata": {},
   "outputs": [],
   "source": [
    "news_amount = 20"
   ]
  },
  {
   "cell_type": "code",
   "execution_count": 139,
   "id": "f88592ad",
   "metadata": {},
   "outputs": [],
   "source": [
    "dates = dates[dates['news_amount']>=news_amount]"
   ]
  },
  {
   "cell_type": "code",
   "execution_count": 140,
   "id": "09d3bbd3",
   "metadata": {},
   "outputs": [],
   "source": [
    "dates.reset_index(inplace=True)"
   ]
  },
  {
   "cell_type": "code",
   "execution_count": 141,
   "id": "b6ceb37c",
   "metadata": {},
   "outputs": [
    {
     "name": "stderr",
     "output_type": "stream",
     "text": [
      "C:\\Users\\Bartek\\anaconda3\\lib\\site-packages\\pandas\\core\\frame.py:4441: SettingWithCopyWarning: \n",
      "A value is trying to be set on a copy of a slice from a DataFrame\n",
      "\n",
      "See the caveats in the documentation: https://pandas.pydata.org/pandas-docs/stable/user_guide/indexing.html#returning-a-view-versus-a-copy\n",
      "  return super().rename(\n"
     ]
    }
   ],
   "source": [
    "dates.rename(columns={'index': 'Date'}, inplace=True)"
   ]
  },
  {
   "cell_type": "code",
   "execution_count": 142,
   "id": "9edff55e",
   "metadata": {},
   "outputs": [
    {
     "data": {
      "text/html": [
       "<div>\n",
       "<style scoped>\n",
       "    .dataframe tbody tr th:only-of-type {\n",
       "        vertical-align: middle;\n",
       "    }\n",
       "\n",
       "    .dataframe tbody tr th {\n",
       "        vertical-align: top;\n",
       "    }\n",
       "\n",
       "    .dataframe thead th {\n",
       "        text-align: right;\n",
       "    }\n",
       "</style>\n",
       "<table border=\"1\" class=\"dataframe\">\n",
       "  <thead>\n",
       "    <tr style=\"text-align: right;\">\n",
       "      <th></th>\n",
       "      <th>Date</th>\n",
       "      <th>news_amount</th>\n",
       "    </tr>\n",
       "  </thead>\n",
       "  <tbody>\n",
       "    <tr>\n",
       "      <th>0</th>\n",
       "      <td>2014-11-05</td>\n",
       "      <td>97</td>\n",
       "    </tr>\n",
       "    <tr>\n",
       "      <th>1</th>\n",
       "      <td>2016-11-09</td>\n",
       "      <td>70</td>\n",
       "    </tr>\n",
       "    <tr>\n",
       "      <th>2</th>\n",
       "      <td>2016-10-20</td>\n",
       "      <td>66</td>\n",
       "    </tr>\n",
       "    <tr>\n",
       "      <th>3</th>\n",
       "      <td>2017-01-29</td>\n",
       "      <td>61</td>\n",
       "    </tr>\n",
       "    <tr>\n",
       "      <th>4</th>\n",
       "      <td>2016-10-10</td>\n",
       "      <td>61</td>\n",
       "    </tr>\n",
       "    <tr>\n",
       "      <th>...</th>\n",
       "      <td>...</td>\n",
       "      <td>...</td>\n",
       "    </tr>\n",
       "    <tr>\n",
       "      <th>1386</th>\n",
       "      <td>2014-09-19</td>\n",
       "      <td>20</td>\n",
       "    </tr>\n",
       "    <tr>\n",
       "      <th>1387</th>\n",
       "      <td>2013-05-11</td>\n",
       "      <td>20</td>\n",
       "    </tr>\n",
       "    <tr>\n",
       "      <th>1388</th>\n",
       "      <td>2015-04-10</td>\n",
       "      <td>20</td>\n",
       "    </tr>\n",
       "    <tr>\n",
       "      <th>1389</th>\n",
       "      <td>2017-06-18</td>\n",
       "      <td>20</td>\n",
       "    </tr>\n",
       "    <tr>\n",
       "      <th>1390</th>\n",
       "      <td>2014-06-20</td>\n",
       "      <td>20</td>\n",
       "    </tr>\n",
       "  </tbody>\n",
       "</table>\n",
       "<p>1391 rows × 2 columns</p>\n",
       "</div>"
      ],
      "text/plain": [
       "           Date  news_amount\n",
       "0    2014-11-05           97\n",
       "1    2016-11-09           70\n",
       "2    2016-10-20           66\n",
       "3    2017-01-29           61\n",
       "4    2016-10-10           61\n",
       "...         ...          ...\n",
       "1386 2014-09-19           20\n",
       "1387 2013-05-11           20\n",
       "1388 2015-04-10           20\n",
       "1389 2017-06-18           20\n",
       "1390 2014-06-20           20\n",
       "\n",
       "[1391 rows x 2 columns]"
      ]
     },
     "execution_count": 142,
     "metadata": {},
     "output_type": "execute_result"
    }
   ],
   "source": [
    "dates"
   ]
  },
  {
   "cell_type": "markdown",
   "id": "eb819533",
   "metadata": {},
   "source": [
    "# Dane z giełdy"
   ]
  },
  {
   "cell_type": "code",
   "execution_count": 143,
   "id": "41b8947c",
   "metadata": {},
   "outputs": [],
   "source": [
    "import numpy as np\n",
    "import pandas as pd\n",
    "import matplotlib.pyplot as plt\n",
    "from sklearn import metrics"
   ]
  },
  {
   "cell_type": "code",
   "execution_count": 144,
   "id": "3425afde",
   "metadata": {},
   "outputs": [],
   "source": [
    "import os\n",
    "DATA_PATH = \"Dane/USA/SP_500.csv\""
   ]
  },
  {
   "cell_type": "code",
   "execution_count": 145,
   "id": "3562007d",
   "metadata": {},
   "outputs": [],
   "source": [
    "data_stock = pd.read_csv(DATA_PATH, sep=\",\")"
   ]
  },
  {
   "cell_type": "code",
   "execution_count": 146,
   "id": "9e9eec52",
   "metadata": {
    "scrolled": true
   },
   "outputs": [
    {
     "data": {
      "text/html": [
       "<div>\n",
       "<style scoped>\n",
       "    .dataframe tbody tr th:only-of-type {\n",
       "        vertical-align: middle;\n",
       "    }\n",
       "\n",
       "    .dataframe tbody tr th {\n",
       "        vertical-align: top;\n",
       "    }\n",
       "\n",
       "    .dataframe thead th {\n",
       "        text-align: right;\n",
       "    }\n",
       "</style>\n",
       "<table border=\"1\" class=\"dataframe\">\n",
       "  <thead>\n",
       "    <tr style=\"text-align: right;\">\n",
       "      <th></th>\n",
       "      <th>Date</th>\n",
       "      <th>Open</th>\n",
       "      <th>High</th>\n",
       "      <th>Low</th>\n",
       "      <th>Close</th>\n",
       "      <th>Volume</th>\n",
       "    </tr>\n",
       "  </thead>\n",
       "  <tbody>\n",
       "    <tr>\n",
       "      <th>0</th>\n",
       "      <td>2012-01-30</td>\n",
       "      <td>1316.16</td>\n",
       "      <td>1316.16</td>\n",
       "      <td>1300.49</td>\n",
       "      <td>1313.01</td>\n",
       "      <td>2032783333</td>\n",
       "    </tr>\n",
       "    <tr>\n",
       "      <th>1</th>\n",
       "      <td>2012-01-31</td>\n",
       "      <td>1313.53</td>\n",
       "      <td>1321.41</td>\n",
       "      <td>1306.69</td>\n",
       "      <td>1312.41</td>\n",
       "      <td>2353083333</td>\n",
       "    </tr>\n",
       "    <tr>\n",
       "      <th>2</th>\n",
       "      <td>2012-02-01</td>\n",
       "      <td>1312.45</td>\n",
       "      <td>1330.52</td>\n",
       "      <td>1312.45</td>\n",
       "      <td>1324.09</td>\n",
       "      <td>2502422222</td>\n",
       "    </tr>\n",
       "    <tr>\n",
       "      <th>3</th>\n",
       "      <td>2012-02-02</td>\n",
       "      <td>1324.24</td>\n",
       "      <td>1329.19</td>\n",
       "      <td>1321.57</td>\n",
       "      <td>1325.54</td>\n",
       "      <td>2289400000</td>\n",
       "    </tr>\n",
       "    <tr>\n",
       "      <th>4</th>\n",
       "      <td>2012-02-03</td>\n",
       "      <td>1326.21</td>\n",
       "      <td>1345.34</td>\n",
       "      <td>1326.21</td>\n",
       "      <td>1344.90</td>\n",
       "      <td>2560305556</td>\n",
       "    </tr>\n",
       "  </tbody>\n",
       "</table>\n",
       "</div>"
      ],
      "text/plain": [
       "         Date     Open     High      Low    Close      Volume\n",
       "0  2012-01-30  1316.16  1316.16  1300.49  1313.01  2032783333\n",
       "1  2012-01-31  1313.53  1321.41  1306.69  1312.41  2353083333\n",
       "2  2012-02-01  1312.45  1330.52  1312.45  1324.09  2502422222\n",
       "3  2012-02-02  1324.24  1329.19  1321.57  1325.54  2289400000\n",
       "4  2012-02-03  1326.21  1345.34  1326.21  1344.90  2560305556"
      ]
     },
     "execution_count": 146,
     "metadata": {},
     "output_type": "execute_result"
    }
   ],
   "source": [
    "data_stock.head()"
   ]
  },
  {
   "cell_type": "markdown",
   "id": "aa73bf00",
   "metadata": {},
   "source": [
    "Zróbmy wykres kursu"
   ]
  },
  {
   "cell_type": "code",
   "execution_count": 147,
   "id": "6c0e7571",
   "metadata": {},
   "outputs": [],
   "source": [
    "import matplotlib.pyplot as plt"
   ]
  },
  {
   "cell_type": "code",
   "execution_count": 148,
   "id": "ec0091ac",
   "metadata": {
    "scrolled": true
   },
   "outputs": [
    {
     "data": {
      "image/png": "[encoded data removed]",
      "text/plain": [
       "<Figure size 1440x360 with 1 Axes>"
      ]
     },
     "metadata": {
      "needs_background": "light"
     },
     "output_type": "display_data"
    }
   ],
   "source": [
    "plt.subplots(figsize = (20, 5))\n",
    "plt.plot(data_stock['Close'], label = 'Close')\n",
    "# plt.ylim([0, ])\n",
    "# plt.xlim([2000, 7000])\n",
    "plt.ylabel('Close Value')\n",
    "plt.xlabel('Days')\n",
    "plt.title('Close values')\n",
    "plt.legend()\n",
    "plt.show()"
   ]
  },
  {
   "cell_type": "markdown",
   "id": "7b4351a6",
   "metadata": {},
   "source": [
    "Dodajmy do naszych danych giełdowych kolumnę wskazującą na to czy kurs wzrósł w danym dniu"
   ]
  },
  {
   "cell_type": "code",
   "execution_count": 149,
   "id": "842d18e5",
   "metadata": {},
   "outputs": [],
   "source": [
    "#1 - wzrósł\n",
    "#0 - zmalał\n",
    "data_stock['Increased'] = data_stock['Close']-data_stock['Open']\n",
    "data_stock['Increased'] = data_stock['Increased'].map(lambda diff: 1 if diff > 0 else 0)"
   ]
  },
  {
   "cell_type": "code",
   "execution_count": 150,
   "id": "1c4f4f88",
   "metadata": {},
   "outputs": [
    {
     "data": {
      "text/html": [
       "<div>\n",
       "<style scoped>\n",
       "    .dataframe tbody tr th:only-of-type {\n",
       "        vertical-align: middle;\n",
       "    }\n",
       "\n",
       "    .dataframe tbody tr th {\n",
       "        vertical-align: top;\n",
       "    }\n",
       "\n",
       "    .dataframe thead th {\n",
       "        text-align: right;\n",
       "    }\n",
       "</style>\n",
       "<table border=\"1\" class=\"dataframe\">\n",
       "  <thead>\n",
       "    <tr style=\"text-align: right;\">\n",
       "      <th></th>\n",
       "      <th>Date</th>\n",
       "      <th>Open</th>\n",
       "      <th>High</th>\n",
       "      <th>Low</th>\n",
       "      <th>Close</th>\n",
       "      <th>Volume</th>\n",
       "      <th>Increased</th>\n",
       "    </tr>\n",
       "  </thead>\n",
       "  <tbody>\n",
       "    <tr>\n",
       "      <th>0</th>\n",
       "      <td>2012-01-30</td>\n",
       "      <td>1316.16</td>\n",
       "      <td>1316.16</td>\n",
       "      <td>1300.49</td>\n",
       "      <td>1313.01</td>\n",
       "      <td>2032783333</td>\n",
       "      <td>0</td>\n",
       "    </tr>\n",
       "    <tr>\n",
       "      <th>1</th>\n",
       "      <td>2012-01-31</td>\n",
       "      <td>1313.53</td>\n",
       "      <td>1321.41</td>\n",
       "      <td>1306.69</td>\n",
       "      <td>1312.41</td>\n",
       "      <td>2353083333</td>\n",
       "      <td>0</td>\n",
       "    </tr>\n",
       "    <tr>\n",
       "      <th>2</th>\n",
       "      <td>2012-02-01</td>\n",
       "      <td>1312.45</td>\n",
       "      <td>1330.52</td>\n",
       "      <td>1312.45</td>\n",
       "      <td>1324.09</td>\n",
       "      <td>2502422222</td>\n",
       "      <td>1</td>\n",
       "    </tr>\n",
       "    <tr>\n",
       "      <th>3</th>\n",
       "      <td>2012-02-02</td>\n",
       "      <td>1324.24</td>\n",
       "      <td>1329.19</td>\n",
       "      <td>1321.57</td>\n",
       "      <td>1325.54</td>\n",
       "      <td>2289400000</td>\n",
       "      <td>1</td>\n",
       "    </tr>\n",
       "    <tr>\n",
       "      <th>4</th>\n",
       "      <td>2012-02-03</td>\n",
       "      <td>1326.21</td>\n",
       "      <td>1345.34</td>\n",
       "      <td>1326.21</td>\n",
       "      <td>1344.90</td>\n",
       "      <td>2560305556</td>\n",
       "      <td>1</td>\n",
       "    </tr>\n",
       "  </tbody>\n",
       "</table>\n",
       "</div>"
      ],
      "text/plain": [
       "         Date     Open     High      Low    Close      Volume  Increased\n",
       "0  2012-01-30  1316.16  1316.16  1300.49  1313.01  2032783333          0\n",
       "1  2012-01-31  1313.53  1321.41  1306.69  1312.41  2353083333          0\n",
       "2  2012-02-01  1312.45  1330.52  1312.45  1324.09  2502422222          1\n",
       "3  2012-02-02  1324.24  1329.19  1321.57  1325.54  2289400000          1\n",
       "4  2012-02-03  1326.21  1345.34  1326.21  1344.90  2560305556          1"
      ]
     },
     "execution_count": 150,
     "metadata": {},
     "output_type": "execute_result"
    }
   ],
   "source": [
    "data_stock.head()"
   ]
  },
  {
   "cell_type": "code",
   "execution_count": 151,
   "id": "f7f79e8d",
   "metadata": {},
   "outputs": [
    {
     "data": {
      "text/plain": [
       "1    853\n",
       "0    739\n",
       "Name: Increased, dtype: int64"
      ]
     },
     "execution_count": 151,
     "metadata": {},
     "output_type": "execute_result"
    }
   ],
   "source": [
    "data_stock.Increased.value_counts()"
   ]
  },
  {
   "cell_type": "markdown",
   "id": "655b0eb5",
   "metadata": {},
   "source": [
    "# Usuwanie zbędnych kolumn z data_stock"
   ]
  },
  {
   "cell_type": "markdown",
   "id": "4a4b363e",
   "metadata": {},
   "source": [
    "Usuńmy wszystkie kolumny poza *Date* oraz *Increased* gdyż będziemy chcieli przewidzieć czy kurs wzrośnie/zmaleje na podstawie wiadomości zatem dane z giełdy są już nam niepotrzebne"
   ]
  },
  {
   "cell_type": "code",
   "execution_count": 152,
   "id": "19c9be45",
   "metadata": {},
   "outputs": [],
   "source": [
    "data_stock.drop(['Open', 'High', 'Low', 'Close', 'Volume'], axis=1, inplace=True)"
   ]
  },
  {
   "cell_type": "code",
   "execution_count": 153,
   "id": "6a7619fc",
   "metadata": {},
   "outputs": [
    {
     "data": {
      "text/html": [
       "<div>\n",
       "<style scoped>\n",
       "    .dataframe tbody tr th:only-of-type {\n",
       "        vertical-align: middle;\n",
       "    }\n",
       "\n",
       "    .dataframe tbody tr th {\n",
       "        vertical-align: top;\n",
       "    }\n",
       "\n",
       "    .dataframe thead th {\n",
       "        text-align: right;\n",
       "    }\n",
       "</style>\n",
       "<table border=\"1\" class=\"dataframe\">\n",
       "  <thead>\n",
       "    <tr style=\"text-align: right;\">\n",
       "      <th></th>\n",
       "      <th>Date</th>\n",
       "      <th>Increased</th>\n",
       "    </tr>\n",
       "  </thead>\n",
       "  <tbody>\n",
       "    <tr>\n",
       "      <th>0</th>\n",
       "      <td>2012-01-30</td>\n",
       "      <td>0</td>\n",
       "    </tr>\n",
       "    <tr>\n",
       "      <th>1</th>\n",
       "      <td>2012-01-31</td>\n",
       "      <td>0</td>\n",
       "    </tr>\n",
       "    <tr>\n",
       "      <th>2</th>\n",
       "      <td>2012-02-01</td>\n",
       "      <td>1</td>\n",
       "    </tr>\n",
       "    <tr>\n",
       "      <th>3</th>\n",
       "      <td>2012-02-02</td>\n",
       "      <td>1</td>\n",
       "    </tr>\n",
       "    <tr>\n",
       "      <th>4</th>\n",
       "      <td>2012-02-03</td>\n",
       "      <td>1</td>\n",
       "    </tr>\n",
       "  </tbody>\n",
       "</table>\n",
       "</div>"
      ],
      "text/plain": [
       "         Date  Increased\n",
       "0  2012-01-30          0\n",
       "1  2012-01-31          0\n",
       "2  2012-02-01          1\n",
       "3  2012-02-02          1\n",
       "4  2012-02-03          1"
      ]
     },
     "execution_count": 153,
     "metadata": {},
     "output_type": "execute_result"
    }
   ],
   "source": [
    "data_stock.head()"
   ]
  },
  {
   "cell_type": "markdown",
   "id": "19d85b54",
   "metadata": {},
   "source": [
    "# Dodanie nagłówków wiadomości do danych z giełdy"
   ]
  },
  {
   "cell_type": "markdown",
   "id": "f17c20f7",
   "metadata": {},
   "source": [
    "Dla każdego dnia chcemy mieć 50 wiadomości"
   ]
  },
  {
   "cell_type": "markdown",
   "id": "10c3f4ff",
   "metadata": {},
   "source": [
    "W przypadku mniejszej liczby wiadomości w danym dniu, wykasowujemy ten dzień z danych"
   ]
  },
  {
   "cell_type": "markdown",
   "id": "90df9502",
   "metadata": {},
   "source": [
    "Patrzymy więc, które dane wykasować, do tego celu używamy iloczynu zbiorów"
   ]
  },
  {
   "cell_type": "code",
   "execution_count": 154,
   "id": "9b0cd951",
   "metadata": {},
   "outputs": [
    {
     "data": {
      "text/plain": [
       "0      2014-11-05\n",
       "1      2016-11-09\n",
       "2      2016-10-20\n",
       "3      2017-01-29\n",
       "4      2016-10-10\n",
       "          ...    \n",
       "1386   2014-09-19\n",
       "1387   2013-05-11\n",
       "1388   2015-04-10\n",
       "1389   2017-06-18\n",
       "1390   2014-06-20\n",
       "Name: Date, Length: 1391, dtype: datetime64[ns]"
      ]
     },
     "execution_count": 154,
     "metadata": {},
     "output_type": "execute_result"
    }
   ],
   "source": [
    "dates.Date"
   ]
  },
  {
   "cell_type": "code",
   "execution_count": 155,
   "id": "989ac71a",
   "metadata": {},
   "outputs": [],
   "source": [
    "idx1 = pd.Index(data_stock.Date.astype(str))"
   ]
  },
  {
   "cell_type": "code",
   "execution_count": 156,
   "id": "ade7e2bc",
   "metadata": {},
   "outputs": [],
   "source": [
    "idx2 = pd.Index(dates.Date.astype(str))"
   ]
  },
  {
   "cell_type": "code",
   "execution_count": 157,
   "id": "fd6e0fa2",
   "metadata": {},
   "outputs": [],
   "source": [
    "dates_valid = idx1.intersection(idx2)"
   ]
  },
  {
   "cell_type": "code",
   "execution_count": 158,
   "id": "74fb0011",
   "metadata": {},
   "outputs": [
    {
     "data": {
      "text/plain": [
       "Index(['2014-11-05', '2016-11-09', '2016-10-20', '2017-01-29', '2016-10-10',\n",
       "       '2017-08-16', '2016-10-05', '2015-11-14', '2016-09-27', '2017-02-08',\n",
       "       ...\n",
       "       '2017-08-27', '2014-12-01', '2017-09-04', '2013-02-09', '2014-01-12',\n",
       "       '2014-09-19', '2013-05-11', '2015-04-10', '2017-06-18', '2014-06-20'],\n",
       "      dtype='object', name='Date', length=1391)"
      ]
     },
     "execution_count": 158,
     "metadata": {},
     "output_type": "execute_result"
    }
   ],
   "source": [
    "idx2"
   ]
  },
  {
   "cell_type": "code",
   "execution_count": 159,
   "id": "c193ec0e",
   "metadata": {},
   "outputs": [
    {
     "data": {
      "text/plain": [
       "Index(['2012-01-30', '2012-01-31', '2012-02-01', '2012-02-02', '2012-02-03',\n",
       "       '2012-02-06', '2012-02-07', '2012-02-08', '2012-02-09', '2012-02-10',\n",
       "       ...\n",
       "       '2018-05-14', '2018-05-15', '2018-05-16', '2018-05-17', '2018-05-18',\n",
       "       '2018-05-21', '2018-05-22', '2018-05-23', '2018-05-24', '2018-05-25'],\n",
       "      dtype='object', name='Date', length=1592)"
      ]
     },
     "execution_count": 159,
     "metadata": {},
     "output_type": "execute_result"
    }
   ],
   "source": [
    "idx1"
   ]
  },
  {
   "cell_type": "code",
   "execution_count": 160,
   "id": "1dd2d1b3",
   "metadata": {},
   "outputs": [],
   "source": [
    "dates_valid = pd.DataFrame(data=dates_valid)"
   ]
  },
  {
   "cell_type": "code",
   "execution_count": 161,
   "id": "45c97d3a",
   "metadata": {},
   "outputs": [
    {
     "data": {
      "text/html": [
       "<div>\n",
       "<style scoped>\n",
       "    .dataframe tbody tr th:only-of-type {\n",
       "        vertical-align: middle;\n",
       "    }\n",
       "\n",
       "    .dataframe tbody tr th {\n",
       "        vertical-align: top;\n",
       "    }\n",
       "\n",
       "    .dataframe thead th {\n",
       "        text-align: right;\n",
       "    }\n",
       "</style>\n",
       "<table border=\"1\" class=\"dataframe\">\n",
       "  <thead>\n",
       "    <tr style=\"text-align: right;\">\n",
       "      <th></th>\n",
       "      <th>Date</th>\n",
       "    </tr>\n",
       "  </thead>\n",
       "  <tbody>\n",
       "    <tr>\n",
       "      <th>0</th>\n",
       "      <td>2012-03-01</td>\n",
       "    </tr>\n",
       "    <tr>\n",
       "      <th>1</th>\n",
       "      <td>2012-11-23</td>\n",
       "    </tr>\n",
       "    <tr>\n",
       "      <th>2</th>\n",
       "      <td>2012-12-24</td>\n",
       "    </tr>\n",
       "    <tr>\n",
       "      <th>3</th>\n",
       "      <td>2013-07-05</td>\n",
       "    </tr>\n",
       "    <tr>\n",
       "      <th>4</th>\n",
       "      <td>2013-11-29</td>\n",
       "    </tr>\n",
       "    <tr>\n",
       "      <th>...</th>\n",
       "      <td>...</td>\n",
       "    </tr>\n",
       "    <tr>\n",
       "      <th>977</th>\n",
       "      <td>2018-05-17</td>\n",
       "    </tr>\n",
       "    <tr>\n",
       "      <th>978</th>\n",
       "      <td>2018-05-18</td>\n",
       "    </tr>\n",
       "    <tr>\n",
       "      <th>979</th>\n",
       "      <td>2018-05-22</td>\n",
       "    </tr>\n",
       "    <tr>\n",
       "      <th>980</th>\n",
       "      <td>2018-05-23</td>\n",
       "    </tr>\n",
       "    <tr>\n",
       "      <th>981</th>\n",
       "      <td>2018-05-24</td>\n",
       "    </tr>\n",
       "  </tbody>\n",
       "</table>\n",
       "<p>982 rows × 1 columns</p>\n",
       "</div>"
      ],
      "text/plain": [
       "           Date\n",
       "0    2012-03-01\n",
       "1    2012-11-23\n",
       "2    2012-12-24\n",
       "3    2013-07-05\n",
       "4    2013-11-29\n",
       "..          ...\n",
       "977  2018-05-17\n",
       "978  2018-05-18\n",
       "979  2018-05-22\n",
       "980  2018-05-23\n",
       "981  2018-05-24\n",
       "\n",
       "[982 rows x 1 columns]"
      ]
     },
     "execution_count": 161,
     "metadata": {},
     "output_type": "execute_result"
    }
   ],
   "source": [
    "dates_valid"
   ]
  },
  {
   "cell_type": "markdown",
   "id": "f5b4b77d",
   "metadata": {},
   "source": [
    "Dla wartości dates_valid będziemy dobierać wiadomości "
   ]
  },
  {
   "cell_type": "markdown",
   "id": "32499445",
   "metadata": {},
   "source": [
    "Dlatego usuńmy wiersze te wiersze w data_stock, które nie występują w dates_valid"
   ]
  },
  {
   "cell_type": "code",
   "execution_count": 162,
   "id": "bfad0cba",
   "metadata": {},
   "outputs": [],
   "source": [
    "data_stock['Date'] = data_stock['Date'].astype(str)"
   ]
  },
  {
   "cell_type": "code",
   "execution_count": 163,
   "id": "fc761e06",
   "metadata": {},
   "outputs": [
    {
     "name": "stdout",
     "output_type": "stream",
     "text": [
      "<class 'pandas.core.frame.DataFrame'>\n",
      "RangeIndex: 1592 entries, 0 to 1591\n",
      "Data columns (total 2 columns):\n",
      " #   Column     Non-Null Count  Dtype \n",
      "---  ------     --------------  ----- \n",
      " 0   Date       1592 non-null   object\n",
      " 1   Increased  1592 non-null   int64 \n",
      "dtypes: int64(1), object(1)\n",
      "memory usage: 25.0+ KB\n"
     ]
    }
   ],
   "source": [
    "data_stock.info()"
   ]
  },
  {
   "cell_type": "code",
   "execution_count": 164,
   "id": "6fa1d2df",
   "metadata": {},
   "outputs": [
    {
     "name": "stdout",
     "output_type": "stream",
     "text": [
      "<class 'pandas.core.frame.DataFrame'>\n",
      "RangeIndex: 982 entries, 0 to 981\n",
      "Data columns (total 1 columns):\n",
      " #   Column  Non-Null Count  Dtype \n",
      "---  ------  --------------  ----- \n",
      " 0   Date    982 non-null    object\n",
      "dtypes: object(1)\n",
      "memory usage: 7.8+ KB\n"
     ]
    }
   ],
   "source": [
    "dates_valid.info()"
   ]
  },
  {
   "cell_type": "code",
   "execution_count": 165,
   "id": "cc81b6db",
   "metadata": {},
   "outputs": [],
   "source": [
    "data_stock = data_stock[data_stock['Date'].isin(dates_valid['Date'].values)]"
   ]
  },
  {
   "cell_type": "code",
   "execution_count": 166,
   "id": "5994dfd3",
   "metadata": {},
   "outputs": [
    {
     "data": {
      "text/html": [
       "<div>\n",
       "<style scoped>\n",
       "    .dataframe tbody tr th:only-of-type {\n",
       "        vertical-align: middle;\n",
       "    }\n",
       "\n",
       "    .dataframe tbody tr th {\n",
       "        vertical-align: top;\n",
       "    }\n",
       "\n",
       "    .dataframe thead th {\n",
       "        text-align: right;\n",
       "    }\n",
       "</style>\n",
       "<table border=\"1\" class=\"dataframe\">\n",
       "  <thead>\n",
       "    <tr style=\"text-align: right;\">\n",
       "      <th></th>\n",
       "      <th>Date</th>\n",
       "      <th>Increased</th>\n",
       "    </tr>\n",
       "  </thead>\n",
       "  <tbody>\n",
       "    <tr>\n",
       "      <th>22</th>\n",
       "      <td>2012-03-01</td>\n",
       "      <td>1</td>\n",
       "    </tr>\n",
       "    <tr>\n",
       "      <th>206</th>\n",
       "      <td>2012-11-23</td>\n",
       "      <td>1</td>\n",
       "    </tr>\n",
       "    <tr>\n",
       "      <th>227</th>\n",
       "      <td>2012-12-24</td>\n",
       "      <td>0</td>\n",
       "    </tr>\n",
       "    <tr>\n",
       "      <th>359</th>\n",
       "      <td>2013-07-05</td>\n",
       "      <td>1</td>\n",
       "    </tr>\n",
       "    <tr>\n",
       "      <th>462</th>\n",
       "      <td>2013-11-29</td>\n",
       "      <td>0</td>\n",
       "    </tr>\n",
       "    <tr>\n",
       "      <th>...</th>\n",
       "      <td>...</td>\n",
       "      <td>...</td>\n",
       "    </tr>\n",
       "    <tr>\n",
       "      <th>1585</th>\n",
       "      <td>2018-05-17</td>\n",
       "      <td>1</td>\n",
       "    </tr>\n",
       "    <tr>\n",
       "      <th>1586</th>\n",
       "      <td>2018-05-18</td>\n",
       "      <td>0</td>\n",
       "    </tr>\n",
       "    <tr>\n",
       "      <th>1588</th>\n",
       "      <td>2018-05-22</td>\n",
       "      <td>0</td>\n",
       "    </tr>\n",
       "    <tr>\n",
       "      <th>1589</th>\n",
       "      <td>2018-05-23</td>\n",
       "      <td>1</td>\n",
       "    </tr>\n",
       "    <tr>\n",
       "      <th>1590</th>\n",
       "      <td>2018-05-24</td>\n",
       "      <td>0</td>\n",
       "    </tr>\n",
       "  </tbody>\n",
       "</table>\n",
       "<p>982 rows × 2 columns</p>\n",
       "</div>"
      ],
      "text/plain": [
       "            Date  Increased\n",
       "22    2012-03-01          1\n",
       "206   2012-11-23          1\n",
       "227   2012-12-24          0\n",
       "359   2013-07-05          1\n",
       "462   2013-11-29          0\n",
       "...          ...        ...\n",
       "1585  2018-05-17          1\n",
       "1586  2018-05-18          0\n",
       "1588  2018-05-22          0\n",
       "1589  2018-05-23          1\n",
       "1590  2018-05-24          0\n",
       "\n",
       "[982 rows x 2 columns]"
      ]
     },
     "execution_count": 166,
     "metadata": {},
     "output_type": "execute_result"
    }
   ],
   "source": [
    "data_stock"
   ]
  },
  {
   "cell_type": "markdown",
   "id": "5716843c",
   "metadata": {},
   "source": [
    "Zachowaliśmy wiersze, dla których mamy *news_amount* wiadomości"
   ]
  },
  {
   "cell_type": "markdown",
   "id": "cf209f4f",
   "metadata": {},
   "source": [
    "Dodajmy te wiadomości do naszego data_stock"
   ]
  },
  {
   "cell_type": "markdown",
   "id": "0b4ee967",
   "metadata": {},
   "source": [
    "Każdy nr wiadomości to oddzielna kolumna"
   ]
  },
  {
   "cell_type": "markdown",
   "id": "581c3834",
   "metadata": {},
   "source": [
    "Dlatego musimy dodać *news_amount* kolumn"
   ]
  },
  {
   "cell_type": "code",
   "execution_count": 167,
   "id": "7186fb51",
   "metadata": {},
   "outputs": [],
   "source": [
    "for i in range (1, news_amount+1):\n",
    "    data_stock['News_no'+str(i)] = 'NaN'"
   ]
  },
  {
   "cell_type": "code",
   "execution_count": 168,
   "id": "13c21382",
   "metadata": {},
   "outputs": [
    {
     "data": {
      "text/html": [
       "<div>\n",
       "<style scoped>\n",
       "    .dataframe tbody tr th:only-of-type {\n",
       "        vertical-align: middle;\n",
       "    }\n",
       "\n",
       "    .dataframe tbody tr th {\n",
       "        vertical-align: top;\n",
       "    }\n",
       "\n",
       "    .dataframe thead th {\n",
       "        text-align: right;\n",
       "    }\n",
       "</style>\n",
       "<table border=\"1\" class=\"dataframe\">\n",
       "  <thead>\n",
       "    <tr style=\"text-align: right;\">\n",
       "      <th></th>\n",
       "      <th>Date</th>\n",
       "      <th>Increased</th>\n",
       "      <th>News_no1</th>\n",
       "      <th>News_no2</th>\n",
       "      <th>News_no3</th>\n",
       "      <th>News_no4</th>\n",
       "      <th>News_no5</th>\n",
       "      <th>News_no6</th>\n",
       "      <th>News_no7</th>\n",
       "      <th>News_no8</th>\n",
       "      <th>...</th>\n",
       "      <th>News_no11</th>\n",
       "      <th>News_no12</th>\n",
       "      <th>News_no13</th>\n",
       "      <th>News_no14</th>\n",
       "      <th>News_no15</th>\n",
       "      <th>News_no16</th>\n",
       "      <th>News_no17</th>\n",
       "      <th>News_no18</th>\n",
       "      <th>News_no19</th>\n",
       "      <th>News_no20</th>\n",
       "    </tr>\n",
       "  </thead>\n",
       "  <tbody>\n",
       "    <tr>\n",
       "      <th>22</th>\n",
       "      <td>2012-03-01</td>\n",
       "      <td>1</td>\n",
       "      <td>NaN</td>\n",
       "      <td>NaN</td>\n",
       "      <td>NaN</td>\n",
       "      <td>NaN</td>\n",
       "      <td>NaN</td>\n",
       "      <td>NaN</td>\n",
       "      <td>NaN</td>\n",
       "      <td>NaN</td>\n",
       "      <td>...</td>\n",
       "      <td>NaN</td>\n",
       "      <td>NaN</td>\n",
       "      <td>NaN</td>\n",
       "      <td>NaN</td>\n",
       "      <td>NaN</td>\n",
       "      <td>NaN</td>\n",
       "      <td>NaN</td>\n",
       "      <td>NaN</td>\n",
       "      <td>NaN</td>\n",
       "      <td>NaN</td>\n",
       "    </tr>\n",
       "    <tr>\n",
       "      <th>206</th>\n",
       "      <td>2012-11-23</td>\n",
       "      <td>1</td>\n",
       "      <td>NaN</td>\n",
       "      <td>NaN</td>\n",
       "      <td>NaN</td>\n",
       "      <td>NaN</td>\n",
       "      <td>NaN</td>\n",
       "      <td>NaN</td>\n",
       "      <td>NaN</td>\n",
       "      <td>NaN</td>\n",
       "      <td>...</td>\n",
       "      <td>NaN</td>\n",
       "      <td>NaN</td>\n",
       "      <td>NaN</td>\n",
       "      <td>NaN</td>\n",
       "      <td>NaN</td>\n",
       "      <td>NaN</td>\n",
       "      <td>NaN</td>\n",
       "      <td>NaN</td>\n",
       "      <td>NaN</td>\n",
       "      <td>NaN</td>\n",
       "    </tr>\n",
       "    <tr>\n",
       "      <th>227</th>\n",
       "      <td>2012-12-24</td>\n",
       "      <td>0</td>\n",
       "      <td>NaN</td>\n",
       "      <td>NaN</td>\n",
       "      <td>NaN</td>\n",
       "      <td>NaN</td>\n",
       "      <td>NaN</td>\n",
       "      <td>NaN</td>\n",
       "      <td>NaN</td>\n",
       "      <td>NaN</td>\n",
       "      <td>...</td>\n",
       "      <td>NaN</td>\n",
       "      <td>NaN</td>\n",
       "      <td>NaN</td>\n",
       "      <td>NaN</td>\n",
       "      <td>NaN</td>\n",
       "      <td>NaN</td>\n",
       "      <td>NaN</td>\n",
       "      <td>NaN</td>\n",
       "      <td>NaN</td>\n",
       "      <td>NaN</td>\n",
       "    </tr>\n",
       "    <tr>\n",
       "      <th>359</th>\n",
       "      <td>2013-07-05</td>\n",
       "      <td>1</td>\n",
       "      <td>NaN</td>\n",
       "      <td>NaN</td>\n",
       "      <td>NaN</td>\n",
       "      <td>NaN</td>\n",
       "      <td>NaN</td>\n",
       "      <td>NaN</td>\n",
       "      <td>NaN</td>\n",
       "      <td>NaN</td>\n",
       "      <td>...</td>\n",
       "      <td>NaN</td>\n",
       "      <td>NaN</td>\n",
       "      <td>NaN</td>\n",
       "      <td>NaN</td>\n",
       "      <td>NaN</td>\n",
       "      <td>NaN</td>\n",
       "      <td>NaN</td>\n",
       "      <td>NaN</td>\n",
       "      <td>NaN</td>\n",
       "      <td>NaN</td>\n",
       "    </tr>\n",
       "    <tr>\n",
       "      <th>462</th>\n",
       "      <td>2013-11-29</td>\n",
       "      <td>0</td>\n",
       "      <td>NaN</td>\n",
       "      <td>NaN</td>\n",
       "      <td>NaN</td>\n",
       "      <td>NaN</td>\n",
       "      <td>NaN</td>\n",
       "      <td>NaN</td>\n",
       "      <td>NaN</td>\n",
       "      <td>NaN</td>\n",
       "      <td>...</td>\n",
       "      <td>NaN</td>\n",
       "      <td>NaN</td>\n",
       "      <td>NaN</td>\n",
       "      <td>NaN</td>\n",
       "      <td>NaN</td>\n",
       "      <td>NaN</td>\n",
       "      <td>NaN</td>\n",
       "      <td>NaN</td>\n",
       "      <td>NaN</td>\n",
       "      <td>NaN</td>\n",
       "    </tr>\n",
       "    <tr>\n",
       "      <th>...</th>\n",
       "      <td>...</td>\n",
       "      <td>...</td>\n",
       "      <td>...</td>\n",
       "      <td>...</td>\n",
       "      <td>...</td>\n",
       "      <td>...</td>\n",
       "      <td>...</td>\n",
       "      <td>...</td>\n",
       "      <td>...</td>\n",
       "      <td>...</td>\n",
       "      <td>...</td>\n",
       "      <td>...</td>\n",
       "      <td>...</td>\n",
       "      <td>...</td>\n",
       "      <td>...</td>\n",
       "      <td>...</td>\n",
       "      <td>...</td>\n",
       "      <td>...</td>\n",
       "      <td>...</td>\n",
       "      <td>...</td>\n",
       "      <td>...</td>\n",
       "    </tr>\n",
       "    <tr>\n",
       "      <th>1585</th>\n",
       "      <td>2018-05-17</td>\n",
       "      <td>1</td>\n",
       "      <td>NaN</td>\n",
       "      <td>NaN</td>\n",
       "      <td>NaN</td>\n",
       "      <td>NaN</td>\n",
       "      <td>NaN</td>\n",
       "      <td>NaN</td>\n",
       "      <td>NaN</td>\n",
       "      <td>NaN</td>\n",
       "      <td>...</td>\n",
       "      <td>NaN</td>\n",
       "      <td>NaN</td>\n",
       "      <td>NaN</td>\n",
       "      <td>NaN</td>\n",
       "      <td>NaN</td>\n",
       "      <td>NaN</td>\n",
       "      <td>NaN</td>\n",
       "      <td>NaN</td>\n",
       "      <td>NaN</td>\n",
       "      <td>NaN</td>\n",
       "    </tr>\n",
       "    <tr>\n",
       "      <th>1586</th>\n",
       "      <td>2018-05-18</td>\n",
       "      <td>0</td>\n",
       "      <td>NaN</td>\n",
       "      <td>NaN</td>\n",
       "      <td>NaN</td>\n",
       "      <td>NaN</td>\n",
       "      <td>NaN</td>\n",
       "      <td>NaN</td>\n",
       "      <td>NaN</td>\n",
       "      <td>NaN</td>\n",
       "      <td>...</td>\n",
       "      <td>NaN</td>\n",
       "      <td>NaN</td>\n",
       "      <td>NaN</td>\n",
       "      <td>NaN</td>\n",
       "      <td>NaN</td>\n",
       "      <td>NaN</td>\n",
       "      <td>NaN</td>\n",
       "      <td>NaN</td>\n",
       "      <td>NaN</td>\n",
       "      <td>NaN</td>\n",
       "    </tr>\n",
       "    <tr>\n",
       "      <th>1588</th>\n",
       "      <td>2018-05-22</td>\n",
       "      <td>0</td>\n",
       "      <td>NaN</td>\n",
       "      <td>NaN</td>\n",
       "      <td>NaN</td>\n",
       "      <td>NaN</td>\n",
       "      <td>NaN</td>\n",
       "      <td>NaN</td>\n",
       "      <td>NaN</td>\n",
       "      <td>NaN</td>\n",
       "      <td>...</td>\n",
       "      <td>NaN</td>\n",
       "      <td>NaN</td>\n",
       "      <td>NaN</td>\n",
       "      <td>NaN</td>\n",
       "      <td>NaN</td>\n",
       "      <td>NaN</td>\n",
       "      <td>NaN</td>\n",
       "      <td>NaN</td>\n",
       "      <td>NaN</td>\n",
       "      <td>NaN</td>\n",
       "    </tr>\n",
       "    <tr>\n",
       "      <th>1589</th>\n",
       "      <td>2018-05-23</td>\n",
       "      <td>1</td>\n",
       "      <td>NaN</td>\n",
       "      <td>NaN</td>\n",
       "      <td>NaN</td>\n",
       "      <td>NaN</td>\n",
       "      <td>NaN</td>\n",
       "      <td>NaN</td>\n",
       "      <td>NaN</td>\n",
       "      <td>NaN</td>\n",
       "      <td>...</td>\n",
       "      <td>NaN</td>\n",
       "      <td>NaN</td>\n",
       "      <td>NaN</td>\n",
       "      <td>NaN</td>\n",
       "      <td>NaN</td>\n",
       "      <td>NaN</td>\n",
       "      <td>NaN</td>\n",
       "      <td>NaN</td>\n",
       "      <td>NaN</td>\n",
       "      <td>NaN</td>\n",
       "    </tr>\n",
       "    <tr>\n",
       "      <th>1590</th>\n",
       "      <td>2018-05-24</td>\n",
       "      <td>0</td>\n",
       "      <td>NaN</td>\n",
       "      <td>NaN</td>\n",
       "      <td>NaN</td>\n",
       "      <td>NaN</td>\n",
       "      <td>NaN</td>\n",
       "      <td>NaN</td>\n",
       "      <td>NaN</td>\n",
       "      <td>NaN</td>\n",
       "      <td>...</td>\n",
       "      <td>NaN</td>\n",
       "      <td>NaN</td>\n",
       "      <td>NaN</td>\n",
       "      <td>NaN</td>\n",
       "      <td>NaN</td>\n",
       "      <td>NaN</td>\n",
       "      <td>NaN</td>\n",
       "      <td>NaN</td>\n",
       "      <td>NaN</td>\n",
       "      <td>NaN</td>\n",
       "    </tr>\n",
       "  </tbody>\n",
       "</table>\n",
       "<p>982 rows × 22 columns</p>\n",
       "</div>"
      ],
      "text/plain": [
       "            Date  Increased News_no1 News_no2 News_no3 News_no4 News_no5  \\\n",
       "22    2012-03-01          1      NaN      NaN      NaN      NaN      NaN   \n",
       "206   2012-11-23          1      NaN      NaN      NaN      NaN      NaN   \n",
       "227   2012-12-24          0      NaN      NaN      NaN      NaN      NaN   \n",
       "359   2013-07-05          1      NaN      NaN      NaN      NaN      NaN   \n",
       "462   2013-11-29          0      NaN      NaN      NaN      NaN      NaN   \n",
       "...          ...        ...      ...      ...      ...      ...      ...   \n",
       "1585  2018-05-17          1      NaN      NaN      NaN      NaN      NaN   \n",
       "1586  2018-05-18          0      NaN      NaN      NaN      NaN      NaN   \n",
       "1588  2018-05-22          0      NaN      NaN      NaN      NaN      NaN   \n",
       "1589  2018-05-23          1      NaN      NaN      NaN      NaN      NaN   \n",
       "1590  2018-05-24          0      NaN      NaN      NaN      NaN      NaN   \n",
       "\n",
       "     News_no6 News_no7 News_no8  ... News_no11 News_no12 News_no13 News_no14  \\\n",
       "22        NaN      NaN      NaN  ...       NaN       NaN       NaN       NaN   \n",
       "206       NaN      NaN      NaN  ...       NaN       NaN       NaN       NaN   \n",
       "227       NaN      NaN      NaN  ...       NaN       NaN       NaN       NaN   \n",
       "359       NaN      NaN      NaN  ...       NaN       NaN       NaN       NaN   \n",
       "462       NaN      NaN      NaN  ...       NaN       NaN       NaN       NaN   \n",
       "...       ...      ...      ...  ...       ...       ...       ...       ...   \n",
       "1585      NaN      NaN      NaN  ...       NaN       NaN       NaN       NaN   \n",
       "1586      NaN      NaN      NaN  ...       NaN       NaN       NaN       NaN   \n",
       "1588      NaN      NaN      NaN  ...       NaN       NaN       NaN       NaN   \n",
       "1589      NaN      NaN      NaN  ...       NaN       NaN       NaN       NaN   \n",
       "1590      NaN      NaN      NaN  ...       NaN       NaN       NaN       NaN   \n",
       "\n",
       "     News_no15 News_no16 News_no17 News_no18 News_no19 News_no20  \n",
       "22         NaN       NaN       NaN       NaN       NaN       NaN  \n",
       "206        NaN       NaN       NaN       NaN       NaN       NaN  \n",
       "227        NaN       NaN       NaN       NaN       NaN       NaN  \n",
       "359        NaN       NaN       NaN       NaN       NaN       NaN  \n",
       "462        NaN       NaN       NaN       NaN       NaN       NaN  \n",
       "...        ...       ...       ...       ...       ...       ...  \n",
       "1585       NaN       NaN       NaN       NaN       NaN       NaN  \n",
       "1586       NaN       NaN       NaN       NaN       NaN       NaN  \n",
       "1588       NaN       NaN       NaN       NaN       NaN       NaN  \n",
       "1589       NaN       NaN       NaN       NaN       NaN       NaN  \n",
       "1590       NaN       NaN       NaN       NaN       NaN       NaN  \n",
       "\n",
       "[982 rows x 22 columns]"
      ]
     },
     "execution_count": 168,
     "metadata": {},
     "output_type": "execute_result"
    }
   ],
   "source": [
    "data_stock"
   ]
  },
  {
   "cell_type": "markdown",
   "id": "8555f4f4",
   "metadata": {},
   "source": [
    "**Przykład dodania ręcznie jednego news'a**"
   ]
  },
  {
   "cell_type": "code",
   "execution_count": 169,
   "id": "801e6070",
   "metadata": {},
   "outputs": [
    {
     "data": {
      "text/plain": [
       "'Jack Johnson Was Pardoned, But Taboo Sex Is Still Being Criminalized'"
      ]
     },
     "execution_count": 169,
     "metadata": {},
     "output_type": "execute_result"
    }
   ],
   "source": [
    "np.array(news[news.date == '2018-05-25']['headline'])[0]"
   ]
  },
  {
   "cell_type": "code",
   "execution_count": 170,
   "id": "2976f425",
   "metadata": {},
   "outputs": [],
   "source": [
    "# data_stock[data_stock.Date == '2018-05-25']['News_no1'] = \"j\"   bad\n",
    "data_stock.loc[data_stock.Date == '2018-05-25','News_no1'] = 'j'"
   ]
  },
  {
   "cell_type": "code",
   "execution_count": 171,
   "id": "b9856ab7",
   "metadata": {},
   "outputs": [],
   "source": [
    "data_stock.loc[data_stock.Date == '2018-05-25','News_no1'] = np.array(news[news.date == '2018-05-25']['headline'])[0]"
   ]
  },
  {
   "cell_type": "code",
   "execution_count": 172,
   "id": "93c72fc8",
   "metadata": {},
   "outputs": [
    {
     "data": {
      "text/plain": [
       "NaN    982\n",
       "Name: News_no1, dtype: int64"
      ]
     },
     "execution_count": 172,
     "metadata": {},
     "output_type": "execute_result"
    }
   ],
   "source": [
    "data_stock.News_no1.value_counts()"
   ]
  },
  {
   "cell_type": "code",
   "execution_count": 173,
   "id": "e80139f7",
   "metadata": {},
   "outputs": [
    {
     "data": {
      "text/html": [
       "<div>\n",
       "<style scoped>\n",
       "    .dataframe tbody tr th:only-of-type {\n",
       "        vertical-align: middle;\n",
       "    }\n",
       "\n",
       "    .dataframe tbody tr th {\n",
       "        vertical-align: top;\n",
       "    }\n",
       "\n",
       "    .dataframe thead th {\n",
       "        text-align: right;\n",
       "    }\n",
       "</style>\n",
       "<table border=\"1\" class=\"dataframe\">\n",
       "  <thead>\n",
       "    <tr style=\"text-align: right;\">\n",
       "      <th></th>\n",
       "      <th>Date</th>\n",
       "      <th>Increased</th>\n",
       "      <th>News_no1</th>\n",
       "      <th>News_no2</th>\n",
       "      <th>News_no3</th>\n",
       "      <th>News_no4</th>\n",
       "      <th>News_no5</th>\n",
       "      <th>News_no6</th>\n",
       "      <th>News_no7</th>\n",
       "      <th>News_no8</th>\n",
       "      <th>...</th>\n",
       "      <th>News_no11</th>\n",
       "      <th>News_no12</th>\n",
       "      <th>News_no13</th>\n",
       "      <th>News_no14</th>\n",
       "      <th>News_no15</th>\n",
       "      <th>News_no16</th>\n",
       "      <th>News_no17</th>\n",
       "      <th>News_no18</th>\n",
       "      <th>News_no19</th>\n",
       "      <th>News_no20</th>\n",
       "    </tr>\n",
       "  </thead>\n",
       "  <tbody>\n",
       "    <tr>\n",
       "      <th>1585</th>\n",
       "      <td>2018-05-17</td>\n",
       "      <td>1</td>\n",
       "      <td>NaN</td>\n",
       "      <td>NaN</td>\n",
       "      <td>NaN</td>\n",
       "      <td>NaN</td>\n",
       "      <td>NaN</td>\n",
       "      <td>NaN</td>\n",
       "      <td>NaN</td>\n",
       "      <td>NaN</td>\n",
       "      <td>...</td>\n",
       "      <td>NaN</td>\n",
       "      <td>NaN</td>\n",
       "      <td>NaN</td>\n",
       "      <td>NaN</td>\n",
       "      <td>NaN</td>\n",
       "      <td>NaN</td>\n",
       "      <td>NaN</td>\n",
       "      <td>NaN</td>\n",
       "      <td>NaN</td>\n",
       "      <td>NaN</td>\n",
       "    </tr>\n",
       "    <tr>\n",
       "      <th>1586</th>\n",
       "      <td>2018-05-18</td>\n",
       "      <td>0</td>\n",
       "      <td>NaN</td>\n",
       "      <td>NaN</td>\n",
       "      <td>NaN</td>\n",
       "      <td>NaN</td>\n",
       "      <td>NaN</td>\n",
       "      <td>NaN</td>\n",
       "      <td>NaN</td>\n",
       "      <td>NaN</td>\n",
       "      <td>...</td>\n",
       "      <td>NaN</td>\n",
       "      <td>NaN</td>\n",
       "      <td>NaN</td>\n",
       "      <td>NaN</td>\n",
       "      <td>NaN</td>\n",
       "      <td>NaN</td>\n",
       "      <td>NaN</td>\n",
       "      <td>NaN</td>\n",
       "      <td>NaN</td>\n",
       "      <td>NaN</td>\n",
       "    </tr>\n",
       "    <tr>\n",
       "      <th>1588</th>\n",
       "      <td>2018-05-22</td>\n",
       "      <td>0</td>\n",
       "      <td>NaN</td>\n",
       "      <td>NaN</td>\n",
       "      <td>NaN</td>\n",
       "      <td>NaN</td>\n",
       "      <td>NaN</td>\n",
       "      <td>NaN</td>\n",
       "      <td>NaN</td>\n",
       "      <td>NaN</td>\n",
       "      <td>...</td>\n",
       "      <td>NaN</td>\n",
       "      <td>NaN</td>\n",
       "      <td>NaN</td>\n",
       "      <td>NaN</td>\n",
       "      <td>NaN</td>\n",
       "      <td>NaN</td>\n",
       "      <td>NaN</td>\n",
       "      <td>NaN</td>\n",
       "      <td>NaN</td>\n",
       "      <td>NaN</td>\n",
       "    </tr>\n",
       "    <tr>\n",
       "      <th>1589</th>\n",
       "      <td>2018-05-23</td>\n",
       "      <td>1</td>\n",
       "      <td>NaN</td>\n",
       "      <td>NaN</td>\n",
       "      <td>NaN</td>\n",
       "      <td>NaN</td>\n",
       "      <td>NaN</td>\n",
       "      <td>NaN</td>\n",
       "      <td>NaN</td>\n",
       "      <td>NaN</td>\n",
       "      <td>...</td>\n",
       "      <td>NaN</td>\n",
       "      <td>NaN</td>\n",
       "      <td>NaN</td>\n",
       "      <td>NaN</td>\n",
       "      <td>NaN</td>\n",
       "      <td>NaN</td>\n",
       "      <td>NaN</td>\n",
       "      <td>NaN</td>\n",
       "      <td>NaN</td>\n",
       "      <td>NaN</td>\n",
       "    </tr>\n",
       "    <tr>\n",
       "      <th>1590</th>\n",
       "      <td>2018-05-24</td>\n",
       "      <td>0</td>\n",
       "      <td>NaN</td>\n",
       "      <td>NaN</td>\n",
       "      <td>NaN</td>\n",
       "      <td>NaN</td>\n",
       "      <td>NaN</td>\n",
       "      <td>NaN</td>\n",
       "      <td>NaN</td>\n",
       "      <td>NaN</td>\n",
       "      <td>...</td>\n",
       "      <td>NaN</td>\n",
       "      <td>NaN</td>\n",
       "      <td>NaN</td>\n",
       "      <td>NaN</td>\n",
       "      <td>NaN</td>\n",
       "      <td>NaN</td>\n",
       "      <td>NaN</td>\n",
       "      <td>NaN</td>\n",
       "      <td>NaN</td>\n",
       "      <td>NaN</td>\n",
       "    </tr>\n",
       "  </tbody>\n",
       "</table>\n",
       "<p>5 rows × 22 columns</p>\n",
       "</div>"
      ],
      "text/plain": [
       "            Date  Increased News_no1 News_no2 News_no3 News_no4 News_no5  \\\n",
       "1585  2018-05-17          1      NaN      NaN      NaN      NaN      NaN   \n",
       "1586  2018-05-18          0      NaN      NaN      NaN      NaN      NaN   \n",
       "1588  2018-05-22          0      NaN      NaN      NaN      NaN      NaN   \n",
       "1589  2018-05-23          1      NaN      NaN      NaN      NaN      NaN   \n",
       "1590  2018-05-24          0      NaN      NaN      NaN      NaN      NaN   \n",
       "\n",
       "     News_no6 News_no7 News_no8  ... News_no11 News_no12 News_no13 News_no14  \\\n",
       "1585      NaN      NaN      NaN  ...       NaN       NaN       NaN       NaN   \n",
       "1586      NaN      NaN      NaN  ...       NaN       NaN       NaN       NaN   \n",
       "1588      NaN      NaN      NaN  ...       NaN       NaN       NaN       NaN   \n",
       "1589      NaN      NaN      NaN  ...       NaN       NaN       NaN       NaN   \n",
       "1590      NaN      NaN      NaN  ...       NaN       NaN       NaN       NaN   \n",
       "\n",
       "     News_no15 News_no16 News_no17 News_no18 News_no19 News_no20  \n",
       "1585       NaN       NaN       NaN       NaN       NaN       NaN  \n",
       "1586       NaN       NaN       NaN       NaN       NaN       NaN  \n",
       "1588       NaN       NaN       NaN       NaN       NaN       NaN  \n",
       "1589       NaN       NaN       NaN       NaN       NaN       NaN  \n",
       "1590       NaN       NaN       NaN       NaN       NaN       NaN  \n",
       "\n",
       "[5 rows x 22 columns]"
      ]
     },
     "execution_count": 173,
     "metadata": {},
     "output_type": "execute_result"
    }
   ],
   "source": [
    "data_stock.tail()"
   ]
  },
  {
   "cell_type": "code",
   "execution_count": 174,
   "id": "64f22b10",
   "metadata": {},
   "outputs": [
    {
     "data": {
      "text/html": [
       "<div>\n",
       "<style scoped>\n",
       "    .dataframe tbody tr th:only-of-type {\n",
       "        vertical-align: middle;\n",
       "    }\n",
       "\n",
       "    .dataframe tbody tr th {\n",
       "        vertical-align: top;\n",
       "    }\n",
       "\n",
       "    .dataframe thead th {\n",
       "        text-align: right;\n",
       "    }\n",
       "</style>\n",
       "<table border=\"1\" class=\"dataframe\">\n",
       "  <thead>\n",
       "    <tr style=\"text-align: right;\">\n",
       "      <th></th>\n",
       "      <th>category</th>\n",
       "      <th>headline</th>\n",
       "      <th>authors</th>\n",
       "      <th>link</th>\n",
       "      <th>short_description</th>\n",
       "      <th>date</th>\n",
       "    </tr>\n",
       "  </thead>\n",
       "  <tbody>\n",
       "    <tr>\n",
       "      <th>12</th>\n",
       "      <td>IMPACT</td>\n",
       "      <td>With Its Way Of Life At Risk, This Remote Oyst...</td>\n",
       "      <td>Karen Pinchin</td>\n",
       "      <td>https://www.huffingtonpost.com/entry/remote-oy...</td>\n",
       "      <td>The revolution is coming to rural New Brunswick.</td>\n",
       "      <td>2018-05-26</td>\n",
       "    </tr>\n",
       "    <tr>\n",
       "      <th>13</th>\n",
       "      <td>POLITICS</td>\n",
       "      <td>Trump's Crackdown On Immigrant Parents Puts Mo...</td>\n",
       "      <td>Elise Foley and Roque Planas</td>\n",
       "      <td>https://www.huffingtonpost.com/entry/immigrant...</td>\n",
       "      <td>Last month a Health and Human Services officia...</td>\n",
       "      <td>2018-05-26</td>\n",
       "    </tr>\n",
       "    <tr>\n",
       "      <th>14</th>\n",
       "      <td>POLITICS</td>\n",
       "      <td>'Trump's Son Should Be Concerned': FBI Obtaine...</td>\n",
       "      <td>Michael Isikoff, Yahoo News</td>\n",
       "      <td>https://www.huffingtonpost.com/entry/fbi-wiret...</td>\n",
       "      <td>The wiretaps feature conversations between Ale...</td>\n",
       "      <td>2018-05-26</td>\n",
       "    </tr>\n",
       "    <tr>\n",
       "      <th>15</th>\n",
       "      <td>POLITICS</td>\n",
       "      <td>Edward Snowden: There's No One Trump Loves Mor...</td>\n",
       "      <td>Mary Papenfuss</td>\n",
       "      <td>https://www.huffingtonpost.com/entry/edward-sn...</td>\n",
       "      <td>But don't count on Robert Mueller to nail him,...</td>\n",
       "      <td>2018-05-26</td>\n",
       "    </tr>\n",
       "    <tr>\n",
       "      <th>16</th>\n",
       "      <td>POLITICS</td>\n",
       "      <td>Booyah: Obama Photographer Hilariously Trolls ...</td>\n",
       "      <td>Mary Papenfuss</td>\n",
       "      <td>https://www.huffingtonpost.com/entry/obama-pho...</td>\n",
       "      <td>Just a peeping minute.</td>\n",
       "      <td>2018-05-26</td>\n",
       "    </tr>\n",
       "  </tbody>\n",
       "</table>\n",
       "</div>"
      ],
      "text/plain": [
       "    category                                           headline  \\\n",
       "12    IMPACT  With Its Way Of Life At Risk, This Remote Oyst...   \n",
       "13  POLITICS  Trump's Crackdown On Immigrant Parents Puts Mo...   \n",
       "14  POLITICS  'Trump's Son Should Be Concerned': FBI Obtaine...   \n",
       "15  POLITICS  Edward Snowden: There's No One Trump Loves Mor...   \n",
       "16  POLITICS  Booyah: Obama Photographer Hilariously Trolls ...   \n",
       "\n",
       "                         authors  \\\n",
       "12                 Karen Pinchin   \n",
       "13  Elise Foley and Roque Planas   \n",
       "14   Michael Isikoff, Yahoo News   \n",
       "15                Mary Papenfuss   \n",
       "16                Mary Papenfuss   \n",
       "\n",
       "                                                 link  \\\n",
       "12  https://www.huffingtonpost.com/entry/remote-oy...   \n",
       "13  https://www.huffingtonpost.com/entry/immigrant...   \n",
       "14  https://www.huffingtonpost.com/entry/fbi-wiret...   \n",
       "15  https://www.huffingtonpost.com/entry/edward-sn...   \n",
       "16  https://www.huffingtonpost.com/entry/obama-pho...   \n",
       "\n",
       "                                    short_description       date  \n",
       "12   The revolution is coming to rural New Brunswick. 2018-05-26  \n",
       "13  Last month a Health and Human Services officia... 2018-05-26  \n",
       "14  The wiretaps feature conversations between Ale... 2018-05-26  \n",
       "15  But don't count on Robert Mueller to nail him,... 2018-05-26  \n",
       "16                             Just a peeping minute. 2018-05-26  "
      ]
     },
     "execution_count": 174,
     "metadata": {},
     "output_type": "execute_result"
    }
   ],
   "source": [
    "news.head()"
   ]
  },
  {
   "cell_type": "code",
   "execution_count": 175,
   "id": "618d351b",
   "metadata": {},
   "outputs": [],
   "source": [
    "#---------"
   ]
  },
  {
   "cell_type": "markdown",
   "id": "954b7140",
   "metadata": {},
   "source": [
    "**Automatyczne iterowanie po wierszach data_stock i dodawanie kolejnych newsów**"
   ]
  },
  {
   "cell_type": "code",
   "execution_count": 176,
   "id": "3b4f781d",
   "metadata": {},
   "outputs": [],
   "source": [
    "for i in range(1, news_amount+1):\n",
    "    for index, row in data_stock.iterrows():\n",
    "        date_row = row['Date']\n",
    "        data_stock.loc[data_stock.Date == date_row,'News_no'+str(i)] = np.array(news[news.date == date_row]['headline'])[i-1]"
   ]
  },
  {
   "cell_type": "code",
   "execution_count": 177,
   "id": "e256cc42",
   "metadata": {},
   "outputs": [
    {
     "data": {
      "text/html": [
       "<div>\n",
       "<style scoped>\n",
       "    .dataframe tbody tr th:only-of-type {\n",
       "        vertical-align: middle;\n",
       "    }\n",
       "\n",
       "    .dataframe tbody tr th {\n",
       "        vertical-align: top;\n",
       "    }\n",
       "\n",
       "    .dataframe thead th {\n",
       "        text-align: right;\n",
       "    }\n",
       "</style>\n",
       "<table border=\"1\" class=\"dataframe\">\n",
       "  <thead>\n",
       "    <tr style=\"text-align: right;\">\n",
       "      <th></th>\n",
       "      <th>Date</th>\n",
       "      <th>Increased</th>\n",
       "      <th>News_no1</th>\n",
       "      <th>News_no2</th>\n",
       "      <th>News_no3</th>\n",
       "      <th>News_no4</th>\n",
       "      <th>News_no5</th>\n",
       "      <th>News_no6</th>\n",
       "      <th>News_no7</th>\n",
       "      <th>News_no8</th>\n",
       "      <th>...</th>\n",
       "      <th>News_no11</th>\n",
       "      <th>News_no12</th>\n",
       "      <th>News_no13</th>\n",
       "      <th>News_no14</th>\n",
       "      <th>News_no15</th>\n",
       "      <th>News_no16</th>\n",
       "      <th>News_no17</th>\n",
       "      <th>News_no18</th>\n",
       "      <th>News_no19</th>\n",
       "      <th>News_no20</th>\n",
       "    </tr>\n",
       "  </thead>\n",
       "  <tbody>\n",
       "    <tr>\n",
       "      <th>1585</th>\n",
       "      <td>2018-05-17</td>\n",
       "      <td>1</td>\n",
       "      <td>Business Groups Might Be Quietly Killing A Bil...</td>\n",
       "      <td>Kushner Family Reportedly Close To Getting Bai...</td>\n",
       "      <td>Trump Says He'll Give To Charity For Royal Wed...</td>\n",
       "      <td>Federal Prosecutors Still Trying To Turn Trump...</td>\n",
       "      <td>Republican Immigration Fight Derails Food Stam...</td>\n",
       "      <td>Retiring Lawmakers Have Added $32.8 Million To...</td>\n",
       "      <td>Facing Farm Bill Vote Problems, GOP Leaders Ma...</td>\n",
       "      <td>Trump’s Stormy Daniels Disclosure Still Leaves...</td>\n",
       "      <td>...</td>\n",
       "      <td>Boulder City Council Unanimously Votes To Ban ...</td>\n",
       "      <td>Mitch McConnell Taps Anti-LGBTQ Bigot For Reli...</td>\n",
       "      <td>Devin Nunes, Fundraising Off FBI Attacks, Tell...</td>\n",
       "      <td>Former Mexican President Warns Donald Trump: '...</td>\n",
       "      <td>Fox News' First Female CEO Was Named In Sexual...</td>\n",
       "      <td>The Battle To Save Our Dying Soil</td>\n",
       "      <td>Scam PACs Ripped Off Conservatives With Pro-Po...</td>\n",
       "      <td>Trump's ICE Is Increasingly Arresting Immigran...</td>\n",
       "      <td>Special Counsel Hits Roger Stone's Social Medi...</td>\n",
       "      <td>Josh Holt, American Captive in Venezuela, Begs...</td>\n",
       "    </tr>\n",
       "    <tr>\n",
       "      <th>1586</th>\n",
       "      <td>2018-05-18</td>\n",
       "      <td>0</td>\n",
       "      <td>Santa Fe High Schoolers Held Gun Violence Prot...</td>\n",
       "      <td>Jeff Sessions Uses Exceptional Power Over Immi...</td>\n",
       "      <td>GOP Rep. Introduces Bill That Would Demand Whi...</td>\n",
       "      <td>Meek Mill Backs Out Of Trump Event On Prison R...</td>\n",
       "      <td>New Trump Rule Would Cut Federal Funds From Cl...</td>\n",
       "      <td>Twitter Users Joke Trump Wants Prison Reform B...</td>\n",
       "      <td>Trump White House Kills Off Yanny-Laurel Debat...</td>\n",
       "      <td>Lawyer Who Ranted Against Spanish-Speakers Fac...</td>\n",
       "      <td>...</td>\n",
       "      <td>Gun Owners And Non-Gun Owners Actually Agree O...</td>\n",
       "      <td>Twitter Users Pan Ted Cruz After He Tweets 'Pr...</td>\n",
       "      <td>So States Ban Bump Stocks. Now How Do They Enf...</td>\n",
       "      <td>For Liberal Billionaire Tom Steyer, It’s All A...</td>\n",
       "      <td>Sen. Dean Heller’s Campaign Paid His Social Me...</td>\n",
       "      <td>Interior Dept. Dodges Watchdog’s Questions Abo...</td>\n",
       "      <td>Bill Gates Says Trump Didn't Know The Differen...</td>\n",
       "      <td>Robert Wilkie Picked As New VA Secretary In Su...</td>\n",
       "      <td>Trump's New 'Domestic Gag Rule' Would Strip Fu...</td>\n",
       "      <td>Rudy Giuliani Reverses Trump Team's Position, ...</td>\n",
       "    </tr>\n",
       "    <tr>\n",
       "      <th>1588</th>\n",
       "      <td>2018-05-22</td>\n",
       "      <td>0</td>\n",
       "      <td>Shoppers Boycott Publix Over Store's Donations...</td>\n",
       "      <td>Bill De Blasio Tells NYPD To Stop Arresting Pe...</td>\n",
       "      <td>DHS Head Says She’s Still, Somehow, Unaware Of...</td>\n",
       "      <td>Lawmaker Introduces Crowdfunding Bill To Pay F...</td>\n",
       "      <td>GOP Lawmakers Will Soon Be Allowed To Review C...</td>\n",
       "      <td>The Georgia GOP Governor's Primary Focuses On ...</td>\n",
       "      <td>Georgia Governor’s Primary Highlights Competin...</td>\n",
       "      <td>California Moves To Let Schools, Co-workers 'R...</td>\n",
       "      <td>...</td>\n",
       "      <td>Giuliani’s New Stance On Russian Collusion: So...</td>\n",
       "      <td>The Onion Hilariously Trolls Michael Cohen Wit...</td>\n",
       "      <td>Democrats Want To Boost School Funding To Addr...</td>\n",
       "      <td>But Her Emails? Lawmakers Shrug Off Trump’s La...</td>\n",
       "      <td>Congress Does Wall Street A Favor As Banks Pos...</td>\n",
       "      <td>White House Sinkhole Probably Metaphor For Som...</td>\n",
       "      <td>Reporter Shoved, Others Barred From EPA Meetin...</td>\n",
       "      <td>Garry Kasparov: Donald Trump Has More Russian ...</td>\n",
       "      <td>'60 Minutes' Reporter Reveals Trump's Chilling...</td>\n",
       "      <td>Trump Reportedly Rejects Phone Security Measur...</td>\n",
       "    </tr>\n",
       "    <tr>\n",
       "      <th>1589</th>\n",
       "      <td>2018-05-23</td>\n",
       "      <td>1</td>\n",
       "      <td>Betsy DeVos Stirs Uproar By Saying Schools Can...</td>\n",
       "      <td>6 Sandy Hook Families, FBI Agent Sue Alex Jone...</td>\n",
       "      <td>High School Teacher Defeats Kentucky House Maj...</td>\n",
       "      <td>Lupe Valdez Makes History In Texas By Winning ...</td>\n",
       "      <td>Report: Michael Cohen's Business Partner Coope...</td>\n",
       "      <td>Stacey Abrams Wins Democratic Primary For Geor...</td>\n",
       "      <td>Gina Ortiz Jones Wins Democratic Runoff In Tex...</td>\n",
       "      <td>Fighter Pilot Amy McGrath Wins Democratic Prim...</td>\n",
       "      <td>...</td>\n",
       "      <td>The Latest School Shooting Hasn't Really Stirr...</td>\n",
       "      <td>House Republicans Report Progress On An Immigr...</td>\n",
       "      <td>Democrats Weren't Invited To Review Classified...</td>\n",
       "      <td>GOP Candidate Who Pointed Gun At Teenager Adva...</td>\n",
       "      <td>Democrats Push To Be Included In Classified Br...</td>\n",
       "      <td>Machines Don't Always Steal Our Jobs. Increasi...</td>\n",
       "      <td>Trump Praises Tomi Lahren After Restaurant Cro...</td>\n",
       "      <td>Sarah Sanders: It 'Bothers Me' Being Called A ...</td>\n",
       "      <td>Trump Blocking People On Twitter Is Unconstitu...</td>\n",
       "      <td>A Mostly Non-Christian Militia Won 2 Of Iraqi ...</td>\n",
       "    </tr>\n",
       "    <tr>\n",
       "      <th>1590</th>\n",
       "      <td>2018-05-24</td>\n",
       "      <td>0</td>\n",
       "      <td>Michelle Obama Reveals Cover For Upcoming Memo...</td>\n",
       "      <td>U.S. Launches Auto Import Probe, China Vows To...</td>\n",
       "      <td>Trump Roasted For Rushing To Defend Tomi Lahre...</td>\n",
       "      <td>Trump Abruptly Cancels North Korea Summit With...</td>\n",
       "      <td>Devin Nunes-Linked Winery Faced Suit Over Alle...</td>\n",
       "      <td>Immigrant Children Accuse Border Patrol Of Abu...</td>\n",
       "      <td>Ireland's Historic Vote On Legalizing Abortion...</td>\n",
       "      <td>Trump Lawyer Attended DOJ Meeting On Confident...</td>\n",
       "      <td>...</td>\n",
       "      <td>Kentucky Attorney Running For Judge Dies 1 Day...</td>\n",
       "      <td>Chrissy Teigen Taunts Donald Trump Over Twitte...</td>\n",
       "      <td>The Koch Network Is Going After One Of Trump’s...</td>\n",
       "      <td>Scott Pruitt Twice Introduced Anti-Abortion Bi...</td>\n",
       "      <td>Twitter Critics Mercilessly Mock Trump For Can...</td>\n",
       "      <td>Civil Rights Groups Rip Senate Bill Revising I...</td>\n",
       "      <td>Alabama Sues To Exclude Undocumented Immigrant...</td>\n",
       "      <td>Cynthia Nixon Vows To Keep Fighting After (Pre...</td>\n",
       "      <td>White House Officials Reportedly Considered Ju...</td>\n",
       "      <td>Read Trump's Letter To Kim Jong Un Canceling N...</td>\n",
       "    </tr>\n",
       "  </tbody>\n",
       "</table>\n",
       "<p>5 rows × 22 columns</p>\n",
       "</div>"
      ],
      "text/plain": [
       "            Date  Increased  \\\n",
       "1585  2018-05-17          1   \n",
       "1586  2018-05-18          0   \n",
       "1588  2018-05-22          0   \n",
       "1589  2018-05-23          1   \n",
       "1590  2018-05-24          0   \n",
       "\n",
       "                                               News_no1  \\\n",
       "1585  Business Groups Might Be Quietly Killing A Bil...   \n",
       "1586  Santa Fe High Schoolers Held Gun Violence Prot...   \n",
       "1588  Shoppers Boycott Publix Over Store's Donations...   \n",
       "1589  Betsy DeVos Stirs Uproar By Saying Schools Can...   \n",
       "1590  Michelle Obama Reveals Cover For Upcoming Memo...   \n",
       "\n",
       "                                               News_no2  \\\n",
       "1585  Kushner Family Reportedly Close To Getting Bai...   \n",
       "1586  Jeff Sessions Uses Exceptional Power Over Immi...   \n",
       "1588  Bill De Blasio Tells NYPD To Stop Arresting Pe...   \n",
       "1589  6 Sandy Hook Families, FBI Agent Sue Alex Jone...   \n",
       "1590  U.S. Launches Auto Import Probe, China Vows To...   \n",
       "\n",
       "                                               News_no3  \\\n",
       "1585  Trump Says He'll Give To Charity For Royal Wed...   \n",
       "1586  GOP Rep. Introduces Bill That Would Demand Whi...   \n",
       "1588  DHS Head Says She’s Still, Somehow, Unaware Of...   \n",
       "1589  High School Teacher Defeats Kentucky House Maj...   \n",
       "1590  Trump Roasted For Rushing To Defend Tomi Lahre...   \n",
       "\n",
       "                                               News_no4  \\\n",
       "1585  Federal Prosecutors Still Trying To Turn Trump...   \n",
       "1586  Meek Mill Backs Out Of Trump Event On Prison R...   \n",
       "1588  Lawmaker Introduces Crowdfunding Bill To Pay F...   \n",
       "1589  Lupe Valdez Makes History In Texas By Winning ...   \n",
       "1590  Trump Abruptly Cancels North Korea Summit With...   \n",
       "\n",
       "                                               News_no5  \\\n",
       "1585  Republican Immigration Fight Derails Food Stam...   \n",
       "1586  New Trump Rule Would Cut Federal Funds From Cl...   \n",
       "1588  GOP Lawmakers Will Soon Be Allowed To Review C...   \n",
       "1589  Report: Michael Cohen's Business Partner Coope...   \n",
       "1590  Devin Nunes-Linked Winery Faced Suit Over Alle...   \n",
       "\n",
       "                                               News_no6  \\\n",
       "1585  Retiring Lawmakers Have Added $32.8 Million To...   \n",
       "1586  Twitter Users Joke Trump Wants Prison Reform B...   \n",
       "1588  The Georgia GOP Governor's Primary Focuses On ...   \n",
       "1589  Stacey Abrams Wins Democratic Primary For Geor...   \n",
       "1590  Immigrant Children Accuse Border Patrol Of Abu...   \n",
       "\n",
       "                                               News_no7  \\\n",
       "1585  Facing Farm Bill Vote Problems, GOP Leaders Ma...   \n",
       "1586  Trump White House Kills Off Yanny-Laurel Debat...   \n",
       "1588  Georgia Governor’s Primary Highlights Competin...   \n",
       "1589  Gina Ortiz Jones Wins Democratic Runoff In Tex...   \n",
       "1590  Ireland's Historic Vote On Legalizing Abortion...   \n",
       "\n",
       "                                               News_no8  ...  \\\n",
       "1585  Trump’s Stormy Daniels Disclosure Still Leaves...  ...   \n",
       "1586  Lawyer Who Ranted Against Spanish-Speakers Fac...  ...   \n",
       "1588  California Moves To Let Schools, Co-workers 'R...  ...   \n",
       "1589  Fighter Pilot Amy McGrath Wins Democratic Prim...  ...   \n",
       "1590  Trump Lawyer Attended DOJ Meeting On Confident...  ...   \n",
       "\n",
       "                                              News_no11  \\\n",
       "1585  Boulder City Council Unanimously Votes To Ban ...   \n",
       "1586  Gun Owners And Non-Gun Owners Actually Agree O...   \n",
       "1588  Giuliani’s New Stance On Russian Collusion: So...   \n",
       "1589  The Latest School Shooting Hasn't Really Stirr...   \n",
       "1590  Kentucky Attorney Running For Judge Dies 1 Day...   \n",
       "\n",
       "                                              News_no12  \\\n",
       "1585  Mitch McConnell Taps Anti-LGBTQ Bigot For Reli...   \n",
       "1586  Twitter Users Pan Ted Cruz After He Tweets 'Pr...   \n",
       "1588  The Onion Hilariously Trolls Michael Cohen Wit...   \n",
       "1589  House Republicans Report Progress On An Immigr...   \n",
       "1590  Chrissy Teigen Taunts Donald Trump Over Twitte...   \n",
       "\n",
       "                                              News_no13  \\\n",
       "1585  Devin Nunes, Fundraising Off FBI Attacks, Tell...   \n",
       "1586  So States Ban Bump Stocks. Now How Do They Enf...   \n",
       "1588  Democrats Want To Boost School Funding To Addr...   \n",
       "1589  Democrats Weren't Invited To Review Classified...   \n",
       "1590  The Koch Network Is Going After One Of Trump’s...   \n",
       "\n",
       "                                              News_no14  \\\n",
       "1585  Former Mexican President Warns Donald Trump: '...   \n",
       "1586  For Liberal Billionaire Tom Steyer, It’s All A...   \n",
       "1588  But Her Emails? Lawmakers Shrug Off Trump’s La...   \n",
       "1589  GOP Candidate Who Pointed Gun At Teenager Adva...   \n",
       "1590  Scott Pruitt Twice Introduced Anti-Abortion Bi...   \n",
       "\n",
       "                                              News_no15  \\\n",
       "1585  Fox News' First Female CEO Was Named In Sexual...   \n",
       "1586  Sen. Dean Heller’s Campaign Paid His Social Me...   \n",
       "1588  Congress Does Wall Street A Favor As Banks Pos...   \n",
       "1589  Democrats Push To Be Included In Classified Br...   \n",
       "1590  Twitter Critics Mercilessly Mock Trump For Can...   \n",
       "\n",
       "                                              News_no16  \\\n",
       "1585                  The Battle To Save Our Dying Soil   \n",
       "1586  Interior Dept. Dodges Watchdog’s Questions Abo...   \n",
       "1588  White House Sinkhole Probably Metaphor For Som...   \n",
       "1589  Machines Don't Always Steal Our Jobs. Increasi...   \n",
       "1590  Civil Rights Groups Rip Senate Bill Revising I...   \n",
       "\n",
       "                                              News_no17  \\\n",
       "1585  Scam PACs Ripped Off Conservatives With Pro-Po...   \n",
       "1586  Bill Gates Says Trump Didn't Know The Differen...   \n",
       "1588  Reporter Shoved, Others Barred From EPA Meetin...   \n",
       "1589  Trump Praises Tomi Lahren After Restaurant Cro...   \n",
       "1590  Alabama Sues To Exclude Undocumented Immigrant...   \n",
       "\n",
       "                                              News_no18  \\\n",
       "1585  Trump's ICE Is Increasingly Arresting Immigran...   \n",
       "1586  Robert Wilkie Picked As New VA Secretary In Su...   \n",
       "1588  Garry Kasparov: Donald Trump Has More Russian ...   \n",
       "1589  Sarah Sanders: It 'Bothers Me' Being Called A ...   \n",
       "1590  Cynthia Nixon Vows To Keep Fighting After (Pre...   \n",
       "\n",
       "                                              News_no19  \\\n",
       "1585  Special Counsel Hits Roger Stone's Social Medi...   \n",
       "1586  Trump's New 'Domestic Gag Rule' Would Strip Fu...   \n",
       "1588  '60 Minutes' Reporter Reveals Trump's Chilling...   \n",
       "1589  Trump Blocking People On Twitter Is Unconstitu...   \n",
       "1590  White House Officials Reportedly Considered Ju...   \n",
       "\n",
       "                                              News_no20  \n",
       "1585  Josh Holt, American Captive in Venezuela, Begs...  \n",
       "1586  Rudy Giuliani Reverses Trump Team's Position, ...  \n",
       "1588  Trump Reportedly Rejects Phone Security Measur...  \n",
       "1589  A Mostly Non-Christian Militia Won 2 Of Iraqi ...  \n",
       "1590  Read Trump's Letter To Kim Jong Un Canceling N...  \n",
       "\n",
       "[5 rows x 22 columns]"
      ]
     },
     "execution_count": 177,
     "metadata": {},
     "output_type": "execute_result"
    }
   ],
   "source": [
    "data_stock.tail()"
   ]
  },
  {
   "cell_type": "markdown",
   "id": "6c11c2da",
   "metadata": {},
   "source": [
    "*Sprawdzenie*"
   ]
  },
  {
   "cell_type": "code",
   "execution_count": 180,
   "id": "ab577317",
   "metadata": {},
   "outputs": [
    {
     "data": {
      "text/plain": [
       "\"Read Trump's Letter To Kim Jong Un Canceling North Korea Summit\""
      ]
     },
     "execution_count": 180,
     "metadata": {},
     "output_type": "execute_result"
    }
   ],
   "source": [
    "np.array(news[news.date == '2018-05-24']['headline'])[19]"
   ]
  },
  {
   "cell_type": "markdown",
   "id": "b9eb49fa",
   "metadata": {},
   "source": [
    "# Tworzenie pliku csv"
   ]
  },
  {
   "cell_type": "code",
   "execution_count": 181,
   "id": "fb820bff",
   "metadata": {},
   "outputs": [],
   "source": [
    "out = pd.DataFrame(data=data_stock)"
   ]
  },
  {
   "cell_type": "code",
   "execution_count": 182,
   "id": "5dddd084",
   "metadata": {},
   "outputs": [],
   "source": [
    "out.to_csv(\"stock_data_with_news.csv\", index=False)"
   ]
  }
 ],
 "metadata": {
  "kernelspec": {
   "display_name": "Python 3",
   "language": "python",
   "name": "python3"
  },
  "language_info": {
   "codemirror_mode": {
    "name": "ipython",
    "version": 3
   },
   "file_extension": ".py",
   "mimetype": "text/x-python",
   "name": "python",
   "nbconvert_exporter": "python",
   "pygments_lexer": "ipython3",
   "version": "3.8.8"
  }
 },
 "nbformat": 4,
 "nbformat_minor": 5
}
