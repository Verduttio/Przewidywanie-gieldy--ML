{
 "cells": [
  {
   "cell_type": "code",
   "execution_count": 74,
   "id": "bfc30036",
   "metadata": {},
   "outputs": [],
   "source": [
    "import numpy as np\n",
    "import pandas as pd\n",
    "import matplotlib.pyplot as plt\n",
    "from sklearn import metrics"
   ]
  },
  {
   "cell_type": "code",
   "execution_count": 75,
   "id": "2281bfe5",
   "metadata": {},
   "outputs": [],
   "source": [
    "import os\n",
    "DATA_PATH = \"Dane\\Wlasne\\stock_data_with_news.csv\""
   ]
  },
  {
   "cell_type": "code",
   "execution_count": 76,
   "id": "69952b9f",
   "metadata": {},
   "outputs": [],
   "source": [
    "data = pd.read_csv(DATA_PATH, sep=\",\")"
   ]
  },
  {
   "cell_type": "code",
   "execution_count": 77,
   "id": "2fad7bc7",
   "metadata": {},
   "outputs": [
    {
     "data": {
      "text/html": [
       "<div>\n",
       "<style scoped>\n",
       "    .dataframe tbody tr th:only-of-type {\n",
       "        vertical-align: middle;\n",
       "    }\n",
       "\n",
       "    .dataframe tbody tr th {\n",
       "        vertical-align: top;\n",
       "    }\n",
       "\n",
       "    .dataframe thead th {\n",
       "        text-align: right;\n",
       "    }\n",
       "</style>\n",
       "<table border=\"1\" class=\"dataframe\">\n",
       "  <thead>\n",
       "    <tr style=\"text-align: right;\">\n",
       "      <th></th>\n",
       "      <th>Date</th>\n",
       "      <th>Increased</th>\n",
       "      <th>News_no1</th>\n",
       "      <th>News_no2</th>\n",
       "      <th>News_no3</th>\n",
       "      <th>News_no4</th>\n",
       "      <th>News_no5</th>\n",
       "      <th>News_no6</th>\n",
       "      <th>News_no7</th>\n",
       "      <th>News_no8</th>\n",
       "      <th>...</th>\n",
       "      <th>News_no11</th>\n",
       "      <th>News_no12</th>\n",
       "      <th>News_no13</th>\n",
       "      <th>News_no14</th>\n",
       "      <th>News_no15</th>\n",
       "      <th>News_no16</th>\n",
       "      <th>News_no17</th>\n",
       "      <th>News_no18</th>\n",
       "      <th>News_no19</th>\n",
       "      <th>News_no20</th>\n",
       "    </tr>\n",
       "  </thead>\n",
       "  <tbody>\n",
       "    <tr>\n",
       "      <th>0</th>\n",
       "      <td>2012-03-01</td>\n",
       "      <td>1</td>\n",
       "      <td>Lowball Salary Offer? Here Are 10 Ways to Brid...</td>\n",
       "      <td>Your Finances Are Killing Your Sex Life</td>\n",
       "      <td>Surprising Investing Myths</td>\n",
       "      <td>Taxes 2011: Five Things You Might Not Expect T...</td>\n",
       "      <td>Five Ways Women Entrepreneurs Can Get a Financ...</td>\n",
       "      <td>For Richer, Not Poorer: Five Ways to Manage Mo...</td>\n",
       "      <td>Tax Strategies in a Tough Economy</td>\n",
       "      <td>Debt Collectors Targeted For Heightened Unlawf...</td>\n",
       "      <td>...</td>\n",
       "      <td>Facebook Eyed By Banks For Preferred Customer ...</td>\n",
       "      <td>JPMorgan Chase Argues Bank Accounts Are Like N...</td>\n",
       "      <td>Let's Not Forget About George...</td>\n",
       "      <td>Your Start-Up Life: Advice From a CNN Anchor o...</td>\n",
       "      <td>Credit Card Applications: Applying For My Firs...</td>\n",
       "      <td>Gas Prices: What You Are Paying At The Pump [P...</td>\n",
       "      <td>Eight Ways Money Managers Can Be 'HOT': Honest...</td>\n",
       "      <td>My Kids Will Cost Me Close to a Million Dollar...</td>\n",
       "      <td>The Importance of a Savings Account</td>\n",
       "      <td>Obama's Budget Proposal: Six Lessons for Your ...</td>\n",
       "    </tr>\n",
       "    <tr>\n",
       "      <th>1</th>\n",
       "      <td>2012-11-23</td>\n",
       "      <td>1</td>\n",
       "      <td>Target Black Friday Deals 2012 Revealed (PHOTOS)</td>\n",
       "      <td>Black Friday Online Deals 2012: Amazon Reveals...</td>\n",
       "      <td>Walmart Black Friday Deals 2012: Your Guide Fo...</td>\n",
       "      <td>Best Buy Black Friday 2012 Deals: Your Shoppin...</td>\n",
       "      <td>Best Buy Black Friday Store Hours 2012</td>\n",
       "      <td>Black Friday 2012 (LIVE UPDATES)</td>\n",
       "      <td>Black Friday Ads 2012: Deals From Walmart, Bes...</td>\n",
       "      <td>Walmart Black Friday Store Hours 2012: Opening...</td>\n",
       "      <td>...</td>\n",
       "      <td>10 Ways To Give Back On Black Friday</td>\n",
       "      <td>Giving Back for Literacy and a Better World</td>\n",
       "      <td>From Kara2Mijael: The Gift of Giving</td>\n",
       "      <td>BlockFriday -- A Collective, Positive Response...</td>\n",
       "      <td>'Sandy Friday' Urges Businesses To Pledge 10% ...</td>\n",
       "      <td>Walmart Strike Hits 100 Cities, But Fails To D...</td>\n",
       "      <td>Walmart Says It Has Best Black Friday Ever Des...</td>\n",
       "      <td>What Kind of Walmart Do We Want for Our Country?</td>\n",
       "      <td>Walmart Strikers Prepare For Black Friday Prot...</td>\n",
       "      <td>Walmart Protesters Tweet Pictures Of Black Fri...</td>\n",
       "    </tr>\n",
       "    <tr>\n",
       "      <th>2</th>\n",
       "      <td>2012-12-24</td>\n",
       "      <td>0</td>\n",
       "      <td>Top 2012 Highlights in Maternal Health</td>\n",
       "      <td>Fighting Bulldozers, Slum Dwellers Find a New ...</td>\n",
       "      <td>How New York City Food Trucks Helped Heal Hurr...</td>\n",
       "      <td>A Wonderful Life? Finding Capra in Today's Chr...</td>\n",
       "      <td>5 Online Twists to Traditional Holiday Giving</td>\n",
       "      <td>Making a Shopping List With Impact in Mind</td>\n",
       "      <td>The Wal-Martyrs of Mexican Bribery</td>\n",
       "      <td>Reflections for Improving Work Relationships i...</td>\n",
       "      <td>...</td>\n",
       "      <td>What Stores Are Open On Christmas?</td>\n",
       "      <td>Stores Open On Christmas Day 2012</td>\n",
       "      <td>Kill the 'Fiscal Cliff' Instead of the Economy</td>\n",
       "      <td>The States Doling Out the Best (And Worst) Ben...</td>\n",
       "      <td>Startup Summer: A Pioneering Youth Entrepreneu...</td>\n",
       "      <td>Is It Time to Make a Bold Move?</td>\n",
       "      <td>A Christmas Carol for Bankers</td>\n",
       "      <td>Soledad Corona Gets Help From Occupy L.A. To R...</td>\n",
       "      <td>Wealthy Greek Tax Dodgers Escaping Crackdown: ...</td>\n",
       "      <td>Paul Krugman: Fiscal Crisis Prophets Are Membe...</td>\n",
       "    </tr>\n",
       "    <tr>\n",
       "      <th>3</th>\n",
       "      <td>2013-07-05</td>\n",
       "      <td>1</td>\n",
       "      <td>I Love It!: 20 Questions for Women in Construc...</td>\n",
       "      <td>The Global Search for Education: Student Loan ...</td>\n",
       "      <td>Remembering Back</td>\n",
       "      <td>Interview With Ethos Water Founder Peter Thum ...</td>\n",
       "      <td>Hostess To Start Freezing Some Twinkies Before...</td>\n",
       "      <td>Nestle, Danone Both Possibly Price-Fixed Infan...</td>\n",
       "      <td>11 Common Interview Questions That Are Actuall...</td>\n",
       "      <td>Bed Bath And Beyond Fire Caught On Tape By Cus...</td>\n",
       "      <td>...</td>\n",
       "      <td>3 Steps to Creating the Company Culture You Want</td>\n",
       "      <td>KFC Threatens Legal Action Against 'Hitler' Ch...</td>\n",
       "      <td>QE3 Works, So Please Don't Mess With It!</td>\n",
       "      <td>10 States Where People Drink The Most Beer</td>\n",
       "      <td>Paul Krugman: Here's 1 Thing That Hasn't Chang...</td>\n",
       "      <td>How to Prepare for Any Disaster</td>\n",
       "      <td>Unemployment Rate Unchanged In June, Long-Term...</td>\n",
       "      <td>June Jobs Report: U.S. Economy Adds 195,000 Jo...</td>\n",
       "      <td>Night Parrot, Nocturnal Bird In Australia, See...</td>\n",
       "      <td>Last Stop -- The Grand Canyon</td>\n",
       "    </tr>\n",
       "    <tr>\n",
       "      <th>4</th>\n",
       "      <td>2013-11-29</td>\n",
       "      <td>0</td>\n",
       "      <td>This Photo Proves Black Friday Isn't Worth The...</td>\n",
       "      <td>The Scene Inside The Macy's Flagship On Thanks...</td>\n",
       "      <td>The United States Of America, In 3 Tweets</td>\n",
       "      <td>Walmart's Black Friday Going About As Badly As...</td>\n",
       "      <td>Walmart Wage Protest Leads To Arrest Of Man Dr...</td>\n",
       "      <td>Best Black Friday TV Deals</td>\n",
       "      <td>Black Friday May Not Be Shopping Boon Retailer...</td>\n",
       "      <td>Black Friday Marred By Violence In Several States</td>\n",
       "      <td>...</td>\n",
       "      <td>Hollywood Must Protect Animals</td>\n",
       "      <td>Missouri Gas Pipeline Explodes Near Hughesvill...</td>\n",
       "      <td>Climate Change This Week: Warsaw Walkout, Clea...</td>\n",
       "      <td>Americans Don't Really Care About Typhoon Haiy...</td>\n",
       "      <td>Beating HIV: We Have the Tools, and Must Stay ...</td>\n",
       "      <td>Thanksgiving and World AIDS Day</td>\n",
       "      <td>Could a Tiny House Movement End Homelessness?</td>\n",
       "      <td>Egypt Must Be Held Accountable for Sexual Assault</td>\n",
       "      <td>This Thanksgiving, Thank Your Gen Y's &amp; Gen Y'...</td>\n",
       "      <td>Putting the Health of Young Mothers First: Key...</td>\n",
       "    </tr>\n",
       "  </tbody>\n",
       "</table>\n",
       "<p>5 rows × 22 columns</p>\n",
       "</div>"
      ],
      "text/plain": [
       "         Date  Increased                                           News_no1  \\\n",
       "0  2012-03-01          1  Lowball Salary Offer? Here Are 10 Ways to Brid...   \n",
       "1  2012-11-23          1   Target Black Friday Deals 2012 Revealed (PHOTOS)   \n",
       "2  2012-12-24          0             Top 2012 Highlights in Maternal Health   \n",
       "3  2013-07-05          1  I Love It!: 20 Questions for Women in Construc...   \n",
       "4  2013-11-29          0  This Photo Proves Black Friday Isn't Worth The...   \n",
       "\n",
       "                                            News_no2  \\\n",
       "0            Your Finances Are Killing Your Sex Life   \n",
       "1  Black Friday Online Deals 2012: Amazon Reveals...   \n",
       "2  Fighting Bulldozers, Slum Dwellers Find a New ...   \n",
       "3  The Global Search for Education: Student Loan ...   \n",
       "4  The Scene Inside The Macy's Flagship On Thanks...   \n",
       "\n",
       "                                            News_no3  \\\n",
       "0                         Surprising Investing Myths   \n",
       "1  Walmart Black Friday Deals 2012: Your Guide Fo...   \n",
       "2  How New York City Food Trucks Helped Heal Hurr...   \n",
       "3                                   Remembering Back   \n",
       "4          The United States Of America, In 3 Tweets   \n",
       "\n",
       "                                            News_no4  \\\n",
       "0  Taxes 2011: Five Things You Might Not Expect T...   \n",
       "1  Best Buy Black Friday 2012 Deals: Your Shoppin...   \n",
       "2  A Wonderful Life? Finding Capra in Today's Chr...   \n",
       "3  Interview With Ethos Water Founder Peter Thum ...   \n",
       "4  Walmart's Black Friday Going About As Badly As...   \n",
       "\n",
       "                                            News_no5  \\\n",
       "0  Five Ways Women Entrepreneurs Can Get a Financ...   \n",
       "1             Best Buy Black Friday Store Hours 2012   \n",
       "2      5 Online Twists to Traditional Holiday Giving   \n",
       "3  Hostess To Start Freezing Some Twinkies Before...   \n",
       "4  Walmart Wage Protest Leads To Arrest Of Man Dr...   \n",
       "\n",
       "                                            News_no6  \\\n",
       "0  For Richer, Not Poorer: Five Ways to Manage Mo...   \n",
       "1                   Black Friday 2012 (LIVE UPDATES)   \n",
       "2         Making a Shopping List With Impact in Mind   \n",
       "3  Nestle, Danone Both Possibly Price-Fixed Infan...   \n",
       "4                         Best Black Friday TV Deals   \n",
       "\n",
       "                                            News_no7  \\\n",
       "0                  Tax Strategies in a Tough Economy   \n",
       "1  Black Friday Ads 2012: Deals From Walmart, Bes...   \n",
       "2                 The Wal-Martyrs of Mexican Bribery   \n",
       "3  11 Common Interview Questions That Are Actuall...   \n",
       "4  Black Friday May Not Be Shopping Boon Retailer...   \n",
       "\n",
       "                                            News_no8  ...  \\\n",
       "0  Debt Collectors Targeted For Heightened Unlawf...  ...   \n",
       "1  Walmart Black Friday Store Hours 2012: Opening...  ...   \n",
       "2  Reflections for Improving Work Relationships i...  ...   \n",
       "3  Bed Bath And Beyond Fire Caught On Tape By Cus...  ...   \n",
       "4  Black Friday Marred By Violence In Several States  ...   \n",
       "\n",
       "                                           News_no11  \\\n",
       "0  Facebook Eyed By Banks For Preferred Customer ...   \n",
       "1               10 Ways To Give Back On Black Friday   \n",
       "2                 What Stores Are Open On Christmas?   \n",
       "3   3 Steps to Creating the Company Culture You Want   \n",
       "4                     Hollywood Must Protect Animals   \n",
       "\n",
       "                                           News_no12  \\\n",
       "0  JPMorgan Chase Argues Bank Accounts Are Like N...   \n",
       "1        Giving Back for Literacy and a Better World   \n",
       "2                  Stores Open On Christmas Day 2012   \n",
       "3  KFC Threatens Legal Action Against 'Hitler' Ch...   \n",
       "4  Missouri Gas Pipeline Explodes Near Hughesvill...   \n",
       "\n",
       "                                           News_no13  \\\n",
       "0                   Let's Not Forget About George...   \n",
       "1               From Kara2Mijael: The Gift of Giving   \n",
       "2     Kill the 'Fiscal Cliff' Instead of the Economy   \n",
       "3           QE3 Works, So Please Don't Mess With It!   \n",
       "4  Climate Change This Week: Warsaw Walkout, Clea...   \n",
       "\n",
       "                                           News_no14  \\\n",
       "0  Your Start-Up Life: Advice From a CNN Anchor o...   \n",
       "1  BlockFriday -- A Collective, Positive Response...   \n",
       "2  The States Doling Out the Best (And Worst) Ben...   \n",
       "3         10 States Where People Drink The Most Beer   \n",
       "4  Americans Don't Really Care About Typhoon Haiy...   \n",
       "\n",
       "                                           News_no15  \\\n",
       "0  Credit Card Applications: Applying For My Firs...   \n",
       "1  'Sandy Friday' Urges Businesses To Pledge 10% ...   \n",
       "2  Startup Summer: A Pioneering Youth Entrepreneu...   \n",
       "3  Paul Krugman: Here's 1 Thing That Hasn't Chang...   \n",
       "4  Beating HIV: We Have the Tools, and Must Stay ...   \n",
       "\n",
       "                                           News_no16  \\\n",
       "0  Gas Prices: What You Are Paying At The Pump [P...   \n",
       "1  Walmart Strike Hits 100 Cities, But Fails To D...   \n",
       "2                    Is It Time to Make a Bold Move?   \n",
       "3                    How to Prepare for Any Disaster   \n",
       "4                    Thanksgiving and World AIDS Day   \n",
       "\n",
       "                                           News_no17  \\\n",
       "0  Eight Ways Money Managers Can Be 'HOT': Honest...   \n",
       "1  Walmart Says It Has Best Black Friday Ever Des...   \n",
       "2                      A Christmas Carol for Bankers   \n",
       "3  Unemployment Rate Unchanged In June, Long-Term...   \n",
       "4      Could a Tiny House Movement End Homelessness?   \n",
       "\n",
       "                                           News_no18  \\\n",
       "0  My Kids Will Cost Me Close to a Million Dollar...   \n",
       "1   What Kind of Walmart Do We Want for Our Country?   \n",
       "2  Soledad Corona Gets Help From Occupy L.A. To R...   \n",
       "3  June Jobs Report: U.S. Economy Adds 195,000 Jo...   \n",
       "4  Egypt Must Be Held Accountable for Sexual Assault   \n",
       "\n",
       "                                           News_no19  \\\n",
       "0                The Importance of a Savings Account   \n",
       "1  Walmart Strikers Prepare For Black Friday Prot...   \n",
       "2  Wealthy Greek Tax Dodgers Escaping Crackdown: ...   \n",
       "3  Night Parrot, Nocturnal Bird In Australia, See...   \n",
       "4  This Thanksgiving, Thank Your Gen Y's & Gen Y'...   \n",
       "\n",
       "                                           News_no20  \n",
       "0  Obama's Budget Proposal: Six Lessons for Your ...  \n",
       "1  Walmart Protesters Tweet Pictures Of Black Fri...  \n",
       "2  Paul Krugman: Fiscal Crisis Prophets Are Membe...  \n",
       "3                      Last Stop -- The Grand Canyon  \n",
       "4  Putting the Health of Young Mothers First: Key...  \n",
       "\n",
       "[5 rows x 22 columns]"
      ]
     },
     "execution_count": 77,
     "metadata": {},
     "output_type": "execute_result"
    }
   ],
   "source": [
    "data.head()"
   ]
  },
  {
   "cell_type": "markdown",
   "id": "d18ae40e",
   "metadata": {},
   "source": [
    "# Dzielenie na train/test"
   ]
  },
  {
   "cell_type": "code",
   "execution_count": 78,
   "id": "b03aac92",
   "metadata": {},
   "outputs": [],
   "source": [
    "from sklearn.model_selection import train_test_split\n",
    "X_train, X_test, y_train, y_test = train_test_split(data.drop(['Date', 'Increased'], axis=1), data['Increased'], test_size=0.20, random_state=42)"
   ]
  },
  {
   "cell_type": "code",
   "execution_count": 79,
   "id": "a6d1faf6",
   "metadata": {},
   "outputs": [
    {
     "data": {
      "text/plain": [
       "(785, 20)"
      ]
     },
     "execution_count": 79,
     "metadata": {},
     "output_type": "execute_result"
    }
   ],
   "source": [
    "X_train.shape"
   ]
  },
  {
   "cell_type": "code",
   "execution_count": 80,
   "id": "e8d731c1",
   "metadata": {},
   "outputs": [
    {
     "data": {
      "text/plain": [
       "(197, 20)"
      ]
     },
     "execution_count": 80,
     "metadata": {},
     "output_type": "execute_result"
    }
   ],
   "source": [
    "X_test.shape"
   ]
  },
  {
   "cell_type": "code",
   "execution_count": 81,
   "id": "293d51c3",
   "metadata": {},
   "outputs": [
    {
     "data": {
      "text/plain": [
       "(785,)"
      ]
     },
     "execution_count": 81,
     "metadata": {},
     "output_type": "execute_result"
    }
   ],
   "source": [
    "y_train.shape"
   ]
  },
  {
   "cell_type": "code",
   "execution_count": 82,
   "id": "085b3df0",
   "metadata": {},
   "outputs": [
    {
     "data": {
      "text/html": [
       "<div>\n",
       "<style scoped>\n",
       "    .dataframe tbody tr th:only-of-type {\n",
       "        vertical-align: middle;\n",
       "    }\n",
       "\n",
       "    .dataframe tbody tr th {\n",
       "        vertical-align: top;\n",
       "    }\n",
       "\n",
       "    .dataframe thead th {\n",
       "        text-align: right;\n",
       "    }\n",
       "</style>\n",
       "<table border=\"1\" class=\"dataframe\">\n",
       "  <thead>\n",
       "    <tr style=\"text-align: right;\">\n",
       "      <th></th>\n",
       "      <th>News_no1</th>\n",
       "      <th>News_no2</th>\n",
       "      <th>News_no3</th>\n",
       "      <th>News_no4</th>\n",
       "      <th>News_no5</th>\n",
       "      <th>News_no6</th>\n",
       "      <th>News_no7</th>\n",
       "      <th>News_no8</th>\n",
       "      <th>News_no9</th>\n",
       "      <th>News_no10</th>\n",
       "      <th>News_no11</th>\n",
       "      <th>News_no12</th>\n",
       "      <th>News_no13</th>\n",
       "      <th>News_no14</th>\n",
       "      <th>News_no15</th>\n",
       "      <th>News_no16</th>\n",
       "      <th>News_no17</th>\n",
       "      <th>News_no18</th>\n",
       "      <th>News_no19</th>\n",
       "      <th>News_no20</th>\n",
       "    </tr>\n",
       "  </thead>\n",
       "  <tbody>\n",
       "    <tr>\n",
       "      <th>536</th>\n",
       "      <td>Donald Trump Thanks Paul Ryan For His Continue...</td>\n",
       "      <td>HUFFPOST HILL - Turns Out Somebody Actually Do...</td>\n",
       "      <td>Delaware Supreme Court Declares State's Death ...</td>\n",
       "      <td>Tuesday's Morning Email: Trump Faces Growing F...</td>\n",
       "      <td>Hillary Clinton Got A Big Fundraising Boost Fr...</td>\n",
       "      <td>Never, Ever Report A Poll You Haven’t Seen</td>\n",
       "      <td>Federal Judge Blocks North Dakota Voter ID Law</td>\n",
       "      <td>HuffPost Rise: What You Need To Know On August 2</td>\n",
       "      <td>Public Defender Who Was Handcuffed In Court Ha...</td>\n",
       "      <td>Bill Bratton Resigning As NYPD Commissioner</td>\n",
       "      <td>Trump University Lawsuit Advances As Judge Cur...</td>\n",
       "      <td>Why This Father Feeds His Son Freakish Fruit A...</td>\n",
       "      <td>No, Voters Aren't Secretly Pining For Donald T...</td>\n",
       "      <td>How The Khans Became A Weeklong Story: An Expl...</td>\n",
       "      <td>Donald Trump Doesn't Seem To Know The Meaning ...</td>\n",
       "      <td>Ex-Trump Staffer Accused Of Assaulting Reporte...</td>\n",
       "      <td>HUFFPOLLSTER: Polls Continue To Show Good News...</td>\n",
       "      <td>How Third Party Voters And Non-Voters Could Sh...</td>\n",
       "      <td>Why Is Hillary Clinton Letting Donald Trump Ba...</td>\n",
       "      <td>Donald Trump Says He Loves Babies Moments Befo...</td>\n",
       "    </tr>\n",
       "    <tr>\n",
       "      <th>333</th>\n",
       "      <td>See If Your Next-Door Neighbor Is A Toxic Dump</td>\n",
       "      <td>HuffPost Rise Morning Newsbrief, October 9</td>\n",
       "      <td>You Can Now Listen To Justice Scalia Call Obam...</td>\n",
       "      <td>Wooing Chairman Ryan: Paul Ryan Remains On Sid...</td>\n",
       "      <td>Arkansas Judge Halts Executions As Inmates Cha...</td>\n",
       "      <td>HUFFPOLLSTER: Gallup Bows Out Of Primary Polling</td>\n",
       "      <td>Obama Administration Disowns Pentagon’s $500 M...</td>\n",
       "      <td>Chris Christie Doesn't Care About All This Hou...</td>\n",
       "      <td>Why The House Speaker Scramble May Imperil Rep...</td>\n",
       "      <td>Obama Visits Oregon One Week After Mass Shooting</td>\n",
       "      <td>Desperate GOP Begs Paul Ryan To Save Them All</td>\n",
       "      <td>Climate Change Haunts This Year's Pumpkin Crop</td>\n",
       "      <td>Regulators Open Second Investigation Into VW E...</td>\n",
       "      <td>A New Clue Suggests Biden May Run</td>\n",
       "      <td>Key Progressive Group To Be Absorbed By Wellst...</td>\n",
       "      <td>Court Places Hold On Clean Water Rule Nationwide</td>\n",
       "      <td>One Reason Paul Ryan Is Reluctant To Run For H...</td>\n",
       "      <td>Obama: Backing Away From Immigration Reform Is...</td>\n",
       "      <td>The Small Brooklyn Publisher That Brought The ...</td>\n",
       "      <td>Bernie Sanders' New Digital Whiz Comes From A ...</td>\n",
       "    </tr>\n",
       "    <tr>\n",
       "      <th>887</th>\n",
       "      <td>Democrats Claim Victory After Yet Another Trum...</td>\n",
       "      <td>We Must Emphasize Reading For The Sake Of Our ...</td>\n",
       "      <td>What Trump Should Say About Mueller</td>\n",
       "      <td>Senate Paid Out $1.45 Million In Discriminatio...</td>\n",
       "      <td>Social Commerce Takes Hold</td>\n",
       "      <td>State Department Told Some Refugee Offices The...</td>\n",
       "      <td>A Tale Of Two Americas: GOP Gushes While A Gro...</td>\n",
       "      <td>Texas Attorney General Says It's Fine To Carry...</td>\n",
       "      <td>Tweeters Refuse To Let Donald Trump Take Credi...</td>\n",
       "      <td>Ivanka Trump Goofs Up On Tax Law In Her Televi...</td>\n",
       "      <td>U.S. Ambassador Denies Anti-Muslim Comments, T...</td>\n",
       "      <td>Former U.S. Attorneys Warn Trump About 'Severe...</td>\n",
       "      <td>Second Federal Judge Blocks Trump's Rollback O...</td>\n",
       "      <td>Needed: A Meter For Trump’s Lies-Per-Minute (LPM)</td>\n",
       "      <td>Republicans Win, America Loses</td>\n",
       "      <td>I Am Tired Of The Hypocrisy</td>\n",
       "      <td>Newly Reelected New York City Mayor Decides Hi...</td>\n",
       "      <td>Assessing The Real Impact Of Doug Jones’ Elect...</td>\n",
       "      <td>Franken, Unchained: Post-Resignation, He Is Tr...</td>\n",
       "      <td>Trump Throws Support Behind Ron DeSantis For F...</td>\n",
       "    </tr>\n",
       "    <tr>\n",
       "      <th>528</th>\n",
       "      <td>HUFFPOST HILL - Media To Cover Donald Trump Sp...</td>\n",
       "      <td>Mike Pence Makes The Best Of A Pretty Awkward ...</td>\n",
       "      <td>Ted Cruz Said Alton Sterling's Name At The Rep...</td>\n",
       "      <td>This Year's Primary Left Most Voters With A Lo...</td>\n",
       "      <td>Republicans Flip Out After Cruz Refuses To End...</td>\n",
       "      <td>Trump Adviser Hints Trump May Back Primary Cha...</td>\n",
       "      <td>Chris Christie Slams Ted Cruz's Speech As 'Sel...</td>\n",
       "      <td>Corporations Less Prominent At Donald Trump's ...</td>\n",
       "      <td>HuffPost Rise: What You Need To Know On July 21</td>\n",
       "      <td>Thursday's Morning Email: Cruz Refuses To Endo...</td>\n",
       "      <td>Mike Pence's RNC Speech Gives Voters What They...</td>\n",
       "      <td>Donald Trump's Fundraising Cut Hillary Clinton...</td>\n",
       "      <td>For RNC Attendees, Putting Clinton In Prison P...</td>\n",
       "      <td>Ted Cruz Praises GOP Push For Civil Rights, Ig...</td>\n",
       "      <td>The GOP Convention Logo Looks A Lot Like The O...</td>\n",
       "      <td>Scott Walker Doesn't Repeat The 'Lock Her Up' ...</td>\n",
       "      <td>The ‘Pledge’ That Saddled Republicans With Trump</td>\n",
       "      <td>This Cannot Be The Convention That Donald Trum...</td>\n",
       "      <td>A Look Back At Mike Pence's Greatest Hits</td>\n",
       "      <td>HUFFPOLLSTER: Will Donald Trump Get A Conventi...</td>\n",
       "    </tr>\n",
       "    <tr>\n",
       "      <th>328</th>\n",
       "      <td>Dozens Of Endangered Seals Wash Up Dead, Starv...</td>\n",
       "      <td>Oversight Chairman Jason Chaffetz Planning Bid...</td>\n",
       "      <td>Sheriff In Charge Of Oregon Massacre Probe Pos...</td>\n",
       "      <td>The Most Dangerous Cities In America</td>\n",
       "      <td>Lawmakers Press John Boehner To Give Gun Safet...</td>\n",
       "      <td>Roseburg, Oregon, Community Seeks Answers In W...</td>\n",
       "      <td>Oregon Sheriff Handling Massacre Fought The Wh...</td>\n",
       "      <td>Job Growth Slows In Last Two Months, Unemploym...</td>\n",
       "      <td>Education Secretary Arne Duncan To Step Down I...</td>\n",
       "      <td>Oklahoma Court Halts 3 Pending Executions Afte...</td>\n",
       "      <td>Marco Rubio Criticizes His Party For Holding '...</td>\n",
       "      <td>Obama: Joe Biden's Got 'His Own Decisions To M...</td>\n",
       "      <td>Bernie Sanders Appoints Latino Outreach Director</td>\n",
       "      <td>Rand Paul Campaign Insists It's Just Getting S...</td>\n",
       "      <td>Senate Looks Poised To Pass Major Overhaul Of ...</td>\n",
       "      <td>Key Iowa Democrats Rooting For A Joe Biden Pre...</td>\n",
       "      <td>How To Help Heroic Army Veteran Wounded By Ore...</td>\n",
       "      <td>Nancy Pelosi Calls For A Select Committee On G...</td>\n",
       "      <td>Meet Two People Who Are Addressing The Cause O...</td>\n",
       "      <td>Kasich On Climate Change: 'I Just Don't Know E...</td>\n",
       "    </tr>\n",
       "  </tbody>\n",
       "</table>\n",
       "</div>"
      ],
      "text/plain": [
       "                                              News_no1  \\\n",
       "536  Donald Trump Thanks Paul Ryan For His Continue...   \n",
       "333     See If Your Next-Door Neighbor Is A Toxic Dump   \n",
       "887  Democrats Claim Victory After Yet Another Trum...   \n",
       "528  HUFFPOST HILL - Media To Cover Donald Trump Sp...   \n",
       "328  Dozens Of Endangered Seals Wash Up Dead, Starv...   \n",
       "\n",
       "                                              News_no2  \\\n",
       "536  HUFFPOST HILL - Turns Out Somebody Actually Do...   \n",
       "333         HuffPost Rise Morning Newsbrief, October 9   \n",
       "887  We Must Emphasize Reading For The Sake Of Our ...   \n",
       "528  Mike Pence Makes The Best Of A Pretty Awkward ...   \n",
       "328  Oversight Chairman Jason Chaffetz Planning Bid...   \n",
       "\n",
       "                                              News_no3  \\\n",
       "536  Delaware Supreme Court Declares State's Death ...   \n",
       "333  You Can Now Listen To Justice Scalia Call Obam...   \n",
       "887                What Trump Should Say About Mueller   \n",
       "528  Ted Cruz Said Alton Sterling's Name At The Rep...   \n",
       "328  Sheriff In Charge Of Oregon Massacre Probe Pos...   \n",
       "\n",
       "                                              News_no4  \\\n",
       "536  Tuesday's Morning Email: Trump Faces Growing F...   \n",
       "333  Wooing Chairman Ryan: Paul Ryan Remains On Sid...   \n",
       "887  Senate Paid Out $1.45 Million In Discriminatio...   \n",
       "528  This Year's Primary Left Most Voters With A Lo...   \n",
       "328               The Most Dangerous Cities In America   \n",
       "\n",
       "                                              News_no5  \\\n",
       "536  Hillary Clinton Got A Big Fundraising Boost Fr...   \n",
       "333  Arkansas Judge Halts Executions As Inmates Cha...   \n",
       "887                         Social Commerce Takes Hold   \n",
       "528  Republicans Flip Out After Cruz Refuses To End...   \n",
       "328  Lawmakers Press John Boehner To Give Gun Safet...   \n",
       "\n",
       "                                              News_no6  \\\n",
       "536         Never, Ever Report A Poll You Haven’t Seen   \n",
       "333   HUFFPOLLSTER: Gallup Bows Out Of Primary Polling   \n",
       "887  State Department Told Some Refugee Offices The...   \n",
       "528  Trump Adviser Hints Trump May Back Primary Cha...   \n",
       "328  Roseburg, Oregon, Community Seeks Answers In W...   \n",
       "\n",
       "                                              News_no7  \\\n",
       "536     Federal Judge Blocks North Dakota Voter ID Law   \n",
       "333  Obama Administration Disowns Pentagon’s $500 M...   \n",
       "887  A Tale Of Two Americas: GOP Gushes While A Gro...   \n",
       "528  Chris Christie Slams Ted Cruz's Speech As 'Sel...   \n",
       "328  Oregon Sheriff Handling Massacre Fought The Wh...   \n",
       "\n",
       "                                              News_no8  \\\n",
       "536   HuffPost Rise: What You Need To Know On August 2   \n",
       "333  Chris Christie Doesn't Care About All This Hou...   \n",
       "887  Texas Attorney General Says It's Fine To Carry...   \n",
       "528  Corporations Less Prominent At Donald Trump's ...   \n",
       "328  Job Growth Slows In Last Two Months, Unemploym...   \n",
       "\n",
       "                                              News_no9  \\\n",
       "536  Public Defender Who Was Handcuffed In Court Ha...   \n",
       "333  Why The House Speaker Scramble May Imperil Rep...   \n",
       "887  Tweeters Refuse To Let Donald Trump Take Credi...   \n",
       "528    HuffPost Rise: What You Need To Know On July 21   \n",
       "328  Education Secretary Arne Duncan To Step Down I...   \n",
       "\n",
       "                                             News_no10  \\\n",
       "536        Bill Bratton Resigning As NYPD Commissioner   \n",
       "333   Obama Visits Oregon One Week After Mass Shooting   \n",
       "887  Ivanka Trump Goofs Up On Tax Law In Her Televi...   \n",
       "528  Thursday's Morning Email: Cruz Refuses To Endo...   \n",
       "328  Oklahoma Court Halts 3 Pending Executions Afte...   \n",
       "\n",
       "                                             News_no11  \\\n",
       "536  Trump University Lawsuit Advances As Judge Cur...   \n",
       "333      Desperate GOP Begs Paul Ryan To Save Them All   \n",
       "887  U.S. Ambassador Denies Anti-Muslim Comments, T...   \n",
       "528  Mike Pence's RNC Speech Gives Voters What They...   \n",
       "328  Marco Rubio Criticizes His Party For Holding '...   \n",
       "\n",
       "                                             News_no12  \\\n",
       "536  Why This Father Feeds His Son Freakish Fruit A...   \n",
       "333     Climate Change Haunts This Year's Pumpkin Crop   \n",
       "887  Former U.S. Attorneys Warn Trump About 'Severe...   \n",
       "528  Donald Trump's Fundraising Cut Hillary Clinton...   \n",
       "328  Obama: Joe Biden's Got 'His Own Decisions To M...   \n",
       "\n",
       "                                             News_no13  \\\n",
       "536  No, Voters Aren't Secretly Pining For Donald T...   \n",
       "333  Regulators Open Second Investigation Into VW E...   \n",
       "887  Second Federal Judge Blocks Trump's Rollback O...   \n",
       "528  For RNC Attendees, Putting Clinton In Prison P...   \n",
       "328   Bernie Sanders Appoints Latino Outreach Director   \n",
       "\n",
       "                                             News_no14  \\\n",
       "536  How The Khans Became A Weeklong Story: An Expl...   \n",
       "333                  A New Clue Suggests Biden May Run   \n",
       "887  Needed: A Meter For Trump’s Lies-Per-Minute (LPM)   \n",
       "528  Ted Cruz Praises GOP Push For Civil Rights, Ig...   \n",
       "328  Rand Paul Campaign Insists It's Just Getting S...   \n",
       "\n",
       "                                             News_no15  \\\n",
       "536  Donald Trump Doesn't Seem To Know The Meaning ...   \n",
       "333  Key Progressive Group To Be Absorbed By Wellst...   \n",
       "887                     Republicans Win, America Loses   \n",
       "528  The GOP Convention Logo Looks A Lot Like The O...   \n",
       "328  Senate Looks Poised To Pass Major Overhaul Of ...   \n",
       "\n",
       "                                             News_no16  \\\n",
       "536  Ex-Trump Staffer Accused Of Assaulting Reporte...   \n",
       "333   Court Places Hold On Clean Water Rule Nationwide   \n",
       "887                        I Am Tired Of The Hypocrisy   \n",
       "528  Scott Walker Doesn't Repeat The 'Lock Her Up' ...   \n",
       "328  Key Iowa Democrats Rooting For A Joe Biden Pre...   \n",
       "\n",
       "                                             News_no17  \\\n",
       "536  HUFFPOLLSTER: Polls Continue To Show Good News...   \n",
       "333  One Reason Paul Ryan Is Reluctant To Run For H...   \n",
       "887  Newly Reelected New York City Mayor Decides Hi...   \n",
       "528   The ‘Pledge’ That Saddled Republicans With Trump   \n",
       "328  How To Help Heroic Army Veteran Wounded By Ore...   \n",
       "\n",
       "                                             News_no18  \\\n",
       "536  How Third Party Voters And Non-Voters Could Sh...   \n",
       "333  Obama: Backing Away From Immigration Reform Is...   \n",
       "887  Assessing The Real Impact Of Doug Jones’ Elect...   \n",
       "528  This Cannot Be The Convention That Donald Trum...   \n",
       "328  Nancy Pelosi Calls For A Select Committee On G...   \n",
       "\n",
       "                                             News_no19  \\\n",
       "536  Why Is Hillary Clinton Letting Donald Trump Ba...   \n",
       "333  The Small Brooklyn Publisher That Brought The ...   \n",
       "887  Franken, Unchained: Post-Resignation, He Is Tr...   \n",
       "528          A Look Back At Mike Pence's Greatest Hits   \n",
       "328  Meet Two People Who Are Addressing The Cause O...   \n",
       "\n",
       "                                             News_no20  \n",
       "536  Donald Trump Says He Loves Babies Moments Befo...  \n",
       "333  Bernie Sanders' New Digital Whiz Comes From A ...  \n",
       "887  Trump Throws Support Behind Ron DeSantis For F...  \n",
       "528  HUFFPOLLSTER: Will Donald Trump Get A Conventi...  \n",
       "328  Kasich On Climate Change: 'I Just Don't Know E...  "
      ]
     },
     "execution_count": 82,
     "metadata": {},
     "output_type": "execute_result"
    }
   ],
   "source": [
    "X_train.head()"
   ]
  },
  {
   "cell_type": "markdown",
   "id": "7466f441",
   "metadata": {},
   "source": [
    "# Przetwarzanie newsów (Count Vectorizer)"
   ]
  },
  {
   "cell_type": "code",
   "execution_count": 83,
   "id": "ec1938a5",
   "metadata": {},
   "outputs": [],
   "source": [
    "trainheadlines = []\n",
    "for row in range(0,len(X_train.index)):\n",
    "    trainheadlines.append(' '.join(str(x) for x in X_train.iloc[row]))"
   ]
  },
  {
   "cell_type": "code",
   "execution_count": 84,
   "id": "ce4aa4e0",
   "metadata": {},
   "outputs": [
    {
     "data": {
      "text/plain": [
       "\"Donald Trump Thanks Paul Ryan For His Continued Support By Tweeting About His Primary Challenger HUFFPOST HILL - Turns Out Somebody Actually Does Put Baby In A Corner Delaware Supreme Court Declares State's Death Penalty Scheme Unconstitutional Tuesday's Morning Email: Trump Faces Growing Firestorm Over Fight With Fallen Soldier's Family Hillary Clinton Got A Big Fundraising Boost From The Democratic Convention Never, Ever Report A Poll You Haven’t Seen Federal Judge Blocks North Dakota Voter ID Law HuffPost Rise: What You Need To Know On August 2 Public Defender Who Was Handcuffed In Court Has Contempt Order Overturned Bill Bratton Resigning As NYPD Commissioner Trump University Lawsuit Advances As Judge Curiel Deals Blow To Donald Why This Father Feeds His Son Freakish Fruit And Vegetables No, Voters Aren't Secretly Pining For Donald Trump How The Khans Became A Weeklong Story: An Explainer For Howard Kurtz Donald Trump Doesn't Seem To Know The Meaning Of Sacrifice Ex-Trump Staffer Accused Of Assaulting Reporter Values His Own Personal Space HUFFPOLLSTER: Polls Continue To Show Good News For Hillary Clinton How Third Party Voters And Non-Voters Could Shape The Election Why Is Hillary Clinton Letting Donald Trump Back Her Into A Corner On The Economy? Donald Trump Says He Loves Babies Moments Before Booting One From Rally\""
      ]
     },
     "execution_count": 84,
     "metadata": {},
     "output_type": "execute_result"
    }
   ],
   "source": [
    "trainheadlines[0]"
   ]
  },
  {
   "cell_type": "markdown",
   "id": "d9dbebdd",
   "metadata": {},
   "source": [
    "Usuwamy słowa najczęściej występujące a nic nieznaczące"
   ]
  },
  {
   "cell_type": "markdown",
   "id": "7a396826",
   "metadata": {},
   "source": [
    "Tura pierwsza (słowa często występujące lecz nie mające żandego realnego znaczenia)"
   ]
  },
  {
   "cell_type": "code",
   "execution_count": 85,
   "id": "a076cfc8",
   "metadata": {},
   "outputs": [],
   "source": [
    "useless_words = [\n",
    "    ' to ', \n",
    "    ' you ', \n",
    "    ' the ', \n",
    "    ' and ', \n",
    "    ' are ', \n",
    "    ' is ', \n",
    "    ' what ', \n",
    "    ' we ', \n",
    "    ' where ', \n",
    "    ' when ', \n",
    "    ' from ', \n",
    "    ' at ', \n",
    "    ' a ', \n",
    "    ' or ', \n",
    "    ' for ',\n",
    "    ' i ',\n",
    "    ' an '\n",
    "    # possibly important\n",
    "#     ' in ',\n",
    "#     ' of ',\n",
    "#     ' on ',\n",
    "#     ' with ',\n",
    "#     ' his ',\n",
    "#     ' it '\n",
    "]"
   ]
  },
  {
   "cell_type": "markdown",
   "id": "c503a59f",
   "metadata": {},
   "source": [
    "Druga tura oczyszczania nieznaczących słów (apostrofy)"
   ]
  },
  {
   "cell_type": "code",
   "execution_count": 86,
   "id": "7568ab8e",
   "metadata": {},
   "outputs": [],
   "source": [
    "useless_words_p2 = [\n",
    "    \"'s \",\n",
    "    \"'t \",\n",
    "    \"'re \"\n",
    "]"
   ]
  },
  {
   "cell_type": "markdown",
   "id": "e7af0299",
   "metadata": {},
   "source": [
    "Trzecia tura oczyszczania nieznaczących słów (znaki specjalne)"
   ]
  },
  {
   "cell_type": "code",
   "execution_count": 87,
   "id": "bc34caa5",
   "metadata": {},
   "outputs": [],
   "source": [
    "useless_words_p3 = [\n",
    "    ':',\n",
    "    \"'\",\n",
    "    ',',\n",
    "    \"(\",\n",
    "    \")\",\n",
    "    '!',\n",
    "    '?',\n",
    "    '.',\n",
    "    '`',\n",
    "    '‘',\n",
    "    '’'\n",
    "]"
   ]
  },
  {
   "cell_type": "markdown",
   "id": "f8dc8357",
   "metadata": {},
   "source": [
    "Czwarta tura oczyszczania nieznaczących słów (cyfry)"
   ]
  },
  {
   "cell_type": "code",
   "execution_count": 88,
   "id": "5c398e4d",
   "metadata": {},
   "outputs": [],
   "source": [
    "useless_words_p4 = [\n",
    "    '1',\n",
    "    '2',\n",
    "    '3',\n",
    "    '4',\n",
    "    '5',\n",
    "    '6',\n",
    "    '7',\n",
    "    '8',\n",
    "    '9',\n",
    "    '0'\n",
    "]"
   ]
  },
  {
   "cell_type": "markdown",
   "id": "71b42a42",
   "metadata": {},
   "source": [
    "Piąta tura (dni tygodnia)?"
   ]
  },
  {
   "cell_type": "code",
   "execution_count": 89,
   "id": "daf75313",
   "metadata": {},
   "outputs": [],
   "source": [
    "useless_words_p5 = [\n",
    "    ' monday ',\n",
    "    ' tuesday ',\n",
    "    ' wednesday ',\n",
    "    ' thursday ',\n",
    "    ' friday ',\n",
    "    ' saturday ',\n",
    "    ' sunday '\n",
    "]"
   ]
  },
  {
   "cell_type": "markdown",
   "id": "cd92ac4f",
   "metadata": {},
   "source": [
    "Szósta tura (nazwy miesięcy)"
   ]
  },
  {
   "cell_type": "code",
   "execution_count": 90,
   "id": "eb1ee871",
   "metadata": {},
   "outputs": [],
   "source": [
    "useless_words_p6 = [\n",
    "    ' january ',\n",
    "    ' february ',\n",
    "    ' march ',\n",
    "    ' april ',\n",
    "    ' may ',\n",
    "    ' june ',\n",
    "    ' july ',\n",
    "    ' august ',\n",
    "    ' september ',\n",
    "    ' october ',\n",
    "    ' november ', \n",
    "    ' december '\n",
    "]"
   ]
  },
  {
   "cell_type": "markdown",
   "id": "4ffe65fe",
   "metadata": {},
   "source": [
    "Najpierw jednak znormalizujmy tekst do malych liter"
   ]
  },
  {
   "cell_type": "code",
   "execution_count": 91,
   "id": "f2254544",
   "metadata": {},
   "outputs": [],
   "source": [
    "trainheadlines = [hdline.lower() for hdline in trainheadlines]"
   ]
  },
  {
   "cell_type": "code",
   "execution_count": 92,
   "id": "d84069a9",
   "metadata": {},
   "outputs": [
    {
     "data": {
      "text/plain": [
       "\"huffpost hill - media to cover donald trump speech mike pence makes the best of a pretty awkward situation at the gop convention ted cruz said alton sterling's name at the republican national convention this year's primary left most voters with a lower opinion of the gop republicans flip out after cruz refuses to endorse trump trump adviser hints trump may back primary challenger to cruz in '18 chris christie slams ted cruz's speech as 'selfish' corporations less prominent at donald trump's republican national convention huffpost rise: what you need to know on july 21 thursday's morning email: cruz refuses to endorse trump at rnc mike pence's rnc speech gives voters what they want to hear donald trump's fundraising cut hillary clinton's money advantage in half in june for rnc attendees, putting clinton in prison proves easier said than done ted cruz praises gop push for civil rights, ignoring how his party has trampled them the gop convention logo looks a lot like the one from woodstock scott walker doesn't repeat the 'lock her up' taunt, but he comes close the ‘pledge’ that saddled republicans with trump this cannot be the convention that donald trump wanted a look back at mike pence's greatest hits huffpollster: will donald trump get a convention bounce?\""
      ]
     },
     "execution_count": 92,
     "metadata": {},
     "output_type": "execute_result"
    }
   ],
   "source": [
    "trainheadlines[3]"
   ]
  },
  {
   "cell_type": "markdown",
   "id": "ca379ffb",
   "metadata": {},
   "source": [
    "Teraz usunmy slowa"
   ]
  },
  {
   "cell_type": "markdown",
   "id": "dd4af180",
   "metadata": {},
   "source": [
    "**TURA 1**"
   ]
  },
  {
   "cell_type": "code",
   "execution_count": 93,
   "id": "25d530d5",
   "metadata": {},
   "outputs": [],
   "source": [
    "for to_remove in useless_words:\n",
    "    trainheadlines = [hdline.replace(to_remove, ' ') for hdline in trainheadlines]"
   ]
  },
  {
   "cell_type": "code",
   "execution_count": 94,
   "id": "f235f9e6",
   "metadata": {},
   "outputs": [
    {
     "data": {
      "text/plain": [
       "\"huffpost hill - media cover donald trump speech mike pence makes best of pretty awkward situation gop convention ted cruz said alton sterling's name republican national convention this year's primary left most voters with lower opinion of gop republicans flip out after cruz refuses endorse trump trump adviser hints trump may back primary challenger cruz in '18 chris christie slams ted cruz's speech as 'selfish' corporations less prominent donald trump's republican national convention huffpost rise: need know on july 21 thursday's morning email: cruz refuses endorse trump rnc mike pence's rnc speech gives voters they want hear donald trump's fundraising cut hillary clinton's money advantage in half in june rnc attendees, putting clinton in prison proves easier said than done ted cruz praises gop push civil rights, ignoring how his party has trampled them gop convention logo looks lot like one woodstock scott walker doesn't repeat 'lock her up' taunt, but he comes close ‘pledge’ that saddled republicans with trump this cannot be convention that donald trump wanted look back mike pence's greatest hits huffpollster: will donald trump get convention bounce?\""
      ]
     },
     "execution_count": 94,
     "metadata": {},
     "output_type": "execute_result"
    }
   ],
   "source": [
    "trainheadlines[3]"
   ]
  },
  {
   "cell_type": "markdown",
   "id": "ff9d095f",
   "metadata": {},
   "source": [
    "**TURA 2**"
   ]
  },
  {
   "cell_type": "code",
   "execution_count": 95,
   "id": "b300e337",
   "metadata": {},
   "outputs": [],
   "source": [
    "for to_remove in useless_words_p2:\n",
    "    trainheadlines = [hdline.replace(to_remove, ' ') for hdline in trainheadlines]"
   ]
  },
  {
   "cell_type": "code",
   "execution_count": 96,
   "id": "fdd21b49",
   "metadata": {},
   "outputs": [
    {
     "data": {
      "text/plain": [
       "\"huffpost hill - media cover donald trump speech mike pence makes best of pretty awkward situation gop convention ted cruz said alton sterling name republican national convention this year primary left most voters with lower opinion of gop republicans flip out after cruz refuses endorse trump trump adviser hints trump may back primary challenger cruz in '18 chris christie slams ted cruz speech as 'selfish' corporations less prominent donald trump republican national convention huffpost rise: need know on july 21 thursday morning email: cruz refuses endorse trump rnc mike pence rnc speech gives voters they want hear donald trump fundraising cut hillary clinton money advantage in half in june rnc attendees, putting clinton in prison proves easier said than done ted cruz praises gop push civil rights, ignoring how his party has trampled them gop convention logo looks lot like one woodstock scott walker doesn repeat 'lock her up' taunt, but he comes close ‘pledge’ that saddled republicans with trump this cannot be convention that donald trump wanted look back mike pence greatest hits huffpollster: will donald trump get convention bounce?\""
      ]
     },
     "execution_count": 96,
     "metadata": {},
     "output_type": "execute_result"
    }
   ],
   "source": [
    "trainheadlines[3]"
   ]
  },
  {
   "cell_type": "markdown",
   "id": "42911f71",
   "metadata": {},
   "source": [
    "**TURA 3**"
   ]
  },
  {
   "cell_type": "code",
   "execution_count": 97,
   "id": "3adcb4c5",
   "metadata": {},
   "outputs": [],
   "source": [
    "for to_remove in useless_words_p3:\n",
    "    trainheadlines = [hdline.replace(to_remove, '') for hdline in trainheadlines]"
   ]
  },
  {
   "cell_type": "code",
   "execution_count": 98,
   "id": "8619e5fa",
   "metadata": {},
   "outputs": [
    {
     "data": {
      "text/plain": [
       "'huffpost hill - media cover donald trump speech mike pence makes best of pretty awkward situation gop convention ted cruz said alton sterling name republican national convention this year primary left most voters with lower opinion of gop republicans flip out after cruz refuses endorse trump trump adviser hints trump may back primary challenger cruz in 18 chris christie slams ted cruz speech as selfish corporations less prominent donald trump republican national convention huffpost rise need know on july 21 thursday morning email cruz refuses endorse trump rnc mike pence rnc speech gives voters they want hear donald trump fundraising cut hillary clinton money advantage in half in june rnc attendees putting clinton in prison proves easier said than done ted cruz praises gop push civil rights ignoring how his party has trampled them gop convention logo looks lot like one woodstock scott walker doesn repeat lock her up taunt but he comes close pledge that saddled republicans with trump this cannot be convention that donald trump wanted look back mike pence greatest hits huffpollster will donald trump get convention bounce'"
      ]
     },
     "execution_count": 98,
     "metadata": {},
     "output_type": "execute_result"
    }
   ],
   "source": [
    "trainheadlines[3]"
   ]
  },
  {
   "cell_type": "markdown",
   "id": "de7bcaae",
   "metadata": {},
   "source": [
    "**TURA 4**"
   ]
  },
  {
   "cell_type": "code",
   "execution_count": 99,
   "id": "033e84f2",
   "metadata": {},
   "outputs": [],
   "source": [
    "for to_remove in useless_words_p4:\n",
    "    trainheadlines = [hdline.replace(to_remove, '') for hdline in trainheadlines]"
   ]
  },
  {
   "cell_type": "code",
   "execution_count": 100,
   "id": "7ececebb",
   "metadata": {},
   "outputs": [
    {
     "data": {
      "text/plain": [
       "'huffpost hill - media cover donald trump speech mike pence makes best of pretty awkward situation gop convention ted cruz said alton sterling name republican national convention this year primary left most voters with lower opinion of gop republicans flip out after cruz refuses endorse trump trump adviser hints trump may back primary challenger cruz in  chris christie slams ted cruz speech as selfish corporations less prominent donald trump republican national convention huffpost rise need know on july  thursday morning email cruz refuses endorse trump rnc mike pence rnc speech gives voters they want hear donald trump fundraising cut hillary clinton money advantage in half in june rnc attendees putting clinton in prison proves easier said than done ted cruz praises gop push civil rights ignoring how his party has trampled them gop convention logo looks lot like one woodstock scott walker doesn repeat lock her up taunt but he comes close pledge that saddled republicans with trump this cannot be convention that donald trump wanted look back mike pence greatest hits huffpollster will donald trump get convention bounce'"
      ]
     },
     "execution_count": 100,
     "metadata": {},
     "output_type": "execute_result"
    }
   ],
   "source": [
    "trainheadlines[3]"
   ]
  },
  {
   "cell_type": "markdown",
   "id": "7385f090",
   "metadata": {},
   "source": [
    "**TURA 5**"
   ]
  },
  {
   "cell_type": "code",
   "execution_count": 101,
   "id": "8f373907",
   "metadata": {},
   "outputs": [],
   "source": [
    "for to_remove in useless_words_p5:\n",
    "    trainheadlines = [hdline.replace(to_remove, '') for hdline in trainheadlines]"
   ]
  },
  {
   "cell_type": "code",
   "execution_count": 102,
   "id": "b7ddf1bf",
   "metadata": {},
   "outputs": [
    {
     "data": {
      "text/plain": [
       "'huffpost hill - media cover donald trump speech mike pence makes best of pretty awkward situation gop convention ted cruz said alton sterling name republican national convention this year primary left most voters with lower opinion of gop republicans flip out after cruz refuses endorse trump trump adviser hints trump may back primary challenger cruz in  chris christie slams ted cruz speech as selfish corporations less prominent donald trump republican national convention huffpost rise need know on july morning email cruz refuses endorse trump rnc mike pence rnc speech gives voters they want hear donald trump fundraising cut hillary clinton money advantage in half in june rnc attendees putting clinton in prison proves easier said than done ted cruz praises gop push civil rights ignoring how his party has trampled them gop convention logo looks lot like one woodstock scott walker doesn repeat lock her up taunt but he comes close pledge that saddled republicans with trump this cannot be convention that donald trump wanted look back mike pence greatest hits huffpollster will donald trump get convention bounce'"
      ]
     },
     "execution_count": 102,
     "metadata": {},
     "output_type": "execute_result"
    }
   ],
   "source": [
    "trainheadlines[3]"
   ]
  },
  {
   "cell_type": "markdown",
   "id": "367133a3",
   "metadata": {},
   "source": [
    "**TURA 6**"
   ]
  },
  {
   "cell_type": "code",
   "execution_count": 103,
   "id": "e834871c",
   "metadata": {},
   "outputs": [],
   "source": [
    "for to_remove in useless_words_p6:\n",
    "    trainheadlines = [hdline.replace(to_remove, '') for hdline in trainheadlines]"
   ]
  },
  {
   "cell_type": "markdown",
   "id": "0ad3fbaf",
   "metadata": {},
   "source": [
    "**Przykładowe newsy po oczyszczeniu z nieznaczących znaków i wyrazów**"
   ]
  },
  {
   "cell_type": "code",
   "execution_count": 104,
   "id": "6230726b",
   "metadata": {},
   "outputs": [
    {
     "data": {
      "text/plain": [
       "'huffpost hill - media cover donald trump speech mike pence makes best of pretty awkward situation gop convention ted cruz said alton sterling name republican national convention this year primary left most voters with lower opinion of gop republicans flip out after cruz refuses endorse trump trump adviser hints trumpback primary challenger cruz in  chris christie slams ted cruz speech as selfish corporations less prominent donald trump republican national convention huffpost rise need know onmorning email cruz refuses endorse trump rnc mike pence rnc speech gives voters they want hear donald trump fundraising cut hillary clinton money advantage in half inrnc attendees putting clinton in prison proves easier said than done ted cruz praises gop push civil rights ignoring how his party has trampled them gop convention logo looks lot like one woodstock scott walker doesn repeat lock her up taunt but he comes close pledge that saddled republicans with trump this cannot be convention that donald trump wanted look back mike pence greatest hits huffpollster will donald trump get convention bounce'"
      ]
     },
     "execution_count": 104,
     "metadata": {},
     "output_type": "execute_result"
    }
   ],
   "source": [
    "trainheadlines[3]"
   ]
  },
  {
   "cell_type": "markdown",
   "id": "4ca2faea",
   "metadata": {},
   "source": [
    "# Dzielenie fraz"
   ]
  },
  {
   "cell_type": "code",
   "execution_count": 105,
   "id": "919e8df9",
   "metadata": {},
   "outputs": [],
   "source": [
    "from sklearn.feature_extraction.text import CountVectorizer"
   ]
  },
  {
   "cell_type": "code",
   "execution_count": 106,
   "id": "affd59a7",
   "metadata": {},
   "outputs": [
    {
     "name": "stdout",
     "output_type": "stream",
     "text": [
      "(785, 98448)\n"
     ]
    }
   ],
   "source": [
    "countvectorizer = CountVectorizer(ngram_range=(2,2))\n",
    "train_words = countvectorizer.fit_transform(trainheadlines)\n",
    "print(train_words.shape)"
   ]
  },
  {
   "cell_type": "code",
   "execution_count": 107,
   "id": "a2545eaf",
   "metadata": {},
   "outputs": [
    {
     "data": {
      "text/plain": [
       "(785, 20)"
      ]
     },
     "execution_count": 107,
     "metadata": {},
     "output_type": "execute_result"
    }
   ],
   "source": [
    "X_train.shape"
   ]
  },
  {
   "cell_type": "markdown",
   "id": "9051835e",
   "metadata": {},
   "source": [
    "# Analiza wyrazów"
   ]
  },
  {
   "cell_type": "code",
   "execution_count": 108,
   "id": "504b0b99",
   "metadata": {},
   "outputs": [],
   "source": [
    "X_train_count = train_words.toarray()"
   ]
  },
  {
   "cell_type": "code",
   "execution_count": 109,
   "id": "2bce4a57",
   "metadata": {},
   "outputs": [],
   "source": [
    "X_train_count = pd.DataFrame(data=X_train_count,columns = countvectorizer.get_feature_names())"
   ]
  },
  {
   "cell_type": "code",
   "execution_count": 110,
   "id": "f8281cdc",
   "metadata": {},
   "outputs": [
    {
     "data": {
      "text/html": [
       "<div>\n",
       "<style scoped>\n",
       "    .dataframe tbody tr th:only-of-type {\n",
       "        vertical-align: middle;\n",
       "    }\n",
       "\n",
       "    .dataframe tbody tr th {\n",
       "        vertical-align: top;\n",
       "    }\n",
       "\n",
       "    .dataframe thead th {\n",
       "        text-align: right;\n",
       "    }\n",
       "</style>\n",
       "<table border=\"1\" class=\"dataframe\">\n",
       "  <thead>\n",
       "    <tr style=\"text-align: right;\">\n",
       "      <th></th>\n",
       "      <th>_ツ_ new</th>\n",
       "      <th>_ツ_ republican</th>\n",
       "      <th>aapi communities</th>\n",
       "      <th>aaron persky</th>\n",
       "      <th>aaron schock</th>\n",
       "      <th>aarp health</th>\n",
       "      <th>aarp withdraw</th>\n",
       "      <th>aasia bibi</th>\n",
       "      <th>ab inbev</th>\n",
       "      <th>abandon everest</th>\n",
       "      <th>...</th>\n",
       "      <th>zuckerberg testimony</th>\n",
       "      <th>zuckerberg tried</th>\n",
       "      <th>zuckerberg trump</th>\n",
       "      <th>zuckerberg venture</th>\n",
       "      <th>zuckerberg watch</th>\n",
       "      <th>zuckerberg your</th>\n",
       "      <th>zuniga should</th>\n",
       "      <th>zyberk ceo</th>\n",
       "      <th>étienne extreme</th>\n",
       "      <th>ᵒᴥᵒᶅ lights</th>\n",
       "    </tr>\n",
       "  </thead>\n",
       "  <tbody>\n",
       "    <tr>\n",
       "      <th>0</th>\n",
       "      <td>0</td>\n",
       "      <td>0</td>\n",
       "      <td>0</td>\n",
       "      <td>0</td>\n",
       "      <td>0</td>\n",
       "      <td>0</td>\n",
       "      <td>0</td>\n",
       "      <td>0</td>\n",
       "      <td>0</td>\n",
       "      <td>0</td>\n",
       "      <td>...</td>\n",
       "      <td>0</td>\n",
       "      <td>0</td>\n",
       "      <td>0</td>\n",
       "      <td>0</td>\n",
       "      <td>0</td>\n",
       "      <td>0</td>\n",
       "      <td>0</td>\n",
       "      <td>0</td>\n",
       "      <td>0</td>\n",
       "      <td>0</td>\n",
       "    </tr>\n",
       "    <tr>\n",
       "      <th>1</th>\n",
       "      <td>0</td>\n",
       "      <td>0</td>\n",
       "      <td>0</td>\n",
       "      <td>0</td>\n",
       "      <td>0</td>\n",
       "      <td>0</td>\n",
       "      <td>0</td>\n",
       "      <td>0</td>\n",
       "      <td>0</td>\n",
       "      <td>0</td>\n",
       "      <td>...</td>\n",
       "      <td>0</td>\n",
       "      <td>0</td>\n",
       "      <td>0</td>\n",
       "      <td>0</td>\n",
       "      <td>0</td>\n",
       "      <td>0</td>\n",
       "      <td>0</td>\n",
       "      <td>0</td>\n",
       "      <td>0</td>\n",
       "      <td>0</td>\n",
       "    </tr>\n",
       "    <tr>\n",
       "      <th>2</th>\n",
       "      <td>0</td>\n",
       "      <td>0</td>\n",
       "      <td>0</td>\n",
       "      <td>0</td>\n",
       "      <td>0</td>\n",
       "      <td>0</td>\n",
       "      <td>0</td>\n",
       "      <td>0</td>\n",
       "      <td>0</td>\n",
       "      <td>0</td>\n",
       "      <td>...</td>\n",
       "      <td>0</td>\n",
       "      <td>0</td>\n",
       "      <td>0</td>\n",
       "      <td>0</td>\n",
       "      <td>0</td>\n",
       "      <td>0</td>\n",
       "      <td>0</td>\n",
       "      <td>0</td>\n",
       "      <td>0</td>\n",
       "      <td>0</td>\n",
       "    </tr>\n",
       "    <tr>\n",
       "      <th>3</th>\n",
       "      <td>0</td>\n",
       "      <td>0</td>\n",
       "      <td>0</td>\n",
       "      <td>0</td>\n",
       "      <td>0</td>\n",
       "      <td>0</td>\n",
       "      <td>0</td>\n",
       "      <td>0</td>\n",
       "      <td>0</td>\n",
       "      <td>0</td>\n",
       "      <td>...</td>\n",
       "      <td>0</td>\n",
       "      <td>0</td>\n",
       "      <td>0</td>\n",
       "      <td>0</td>\n",
       "      <td>0</td>\n",
       "      <td>0</td>\n",
       "      <td>0</td>\n",
       "      <td>0</td>\n",
       "      <td>0</td>\n",
       "      <td>0</td>\n",
       "    </tr>\n",
       "    <tr>\n",
       "      <th>4</th>\n",
       "      <td>0</td>\n",
       "      <td>0</td>\n",
       "      <td>0</td>\n",
       "      <td>0</td>\n",
       "      <td>0</td>\n",
       "      <td>0</td>\n",
       "      <td>0</td>\n",
       "      <td>0</td>\n",
       "      <td>0</td>\n",
       "      <td>0</td>\n",
       "      <td>...</td>\n",
       "      <td>0</td>\n",
       "      <td>0</td>\n",
       "      <td>0</td>\n",
       "      <td>0</td>\n",
       "      <td>0</td>\n",
       "      <td>0</td>\n",
       "      <td>0</td>\n",
       "      <td>0</td>\n",
       "      <td>0</td>\n",
       "      <td>0</td>\n",
       "    </tr>\n",
       "  </tbody>\n",
       "</table>\n",
       "<p>5 rows × 98448 columns</p>\n",
       "</div>"
      ],
      "text/plain": [
       "   _ツ_ new  _ツ_ republican  aapi communities  aaron persky  aaron schock  \\\n",
       "0        0               0                 0             0             0   \n",
       "1        0               0                 0             0             0   \n",
       "2        0               0                 0             0             0   \n",
       "3        0               0                 0             0             0   \n",
       "4        0               0                 0             0             0   \n",
       "\n",
       "   aarp health  aarp withdraw  aasia bibi  ab inbev  abandon everest  ...  \\\n",
       "0            0              0           0         0                0  ...   \n",
       "1            0              0           0         0                0  ...   \n",
       "2            0              0           0         0                0  ...   \n",
       "3            0              0           0         0                0  ...   \n",
       "4            0              0           0         0                0  ...   \n",
       "\n",
       "   zuckerberg testimony  zuckerberg tried  zuckerberg trump  \\\n",
       "0                     0                 0                 0   \n",
       "1                     0                 0                 0   \n",
       "2                     0                 0                 0   \n",
       "3                     0                 0                 0   \n",
       "4                     0                 0                 0   \n",
       "\n",
       "   zuckerberg venture  zuckerberg watch  zuckerberg your  zuniga should  \\\n",
       "0                   0                 0                0              0   \n",
       "1                   0                 0                0              0   \n",
       "2                   0                 0                0              0   \n",
       "3                   0                 0                0              0   \n",
       "4                   0                 0                0              0   \n",
       "\n",
       "   zyberk ceo  étienne extreme  ᵒᴥᵒᶅ lights  \n",
       "0           0                0            0  \n",
       "1           0                0            0  \n",
       "2           0                0            0  \n",
       "3           0                0            0  \n",
       "4           0                0            0  \n",
       "\n",
       "[5 rows x 98448 columns]"
      ]
     },
     "execution_count": 110,
     "metadata": {},
     "output_type": "execute_result"
    }
   ],
   "source": [
    "X_train_count.head()"
   ]
  },
  {
   "cell_type": "code",
   "execution_count": 111,
   "id": "5b41e265",
   "metadata": {},
   "outputs": [
    {
     "data": {
      "text/plain": [
       "_ツ_ new             1\n",
       "_ツ_ republican      1\n",
       "aapi communities    1\n",
       "aaron persky        2\n",
       "aaron schock        1\n",
       "                   ..\n",
       "zuckerberg your     1\n",
       "zuniga should       1\n",
       "zyberk ceo          1\n",
       "étienne extreme     1\n",
       "ᵒᴥᵒᶅ lights         1\n",
       "Length: 98448, dtype: int64"
      ]
     },
     "execution_count": 111,
     "metadata": {},
     "output_type": "execute_result"
    }
   ],
   "source": [
    "X_train_count.sum(axis=0)"
   ]
  },
  {
   "cell_type": "code",
   "execution_count": 112,
   "id": "5f8e1af3",
   "metadata": {},
   "outputs": [],
   "source": [
    "words_appearence = pd.DataFrame(X_train_count.sum(axis=0))"
   ]
  },
  {
   "cell_type": "code",
   "execution_count": 113,
   "id": "9719e340",
   "metadata": {},
   "outputs": [
    {
     "data": {
      "text/html": [
       "<div>\n",
       "<style scoped>\n",
       "    .dataframe tbody tr th:only-of-type {\n",
       "        vertical-align: middle;\n",
       "    }\n",
       "\n",
       "    .dataframe tbody tr th {\n",
       "        vertical-align: top;\n",
       "    }\n",
       "\n",
       "    .dataframe thead th {\n",
       "        text-align: right;\n",
       "    }\n",
       "</style>\n",
       "<table border=\"1\" class=\"dataframe\">\n",
       "  <thead>\n",
       "    <tr style=\"text-align: right;\">\n",
       "      <th></th>\n",
       "      <th>0</th>\n",
       "    </tr>\n",
       "  </thead>\n",
       "  <tbody>\n",
       "    <tr>\n",
       "      <th>_ツ_ new</th>\n",
       "      <td>1</td>\n",
       "    </tr>\n",
       "    <tr>\n",
       "      <th>_ツ_ republican</th>\n",
       "      <td>1</td>\n",
       "    </tr>\n",
       "    <tr>\n",
       "      <th>aapi communities</th>\n",
       "      <td>1</td>\n",
       "    </tr>\n",
       "    <tr>\n",
       "      <th>aaron persky</th>\n",
       "      <td>2</td>\n",
       "    </tr>\n",
       "    <tr>\n",
       "      <th>aaron schock</th>\n",
       "      <td>1</td>\n",
       "    </tr>\n",
       "    <tr>\n",
       "      <th>...</th>\n",
       "      <td>...</td>\n",
       "    </tr>\n",
       "    <tr>\n",
       "      <th>zuckerberg your</th>\n",
       "      <td>1</td>\n",
       "    </tr>\n",
       "    <tr>\n",
       "      <th>zuniga should</th>\n",
       "      <td>1</td>\n",
       "    </tr>\n",
       "    <tr>\n",
       "      <th>zyberk ceo</th>\n",
       "      <td>1</td>\n",
       "    </tr>\n",
       "    <tr>\n",
       "      <th>étienne extreme</th>\n",
       "      <td>1</td>\n",
       "    </tr>\n",
       "    <tr>\n",
       "      <th>ᵒᴥᵒᶅ lights</th>\n",
       "      <td>1</td>\n",
       "    </tr>\n",
       "  </tbody>\n",
       "</table>\n",
       "<p>98448 rows × 1 columns</p>\n",
       "</div>"
      ],
      "text/plain": [
       "                  0\n",
       "_ツ_ new           1\n",
       "_ツ_ republican    1\n",
       "aapi communities  1\n",
       "aaron persky      2\n",
       "aaron schock      1\n",
       "...              ..\n",
       "zuckerberg your   1\n",
       "zuniga should     1\n",
       "zyberk ceo        1\n",
       "étienne extreme   1\n",
       "ᵒᴥᵒᶅ lights       1\n",
       "\n",
       "[98448 rows x 1 columns]"
      ]
     },
     "execution_count": 113,
     "metadata": {},
     "output_type": "execute_result"
    }
   ],
   "source": [
    "words_appearence"
   ]
  },
  {
   "cell_type": "code",
   "execution_count": 114,
   "id": "bf773748",
   "metadata": {},
   "outputs": [],
   "source": [
    "# word_appearence.rename(columns = {'0':'Counts'}, inplace = True)\n",
    "words_appearence.columns = ['Counts']"
   ]
  },
  {
   "cell_type": "code",
   "execution_count": 115,
   "id": "eb822b4d",
   "metadata": {},
   "outputs": [
    {
     "data": {
      "text/html": [
       "<div>\n",
       "<style scoped>\n",
       "    .dataframe tbody tr th:only-of-type {\n",
       "        vertical-align: middle;\n",
       "    }\n",
       "\n",
       "    .dataframe tbody tr th {\n",
       "        vertical-align: top;\n",
       "    }\n",
       "\n",
       "    .dataframe thead th {\n",
       "        text-align: right;\n",
       "    }\n",
       "</style>\n",
       "<table border=\"1\" class=\"dataframe\">\n",
       "  <thead>\n",
       "    <tr style=\"text-align: right;\">\n",
       "      <th></th>\n",
       "      <th>Counts</th>\n",
       "    </tr>\n",
       "  </thead>\n",
       "  <tbody>\n",
       "    <tr>\n",
       "      <th>_ツ_ new</th>\n",
       "      <td>1</td>\n",
       "    </tr>\n",
       "    <tr>\n",
       "      <th>_ツ_ republican</th>\n",
       "      <td>1</td>\n",
       "    </tr>\n",
       "    <tr>\n",
       "      <th>aapi communities</th>\n",
       "      <td>1</td>\n",
       "    </tr>\n",
       "    <tr>\n",
       "      <th>aaron persky</th>\n",
       "      <td>2</td>\n",
       "    </tr>\n",
       "    <tr>\n",
       "      <th>aaron schock</th>\n",
       "      <td>1</td>\n",
       "    </tr>\n",
       "  </tbody>\n",
       "</table>\n",
       "</div>"
      ],
      "text/plain": [
       "                  Counts\n",
       "_ツ_ new                1\n",
       "_ツ_ republican         1\n",
       "aapi communities       1\n",
       "aaron persky           2\n",
       "aaron schock           1"
      ]
     },
     "execution_count": 115,
     "metadata": {},
     "output_type": "execute_result"
    }
   ],
   "source": [
    "words_appearence.head()"
   ]
  },
  {
   "cell_type": "code",
   "execution_count": 116,
   "id": "3c047bc5",
   "metadata": {},
   "outputs": [],
   "source": [
    "words_appearence.sort_values(by=['Counts'], ascending=False, inplace=True)"
   ]
  },
  {
   "cell_type": "code",
   "execution_count": 117,
   "id": "264be78e",
   "metadata": {},
   "outputs": [
    {
     "data": {
      "text/html": [
       "<div>\n",
       "<style scoped>\n",
       "    .dataframe tbody tr th:only-of-type {\n",
       "        vertical-align: middle;\n",
       "    }\n",
       "\n",
       "    .dataframe tbody tr th {\n",
       "        vertical-align: top;\n",
       "    }\n",
       "\n",
       "    .dataframe thead th {\n",
       "        text-align: right;\n",
       "    }\n",
       "</style>\n",
       "<table border=\"1\" class=\"dataframe\">\n",
       "  <thead>\n",
       "    <tr style=\"text-align: right;\">\n",
       "      <th></th>\n",
       "      <th>Counts</th>\n",
       "    </tr>\n",
       "  </thead>\n",
       "  <tbody>\n",
       "    <tr>\n",
       "      <th>donald trump</th>\n",
       "      <td>982</td>\n",
       "    </tr>\n",
       "    <tr>\n",
       "      <th>hillary clinton</th>\n",
       "      <td>384</td>\n",
       "    </tr>\n",
       "    <tr>\n",
       "      <th>white house</th>\n",
       "      <td>226</td>\n",
       "    </tr>\n",
       "    <tr>\n",
       "      <th>supreme court</th>\n",
       "      <td>213</td>\n",
       "    </tr>\n",
       "    <tr>\n",
       "      <th>bernie sanders</th>\n",
       "      <td>172</td>\n",
       "    </tr>\n",
       "  </tbody>\n",
       "</table>\n",
       "</div>"
      ],
      "text/plain": [
       "                 Counts\n",
       "donald trump        982\n",
       "hillary clinton     384\n",
       "white house         226\n",
       "supreme court       213\n",
       "bernie sanders      172"
      ]
     },
     "execution_count": 117,
     "metadata": {},
     "output_type": "execute_result"
    }
   ],
   "source": [
    "words_appearence.head()"
   ]
  },
  {
   "cell_type": "markdown",
   "id": "36ea24ba",
   "metadata": {},
   "source": [
    "Wyrzućmy frazy, które występują mniej niż *count_border* razy"
   ]
  },
  {
   "cell_type": "code",
   "execution_count": 118,
   "id": "4e42966f",
   "metadata": {},
   "outputs": [],
   "source": [
    "count_border = 30"
   ]
  },
  {
   "cell_type": "code",
   "execution_count": 119,
   "id": "8cb5784c",
   "metadata": {},
   "outputs": [],
   "source": [
    "words_appearence_cut = words_appearence[words_appearence.Counts >= count_border]"
   ]
  },
  {
   "cell_type": "code",
   "execution_count": 120,
   "id": "5ec84de6",
   "metadata": {},
   "outputs": [
    {
     "data": {
      "text/html": [
       "<div>\n",
       "<style scoped>\n",
       "    .dataframe tbody tr th:only-of-type {\n",
       "        vertical-align: middle;\n",
       "    }\n",
       "\n",
       "    .dataframe tbody tr th {\n",
       "        vertical-align: top;\n",
       "    }\n",
       "\n",
       "    .dataframe thead th {\n",
       "        text-align: right;\n",
       "    }\n",
       "</style>\n",
       "<table border=\"1\" class=\"dataframe\">\n",
       "  <thead>\n",
       "    <tr style=\"text-align: right;\">\n",
       "      <th></th>\n",
       "      <th>Counts</th>\n",
       "    </tr>\n",
       "  </thead>\n",
       "  <tbody>\n",
       "    <tr>\n",
       "      <th>donald trump</th>\n",
       "      <td>982</td>\n",
       "    </tr>\n",
       "    <tr>\n",
       "      <th>hillary clinton</th>\n",
       "      <td>384</td>\n",
       "    </tr>\n",
       "    <tr>\n",
       "      <th>white house</th>\n",
       "      <td>226</td>\n",
       "    </tr>\n",
       "    <tr>\n",
       "      <th>supreme court</th>\n",
       "      <td>213</td>\n",
       "    </tr>\n",
       "    <tr>\n",
       "      <th>bernie sanders</th>\n",
       "      <td>172</td>\n",
       "    </tr>\n",
       "    <tr>\n",
       "      <th>health care</th>\n",
       "      <td>160</td>\n",
       "    </tr>\n",
       "    <tr>\n",
       "      <th>need know</th>\n",
       "      <td>131</td>\n",
       "    </tr>\n",
       "    <tr>\n",
       "      <th>ted cruz</th>\n",
       "      <td>124</td>\n",
       "    </tr>\n",
       "    <tr>\n",
       "      <th>huffpost rise</th>\n",
       "      <td>120</td>\n",
       "    </tr>\n",
       "    <tr>\n",
       "      <th>new york</th>\n",
       "      <td>116</td>\n",
       "    </tr>\n",
       "    <tr>\n",
       "      <th>paul ryan</th>\n",
       "      <td>111</td>\n",
       "    </tr>\n",
       "    <tr>\n",
       "      <th>climate change</th>\n",
       "      <td>106</td>\n",
       "    </tr>\n",
       "    <tr>\n",
       "      <th>huffpost hill</th>\n",
       "      <td>101</td>\n",
       "    </tr>\n",
       "    <tr>\n",
       "      <th>rise need</th>\n",
       "      <td>100</td>\n",
       "    </tr>\n",
       "    <tr>\n",
       "      <th>know on</th>\n",
       "      <td>96</td>\n",
       "    </tr>\n",
       "    <tr>\n",
       "      <th>out of</th>\n",
       "      <td>92</td>\n",
       "    </tr>\n",
       "    <tr>\n",
       "      <th>trump administration</th>\n",
       "      <td>79</td>\n",
       "    </tr>\n",
       "    <tr>\n",
       "      <th>more than</th>\n",
       "      <td>76</td>\n",
       "    </tr>\n",
       "    <tr>\n",
       "      <th>marco rubio</th>\n",
       "      <td>72</td>\n",
       "    </tr>\n",
       "    <tr>\n",
       "      <th>fox news</th>\n",
       "      <td>71</td>\n",
       "    </tr>\n",
       "  </tbody>\n",
       "</table>\n",
       "</div>"
      ],
      "text/plain": [
       "                      Counts\n",
       "donald trump             982\n",
       "hillary clinton          384\n",
       "white house              226\n",
       "supreme court            213\n",
       "bernie sanders           172\n",
       "health care              160\n",
       "need know                131\n",
       "ted cruz                 124\n",
       "huffpost rise            120\n",
       "new york                 116\n",
       "paul ryan                111\n",
       "climate change           106\n",
       "huffpost hill            101\n",
       "rise need                100\n",
       "know on                   96\n",
       "out of                    92\n",
       "trump administration      79\n",
       "more than                 76\n",
       "marco rubio               72\n",
       "fox news                  71"
      ]
     },
     "execution_count": 120,
     "metadata": {},
     "output_type": "execute_result"
    }
   ],
   "source": [
    "words_appearence_cut.head(20)"
   ]
  },
  {
   "cell_type": "code",
   "execution_count": 121,
   "id": "608dfada",
   "metadata": {},
   "outputs": [
    {
     "data": {
      "text/plain": [
       "(76, 1)"
      ]
     },
     "execution_count": 121,
     "metadata": {},
     "output_type": "execute_result"
    }
   ],
   "source": [
    "words_appearence_cut.shape"
   ]
  },
  {
   "cell_type": "markdown",
   "id": "b2592e58",
   "metadata": {},
   "source": [
    "**Wykres liczby fraz w zależności od frazy**"
   ]
  },
  {
   "cell_type": "code",
   "execution_count": 122,
   "id": "3af7b6ae",
   "metadata": {},
   "outputs": [
    {
     "data": {
      "text/plain": [
       "<AxesSubplot:>"
      ]
     },
     "execution_count": 122,
     "metadata": {},
     "output_type": "execute_result"
    },
    {
     "data": {
      "image/png": "[encoded data removed]",
      "text/plain": [
       "<Figure size 2160x720 with 1 Axes>"
      ]
     },
     "metadata": {
      "needs_background": "light"
     },
     "output_type": "display_data"
    }
   ],
   "source": [
    "words_appearence_cut.plot(kind=\"bar\", figsize=(30,10))"
   ]
  },
  {
   "cell_type": "markdown",
   "id": "688bf358",
   "metadata": {},
   "source": [
    "Usuńmy jeszcze te frazy z X_train_count"
   ]
  },
  {
   "cell_type": "markdown",
   "id": "3da53007",
   "metadata": {},
   "source": [
    "*Aktualnie nasze frazy są indeksami w words_appearence więc nie mamy się do nich jak łatwo odwołać, zresetujmy więc index*"
   ]
  },
  {
   "cell_type": "code",
   "execution_count": 123,
   "id": "64b50ef6",
   "metadata": {},
   "outputs": [],
   "source": [
    "words_appearence.reset_index(inplace=True)"
   ]
  },
  {
   "cell_type": "markdown",
   "id": "0c2bb899",
   "metadata": {},
   "source": [
    "Teraz możemy usunąć frazy z X_train_count"
   ]
  },
  {
   "cell_type": "code",
   "execution_count": 124,
   "id": "5332cfa7",
   "metadata": {},
   "outputs": [],
   "source": [
    "words_appearence_dropped = words_appearence[words_appearence.Counts < count_border]"
   ]
  },
  {
   "cell_type": "code",
   "execution_count": 125,
   "id": "6e5c444b",
   "metadata": {},
   "outputs": [],
   "source": [
    "X_train_count.drop(words_appearence_dropped['index'], axis=1, inplace=True)"
   ]
  },
  {
   "cell_type": "code",
   "execution_count": 126,
   "id": "820303a3",
   "metadata": {},
   "outputs": [
    {
     "data": {
      "text/html": [
       "<div>\n",
       "<style scoped>\n",
       "    .dataframe tbody tr th:only-of-type {\n",
       "        vertical-align: middle;\n",
       "    }\n",
       "\n",
       "    .dataframe tbody tr th {\n",
       "        vertical-align: top;\n",
       "    }\n",
       "\n",
       "    .dataframe thead th {\n",
       "        text-align: right;\n",
       "    }\n",
       "</style>\n",
       "<table border=\"1\" class=\"dataframe\">\n",
       "  <thead>\n",
       "    <tr style=\"text-align: right;\">\n",
       "      <th></th>\n",
       "      <th>ben carson</th>\n",
       "      <th>bernie sanders</th>\n",
       "      <th>but not</th>\n",
       "      <th>care bill</th>\n",
       "      <th>chris christie</th>\n",
       "      <th>civil rights</th>\n",
       "      <th>climate change</th>\n",
       "      <th>could be</th>\n",
       "      <th>donald trump</th>\n",
       "      <th>donald trumps</th>\n",
       "      <th>...</th>\n",
       "      <th>trump has</th>\n",
       "      <th>trump jr</th>\n",
       "      <th>trump says</th>\n",
       "      <th>voter fraud</th>\n",
       "      <th>wall street</th>\n",
       "      <th>white house</th>\n",
       "      <th>will be</th>\n",
       "      <th>with trump</th>\n",
       "      <th>women in</th>\n",
       "      <th>york times</th>\n",
       "    </tr>\n",
       "  </thead>\n",
       "  <tbody>\n",
       "    <tr>\n",
       "      <th>0</th>\n",
       "      <td>0</td>\n",
       "      <td>0</td>\n",
       "      <td>0</td>\n",
       "      <td>0</td>\n",
       "      <td>0</td>\n",
       "      <td>0</td>\n",
       "      <td>0</td>\n",
       "      <td>0</td>\n",
       "      <td>5</td>\n",
       "      <td>0</td>\n",
       "      <td>...</td>\n",
       "      <td>0</td>\n",
       "      <td>0</td>\n",
       "      <td>1</td>\n",
       "      <td>0</td>\n",
       "      <td>0</td>\n",
       "      <td>0</td>\n",
       "      <td>0</td>\n",
       "      <td>0</td>\n",
       "      <td>0</td>\n",
       "      <td>0</td>\n",
       "    </tr>\n",
       "    <tr>\n",
       "      <th>1</th>\n",
       "      <td>0</td>\n",
       "      <td>1</td>\n",
       "      <td>0</td>\n",
       "      <td>0</td>\n",
       "      <td>1</td>\n",
       "      <td>0</td>\n",
       "      <td>1</td>\n",
       "      <td>0</td>\n",
       "      <td>0</td>\n",
       "      <td>0</td>\n",
       "      <td>...</td>\n",
       "      <td>0</td>\n",
       "      <td>0</td>\n",
       "      <td>0</td>\n",
       "      <td>0</td>\n",
       "      <td>0</td>\n",
       "      <td>0</td>\n",
       "      <td>0</td>\n",
       "      <td>0</td>\n",
       "      <td>0</td>\n",
       "      <td>0</td>\n",
       "    </tr>\n",
       "    <tr>\n",
       "      <th>2</th>\n",
       "      <td>0</td>\n",
       "      <td>0</td>\n",
       "      <td>0</td>\n",
       "      <td>0</td>\n",
       "      <td>0</td>\n",
       "      <td>0</td>\n",
       "      <td>0</td>\n",
       "      <td>0</td>\n",
       "      <td>1</td>\n",
       "      <td>0</td>\n",
       "      <td>...</td>\n",
       "      <td>0</td>\n",
       "      <td>0</td>\n",
       "      <td>0</td>\n",
       "      <td>0</td>\n",
       "      <td>0</td>\n",
       "      <td>0</td>\n",
       "      <td>0</td>\n",
       "      <td>0</td>\n",
       "      <td>0</td>\n",
       "      <td>0</td>\n",
       "    </tr>\n",
       "    <tr>\n",
       "      <th>3</th>\n",
       "      <td>0</td>\n",
       "      <td>0</td>\n",
       "      <td>0</td>\n",
       "      <td>0</td>\n",
       "      <td>1</td>\n",
       "      <td>1</td>\n",
       "      <td>0</td>\n",
       "      <td>0</td>\n",
       "      <td>5</td>\n",
       "      <td>0</td>\n",
       "      <td>...</td>\n",
       "      <td>0</td>\n",
       "      <td>0</td>\n",
       "      <td>0</td>\n",
       "      <td>0</td>\n",
       "      <td>0</td>\n",
       "      <td>0</td>\n",
       "      <td>0</td>\n",
       "      <td>1</td>\n",
       "      <td>0</td>\n",
       "      <td>0</td>\n",
       "    </tr>\n",
       "    <tr>\n",
       "      <th>4</th>\n",
       "      <td>0</td>\n",
       "      <td>1</td>\n",
       "      <td>0</td>\n",
       "      <td>0</td>\n",
       "      <td>0</td>\n",
       "      <td>0</td>\n",
       "      <td>1</td>\n",
       "      <td>0</td>\n",
       "      <td>0</td>\n",
       "      <td>0</td>\n",
       "      <td>...</td>\n",
       "      <td>0</td>\n",
       "      <td>0</td>\n",
       "      <td>0</td>\n",
       "      <td>0</td>\n",
       "      <td>0</td>\n",
       "      <td>1</td>\n",
       "      <td>0</td>\n",
       "      <td>0</td>\n",
       "      <td>0</td>\n",
       "      <td>0</td>\n",
       "    </tr>\n",
       "    <tr>\n",
       "      <th>...</th>\n",
       "      <td>...</td>\n",
       "      <td>...</td>\n",
       "      <td>...</td>\n",
       "      <td>...</td>\n",
       "      <td>...</td>\n",
       "      <td>...</td>\n",
       "      <td>...</td>\n",
       "      <td>...</td>\n",
       "      <td>...</td>\n",
       "      <td>...</td>\n",
       "      <td>...</td>\n",
       "      <td>...</td>\n",
       "      <td>...</td>\n",
       "      <td>...</td>\n",
       "      <td>...</td>\n",
       "      <td>...</td>\n",
       "      <td>...</td>\n",
       "      <td>...</td>\n",
       "      <td>...</td>\n",
       "      <td>...</td>\n",
       "      <td>...</td>\n",
       "    </tr>\n",
       "    <tr>\n",
       "      <th>780</th>\n",
       "      <td>0</td>\n",
       "      <td>0</td>\n",
       "      <td>0</td>\n",
       "      <td>0</td>\n",
       "      <td>0</td>\n",
       "      <td>0</td>\n",
       "      <td>0</td>\n",
       "      <td>0</td>\n",
       "      <td>0</td>\n",
       "      <td>0</td>\n",
       "      <td>...</td>\n",
       "      <td>0</td>\n",
       "      <td>0</td>\n",
       "      <td>0</td>\n",
       "      <td>0</td>\n",
       "      <td>0</td>\n",
       "      <td>0</td>\n",
       "      <td>0</td>\n",
       "      <td>0</td>\n",
       "      <td>1</td>\n",
       "      <td>0</td>\n",
       "    </tr>\n",
       "    <tr>\n",
       "      <th>781</th>\n",
       "      <td>0</td>\n",
       "      <td>0</td>\n",
       "      <td>0</td>\n",
       "      <td>0</td>\n",
       "      <td>0</td>\n",
       "      <td>0</td>\n",
       "      <td>0</td>\n",
       "      <td>0</td>\n",
       "      <td>0</td>\n",
       "      <td>0</td>\n",
       "      <td>...</td>\n",
       "      <td>0</td>\n",
       "      <td>0</td>\n",
       "      <td>0</td>\n",
       "      <td>0</td>\n",
       "      <td>0</td>\n",
       "      <td>0</td>\n",
       "      <td>1</td>\n",
       "      <td>0</td>\n",
       "      <td>0</td>\n",
       "      <td>0</td>\n",
       "    </tr>\n",
       "    <tr>\n",
       "      <th>782</th>\n",
       "      <td>0</td>\n",
       "      <td>0</td>\n",
       "      <td>0</td>\n",
       "      <td>0</td>\n",
       "      <td>0</td>\n",
       "      <td>0</td>\n",
       "      <td>0</td>\n",
       "      <td>0</td>\n",
       "      <td>1</td>\n",
       "      <td>0</td>\n",
       "      <td>...</td>\n",
       "      <td>0</td>\n",
       "      <td>1</td>\n",
       "      <td>0</td>\n",
       "      <td>0</td>\n",
       "      <td>0</td>\n",
       "      <td>0</td>\n",
       "      <td>0</td>\n",
       "      <td>0</td>\n",
       "      <td>0</td>\n",
       "      <td>0</td>\n",
       "    </tr>\n",
       "    <tr>\n",
       "      <th>783</th>\n",
       "      <td>0</td>\n",
       "      <td>1</td>\n",
       "      <td>1</td>\n",
       "      <td>0</td>\n",
       "      <td>0</td>\n",
       "      <td>0</td>\n",
       "      <td>0</td>\n",
       "      <td>0</td>\n",
       "      <td>3</td>\n",
       "      <td>0</td>\n",
       "      <td>...</td>\n",
       "      <td>0</td>\n",
       "      <td>0</td>\n",
       "      <td>0</td>\n",
       "      <td>0</td>\n",
       "      <td>0</td>\n",
       "      <td>0</td>\n",
       "      <td>0</td>\n",
       "      <td>0</td>\n",
       "      <td>0</td>\n",
       "      <td>0</td>\n",
       "    </tr>\n",
       "    <tr>\n",
       "      <th>784</th>\n",
       "      <td>0</td>\n",
       "      <td>0</td>\n",
       "      <td>0</td>\n",
       "      <td>0</td>\n",
       "      <td>0</td>\n",
       "      <td>0</td>\n",
       "      <td>0</td>\n",
       "      <td>0</td>\n",
       "      <td>0</td>\n",
       "      <td>0</td>\n",
       "      <td>...</td>\n",
       "      <td>0</td>\n",
       "      <td>0</td>\n",
       "      <td>0</td>\n",
       "      <td>0</td>\n",
       "      <td>0</td>\n",
       "      <td>0</td>\n",
       "      <td>0</td>\n",
       "      <td>0</td>\n",
       "      <td>0</td>\n",
       "      <td>0</td>\n",
       "    </tr>\n",
       "  </tbody>\n",
       "</table>\n",
       "<p>785 rows × 76 columns</p>\n",
       "</div>"
      ],
      "text/plain": [
       "     ben carson  bernie sanders  but not  care bill  chris christie  \\\n",
       "0             0               0        0          0               0   \n",
       "1             0               1        0          0               1   \n",
       "2             0               0        0          0               0   \n",
       "3             0               0        0          0               1   \n",
       "4             0               1        0          0               0   \n",
       "..          ...             ...      ...        ...             ...   \n",
       "780           0               0        0          0               0   \n",
       "781           0               0        0          0               0   \n",
       "782           0               0        0          0               0   \n",
       "783           0               1        1          0               0   \n",
       "784           0               0        0          0               0   \n",
       "\n",
       "     civil rights  climate change  could be  donald trump  donald trumps  ...  \\\n",
       "0               0               0         0             5              0  ...   \n",
       "1               0               1         0             0              0  ...   \n",
       "2               0               0         0             1              0  ...   \n",
       "3               1               0         0             5              0  ...   \n",
       "4               0               1         0             0              0  ...   \n",
       "..            ...             ...       ...           ...            ...  ...   \n",
       "780             0               0         0             0              0  ...   \n",
       "781             0               0         0             0              0  ...   \n",
       "782             0               0         0             1              0  ...   \n",
       "783             0               0         0             3              0  ...   \n",
       "784             0               0         0             0              0  ...   \n",
       "\n",
       "     trump has  trump jr  trump says  voter fraud  wall street  white house  \\\n",
       "0            0         0           1            0            0            0   \n",
       "1            0         0           0            0            0            0   \n",
       "2            0         0           0            0            0            0   \n",
       "3            0         0           0            0            0            0   \n",
       "4            0         0           0            0            0            1   \n",
       "..         ...       ...         ...          ...          ...          ...   \n",
       "780          0         0           0            0            0            0   \n",
       "781          0         0           0            0            0            0   \n",
       "782          0         1           0            0            0            0   \n",
       "783          0         0           0            0            0            0   \n",
       "784          0         0           0            0            0            0   \n",
       "\n",
       "     will be  with trump  women in  york times  \n",
       "0          0           0         0           0  \n",
       "1          0           0         0           0  \n",
       "2          0           0         0           0  \n",
       "3          0           1         0           0  \n",
       "4          0           0         0           0  \n",
       "..       ...         ...       ...         ...  \n",
       "780        0           0         1           0  \n",
       "781        1           0         0           0  \n",
       "782        0           0         0           0  \n",
       "783        0           0         0           0  \n",
       "784        0           0         0           0  \n",
       "\n",
       "[785 rows x 76 columns]"
      ]
     },
     "execution_count": 126,
     "metadata": {},
     "output_type": "execute_result"
    }
   ],
   "source": [
    "X_train_count"
   ]
  },
  {
   "cell_type": "code",
   "execution_count": 127,
   "id": "849ffdd9",
   "metadata": {},
   "outputs": [
    {
     "data": {
      "text/plain": [
       "array([[0, 0, 0, ..., 0, 0, 0],\n",
       "       [0, 1, 0, ..., 0, 0, 0],\n",
       "       [0, 0, 0, ..., 0, 0, 0],\n",
       "       ...,\n",
       "       [0, 0, 0, ..., 0, 0, 0],\n",
       "       [0, 1, 1, ..., 0, 0, 0],\n",
       "       [0, 0, 0, ..., 0, 0, 0]], dtype=int64)"
      ]
     },
     "execution_count": 127,
     "metadata": {},
     "output_type": "execute_result"
    }
   ],
   "source": [
    "X_train_count.values"
   ]
  },
  {
   "cell_type": "code",
   "execution_count": 128,
   "id": "c92a72d3",
   "metadata": {},
   "outputs": [
    {
     "data": {
      "image/png": "[encoded data removed]",
      "text/plain": [
       "<Figure size 1800x1800 with 2 Axes>"
      ]
     },
     "metadata": {
      "needs_background": "light"
     },
     "output_type": "display_data"
    }
   ],
   "source": [
    "import seaborn as sns\n",
    "\n",
    "# sns.set(style='darkgrid')\n",
    "\n",
    "corr = X_train_count.corr()\n",
    "f, ax = plt.subplots(figsize=(25, 25))\n",
    "cmap = sns.diverging_palette(220, 10, as_cmap=True)\n",
    "\n",
    "sns.heatmap(corr, cmap=cmap, vmin=-1, vmax=1,\n",
    "            square=True, xticklabels=True, yticklabels=True,\n",
    "            linewidths=.5, cbar_kws={'shrink': .5}, ax=ax)\n",
    "plt.show()"
   ]
  },
  {
   "cell_type": "markdown",
   "id": "72f33cdc",
   "metadata": {},
   "source": [
    "# Przygotowanie zbioru testowego"
   ]
  },
  {
   "cell_type": "markdown",
   "id": "3d9734e9",
   "metadata": {},
   "source": [
    "**Najpierw stwórzmy tablicę fraz**"
   ]
  },
  {
   "cell_type": "code",
   "execution_count": 129,
   "id": "9640ac91",
   "metadata": {},
   "outputs": [],
   "source": [
    "testheadlines = []\n",
    "for row in range(0,len(X_test.index)):\n",
    "    testheadlines.append(' '.join(str(x) for x in X_test.iloc[row]))"
   ]
  },
  {
   "cell_type": "code",
   "execution_count": 130,
   "id": "3a92489c",
   "metadata": {},
   "outputs": [
    {
     "name": "stdout",
     "output_type": "stream",
     "text": [
      "(197, 30114)\n"
     ]
    }
   ],
   "source": [
    "test_words = countvectorizer.fit_transform(testheadlines)\n",
    "print(test_words.shape)"
   ]
  },
  {
   "cell_type": "code",
   "execution_count": 131,
   "id": "8184e61a",
   "metadata": {},
   "outputs": [],
   "source": [
    "X_test_count_all = test_words.toarray()"
   ]
  },
  {
   "cell_type": "code",
   "execution_count": 132,
   "id": "1dd78ad8",
   "metadata": {},
   "outputs": [],
   "source": [
    "X_test_count_all = pd.DataFrame(data=X_test_count_all,columns = countvectorizer.get_feature_names())"
   ]
  },
  {
   "cell_type": "code",
   "execution_count": 133,
   "id": "78d21d96",
   "metadata": {},
   "outputs": [
    {
     "data": {
      "text/html": [
       "<div>\n",
       "<style scoped>\n",
       "    .dataframe tbody tr th:only-of-type {\n",
       "        vertical-align: middle;\n",
       "    }\n",
       "\n",
       "    .dataframe tbody tr th {\n",
       "        vertical-align: top;\n",
       "    }\n",
       "\n",
       "    .dataframe thead th {\n",
       "        text-align: right;\n",
       "    }\n",
       "</style>\n",
       "<table border=\"1\" class=\"dataframe\">\n",
       "  <thead>\n",
       "    <tr style=\"text-align: right;\">\n",
       "      <th></th>\n",
       "      <th>000 americans</th>\n",
       "      <th>000 brazilians</th>\n",
       "      <th>000 californians</th>\n",
       "      <th>000 campaign</th>\n",
       "      <th>000 dining</th>\n",
       "      <th>000 donation</th>\n",
       "      <th>000 fee</th>\n",
       "      <th>000 fighters</th>\n",
       "      <th>000 for</th>\n",
       "      <th>000 guns</th>\n",
       "      <th>...</th>\n",
       "      <th>zinke to</th>\n",
       "      <th>zionist new</th>\n",
       "      <th>zombie candidate</th>\n",
       "      <th>zones aim</th>\n",
       "      <th>zones clinic</th>\n",
       "      <th>zoos be</th>\n",
       "      <th>zucker defends</th>\n",
       "      <th>zuckerberg the</th>\n",
       "      <th>zuckerman eyes</th>\n",
       "      <th>zurich mosque</th>\n",
       "    </tr>\n",
       "  </thead>\n",
       "  <tbody>\n",
       "    <tr>\n",
       "      <th>0</th>\n",
       "      <td>0</td>\n",
       "      <td>0</td>\n",
       "      <td>0</td>\n",
       "      <td>0</td>\n",
       "      <td>0</td>\n",
       "      <td>0</td>\n",
       "      <td>0</td>\n",
       "      <td>0</td>\n",
       "      <td>0</td>\n",
       "      <td>0</td>\n",
       "      <td>...</td>\n",
       "      <td>0</td>\n",
       "      <td>0</td>\n",
       "      <td>0</td>\n",
       "      <td>0</td>\n",
       "      <td>0</td>\n",
       "      <td>0</td>\n",
       "      <td>0</td>\n",
       "      <td>0</td>\n",
       "      <td>0</td>\n",
       "      <td>0</td>\n",
       "    </tr>\n",
       "    <tr>\n",
       "      <th>1</th>\n",
       "      <td>0</td>\n",
       "      <td>0</td>\n",
       "      <td>0</td>\n",
       "      <td>0</td>\n",
       "      <td>0</td>\n",
       "      <td>0</td>\n",
       "      <td>0</td>\n",
       "      <td>0</td>\n",
       "      <td>0</td>\n",
       "      <td>0</td>\n",
       "      <td>...</td>\n",
       "      <td>0</td>\n",
       "      <td>0</td>\n",
       "      <td>0</td>\n",
       "      <td>0</td>\n",
       "      <td>0</td>\n",
       "      <td>0</td>\n",
       "      <td>0</td>\n",
       "      <td>0</td>\n",
       "      <td>0</td>\n",
       "      <td>0</td>\n",
       "    </tr>\n",
       "    <tr>\n",
       "      <th>2</th>\n",
       "      <td>0</td>\n",
       "      <td>0</td>\n",
       "      <td>0</td>\n",
       "      <td>0</td>\n",
       "      <td>0</td>\n",
       "      <td>0</td>\n",
       "      <td>0</td>\n",
       "      <td>0</td>\n",
       "      <td>0</td>\n",
       "      <td>0</td>\n",
       "      <td>...</td>\n",
       "      <td>0</td>\n",
       "      <td>0</td>\n",
       "      <td>0</td>\n",
       "      <td>0</td>\n",
       "      <td>0</td>\n",
       "      <td>0</td>\n",
       "      <td>0</td>\n",
       "      <td>0</td>\n",
       "      <td>0</td>\n",
       "      <td>0</td>\n",
       "    </tr>\n",
       "    <tr>\n",
       "      <th>3</th>\n",
       "      <td>0</td>\n",
       "      <td>0</td>\n",
       "      <td>0</td>\n",
       "      <td>0</td>\n",
       "      <td>0</td>\n",
       "      <td>0</td>\n",
       "      <td>0</td>\n",
       "      <td>0</td>\n",
       "      <td>0</td>\n",
       "      <td>0</td>\n",
       "      <td>...</td>\n",
       "      <td>0</td>\n",
       "      <td>0</td>\n",
       "      <td>0</td>\n",
       "      <td>0</td>\n",
       "      <td>0</td>\n",
       "      <td>0</td>\n",
       "      <td>0</td>\n",
       "      <td>0</td>\n",
       "      <td>0</td>\n",
       "      <td>0</td>\n",
       "    </tr>\n",
       "    <tr>\n",
       "      <th>4</th>\n",
       "      <td>0</td>\n",
       "      <td>0</td>\n",
       "      <td>0</td>\n",
       "      <td>0</td>\n",
       "      <td>0</td>\n",
       "      <td>0</td>\n",
       "      <td>0</td>\n",
       "      <td>0</td>\n",
       "      <td>0</td>\n",
       "      <td>0</td>\n",
       "      <td>...</td>\n",
       "      <td>0</td>\n",
       "      <td>0</td>\n",
       "      <td>0</td>\n",
       "      <td>0</td>\n",
       "      <td>0</td>\n",
       "      <td>0</td>\n",
       "      <td>0</td>\n",
       "      <td>0</td>\n",
       "      <td>0</td>\n",
       "      <td>0</td>\n",
       "    </tr>\n",
       "  </tbody>\n",
       "</table>\n",
       "<p>5 rows × 30114 columns</p>\n",
       "</div>"
      ],
      "text/plain": [
       "   000 americans  000 brazilians  000 californians  000 campaign  000 dining  \\\n",
       "0              0               0                 0             0           0   \n",
       "1              0               0                 0             0           0   \n",
       "2              0               0                 0             0           0   \n",
       "3              0               0                 0             0           0   \n",
       "4              0               0                 0             0           0   \n",
       "\n",
       "   000 donation  000 fee  000 fighters  000 for  000 guns  ...  zinke to  \\\n",
       "0             0        0             0        0         0  ...         0   \n",
       "1             0        0             0        0         0  ...         0   \n",
       "2             0        0             0        0         0  ...         0   \n",
       "3             0        0             0        0         0  ...         0   \n",
       "4             0        0             0        0         0  ...         0   \n",
       "\n",
       "   zionist new  zombie candidate  zones aim  zones clinic  zoos be  \\\n",
       "0            0                 0          0             0        0   \n",
       "1            0                 0          0             0        0   \n",
       "2            0                 0          0             0        0   \n",
       "3            0                 0          0             0        0   \n",
       "4            0                 0          0             0        0   \n",
       "\n",
       "   zucker defends  zuckerberg the  zuckerman eyes  zurich mosque  \n",
       "0               0               0               0              0  \n",
       "1               0               0               0              0  \n",
       "2               0               0               0              0  \n",
       "3               0               0               0              0  \n",
       "4               0               0               0              0  \n",
       "\n",
       "[5 rows x 30114 columns]"
      ]
     },
     "execution_count": 133,
     "metadata": {},
     "output_type": "execute_result"
    }
   ],
   "source": [
    "X_test_count_all.head()"
   ]
  },
  {
   "cell_type": "code",
   "execution_count": 134,
   "id": "f0c646c1",
   "metadata": {},
   "outputs": [],
   "source": [
    "words_test = X_test_count_all.columns"
   ]
  },
  {
   "cell_type": "code",
   "execution_count": 135,
   "id": "9b56587c",
   "metadata": {},
   "outputs": [
    {
     "data": {
      "text/plain": [
       "Index(['000 americans', '000 brazilians', '000 californians', '000 campaign',\n",
       "       '000 dining', '000 donation', '000 fee', '000 fighters', '000 for',\n",
       "       '000 guns',\n",
       "       ...\n",
       "       'zinke to', 'zionist new', 'zombie candidate', 'zones aim',\n",
       "       'zones clinic', 'zoos be', 'zucker defends', 'zuckerberg the',\n",
       "       'zuckerman eyes', 'zurich mosque'],\n",
       "      dtype='object', length=30114)"
      ]
     },
     "execution_count": 135,
     "metadata": {},
     "output_type": "execute_result"
    }
   ],
   "source": [
    "words_test"
   ]
  },
  {
   "cell_type": "markdown",
   "id": "ca3ad2ca",
   "metadata": {},
   "source": [
    "**Mamy już tablicę fraz oraz listę fraz**"
   ]
  },
  {
   "cell_type": "markdown",
   "id": "6a51578a",
   "metadata": {},
   "source": [
    "Teraz musimy stworzyć X_test_count z takimi samymi kolumnami jak w X_train_count"
   ]
  },
  {
   "cell_type": "code",
   "execution_count": 136,
   "id": "feeb9851",
   "metadata": {},
   "outputs": [],
   "source": [
    "X_test_count = pd.DataFrame(columns = X_train_count.columns)"
   ]
  },
  {
   "cell_type": "code",
   "execution_count": 137,
   "id": "2d668f7c",
   "metadata": {},
   "outputs": [
    {
     "data": {
      "text/html": [
       "<div>\n",
       "<style scoped>\n",
       "    .dataframe tbody tr th:only-of-type {\n",
       "        vertical-align: middle;\n",
       "    }\n",
       "\n",
       "    .dataframe tbody tr th {\n",
       "        vertical-align: top;\n",
       "    }\n",
       "\n",
       "    .dataframe thead th {\n",
       "        text-align: right;\n",
       "    }\n",
       "</style>\n",
       "<table border=\"1\" class=\"dataframe\">\n",
       "  <thead>\n",
       "    <tr style=\"text-align: right;\">\n",
       "      <th></th>\n",
       "      <th>ben carson</th>\n",
       "      <th>bernie sanders</th>\n",
       "      <th>but not</th>\n",
       "      <th>care bill</th>\n",
       "      <th>chris christie</th>\n",
       "      <th>civil rights</th>\n",
       "      <th>climate change</th>\n",
       "      <th>could be</th>\n",
       "      <th>donald trump</th>\n",
       "      <th>donald trumps</th>\n",
       "      <th>...</th>\n",
       "      <th>trump has</th>\n",
       "      <th>trump jr</th>\n",
       "      <th>trump says</th>\n",
       "      <th>voter fraud</th>\n",
       "      <th>wall street</th>\n",
       "      <th>white house</th>\n",
       "      <th>will be</th>\n",
       "      <th>with trump</th>\n",
       "      <th>women in</th>\n",
       "      <th>york times</th>\n",
       "    </tr>\n",
       "  </thead>\n",
       "  <tbody>\n",
       "  </tbody>\n",
       "</table>\n",
       "<p>0 rows × 76 columns</p>\n",
       "</div>"
      ],
      "text/plain": [
       "Empty DataFrame\n",
       "Columns: [ben carson, bernie sanders, but not, care bill, chris christie, civil rights, climate change, could be, donald trump, donald trumps, elizabeth warren, email trump, foreign policy, fox news, gop congressman, gop senator, gun violence, harry reid, health care, hillary clinton, his own, huffpost hill, huffpost rise, in business, in new, in us, james comey, jeb bush, jeff sessions, joe biden, john mccain, know about, know on, marco rubio, michael flynn, mike pence, minimum wage, mitch mcconnell, more than, morning email, need know, new hampshire, new york, north carolina, north korea, obamacare repeal, of trump, of union, on trump, out of, paul ryan, planned parenthood, rise need, roy moore, russia probe, says he, says it, scott pruitt, sexual harassment, should be, state of, supreme court, ted cruz, travel ban, trump administration, trump campaign, trump has, trump jr, trump says, voter fraud, wall street, white house, will be, with trump, women in, york times]\n",
       "Index: []\n",
       "\n",
       "[0 rows x 76 columns]"
      ]
     },
     "execution_count": 137,
     "metadata": {},
     "output_type": "execute_result"
    }
   ],
   "source": [
    "X_test_count"
   ]
  },
  {
   "cell_type": "code",
   "execution_count": 138,
   "id": "65e86664",
   "metadata": {},
   "outputs": [
    {
     "data": {
      "text/html": [
       "<div>\n",
       "<style scoped>\n",
       "    .dataframe tbody tr th:only-of-type {\n",
       "        vertical-align: middle;\n",
       "    }\n",
       "\n",
       "    .dataframe tbody tr th {\n",
       "        vertical-align: top;\n",
       "    }\n",
       "\n",
       "    .dataframe thead th {\n",
       "        text-align: right;\n",
       "    }\n",
       "</style>\n",
       "<table border=\"1\" class=\"dataframe\">\n",
       "  <thead>\n",
       "    <tr style=\"text-align: right;\">\n",
       "      <th></th>\n",
       "      <th>ben carson</th>\n",
       "      <th>bernie sanders</th>\n",
       "      <th>but not</th>\n",
       "      <th>care bill</th>\n",
       "      <th>chris christie</th>\n",
       "      <th>civil rights</th>\n",
       "      <th>climate change</th>\n",
       "      <th>could be</th>\n",
       "      <th>donald trump</th>\n",
       "      <th>donald trumps</th>\n",
       "      <th>...</th>\n",
       "      <th>trump has</th>\n",
       "      <th>trump jr</th>\n",
       "      <th>trump says</th>\n",
       "      <th>voter fraud</th>\n",
       "      <th>wall street</th>\n",
       "      <th>white house</th>\n",
       "      <th>will be</th>\n",
       "      <th>with trump</th>\n",
       "      <th>women in</th>\n",
       "      <th>york times</th>\n",
       "    </tr>\n",
       "  </thead>\n",
       "  <tbody>\n",
       "    <tr>\n",
       "      <th>0</th>\n",
       "      <td>0</td>\n",
       "      <td>0</td>\n",
       "      <td>0</td>\n",
       "      <td>0</td>\n",
       "      <td>0</td>\n",
       "      <td>0</td>\n",
       "      <td>0</td>\n",
       "      <td>0</td>\n",
       "      <td>5</td>\n",
       "      <td>0</td>\n",
       "      <td>...</td>\n",
       "      <td>0</td>\n",
       "      <td>0</td>\n",
       "      <td>1</td>\n",
       "      <td>0</td>\n",
       "      <td>0</td>\n",
       "      <td>0</td>\n",
       "      <td>0</td>\n",
       "      <td>0</td>\n",
       "      <td>0</td>\n",
       "      <td>0</td>\n",
       "    </tr>\n",
       "  </tbody>\n",
       "</table>\n",
       "<p>1 rows × 76 columns</p>\n",
       "</div>"
      ],
      "text/plain": [
       "   ben carson  bernie sanders  but not  care bill  chris christie  \\\n",
       "0           0               0        0          0               0   \n",
       "\n",
       "   civil rights  climate change  could be  donald trump  donald trumps  ...  \\\n",
       "0             0               0         0             5              0  ...   \n",
       "\n",
       "   trump has  trump jr  trump says  voter fraud  wall street  white house  \\\n",
       "0          0         0           1            0            0            0   \n",
       "\n",
       "   will be  with trump  women in  york times  \n",
       "0        0           0         0           0  \n",
       "\n",
       "[1 rows x 76 columns]"
      ]
     },
     "execution_count": 138,
     "metadata": {},
     "output_type": "execute_result"
    }
   ],
   "source": [
    "X_train_count.head(1)"
   ]
  },
  {
   "cell_type": "markdown",
   "id": "c94ebc21",
   "metadata": {},
   "source": [
    "Utworzyliśmy pusty dataframe X_test_count zawierający kolumny z X_train_count"
   ]
  },
  {
   "cell_type": "markdown",
   "id": "d79c1540",
   "metadata": {},
   "source": [
    "Teraz musimy wpisać wystąpienia fraz do X_test_count, jeśli w testheadlines nie było takiej frazy jaka była w X_train_count to wtedy wpisujemy 0"
   ]
  },
  {
   "cell_type": "code",
   "execution_count": 139,
   "id": "cc4f362a",
   "metadata": {},
   "outputs": [],
   "source": [
    "for col in X_test_count.columns:\n",
    "    X_test_count[col] = X_test_count_all[col] if col in words_test else 0"
   ]
  },
  {
   "cell_type": "code",
   "execution_count": 140,
   "id": "70b8d7b6",
   "metadata": {},
   "outputs": [
    {
     "data": {
      "text/html": [
       "<div>\n",
       "<style scoped>\n",
       "    .dataframe tbody tr th:only-of-type {\n",
       "        vertical-align: middle;\n",
       "    }\n",
       "\n",
       "    .dataframe tbody tr th {\n",
       "        vertical-align: top;\n",
       "    }\n",
       "\n",
       "    .dataframe thead th {\n",
       "        text-align: right;\n",
       "    }\n",
       "</style>\n",
       "<table border=\"1\" class=\"dataframe\">\n",
       "  <thead>\n",
       "    <tr style=\"text-align: right;\">\n",
       "      <th></th>\n",
       "      <th>ben carson</th>\n",
       "      <th>bernie sanders</th>\n",
       "      <th>but not</th>\n",
       "      <th>care bill</th>\n",
       "      <th>chris christie</th>\n",
       "      <th>civil rights</th>\n",
       "      <th>climate change</th>\n",
       "      <th>could be</th>\n",
       "      <th>donald trump</th>\n",
       "      <th>donald trumps</th>\n",
       "      <th>...</th>\n",
       "      <th>trump has</th>\n",
       "      <th>trump jr</th>\n",
       "      <th>trump says</th>\n",
       "      <th>voter fraud</th>\n",
       "      <th>wall street</th>\n",
       "      <th>white house</th>\n",
       "      <th>will be</th>\n",
       "      <th>with trump</th>\n",
       "      <th>women in</th>\n",
       "      <th>york times</th>\n",
       "    </tr>\n",
       "  </thead>\n",
       "  <tbody>\n",
       "    <tr>\n",
       "      <th>0</th>\n",
       "      <td>0</td>\n",
       "      <td>0</td>\n",
       "      <td>0</td>\n",
       "      <td>0</td>\n",
       "      <td>0</td>\n",
       "      <td>0</td>\n",
       "      <td>0</td>\n",
       "      <td>0</td>\n",
       "      <td>0</td>\n",
       "      <td>0</td>\n",
       "      <td>...</td>\n",
       "      <td>0</td>\n",
       "      <td>0</td>\n",
       "      <td>0</td>\n",
       "      <td>0</td>\n",
       "      <td>0</td>\n",
       "      <td>0</td>\n",
       "      <td>0</td>\n",
       "      <td>0</td>\n",
       "      <td>0</td>\n",
       "      <td>0</td>\n",
       "    </tr>\n",
       "    <tr>\n",
       "      <th>1</th>\n",
       "      <td>0</td>\n",
       "      <td>0</td>\n",
       "      <td>0</td>\n",
       "      <td>0</td>\n",
       "      <td>0</td>\n",
       "      <td>1</td>\n",
       "      <td>0</td>\n",
       "      <td>0</td>\n",
       "      <td>1</td>\n",
       "      <td>0</td>\n",
       "      <td>...</td>\n",
       "      <td>0</td>\n",
       "      <td>0</td>\n",
       "      <td>0</td>\n",
       "      <td>0</td>\n",
       "      <td>0</td>\n",
       "      <td>0</td>\n",
       "      <td>0</td>\n",
       "      <td>0</td>\n",
       "      <td>0</td>\n",
       "      <td>0</td>\n",
       "    </tr>\n",
       "    <tr>\n",
       "      <th>2</th>\n",
       "      <td>0</td>\n",
       "      <td>0</td>\n",
       "      <td>0</td>\n",
       "      <td>0</td>\n",
       "      <td>0</td>\n",
       "      <td>0</td>\n",
       "      <td>0</td>\n",
       "      <td>0</td>\n",
       "      <td>0</td>\n",
       "      <td>0</td>\n",
       "      <td>...</td>\n",
       "      <td>0</td>\n",
       "      <td>0</td>\n",
       "      <td>0</td>\n",
       "      <td>0</td>\n",
       "      <td>0</td>\n",
       "      <td>0</td>\n",
       "      <td>0</td>\n",
       "      <td>0</td>\n",
       "      <td>0</td>\n",
       "      <td>0</td>\n",
       "    </tr>\n",
       "    <tr>\n",
       "      <th>3</th>\n",
       "      <td>0</td>\n",
       "      <td>1</td>\n",
       "      <td>0</td>\n",
       "      <td>0</td>\n",
       "      <td>1</td>\n",
       "      <td>0</td>\n",
       "      <td>0</td>\n",
       "      <td>0</td>\n",
       "      <td>4</td>\n",
       "      <td>0</td>\n",
       "      <td>...</td>\n",
       "      <td>0</td>\n",
       "      <td>0</td>\n",
       "      <td>0</td>\n",
       "      <td>0</td>\n",
       "      <td>0</td>\n",
       "      <td>0</td>\n",
       "      <td>1</td>\n",
       "      <td>0</td>\n",
       "      <td>0</td>\n",
       "      <td>0</td>\n",
       "    </tr>\n",
       "    <tr>\n",
       "      <th>4</th>\n",
       "      <td>0</td>\n",
       "      <td>0</td>\n",
       "      <td>0</td>\n",
       "      <td>0</td>\n",
       "      <td>0</td>\n",
       "      <td>0</td>\n",
       "      <td>0</td>\n",
       "      <td>0</td>\n",
       "      <td>0</td>\n",
       "      <td>0</td>\n",
       "      <td>...</td>\n",
       "      <td>0</td>\n",
       "      <td>0</td>\n",
       "      <td>0</td>\n",
       "      <td>0</td>\n",
       "      <td>0</td>\n",
       "      <td>0</td>\n",
       "      <td>0</td>\n",
       "      <td>0</td>\n",
       "      <td>0</td>\n",
       "      <td>0</td>\n",
       "    </tr>\n",
       "    <tr>\n",
       "      <th>...</th>\n",
       "      <td>...</td>\n",
       "      <td>...</td>\n",
       "      <td>...</td>\n",
       "      <td>...</td>\n",
       "      <td>...</td>\n",
       "      <td>...</td>\n",
       "      <td>...</td>\n",
       "      <td>...</td>\n",
       "      <td>...</td>\n",
       "      <td>...</td>\n",
       "      <td>...</td>\n",
       "      <td>...</td>\n",
       "      <td>...</td>\n",
       "      <td>...</td>\n",
       "      <td>...</td>\n",
       "      <td>...</td>\n",
       "      <td>...</td>\n",
       "      <td>...</td>\n",
       "      <td>...</td>\n",
       "      <td>...</td>\n",
       "      <td>...</td>\n",
       "    </tr>\n",
       "    <tr>\n",
       "      <th>192</th>\n",
       "      <td>0</td>\n",
       "      <td>0</td>\n",
       "      <td>0</td>\n",
       "      <td>0</td>\n",
       "      <td>0</td>\n",
       "      <td>0</td>\n",
       "      <td>0</td>\n",
       "      <td>0</td>\n",
       "      <td>0</td>\n",
       "      <td>0</td>\n",
       "      <td>...</td>\n",
       "      <td>0</td>\n",
       "      <td>1</td>\n",
       "      <td>0</td>\n",
       "      <td>1</td>\n",
       "      <td>0</td>\n",
       "      <td>0</td>\n",
       "      <td>0</td>\n",
       "      <td>0</td>\n",
       "      <td>0</td>\n",
       "      <td>0</td>\n",
       "    </tr>\n",
       "    <tr>\n",
       "      <th>193</th>\n",
       "      <td>0</td>\n",
       "      <td>0</td>\n",
       "      <td>0</td>\n",
       "      <td>0</td>\n",
       "      <td>2</td>\n",
       "      <td>0</td>\n",
       "      <td>0</td>\n",
       "      <td>0</td>\n",
       "      <td>5</td>\n",
       "      <td>0</td>\n",
       "      <td>...</td>\n",
       "      <td>1</td>\n",
       "      <td>0</td>\n",
       "      <td>1</td>\n",
       "      <td>0</td>\n",
       "      <td>0</td>\n",
       "      <td>0</td>\n",
       "      <td>0</td>\n",
       "      <td>0</td>\n",
       "      <td>0</td>\n",
       "      <td>0</td>\n",
       "    </tr>\n",
       "    <tr>\n",
       "      <th>194</th>\n",
       "      <td>0</td>\n",
       "      <td>0</td>\n",
       "      <td>0</td>\n",
       "      <td>0</td>\n",
       "      <td>0</td>\n",
       "      <td>0</td>\n",
       "      <td>0</td>\n",
       "      <td>0</td>\n",
       "      <td>0</td>\n",
       "      <td>0</td>\n",
       "      <td>...</td>\n",
       "      <td>0</td>\n",
       "      <td>0</td>\n",
       "      <td>0</td>\n",
       "      <td>0</td>\n",
       "      <td>0</td>\n",
       "      <td>0</td>\n",
       "      <td>0</td>\n",
       "      <td>0</td>\n",
       "      <td>0</td>\n",
       "      <td>0</td>\n",
       "    </tr>\n",
       "    <tr>\n",
       "      <th>195</th>\n",
       "      <td>0</td>\n",
       "      <td>0</td>\n",
       "      <td>0</td>\n",
       "      <td>0</td>\n",
       "      <td>0</td>\n",
       "      <td>0</td>\n",
       "      <td>0</td>\n",
       "      <td>0</td>\n",
       "      <td>2</td>\n",
       "      <td>0</td>\n",
       "      <td>...</td>\n",
       "      <td>0</td>\n",
       "      <td>0</td>\n",
       "      <td>0</td>\n",
       "      <td>0</td>\n",
       "      <td>0</td>\n",
       "      <td>1</td>\n",
       "      <td>0</td>\n",
       "      <td>0</td>\n",
       "      <td>0</td>\n",
       "      <td>0</td>\n",
       "    </tr>\n",
       "    <tr>\n",
       "      <th>196</th>\n",
       "      <td>0</td>\n",
       "      <td>1</td>\n",
       "      <td>0</td>\n",
       "      <td>0</td>\n",
       "      <td>0</td>\n",
       "      <td>0</td>\n",
       "      <td>0</td>\n",
       "      <td>0</td>\n",
       "      <td>0</td>\n",
       "      <td>0</td>\n",
       "      <td>...</td>\n",
       "      <td>0</td>\n",
       "      <td>0</td>\n",
       "      <td>0</td>\n",
       "      <td>0</td>\n",
       "      <td>0</td>\n",
       "      <td>0</td>\n",
       "      <td>0</td>\n",
       "      <td>0</td>\n",
       "      <td>0</td>\n",
       "      <td>0</td>\n",
       "    </tr>\n",
       "  </tbody>\n",
       "</table>\n",
       "<p>197 rows × 76 columns</p>\n",
       "</div>"
      ],
      "text/plain": [
       "     ben carson  bernie sanders  but not  care bill  chris christie  \\\n",
       "0             0               0        0          0               0   \n",
       "1             0               0        0          0               0   \n",
       "2             0               0        0          0               0   \n",
       "3             0               1        0          0               1   \n",
       "4             0               0        0          0               0   \n",
       "..          ...             ...      ...        ...             ...   \n",
       "192           0               0        0          0               0   \n",
       "193           0               0        0          0               2   \n",
       "194           0               0        0          0               0   \n",
       "195           0               0        0          0               0   \n",
       "196           0               1        0          0               0   \n",
       "\n",
       "     civil rights  climate change  could be  donald trump  donald trumps  ...  \\\n",
       "0               0               0         0             0              0  ...   \n",
       "1               1               0         0             1              0  ...   \n",
       "2               0               0         0             0              0  ...   \n",
       "3               0               0         0             4              0  ...   \n",
       "4               0               0         0             0              0  ...   \n",
       "..            ...             ...       ...           ...            ...  ...   \n",
       "192             0               0         0             0              0  ...   \n",
       "193             0               0         0             5              0  ...   \n",
       "194             0               0         0             0              0  ...   \n",
       "195             0               0         0             2              0  ...   \n",
       "196             0               0         0             0              0  ...   \n",
       "\n",
       "     trump has  trump jr  trump says  voter fraud  wall street  white house  \\\n",
       "0            0         0           0            0            0            0   \n",
       "1            0         0           0            0            0            0   \n",
       "2            0         0           0            0            0            0   \n",
       "3            0         0           0            0            0            0   \n",
       "4            0         0           0            0            0            0   \n",
       "..         ...       ...         ...          ...          ...          ...   \n",
       "192          0         1           0            1            0            0   \n",
       "193          1         0           1            0            0            0   \n",
       "194          0         0           0            0            0            0   \n",
       "195          0         0           0            0            0            1   \n",
       "196          0         0           0            0            0            0   \n",
       "\n",
       "     will be  with trump  women in  york times  \n",
       "0          0           0         0           0  \n",
       "1          0           0         0           0  \n",
       "2          0           0         0           0  \n",
       "3          1           0         0           0  \n",
       "4          0           0         0           0  \n",
       "..       ...         ...       ...         ...  \n",
       "192        0           0         0           0  \n",
       "193        0           0         0           0  \n",
       "194        0           0         0           0  \n",
       "195        0           0         0           0  \n",
       "196        0           0         0           0  \n",
       "\n",
       "[197 rows x 76 columns]"
      ]
     },
     "execution_count": 140,
     "metadata": {},
     "output_type": "execute_result"
    }
   ],
   "source": [
    "X_test_count"
   ]
  },
  {
   "cell_type": "markdown",
   "id": "e1adaf4c",
   "metadata": {},
   "source": [
    "Policzmy ile jest kolumn w których są same 0 (tak z ciekawości)"
   ]
  },
  {
   "cell_type": "code",
   "execution_count": 141,
   "id": "7f32025c",
   "metadata": {},
   "outputs": [],
   "source": [
    "only_zeros_columns = []\n",
    "for col in X_test_count.columns:\n",
    "    if X_test_count[col].value_counts().size == 1:\n",
    "        only_zeros_columns.append(col)"
   ]
  },
  {
   "cell_type": "code",
   "execution_count": 142,
   "id": "844ee358",
   "metadata": {},
   "outputs": [
    {
     "data": {
      "text/plain": [
       "4"
      ]
     },
     "execution_count": 142,
     "metadata": {},
     "output_type": "execute_result"
    }
   ],
   "source": [
    "len(only_zeros_columns)"
   ]
  },
  {
   "cell_type": "markdown",
   "id": "62b724f6",
   "metadata": {},
   "source": [
    "# Modele"
   ]
  },
  {
   "cell_type": "code",
   "execution_count": 143,
   "id": "5def36b6",
   "metadata": {},
   "outputs": [],
   "source": [
    "from sklearn.model_selection import StratifiedKFold\n",
    "from sklearn.pipeline import Pipeline\n",
    "from sklearn.model_selection import GridSearchCV\n",
    "from sklearn.svm import SVC\n",
    "from sklearn.linear_model import LogisticRegression\n",
    "\n",
    "seed=123\n",
    "kfold = StratifiedKFold(n_splits=5)\n",
    "\n",
    "COLUMNS = X_train_count.columns\n",
    "\n",
    "X_train_count = X_train_count.values\n",
    "X_test_count = X_test_count.values"
   ]
  },
  {
   "cell_type": "markdown",
   "id": "9af2a803",
   "metadata": {},
   "source": [
    "## DecisionTreeClassifier "
   ]
  },
  {
   "cell_type": "code",
   "execution_count": null,
   "id": "35c7d0dd",
   "metadata": {},
   "outputs": [],
   "source": [
    "from sklearn.tree import DecisionTreeClassifier\n",
    "\n",
    "pipe = Pipeline([\n",
    "    ('classifier', DecisionTreeClassifier())])\n",
    "param_grid = {\n",
    "            'classifier__criterion': ['gini', 'entropy', 'log_loss'],\n",
    "            'classifier__splitter': ['best', 'random'],\n",
    "            'classifier__min_samples_split':[1,2,4,10, 20, 50, 100],\n",
    "            'classifier__min_samples_leaf':[1,2,4,10, 20, 50, 100]\n",
    "}\n",
    "grid_0 = GridSearchCV(pipe, param_grid, cv=kfold, verbose=10)\n",
    "grid_0.fit(X_train_count, y_train)\n",
    "grid_0.best_params_"
   ]
  },
  {
   "cell_type": "code",
   "execution_count": 145,
   "id": "ec592f20",
   "metadata": {},
   "outputs": [
    {
     "data": {
      "text/plain": [
       "{'classifier__criterion': 'gini',\n",
       " 'classifier__min_samples_leaf': 50,\n",
       " 'classifier__min_samples_split': 20,\n",
       " 'classifier__splitter': 'random'}"
      ]
     },
     "execution_count": 145,
     "metadata": {},
     "output_type": "execute_result"
    }
   ],
   "source": [
    "grid_0.best_params_"
   ]
  },
  {
   "cell_type": "markdown",
   "id": "542ff6ff",
   "metadata": {},
   "source": [
    "## SVM (linear)"
   ]
  },
  {
   "cell_type": "code",
   "execution_count": 146,
   "id": "01aa6aa3",
   "metadata": {},
   "outputs": [
    {
     "data": {
      "text/plain": [
       "{'classifier__C': 0.1}"
      ]
     },
     "execution_count": 146,
     "metadata": {},
     "output_type": "execute_result"
    }
   ],
   "source": [
    "pipe = Pipeline([\n",
    "    ('classifier', SVC(kernel='linear'))])\n",
    "param_grid = {\n",
    "            'classifier__C': [0.000001, 0.00001, 0.0001, 0.001, 0.01, 0.1, 1, 10, 100]\n",
    "}\n",
    "grid_1 = GridSearchCV(pipe, param_grid, cv=kfold)\n",
    "grid_1.fit(X_train_count, y_train)\n",
    "grid_1.best_params_"
   ]
  },
  {
   "cell_type": "code",
   "execution_count": 147,
   "id": "3ec1cc09",
   "metadata": {},
   "outputs": [
    {
     "data": {
      "text/plain": [
       "{'classifier__C': 0.1}"
      ]
     },
     "execution_count": 147,
     "metadata": {},
     "output_type": "execute_result"
    }
   ],
   "source": [
    "grid_1.best_params_"
   ]
  },
  {
   "cell_type": "markdown",
   "id": "2c8ca8c0",
   "metadata": {},
   "source": [
    "## LogisticRegression"
   ]
  },
  {
   "cell_type": "code",
   "execution_count": null,
   "id": "0de9521b",
   "metadata": {},
   "outputs": [],
   "source": [
    "from sklearn.linear_model import LogisticRegression\n",
    "pipe = Pipeline([\n",
    "    ('classifier', LogisticRegression(max_iter=10000))])\n",
    "\n",
    "param_grid = {\n",
    "            'classifier__C' : np.linspace(0, 0.1, 100),\n",
    "            'classifier__solver':['newton-cg', 'lbfgs', 'liblinear'],\n",
    "            'classifier__penalty' : ['l1', 'l2'],\n",
    "            'classifier__tol':[1e-5, 1e-4, 1e-3],\n",
    "            'classifier__fit_intercept':[False, True]\n",
    "}\n",
    "\n",
    "grid_2 = GridSearchCV(pipe, param_grid, cv=kfold,scoring='accuracy')\n",
    "grid_2.fit(X_train_count, y_train)\n",
    "grid_2.best_params_"
   ]
  },
  {
   "cell_type": "code",
   "execution_count": 149,
   "id": "bd930b80",
   "metadata": {},
   "outputs": [
    {
     "data": {
      "text/plain": [
       "{'classifier__C': 0.00404040404040404,\n",
       " 'classifier__fit_intercept': True,\n",
       " 'classifier__penalty': 'l2',\n",
       " 'classifier__solver': 'newton-cg',\n",
       " 'classifier__tol': 1e-05}"
      ]
     },
     "execution_count": 149,
     "metadata": {},
     "output_type": "execute_result"
    }
   ],
   "source": [
    "grid_2.best_params_"
   ]
  },
  {
   "cell_type": "markdown",
   "id": "988791d9",
   "metadata": {},
   "source": [
    "## XGBClassifier "
   ]
  },
  {
   "cell_type": "code",
   "execution_count": 150,
   "id": "0378fd8e",
   "metadata": {},
   "outputs": [
    {
     "data": {
      "text/plain": [
       "{'classifier__alpha': 1,\n",
       " 'classifier__eta': 0.001,\n",
       " 'classifier__gamma': 0,\n",
       " 'classifier__lambda': 0.1,\n",
       " 'classifier__max_depth': 6,\n",
       " 'classifier__min_child_weight': 4,\n",
       " 'classifier__subsample': 0.5}"
      ]
     },
     "execution_count": 150,
     "metadata": {},
     "output_type": "execute_result"
    }
   ],
   "source": [
    "import xgboost\n",
    "\n",
    "xgb_cls = xgboost.XGBClassifier(n_estimators=10, verbosity = 0, use_label_encoder=False)\n",
    "\n",
    "pipe = Pipeline([\n",
    "    ('classifier', xgb_cls)])\n",
    "\n",
    "param_grid = {\n",
    "        'classifier__min_child_weight': [3,4,5],\n",
    "        'classifier__gamma': [0, 1, 10],\n",
    "        'classifier__subsample': [0.1, 0.3, 0.5],\n",
    "        'classifier__lambda': [0.1, 1, 10, 100],\n",
    "        'classifier__alpha': [0, 1, 10, 100],\n",
    "        'classifier__max_depth': [3,6,9],\n",
    "        'classifier__eta':[0.001, 0.01, 0.1, 0.3, 1],\n",
    "}\n",
    "# grid_3 = GridSearchCV(pipe, param_grid, cv=kfold, verbose=10, scoring='accuracy')\n",
    "grid_3 = GridSearchCV(pipe, param_grid, cv=kfold, scoring='accuracy')\n",
    "grid_3.fit(X_train_count, y_train)\n",
    "grid_3.best_params_"
   ]
  },
  {
   "cell_type": "markdown",
   "id": "c50bfc30",
   "metadata": {},
   "source": [
    "## RandomForestClassifier "
   ]
  },
  {
   "cell_type": "code",
   "execution_count": null,
   "id": "208a149b",
   "metadata": {},
   "outputs": [],
   "source": [
    "from sklearn.ensemble import RandomForestClassifier\n",
    "\n",
    "pipe = Pipeline([\n",
    "    ('classifier', RandomForestClassifier())])\n",
    "param_grid = {\n",
    "            'classifier__criterion': ['gini', 'entropy', 'log_loss'],\n",
    "            'classifier__n_estimators': [10,100,400],\n",
    "            'classifier__min_samples_split':[2,4,10, 20, 50, 100],\n",
    "            'classifier__min_samples_leaf':[1,2,4,10, 20, 50, 100]\n",
    "}\n",
    "grid_4 = GridSearchCV(pipe, param_grid, cv=kfold)\n",
    "grid_4.fit(X_train_count, y_train)\n",
    "grid_4.best_params_"
   ]
  },
  {
   "cell_type": "code",
   "execution_count": 152,
   "id": "7ff57bc8",
   "metadata": {},
   "outputs": [
    {
     "data": {
      "text/plain": [
       "{'classifier__criterion': 'entropy',\n",
       " 'classifier__min_samples_leaf': 20,\n",
       " 'classifier__min_samples_split': 20,\n",
       " 'classifier__n_estimators': 400}"
      ]
     },
     "execution_count": 152,
     "metadata": {},
     "output_type": "execute_result"
    }
   ],
   "source": [
    "grid_4.best_params_"
   ]
  },
  {
   "cell_type": "markdown",
   "id": "58e54211",
   "metadata": {},
   "source": [
    "## MLPClassifier "
   ]
  },
  {
   "cell_type": "code",
   "execution_count": null,
   "id": "c2daa8ab",
   "metadata": {},
   "outputs": [],
   "source": [
    "from sklearn.neural_network import MLPClassifier\n",
    "mlp = MLPClassifier(alpha=1e-5, max_iter=100,random_state=1)\n",
    "\n",
    "pipe = Pipeline([\n",
    "    ('classifier', mlp)])\n",
    "\n",
    "param_grid = {\n",
    "              'classifier__solver':['sgd', 'adam'],\n",
    "#               'classifier__alpha': [0.0001, 0.001, 0.01, 0.1],\n",
    "                'classifier__alpha': [0.001, 0.01, 0.1],\n",
    "              'classifier__activation':['identity', 'logistic', 'relu'],\n",
    "              'classifier__shuffle': [False, True],\n",
    "              'classifier__early_stopping': [False, True],\n",
    "              'classifier__hidden_layer_sizes':[(100,)],\n",
    "              'classifier__learning_rate':['invscaling', 'adaptive'],\n",
    "              'classifier__batch_size':[50, 100, 200, 300]\n",
    "             }\n",
    "\n",
    "grid_5 = GridSearchCV(pipe, param_grid, cv=kfold,scoring='accuracy')\n",
    "# grid_5 = mlp\n",
    "grid_5.fit(X_train_count, y_train)\n",
    "grid_5.best_params_"
   ]
  },
  {
   "cell_type": "code",
   "execution_count": 154,
   "id": "085eee7f",
   "metadata": {},
   "outputs": [
    {
     "data": {
      "text/plain": [
       "{'classifier__activation': 'logistic',\n",
       " 'classifier__alpha': 0.1,\n",
       " 'classifier__batch_size': 50,\n",
       " 'classifier__early_stopping': True,\n",
       " 'classifier__hidden_layer_sizes': (100,),\n",
       " 'classifier__learning_rate': 'invscaling',\n",
       " 'classifier__shuffle': False,\n",
       " 'classifier__solver': 'adam'}"
      ]
     },
     "execution_count": 154,
     "metadata": {},
     "output_type": "execute_result"
    }
   ],
   "source": [
    "grid_5.best_params_"
   ]
  },
  {
   "cell_type": "markdown",
   "id": "71d47173",
   "metadata": {},
   "source": [
    "## GradientBoostingClassifier"
   ]
  },
  {
   "cell_type": "code",
   "execution_count": null,
   "id": "815b27b8",
   "metadata": {},
   "outputs": [],
   "source": [
    "from sklearn.ensemble import GradientBoostingClassifier\n",
    "pipe = Pipeline([\n",
    "    ('classifier', GradientBoostingClassifier())])\n",
    "\n",
    "param_grid = {\n",
    "            'classifier__n_estimators': [1,10,30, 60],\n",
    "            'classifier__learning_rate': [0.01, 0.1, 0.3, 0.6, 0.8, 1],\n",
    "            'classifier__criterion': ['friedman_mse', 'squared_error'],\n",
    "            'classifier__min_samples_split':[2,4,10, 20, 50, 100],\n",
    "            'classifier__min_samples_leaf':[1,2,4,10, 20, 50, 100]\n",
    "}\n",
    "\n",
    "grid_6 = GridSearchCV(pipe, param_grid, cv=kfold, scoring='accuracy')\n",
    "grid_6.fit(X_train_count, y_train)\n",
    "grid_6.best_params_"
   ]
  },
  {
   "cell_type": "code",
   "execution_count": 156,
   "id": "40bfcd19",
   "metadata": {
    "scrolled": true
   },
   "outputs": [
    {
     "data": {
      "text/plain": [
       "{'classifier__criterion': 'friedman_mse',\n",
       " 'classifier__learning_rate': 0.3,\n",
       " 'classifier__min_samples_leaf': 4,\n",
       " 'classifier__min_samples_split': 2,\n",
       " 'classifier__n_estimators': 10}"
      ]
     },
     "execution_count": 156,
     "metadata": {},
     "output_type": "execute_result"
    }
   ],
   "source": [
    "grid_6.best_params_"
   ]
  },
  {
   "cell_type": "markdown",
   "id": "0e7c0483",
   "metadata": {},
   "source": [
    "## AdaBoostClassifier "
   ]
  },
  {
   "cell_type": "code",
   "execution_count": null,
   "id": "8411fd84",
   "metadata": {},
   "outputs": [],
   "source": [
    "from sklearn.ensemble import AdaBoostClassifier\n",
    "pipe = Pipeline([\n",
    "    ('classifier', AdaBoostClassifier())])\n",
    "\n",
    "param_grid = {\n",
    "            'classifier__n_estimators': [1,10,30,40,50,60,70],\n",
    "            'classifier__learning_rate': [0.001, 0.01, 0.1,0.3, 0.6, 0.8, 1,2,4,6, 10],\n",
    "            'classifier__algorithm': ['SAMME', 'SAMME.R']\n",
    "}\n",
    "\n",
    "grid_7 = GridSearchCV(pipe, param_grid, cv=kfold, scoring='accuracy')\n",
    "grid_7.fit(X_train_count, y_train)\n",
    "grid_7.best_params_"
   ]
  },
  {
   "cell_type": "code",
   "execution_count": 158,
   "id": "a023f775",
   "metadata": {},
   "outputs": [
    {
     "data": {
      "text/plain": [
       "{'classifier__algorithm': 'SAMME.R',\n",
       " 'classifier__learning_rate': 0.3,\n",
       " 'classifier__n_estimators': 30}"
      ]
     },
     "execution_count": 158,
     "metadata": {},
     "output_type": "execute_result"
    }
   ],
   "source": [
    "grid_7.best_params_"
   ]
  },
  {
   "cell_type": "markdown",
   "id": "8cfae22d",
   "metadata": {},
   "source": [
    "## Keras bez early stopping "
   ]
  },
  {
   "cell_type": "code",
   "execution_count": 159,
   "id": "8e2a93f6",
   "metadata": {},
   "outputs": [
    {
     "name": "stdout",
     "output_type": "stream",
     "text": [
      "Model: \"sequential\"\n",
      "_________________________________________________________________\n",
      "Layer (type)                 Output Shape              Param #   \n",
      "=================================================================\n",
      "flatten (Flatten)            (None, 76)                0         \n",
      "_________________________________________________________________\n",
      "dense (Dense)                (None, 300)               23100     \n",
      "_________________________________________________________________\n",
      "batch_normalization (BatchNo (None, 300)               1200      \n",
      "_________________________________________________________________\n",
      "activation (Activation)      (None, 300)               0         \n",
      "_________________________________________________________________\n",
      "dropout (Dropout)            (None, 300)               0         \n",
      "_________________________________________________________________\n",
      "dense_1 (Dense)              (None, 150)               45150     \n",
      "_________________________________________________________________\n",
      "batch_normalization_1 (Batch (None, 150)               600       \n",
      "_________________________________________________________________\n",
      "activation_1 (Activation)    (None, 150)               0         \n",
      "_________________________________________________________________\n",
      "dropout_1 (Dropout)          (None, 150)               0         \n",
      "_________________________________________________________________\n",
      "dense_2 (Dense)              (None, 50)                7550      \n",
      "_________________________________________________________________\n",
      "batch_normalization_2 (Batch (None, 50)                200       \n",
      "_________________________________________________________________\n",
      "activation_2 (Activation)    (None, 50)                0         \n",
      "_________________________________________________________________\n",
      "dropout_2 (Dropout)          (None, 50)                0         \n",
      "_________________________________________________________________\n",
      "dense_3 (Dense)              (None, 1)                 51        \n",
      "=================================================================\n",
      "Total params: 77,851\n",
      "Trainable params: 76,851\n",
      "Non-trainable params: 1,000\n",
      "_________________________________________________________________\n"
     ]
    }
   ],
   "source": [
    "from tensorflow import keras\n",
    "from tensorflow.keras.models import Sequential\n",
    "from tensorflow.keras.layers import Dense, LSTM\n",
    "\n",
    "from tensorflow.keras.callbacks import History\n",
    "\n",
    "from tensorflow.keras.models import Sequential\n",
    "from tensorflow.keras.layers import Dense, Flatten\n",
    "from tensorflow.keras.layers import BatchNormalization\n",
    "from tensorflow.keras.layers import Activation\n",
    "from tensorflow.keras.layers import Dropout\n",
    "\n",
    "keras.backend.clear_session()\n",
    "\n",
    "history_1 = History()\n",
    "keras_1 = Sequential()\n",
    "\n",
    "keras_1.add(Flatten(input_shape=((X_train_count).shape[1],)))\n",
    "\n",
    "keras_1.add(Dense(300))\n",
    "keras_1.add(BatchNormalization())\n",
    "keras_1.add(Activation(\"elu\"))\n",
    "keras_1.add(Dropout(0.3))\n",
    "\n",
    "keras_1.add(Dense(150))\n",
    "keras_1.add(BatchNormalization())\n",
    "keras_1.add(Activation(\"elu\"))\n",
    "keras_1.add(Dropout(0.3))\n",
    "\n",
    "keras_1.add(Dense(50))\n",
    "keras_1.add(BatchNormalization())\n",
    "keras_1.add(Activation(\"elu\"))\n",
    "keras_1.add(Dropout(0.3))\n",
    "\n",
    "keras_1.add(Dense(1,activation=\"sigmoid\"))\n",
    "\n",
    "keras_1.summary()"
   ]
  },
  {
   "cell_type": "code",
   "execution_count": 160,
   "id": "c894f4a1",
   "metadata": {},
   "outputs": [],
   "source": [
    "keras_1.compile(loss=\"binary_crossentropy\",optimizer='adam', metrics=[\"accuracy\"])"
   ]
  },
  {
   "cell_type": "code",
   "execution_count": 161,
   "id": "138f0c28",
   "metadata": {
    "scrolled": true
   },
   "outputs": [
    {
     "name": "stdout",
     "output_type": "stream",
     "text": [
      "Epoch 1/200\n",
      "25/25 [==============================] - 0s 11ms/step - loss: 0.8232 - accuracy: 0.5223 - val_loss: 0.6746 - val_accuracy: 0.5888\n",
      "Epoch 2/200\n",
      "25/25 [==============================] - 0s 3ms/step - loss: 0.7547 - accuracy: 0.5389 - val_loss: 0.6656 - val_accuracy: 0.6142\n",
      "Epoch 3/200\n",
      "25/25 [==============================] - 0s 3ms/step - loss: 0.7252 - accuracy: 0.5427 - val_loss: 0.6649 - val_accuracy: 0.6345\n",
      "Epoch 4/200\n",
      "25/25 [==============================] - 0s 3ms/step - loss: 0.6978 - accuracy: 0.5924 - val_loss: 0.6622 - val_accuracy: 0.6294\n",
      "Epoch 5/200\n",
      "25/25 [==============================] - 0s 3ms/step - loss: 0.6978 - accuracy: 0.5682 - val_loss: 0.6636 - val_accuracy: 0.6091\n",
      "Epoch 6/200\n",
      "25/25 [==============================] - 0s 3ms/step - loss: 0.6780 - accuracy: 0.5898 - val_loss: 0.6583 - val_accuracy: 0.6142\n",
      "Epoch 7/200\n",
      "25/25 [==============================] - 0s 3ms/step - loss: 0.6761 - accuracy: 0.6025 - val_loss: 0.6670 - val_accuracy: 0.5990\n",
      "Epoch 8/200\n",
      "25/25 [==============================] - 0s 3ms/step - loss: 0.6715 - accuracy: 0.6089 - val_loss: 0.6683 - val_accuracy: 0.5990\n",
      "Epoch 9/200\n",
      "25/25 [==============================] - 0s 3ms/step - loss: 0.6652 - accuracy: 0.6153 - val_loss: 0.6734 - val_accuracy: 0.5990\n",
      "Epoch 10/200\n",
      "25/25 [==============================] - 0s 3ms/step - loss: 0.6390 - accuracy: 0.6280 - val_loss: 0.6706 - val_accuracy: 0.5838\n",
      "Epoch 11/200\n",
      "25/25 [==============================] - 0s 3ms/step - loss: 0.6505 - accuracy: 0.6242 - val_loss: 0.6787 - val_accuracy: 0.5990\n",
      "Epoch 12/200\n",
      "25/25 [==============================] - 0s 3ms/step - loss: 0.6335 - accuracy: 0.6357 - val_loss: 0.6865 - val_accuracy: 0.5838\n",
      "Epoch 13/200\n",
      "25/25 [==============================] - 0s 3ms/step - loss: 0.6402 - accuracy: 0.6433 - val_loss: 0.7105 - val_accuracy: 0.5482\n",
      "Epoch 14/200\n",
      "25/25 [==============================] - 0s 3ms/step - loss: 0.6210 - accuracy: 0.6611 - val_loss: 0.7010 - val_accuracy: 0.5888\n",
      "Epoch 15/200\n",
      "25/25 [==============================] - 0s 3ms/step - loss: 0.6195 - accuracy: 0.6433 - val_loss: 0.7007 - val_accuracy: 0.5736\n",
      "Epoch 16/200\n",
      "25/25 [==============================] - 0s 3ms/step - loss: 0.6057 - accuracy: 0.6726 - val_loss: 0.7283 - val_accuracy: 0.5431\n",
      "Epoch 17/200\n",
      "25/25 [==============================] - 0s 3ms/step - loss: 0.6222 - accuracy: 0.6624 - val_loss: 0.6999 - val_accuracy: 0.5990\n",
      "Epoch 18/200\n",
      "25/25 [==============================] - 0s 3ms/step - loss: 0.5964 - accuracy: 0.6777 - val_loss: 0.7260 - val_accuracy: 0.5787\n",
      "Epoch 19/200\n",
      "25/25 [==============================] - 0s 3ms/step - loss: 0.5943 - accuracy: 0.6701 - val_loss: 0.7214 - val_accuracy: 0.5787\n",
      "Epoch 20/200\n",
      "25/25 [==============================] - 0s 3ms/step - loss: 0.5801 - accuracy: 0.6879 - val_loss: 0.7126 - val_accuracy: 0.5990\n",
      "Epoch 21/200\n",
      "25/25 [==============================] - 0s 3ms/step - loss: 0.5869 - accuracy: 0.6752 - val_loss: 0.7247 - val_accuracy: 0.5888\n",
      "Epoch 22/200\n",
      "25/25 [==============================] - 0s 3ms/step - loss: 0.5805 - accuracy: 0.6955 - val_loss: 0.7179 - val_accuracy: 0.5888\n",
      "Epoch 23/200\n",
      "25/25 [==============================] - 0s 3ms/step - loss: 0.5598 - accuracy: 0.7045 - val_loss: 0.7195 - val_accuracy: 0.5939\n",
      "Epoch 24/200\n",
      "25/25 [==============================] - 0s 3ms/step - loss: 0.5676 - accuracy: 0.6790 - val_loss: 0.7494 - val_accuracy: 0.5787\n",
      "Epoch 25/200\n",
      "25/25 [==============================] - 0s 3ms/step - loss: 0.5611 - accuracy: 0.6955 - val_loss: 0.7788 - val_accuracy: 0.5685\n",
      "Epoch 26/200\n",
      "25/25 [==============================] - 0s 3ms/step - loss: 0.5681 - accuracy: 0.7006 - val_loss: 0.8063 - val_accuracy: 0.5533\n",
      "Epoch 27/200\n",
      "25/25 [==============================] - 0s 3ms/step - loss: 0.5548 - accuracy: 0.6943 - val_loss: 0.7668 - val_accuracy: 0.5685\n",
      "Epoch 28/200\n",
      "25/25 [==============================] - 0s 3ms/step - loss: 0.5378 - accuracy: 0.7274 - val_loss: 0.7971 - val_accuracy: 0.5482\n",
      "Epoch 29/200\n",
      "25/25 [==============================] - 0s 3ms/step - loss: 0.5465 - accuracy: 0.7134 - val_loss: 0.7711 - val_accuracy: 0.5787\n",
      "Epoch 30/200\n",
      "25/25 [==============================] - 0s 3ms/step - loss: 0.5482 - accuracy: 0.7172 - val_loss: 0.7936 - val_accuracy: 0.5736\n",
      "Epoch 31/200\n",
      "25/25 [==============================] - 0s 3ms/step - loss: 0.5245 - accuracy: 0.7287 - val_loss: 0.8130 - val_accuracy: 0.5584\n",
      "Epoch 32/200\n",
      "25/25 [==============================] - 0s 3ms/step - loss: 0.5186 - accuracy: 0.7465 - val_loss: 0.8120 - val_accuracy: 0.5482\n",
      "Epoch 33/200\n",
      "25/25 [==============================] - 0s 3ms/step - loss: 0.5459 - accuracy: 0.7032 - val_loss: 0.8313 - val_accuracy: 0.5787\n",
      "Epoch 34/200\n",
      "25/25 [==============================] - 0s 3ms/step - loss: 0.5246 - accuracy: 0.7363 - val_loss: 0.7902 - val_accuracy: 0.5888\n",
      "Epoch 35/200\n",
      "25/25 [==============================] - 0s 3ms/step - loss: 0.5132 - accuracy: 0.7414 - val_loss: 0.8161 - val_accuracy: 0.5838\n",
      "Epoch 36/200\n",
      "25/25 [==============================] - 0s 3ms/step - loss: 0.5289 - accuracy: 0.7210 - val_loss: 0.7919 - val_accuracy: 0.5990\n",
      "Epoch 37/200\n",
      "25/25 [==============================] - 0s 3ms/step - loss: 0.5175 - accuracy: 0.7376 - val_loss: 0.8244 - val_accuracy: 0.5482\n",
      "Epoch 38/200\n",
      "25/25 [==============================] - 0s 3ms/step - loss: 0.4751 - accuracy: 0.7567 - val_loss: 0.8357 - val_accuracy: 0.5635\n",
      "Epoch 39/200\n",
      "25/25 [==============================] - 0s 3ms/step - loss: 0.4891 - accuracy: 0.7618 - val_loss: 0.8476 - val_accuracy: 0.5584\n",
      "Epoch 40/200\n",
      "25/25 [==============================] - 0s 3ms/step - loss: 0.5027 - accuracy: 0.7287 - val_loss: 0.8868 - val_accuracy: 0.5736\n",
      "Epoch 41/200\n",
      "25/25 [==============================] - 0s 3ms/step - loss: 0.5010 - accuracy: 0.7503 - val_loss: 0.8557 - val_accuracy: 0.5939\n",
      "Epoch 42/200\n",
      "25/25 [==============================] - 0s 3ms/step - loss: 0.5055 - accuracy: 0.7452 - val_loss: 0.8759 - val_accuracy: 0.6041\n",
      "Epoch 43/200\n",
      "25/25 [==============================] - 0s 3ms/step - loss: 0.4748 - accuracy: 0.7452 - val_loss: 0.8676 - val_accuracy: 0.5482\n",
      "Epoch 44/200\n",
      "25/25 [==============================] - 0s 3ms/step - loss: 0.4548 - accuracy: 0.7758 - val_loss: 0.8592 - val_accuracy: 0.5838\n",
      "Epoch 45/200\n",
      "25/25 [==============================] - 0s 3ms/step - loss: 0.4579 - accuracy: 0.7771 - val_loss: 0.8894 - val_accuracy: 0.5685\n",
      "Epoch 46/200\n",
      "25/25 [==============================] - 0s 3ms/step - loss: 0.4550 - accuracy: 0.7682 - val_loss: 0.9027 - val_accuracy: 0.5685\n",
      "Epoch 47/200\n",
      "25/25 [==============================] - 0s 3ms/step - loss: 0.4787 - accuracy: 0.7783 - val_loss: 0.8992 - val_accuracy: 0.5736\n",
      "Epoch 48/200\n",
      "25/25 [==============================] - 0s 3ms/step - loss: 0.4280 - accuracy: 0.7987 - val_loss: 0.8889 - val_accuracy: 0.5685\n",
      "Epoch 49/200\n",
      "25/25 [==============================] - 0s 3ms/step - loss: 0.4276 - accuracy: 0.7949 - val_loss: 0.9501 - val_accuracy: 0.5533\n",
      "Epoch 50/200\n",
      "25/25 [==============================] - 0s 3ms/step - loss: 0.4357 - accuracy: 0.7796 - val_loss: 0.9180 - val_accuracy: 0.5533\n",
      "Epoch 51/200\n",
      "25/25 [==============================] - 0s 3ms/step - loss: 0.4293 - accuracy: 0.7911 - val_loss: 0.9232 - val_accuracy: 0.5584\n",
      "Epoch 52/200\n",
      "25/25 [==============================] - 0s 3ms/step - loss: 0.4305 - accuracy: 0.7911 - val_loss: 0.9446 - val_accuracy: 0.5584\n",
      "Epoch 53/200\n",
      "25/25 [==============================] - 0s 3ms/step - loss: 0.4194 - accuracy: 0.8064 - val_loss: 0.9119 - val_accuracy: 0.5888\n",
      "Epoch 54/200\n",
      "25/25 [==============================] - 0s 3ms/step - loss: 0.4249 - accuracy: 0.8013 - val_loss: 1.0037 - val_accuracy: 0.5431\n",
      "Epoch 55/200\n",
      "25/25 [==============================] - 0s 3ms/step - loss: 0.4118 - accuracy: 0.7962 - val_loss: 0.9794 - val_accuracy: 0.5635\n",
      "Epoch 56/200\n",
      "25/25 [==============================] - 0s 3ms/step - loss: 0.4014 - accuracy: 0.8229 - val_loss: 0.9322 - val_accuracy: 0.5685\n",
      "Epoch 57/200\n",
      "25/25 [==============================] - 0s 3ms/step - loss: 0.4050 - accuracy: 0.7987 - val_loss: 0.9896 - val_accuracy: 0.5635\n",
      "Epoch 58/200\n",
      "25/25 [==============================] - 0s 3ms/step - loss: 0.4080 - accuracy: 0.8013 - val_loss: 0.9894 - val_accuracy: 0.5584\n"
     ]
    },
    {
     "name": "stdout",
     "output_type": "stream",
     "text": [
      "Epoch 59/200\n",
      "25/25 [==============================] - 0s 3ms/step - loss: 0.3928 - accuracy: 0.8089 - val_loss: 1.0092 - val_accuracy: 0.5787\n",
      "Epoch 60/200\n",
      "25/25 [==============================] - 0s 3ms/step - loss: 0.4005 - accuracy: 0.8000 - val_loss: 0.9805 - val_accuracy: 0.5584\n",
      "Epoch 61/200\n",
      "25/25 [==============================] - 0s 3ms/step - loss: 0.3722 - accuracy: 0.8178 - val_loss: 1.0243 - val_accuracy: 0.5584\n",
      "Epoch 62/200\n",
      "25/25 [==============================] - 0s 3ms/step - loss: 0.3967 - accuracy: 0.8153 - val_loss: 1.0121 - val_accuracy: 0.5685\n",
      "Epoch 63/200\n",
      "25/25 [==============================] - 0s 3ms/step - loss: 0.3841 - accuracy: 0.8217 - val_loss: 1.0273 - val_accuracy: 0.5787\n",
      "Epoch 64/200\n",
      "25/25 [==============================] - 0s 3ms/step - loss: 0.4282 - accuracy: 0.7962 - val_loss: 1.0863 - val_accuracy: 0.5279\n",
      "Epoch 65/200\n",
      "25/25 [==============================] - 0s 3ms/step - loss: 0.3535 - accuracy: 0.8293 - val_loss: 1.0109 - val_accuracy: 0.5787\n",
      "Epoch 66/200\n",
      "25/25 [==============================] - 0s 3ms/step - loss: 0.3632 - accuracy: 0.8280 - val_loss: 1.0823 - val_accuracy: 0.5533\n",
      "Epoch 67/200\n",
      "25/25 [==============================] - 0s 3ms/step - loss: 0.3782 - accuracy: 0.8306 - val_loss: 1.1284 - val_accuracy: 0.5584\n",
      "Epoch 68/200\n",
      "25/25 [==============================] - 0s 3ms/step - loss: 0.3785 - accuracy: 0.8242 - val_loss: 1.1185 - val_accuracy: 0.5127\n",
      "Epoch 69/200\n",
      "25/25 [==============================] - 0s 3ms/step - loss: 0.3744 - accuracy: 0.8293 - val_loss: 1.1483 - val_accuracy: 0.5635\n",
      "Epoch 70/200\n",
      "25/25 [==============================] - 0s 3ms/step - loss: 0.3695 - accuracy: 0.8255 - val_loss: 1.1007 - val_accuracy: 0.5482\n",
      "Epoch 71/200\n",
      "25/25 [==============================] - 0s 3ms/step - loss: 0.3758 - accuracy: 0.8255 - val_loss: 1.0655 - val_accuracy: 0.5533\n",
      "Epoch 72/200\n",
      "25/25 [==============================] - 0s 3ms/step - loss: 0.3911 - accuracy: 0.8089 - val_loss: 1.1061 - val_accuracy: 0.5584\n",
      "Epoch 73/200\n",
      "25/25 [==============================] - 0s 3ms/step - loss: 0.4137 - accuracy: 0.8013 - val_loss: 1.0723 - val_accuracy: 0.5584\n",
      "Epoch 74/200\n",
      "25/25 [==============================] - 0s 3ms/step - loss: 0.3834 - accuracy: 0.8102 - val_loss: 1.0610 - val_accuracy: 0.5685\n",
      "Epoch 75/200\n",
      "25/25 [==============================] - 0s 3ms/step - loss: 0.3423 - accuracy: 0.8510 - val_loss: 1.1288 - val_accuracy: 0.5482\n",
      "Epoch 76/200\n",
      "25/25 [==============================] - 0s 3ms/step - loss: 0.3638 - accuracy: 0.8229 - val_loss: 1.1796 - val_accuracy: 0.5228\n",
      "Epoch 77/200\n",
      "25/25 [==============================] - 0s 3ms/step - loss: 0.3476 - accuracy: 0.8140 - val_loss: 1.1300 - val_accuracy: 0.5279\n",
      "Epoch 78/200\n",
      "25/25 [==============================] - 0s 3ms/step - loss: 0.3352 - accuracy: 0.8459 - val_loss: 1.1211 - val_accuracy: 0.5584\n",
      "Epoch 79/200\n",
      "25/25 [==============================] - 0s 3ms/step - loss: 0.3465 - accuracy: 0.8344 - val_loss: 1.1559 - val_accuracy: 0.5685\n",
      "Epoch 80/200\n",
      "25/25 [==============================] - 0s 3ms/step - loss: 0.3456 - accuracy: 0.8255 - val_loss: 1.1122 - val_accuracy: 0.5685\n",
      "Epoch 81/200\n",
      "25/25 [==============================] - 0s 3ms/step - loss: 0.3108 - accuracy: 0.8522 - val_loss: 1.1670 - val_accuracy: 0.5685\n",
      "Epoch 82/200\n",
      "25/25 [==============================] - 0s 3ms/step - loss: 0.3450 - accuracy: 0.8268 - val_loss: 1.2097 - val_accuracy: 0.5330\n",
      "Epoch 83/200\n",
      "25/25 [==============================] - 0s 3ms/step - loss: 0.3550 - accuracy: 0.8395 - val_loss: 1.1995 - val_accuracy: 0.5381\n",
      "Epoch 84/200\n",
      "25/25 [==============================] - 0s 3ms/step - loss: 0.3436 - accuracy: 0.8433 - val_loss: 1.1895 - val_accuracy: 0.5685\n",
      "Epoch 85/200\n",
      "25/25 [==============================] - 0s 3ms/step - loss: 0.3234 - accuracy: 0.8497 - val_loss: 1.2181 - val_accuracy: 0.5584\n",
      "Epoch 86/200\n",
      "25/25 [==============================] - 0s 3ms/step - loss: 0.3194 - accuracy: 0.8408 - val_loss: 1.2440 - val_accuracy: 0.5178\n",
      "Epoch 87/200\n",
      "25/25 [==============================] - 0s 3ms/step - loss: 0.3012 - accuracy: 0.8522 - val_loss: 1.1968 - val_accuracy: 0.5533\n",
      "Epoch 88/200\n",
      "25/25 [==============================] - 0s 3ms/step - loss: 0.3031 - accuracy: 0.8599 - val_loss: 1.2643 - val_accuracy: 0.5482\n",
      "Epoch 89/200\n",
      "25/25 [==============================] - 0s 3ms/step - loss: 0.3288 - accuracy: 0.8522 - val_loss: 1.2715 - val_accuracy: 0.5228\n",
      "Epoch 90/200\n",
      "25/25 [==============================] - 0s 3ms/step - loss: 0.3165 - accuracy: 0.8510 - val_loss: 1.1740 - val_accuracy: 0.5584\n",
      "Epoch 91/200\n",
      "25/25 [==============================] - 0s 3ms/step - loss: 0.3042 - accuracy: 0.8611 - val_loss: 1.1933 - val_accuracy: 0.5685\n",
      "Epoch 92/200\n",
      "25/25 [==============================] - 0s 3ms/step - loss: 0.3447 - accuracy: 0.8357 - val_loss: 1.2734 - val_accuracy: 0.5228\n",
      "Epoch 93/200\n",
      "25/25 [==============================] - 0s 3ms/step - loss: 0.3362 - accuracy: 0.8395 - val_loss: 1.2372 - val_accuracy: 0.5736\n",
      "Epoch 94/200\n",
      "25/25 [==============================] - 0s 3ms/step - loss: 0.3080 - accuracy: 0.8510 - val_loss: 1.2632 - val_accuracy: 0.5584\n",
      "Epoch 95/200\n",
      "25/25 [==============================] - 0s 3ms/step - loss: 0.2794 - accuracy: 0.8726 - val_loss: 1.2263 - val_accuracy: 0.5330\n",
      "Epoch 96/200\n",
      "25/25 [==============================] - 0s 3ms/step - loss: 0.3232 - accuracy: 0.8573 - val_loss: 1.3260 - val_accuracy: 0.5279\n",
      "Epoch 97/200\n",
      "25/25 [==============================] - 0s 3ms/step - loss: 0.2885 - accuracy: 0.8726 - val_loss: 1.2353 - val_accuracy: 0.5431\n",
      "Epoch 98/200\n",
      "25/25 [==============================] - 0s 3ms/step - loss: 0.2996 - accuracy: 0.8688 - val_loss: 1.2654 - val_accuracy: 0.5482\n",
      "Epoch 99/200\n",
      "25/25 [==============================] - 0s 3ms/step - loss: 0.2992 - accuracy: 0.8561 - val_loss: 1.3647 - val_accuracy: 0.5381\n",
      "Epoch 100/200\n",
      "25/25 [==============================] - 0s 3ms/step - loss: 0.2927 - accuracy: 0.8624 - val_loss: 1.3269 - val_accuracy: 0.5330\n",
      "Epoch 101/200\n",
      "25/25 [==============================] - 0s 3ms/step - loss: 0.2855 - accuracy: 0.8726 - val_loss: 1.2757 - val_accuracy: 0.5685\n",
      "Epoch 102/200\n",
      "25/25 [==============================] - 0s 3ms/step - loss: 0.3083 - accuracy: 0.8497 - val_loss: 1.3859 - val_accuracy: 0.5431\n",
      "Epoch 103/200\n",
      "25/25 [==============================] - 0s 3ms/step - loss: 0.2936 - accuracy: 0.8561 - val_loss: 1.3303 - val_accuracy: 0.5228\n",
      "Epoch 104/200\n",
      "25/25 [==============================] - 0s 3ms/step - loss: 0.2934 - accuracy: 0.8675 - val_loss: 1.2314 - val_accuracy: 0.5482\n",
      "Epoch 105/200\n",
      "25/25 [==============================] - 0s 3ms/step - loss: 0.3124 - accuracy: 0.8561 - val_loss: 1.3062 - val_accuracy: 0.5584\n",
      "Epoch 106/200\n",
      "25/25 [==============================] - 0s 3ms/step - loss: 0.2877 - accuracy: 0.8815 - val_loss: 1.2989 - val_accuracy: 0.5685\n",
      "Epoch 107/200\n",
      "25/25 [==============================] - 0s 3ms/step - loss: 0.2930 - accuracy: 0.8739 - val_loss: 1.2257 - val_accuracy: 0.5736\n",
      "Epoch 108/200\n",
      "25/25 [==============================] - 0s 3ms/step - loss: 0.3171 - accuracy: 0.8420 - val_loss: 1.2938 - val_accuracy: 0.5431\n",
      "Epoch 109/200\n",
      "25/25 [==============================] - 0s 3ms/step - loss: 0.2925 - accuracy: 0.8624 - val_loss: 1.3233 - val_accuracy: 0.5482\n",
      "Epoch 110/200\n",
      "25/25 [==============================] - 0s 3ms/step - loss: 0.2862 - accuracy: 0.8637 - val_loss: 1.3709 - val_accuracy: 0.5482\n",
      "Epoch 111/200\n",
      "25/25 [==============================] - 0s 3ms/step - loss: 0.2834 - accuracy: 0.8662 - val_loss: 1.3666 - val_accuracy: 0.5178\n",
      "Epoch 112/200\n",
      "25/25 [==============================] - 0s 3ms/step - loss: 0.3008 - accuracy: 0.8471 - val_loss: 1.3461 - val_accuracy: 0.5330\n",
      "Epoch 113/200\n",
      "25/25 [==============================] - 0s 3ms/step - loss: 0.2506 - accuracy: 0.8828 - val_loss: 1.3561 - val_accuracy: 0.5533\n",
      "Epoch 114/200\n",
      "25/25 [==============================] - 0s 3ms/step - loss: 0.2433 - accuracy: 0.9019 - val_loss: 1.4990 - val_accuracy: 0.5431\n",
      "Epoch 115/200\n",
      "25/25 [==============================] - 0s 3ms/step - loss: 0.2917 - accuracy: 0.8573 - val_loss: 1.4571 - val_accuracy: 0.5228\n",
      "Epoch 116/200\n",
      "25/25 [==============================] - 0s 3ms/step - loss: 0.2853 - accuracy: 0.8764 - val_loss: 1.3839 - val_accuracy: 0.5330\n",
      "Epoch 117/200\n",
      "25/25 [==============================] - 0s 3ms/step - loss: 0.2554 - accuracy: 0.8828 - val_loss: 1.5232 - val_accuracy: 0.5381\n",
      "Epoch 118/200\n",
      "25/25 [==============================] - 0s 3ms/step - loss: 0.2883 - accuracy: 0.8688 - val_loss: 1.4513 - val_accuracy: 0.5482\n",
      "Epoch 119/200\n",
      "25/25 [==============================] - 0s 3ms/step - loss: 0.3047 - accuracy: 0.8510 - val_loss: 1.4136 - val_accuracy: 0.5685\n",
      "Epoch 120/200\n",
      "25/25 [==============================] - 0s 3ms/step - loss: 0.2506 - accuracy: 0.8892 - val_loss: 1.3512 - val_accuracy: 0.5482\n",
      "Epoch 121/200\n",
      "25/25 [==============================] - 0s 3ms/step - loss: 0.2659 - accuracy: 0.8675 - val_loss: 1.4222 - val_accuracy: 0.5533\n",
      "Epoch 122/200\n",
      "25/25 [==============================] - 0s 3ms/step - loss: 0.2723 - accuracy: 0.8866 - val_loss: 1.4486 - val_accuracy: 0.5127\n",
      "Epoch 123/200\n",
      "25/25 [==============================] - 0s 3ms/step - loss: 0.2647 - accuracy: 0.8764 - val_loss: 1.4514 - val_accuracy: 0.5482\n",
      "Epoch 124/200\n",
      "25/25 [==============================] - 0s 3ms/step - loss: 0.2537 - accuracy: 0.8854 - val_loss: 1.4884 - val_accuracy: 0.5584\n",
      "Epoch 125/200\n",
      "25/25 [==============================] - 0s 3ms/step - loss: 0.2725 - accuracy: 0.8803 - val_loss: 1.4219 - val_accuracy: 0.5178\n",
      "Epoch 126/200\n",
      "25/25 [==============================] - 0s 3ms/step - loss: 0.2966 - accuracy: 0.8586 - val_loss: 1.4453 - val_accuracy: 0.5381\n",
      "Epoch 127/200\n",
      "25/25 [==============================] - 0s 3ms/step - loss: 0.2541 - accuracy: 0.8713 - val_loss: 1.4987 - val_accuracy: 0.5279\n",
      "Epoch 128/200\n",
      "25/25 [==============================] - 0s 3ms/step - loss: 0.2484 - accuracy: 0.8981 - val_loss: 1.5300 - val_accuracy: 0.5482\n",
      "Epoch 129/200\n",
      "25/25 [==============================] - 0s 3ms/step - loss: 0.2195 - accuracy: 0.9134 - val_loss: 1.4797 - val_accuracy: 0.5482\n",
      "Epoch 130/200\n",
      "25/25 [==============================] - 0s 3ms/step - loss: 0.2783 - accuracy: 0.8675 - val_loss: 1.5617 - val_accuracy: 0.5584\n",
      "Epoch 131/200\n",
      "25/25 [==============================] - 0s 3ms/step - loss: 0.2305 - accuracy: 0.8904 - val_loss: 1.5107 - val_accuracy: 0.5482\n",
      "Epoch 132/200\n",
      "25/25 [==============================] - 0s 3ms/step - loss: 0.2733 - accuracy: 0.8764 - val_loss: 1.5191 - val_accuracy: 0.5431\n",
      "Epoch 133/200\n",
      "25/25 [==============================] - 0s 3ms/step - loss: 0.2831 - accuracy: 0.8701 - val_loss: 1.5465 - val_accuracy: 0.5584\n",
      "Epoch 134/200\n",
      "25/25 [==============================] - 0s 3ms/step - loss: 0.2263 - accuracy: 0.9121 - val_loss: 1.5212 - val_accuracy: 0.5482\n",
      "Epoch 135/200\n",
      "25/25 [==============================] - 0s 3ms/step - loss: 0.2512 - accuracy: 0.8879 - val_loss: 1.4849 - val_accuracy: 0.5381\n",
      "Epoch 136/200\n",
      "25/25 [==============================] - 0s 3ms/step - loss: 0.2285 - accuracy: 0.8854 - val_loss: 1.4550 - val_accuracy: 0.5279\n",
      "Epoch 137/200\n",
      "25/25 [==============================] - 0s 3ms/step - loss: 0.2520 - accuracy: 0.8841 - val_loss: 1.5016 - val_accuracy: 0.5330\n",
      "Epoch 138/200\n",
      "25/25 [==============================] - 0s 3ms/step - loss: 0.2314 - accuracy: 0.9032 - val_loss: 1.5868 - val_accuracy: 0.5533\n",
      "Epoch 139/200\n",
      "25/25 [==============================] - 0s 3ms/step - loss: 0.2480 - accuracy: 0.8930 - val_loss: 1.5560 - val_accuracy: 0.5431\n",
      "Epoch 140/200\n",
      "25/25 [==============================] - 0s 3ms/step - loss: 0.2458 - accuracy: 0.8854 - val_loss: 1.5785 - val_accuracy: 0.5584\n",
      "Epoch 141/200\n",
      "25/25 [==============================] - 0s 3ms/step - loss: 0.2295 - accuracy: 0.8879 - val_loss: 1.6447 - val_accuracy: 0.5584\n",
      "Epoch 142/200\n",
      "25/25 [==============================] - 0s 3ms/step - loss: 0.2374 - accuracy: 0.8866 - val_loss: 1.5907 - val_accuracy: 0.5431\n",
      "Epoch 143/200\n",
      "25/25 [==============================] - 0s 3ms/step - loss: 0.2684 - accuracy: 0.8752 - val_loss: 1.6323 - val_accuracy: 0.5482\n",
      "Epoch 144/200\n",
      "25/25 [==============================] - 0s 3ms/step - loss: 0.2607 - accuracy: 0.8841 - val_loss: 1.5084 - val_accuracy: 0.5533\n",
      "Epoch 145/200\n",
      "25/25 [==============================] - 0s 3ms/step - loss: 0.2429 - accuracy: 0.8828 - val_loss: 1.5733 - val_accuracy: 0.5482\n",
      "Epoch 146/200\n",
      "25/25 [==============================] - 0s 3ms/step - loss: 0.2674 - accuracy: 0.8828 - val_loss: 1.5028 - val_accuracy: 0.5533\n",
      "Epoch 147/200\n",
      "25/25 [==============================] - 0s 3ms/step - loss: 0.2394 - accuracy: 0.8841 - val_loss: 1.5160 - val_accuracy: 0.5431\n",
      "Epoch 148/200\n",
      "25/25 [==============================] - 0s 3ms/step - loss: 0.2334 - accuracy: 0.8917 - val_loss: 1.5334 - val_accuracy: 0.5584\n",
      "Epoch 149/200\n",
      "25/25 [==============================] - 0s 3ms/step - loss: 0.2257 - accuracy: 0.8968 - val_loss: 1.5051 - val_accuracy: 0.5228\n",
      "Epoch 150/200\n",
      "25/25 [==============================] - 0s 3ms/step - loss: 0.2413 - accuracy: 0.8904 - val_loss: 1.5942 - val_accuracy: 0.5381\n",
      "Epoch 151/200\n",
      "25/25 [==============================] - 0s 3ms/step - loss: 0.2437 - accuracy: 0.8968 - val_loss: 1.6739 - val_accuracy: 0.5279\n",
      "Epoch 152/200\n",
      "25/25 [==============================] - 0s 3ms/step - loss: 0.2353 - accuracy: 0.8955 - val_loss: 1.5953 - val_accuracy: 0.5685\n",
      "Epoch 153/200\n",
      "25/25 [==============================] - 0s 3ms/step - loss: 0.2398 - accuracy: 0.8968 - val_loss: 1.5856 - val_accuracy: 0.5533\n",
      "Epoch 154/200\n",
      "25/25 [==============================] - 0s 3ms/step - loss: 0.2432 - accuracy: 0.8917 - val_loss: 1.4627 - val_accuracy: 0.5533\n",
      "Epoch 155/200\n",
      "25/25 [==============================] - 0s 3ms/step - loss: 0.2251 - accuracy: 0.9006 - val_loss: 1.6019 - val_accuracy: 0.5381\n",
      "Epoch 156/200\n",
      "25/25 [==============================] - 0s 3ms/step - loss: 0.2696 - accuracy: 0.8892 - val_loss: 1.5629 - val_accuracy: 0.5533\n",
      "Epoch 157/200\n",
      "25/25 [==============================] - 0s 3ms/step - loss: 0.2413 - accuracy: 0.8904 - val_loss: 1.6237 - val_accuracy: 0.5431\n",
      "Epoch 158/200\n",
      "25/25 [==============================] - 0s 3ms/step - loss: 0.2456 - accuracy: 0.8879 - val_loss: 1.5838 - val_accuracy: 0.5431\n",
      "Epoch 159/200\n",
      "25/25 [==============================] - 0s 3ms/step - loss: 0.2412 - accuracy: 0.8854 - val_loss: 1.5062 - val_accuracy: 0.5533\n",
      "Epoch 160/200\n",
      "25/25 [==============================] - 0s 3ms/step - loss: 0.2372 - accuracy: 0.8930 - val_loss: 1.5824 - val_accuracy: 0.5584\n",
      "Epoch 161/200\n",
      "25/25 [==============================] - 0s 3ms/step - loss: 0.2383 - accuracy: 0.8790 - val_loss: 1.5604 - val_accuracy: 0.5279\n",
      "Epoch 162/200\n",
      "25/25 [==============================] - 0s 3ms/step - loss: 0.2481 - accuracy: 0.8803 - val_loss: 1.6498 - val_accuracy: 0.5279\n",
      "Epoch 163/200\n",
      "25/25 [==============================] - 0s 3ms/step - loss: 0.2354 - accuracy: 0.8854 - val_loss: 1.6847 - val_accuracy: 0.5381\n",
      "Epoch 164/200\n",
      "25/25 [==============================] - 0s 3ms/step - loss: 0.2137 - accuracy: 0.8866 - val_loss: 1.5811 - val_accuracy: 0.5431\n",
      "Epoch 165/200\n",
      "25/25 [==============================] - 0s 3ms/step - loss: 0.2272 - accuracy: 0.9032 - val_loss: 1.6174 - val_accuracy: 0.5431\n",
      "Epoch 166/200\n",
      "25/25 [==============================] - 0s 3ms/step - loss: 0.2276 - accuracy: 0.8917 - val_loss: 1.5677 - val_accuracy: 0.5482\n",
      "Epoch 167/200\n",
      "25/25 [==============================] - 0s 3ms/step - loss: 0.2164 - accuracy: 0.8994 - val_loss: 1.6538 - val_accuracy: 0.5228\n",
      "Epoch 168/200\n",
      "25/25 [==============================] - 0s 3ms/step - loss: 0.2144 - accuracy: 0.8968 - val_loss: 1.7097 - val_accuracy: 0.5330\n",
      "Epoch 169/200\n",
      "25/25 [==============================] - 0s 3ms/step - loss: 0.2270 - accuracy: 0.8981 - val_loss: 1.7086 - val_accuracy: 0.5381\n",
      "Epoch 170/200\n",
      "25/25 [==============================] - 0s 3ms/step - loss: 0.2557 - accuracy: 0.8879 - val_loss: 1.7647 - val_accuracy: 0.5685\n",
      "Epoch 171/200\n",
      "25/25 [==============================] - 0s 3ms/step - loss: 0.2370 - accuracy: 0.8892 - val_loss: 1.6342 - val_accuracy: 0.5533\n",
      "Epoch 172/200\n",
      "25/25 [==============================] - 0s 3ms/step - loss: 0.2362 - accuracy: 0.8828 - val_loss: 1.6697 - val_accuracy: 0.5381\n",
      "Epoch 173/200\n"
     ]
    },
    {
     "name": "stdout",
     "output_type": "stream",
     "text": [
      "25/25 [==============================] - 0s 3ms/step - loss: 0.2176 - accuracy: 0.8930 - val_loss: 1.6661 - val_accuracy: 0.5431\n",
      "Epoch 174/200\n",
      "25/25 [==============================] - 0s 3ms/step - loss: 0.2320 - accuracy: 0.8943 - val_loss: 1.7471 - val_accuracy: 0.5533\n",
      "Epoch 175/200\n",
      "25/25 [==============================] - 0s 3ms/step - loss: 0.2397 - accuracy: 0.8904 - val_loss: 1.6881 - val_accuracy: 0.5533\n",
      "Epoch 176/200\n",
      "25/25 [==============================] - 0s 3ms/step - loss: 0.2320 - accuracy: 0.9070 - val_loss: 1.6871 - val_accuracy: 0.5685\n",
      "Epoch 177/200\n",
      "25/25 [==============================] - 0s 3ms/step - loss: 0.2396 - accuracy: 0.8917 - val_loss: 1.6107 - val_accuracy: 0.5635\n",
      "Epoch 178/200\n",
      "25/25 [==============================] - 0s 3ms/step - loss: 0.2138 - accuracy: 0.8955 - val_loss: 1.6198 - val_accuracy: 0.5482\n",
      "Epoch 179/200\n",
      "25/25 [==============================] - 0s 3ms/step - loss: 0.1934 - accuracy: 0.9032 - val_loss: 1.6498 - val_accuracy: 0.5584\n",
      "Epoch 180/200\n",
      "25/25 [==============================] - 0s 3ms/step - loss: 0.2185 - accuracy: 0.9083 - val_loss: 1.7608 - val_accuracy: 0.5533\n",
      "Epoch 181/200\n",
      "25/25 [==============================] - 0s 3ms/step - loss: 0.2481 - accuracy: 0.8866 - val_loss: 1.6589 - val_accuracy: 0.5330\n",
      "Epoch 182/200\n",
      "25/25 [==============================] - 0s 3ms/step - loss: 0.2149 - accuracy: 0.9019 - val_loss: 1.6709 - val_accuracy: 0.5381\n",
      "Epoch 183/200\n",
      "25/25 [==============================] - 0s 3ms/step - loss: 0.2206 - accuracy: 0.8955 - val_loss: 1.5852 - val_accuracy: 0.5381\n",
      "Epoch 184/200\n",
      "25/25 [==============================] - 0s 3ms/step - loss: 0.2523 - accuracy: 0.8688 - val_loss: 1.5907 - val_accuracy: 0.5635\n",
      "Epoch 185/200\n",
      "25/25 [==============================] - 0s 3ms/step - loss: 0.2147 - accuracy: 0.9019 - val_loss: 1.7298 - val_accuracy: 0.5482\n",
      "Epoch 186/200\n",
      "25/25 [==============================] - 0s 3ms/step - loss: 0.2150 - accuracy: 0.8930 - val_loss: 1.6403 - val_accuracy: 0.5431\n",
      "Epoch 187/200\n",
      "25/25 [==============================] - 0s 3ms/step - loss: 0.2022 - accuracy: 0.9045 - val_loss: 1.6286 - val_accuracy: 0.5279\n",
      "Epoch 188/200\n",
      "25/25 [==============================] - 0s 3ms/step - loss: 0.2123 - accuracy: 0.8981 - val_loss: 1.7099 - val_accuracy: 0.5330\n",
      "Epoch 189/200\n",
      "25/25 [==============================] - 0s 3ms/step - loss: 0.2113 - accuracy: 0.8981 - val_loss: 1.5426 - val_accuracy: 0.5279\n",
      "Epoch 190/200\n",
      "25/25 [==============================] - 0s 3ms/step - loss: 0.2257 - accuracy: 0.8917 - val_loss: 1.6615 - val_accuracy: 0.5584\n",
      "Epoch 191/200\n",
      "25/25 [==============================] - 0s 3ms/step - loss: 0.1858 - accuracy: 0.9134 - val_loss: 1.6347 - val_accuracy: 0.5482\n",
      "Epoch 192/200\n",
      "25/25 [==============================] - 0s 3ms/step - loss: 0.2481 - accuracy: 0.8879 - val_loss: 1.7866 - val_accuracy: 0.5584\n",
      "Epoch 193/200\n",
      "25/25 [==============================] - 0s 3ms/step - loss: 0.2114 - accuracy: 0.9070 - val_loss: 1.7515 - val_accuracy: 0.5635\n",
      "Epoch 194/200\n",
      "25/25 [==============================] - 0s 3ms/step - loss: 0.1954 - accuracy: 0.9236 - val_loss: 1.6997 - val_accuracy: 0.5482\n",
      "Epoch 195/200\n",
      "25/25 [==============================] - 0s 3ms/step - loss: 0.2009 - accuracy: 0.9146 - val_loss: 1.7647 - val_accuracy: 0.5736\n",
      "Epoch 196/200\n",
      "25/25 [==============================] - 0s 3ms/step - loss: 0.2118 - accuracy: 0.9019 - val_loss: 1.6755 - val_accuracy: 0.5685\n",
      "Epoch 197/200\n",
      "25/25 [==============================] - 0s 3ms/step - loss: 0.2412 - accuracy: 0.9019 - val_loss: 1.7714 - val_accuracy: 0.5533\n",
      "Epoch 198/200\n",
      "25/25 [==============================] - 0s 3ms/step - loss: 0.2257 - accuracy: 0.9006 - val_loss: 1.6117 - val_accuracy: 0.5584\n",
      "Epoch 199/200\n",
      "25/25 [==============================] - 0s 3ms/step - loss: 0.2253 - accuracy: 0.8981 - val_loss: 1.6813 - val_accuracy: 0.5635\n",
      "Epoch 200/200\n",
      "25/25 [==============================] - 0s 3ms/step - loss: 0.1829 - accuracy: 0.9070 - val_loss: 1.7044 - val_accuracy: 0.5381\n"
     ]
    },
    {
     "data": {
      "text/plain": [
       "<tensorflow.python.keras.callbacks.History at 0x7c7f016af0>"
      ]
     },
     "execution_count": 161,
     "metadata": {},
     "output_type": "execute_result"
    }
   ],
   "source": [
    "keras_1.fit(X_train_count, y_train,validation_data=(X_test_count, y_test), batch_size=32,epochs=200, callbacks=[history_1])"
   ]
  },
  {
   "cell_type": "markdown",
   "id": "49ba77cc",
   "metadata": {},
   "source": [
    "## Keras z early stopping"
   ]
  },
  {
   "cell_type": "code",
   "execution_count": 162,
   "id": "eb510c4e",
   "metadata": {},
   "outputs": [
    {
     "name": "stdout",
     "output_type": "stream",
     "text": [
      "Model: \"sequential\"\n",
      "_________________________________________________________________\n",
      "Layer (type)                 Output Shape              Param #   \n",
      "=================================================================\n",
      "flatten (Flatten)            (None, 76)                0         \n",
      "_________________________________________________________________\n",
      "dense (Dense)                (None, 300)               23100     \n",
      "_________________________________________________________________\n",
      "batch_normalization (BatchNo (None, 300)               1200      \n",
      "_________________________________________________________________\n",
      "activation (Activation)      (None, 300)               0         \n",
      "_________________________________________________________________\n",
      "dropout (Dropout)            (None, 300)               0         \n",
      "_________________________________________________________________\n",
      "dense_1 (Dense)              (None, 150)               45150     \n",
      "_________________________________________________________________\n",
      "batch_normalization_1 (Batch (None, 150)               600       \n",
      "_________________________________________________________________\n",
      "activation_1 (Activation)    (None, 150)               0         \n",
      "_________________________________________________________________\n",
      "dropout_1 (Dropout)          (None, 150)               0         \n",
      "_________________________________________________________________\n",
      "dense_2 (Dense)              (None, 50)                7550      \n",
      "_________________________________________________________________\n",
      "batch_normalization_2 (Batch (None, 50)                200       \n",
      "_________________________________________________________________\n",
      "activation_2 (Activation)    (None, 50)                0         \n",
      "_________________________________________________________________\n",
      "dropout_2 (Dropout)          (None, 50)                0         \n",
      "_________________________________________________________________\n",
      "dense_3 (Dense)              (None, 1)                 51        \n",
      "=================================================================\n",
      "Total params: 77,851\n",
      "Trainable params: 76,851\n",
      "Non-trainable params: 1,000\n",
      "_________________________________________________________________\n"
     ]
    }
   ],
   "source": [
    "keras.backend.clear_session()\n",
    "\n",
    "history_2 = History()\n",
    "keras_2 = Sequential()\n",
    "\n",
    "keras_2.add(Flatten(input_shape=((X_train_count).shape[1],)))\n",
    "\n",
    "keras_2.add(Dense(300))\n",
    "keras_2.add(BatchNormalization())\n",
    "keras_2.add(Activation(\"elu\"))\n",
    "keras_2.add(Dropout(0.3))\n",
    "\n",
    "keras_2.add(Dense(150))\n",
    "keras_2.add(BatchNormalization())\n",
    "keras_2.add(Activation(\"elu\"))\n",
    "keras_2.add(Dropout(0.3))\n",
    "\n",
    "keras_2.add(Dense(50))\n",
    "keras_2.add(BatchNormalization())\n",
    "keras_2.add(Activation(\"elu\"))\n",
    "keras_2.add(Dropout(0.3))\n",
    "\n",
    "keras_2.add(Dense(1,activation=\"sigmoid\"))\n",
    "\n",
    "keras_2.summary()"
   ]
  },
  {
   "cell_type": "code",
   "execution_count": 163,
   "id": "59cf8531",
   "metadata": {},
   "outputs": [],
   "source": [
    "keras_2.compile(loss=\"binary_crossentropy\",optimizer='adam', metrics=[\"accuracy\"])"
   ]
  },
  {
   "cell_type": "code",
   "execution_count": 164,
   "id": "5ad32360",
   "metadata": {},
   "outputs": [],
   "source": [
    "from tensorflow.keras.callbacks import EarlyStopping\n",
    "early_stopping = EarlyStopping(monitor='val_accuracy', patience=10, mode='max', verbose=1)"
   ]
  },
  {
   "cell_type": "code",
   "execution_count": 165,
   "id": "4a4df7a5",
   "metadata": {},
   "outputs": [
    {
     "name": "stdout",
     "output_type": "stream",
     "text": [
      "Epoch 1/200\n",
      "25/25 [==============================] - 0s 9ms/step - loss: 0.8676 - accuracy: 0.5096 - val_loss: 0.6925 - val_accuracy: 0.5584\n",
      "Epoch 2/200\n",
      "25/25 [==============================] - 0s 3ms/step - loss: 0.7867 - accuracy: 0.5248 - val_loss: 0.6656 - val_accuracy: 0.5990\n",
      "Epoch 3/200\n",
      "25/25 [==============================] - 0s 3ms/step - loss: 0.7167 - accuracy: 0.5694 - val_loss: 0.6567 - val_accuracy: 0.5939\n",
      "Epoch 4/200\n",
      "25/25 [==============================] - 0s 3ms/step - loss: 0.7063 - accuracy: 0.5656 - val_loss: 0.6624 - val_accuracy: 0.6041\n",
      "Epoch 5/200\n",
      "25/25 [==============================] - 0s 3ms/step - loss: 0.7034 - accuracy: 0.5936 - val_loss: 0.6685 - val_accuracy: 0.5736\n",
      "Epoch 6/200\n",
      "25/25 [==============================] - 0s 3ms/step - loss: 0.6963 - accuracy: 0.5682 - val_loss: 0.6760 - val_accuracy: 0.5482\n",
      "Epoch 7/200\n",
      "25/25 [==============================] - 0s 3ms/step - loss: 0.6749 - accuracy: 0.6051 - val_loss: 0.6755 - val_accuracy: 0.5635\n",
      "Epoch 8/200\n",
      "25/25 [==============================] - 0s 3ms/step - loss: 0.6688 - accuracy: 0.6076 - val_loss: 0.6974 - val_accuracy: 0.5431\n",
      "Epoch 9/200\n",
      "25/25 [==============================] - 0s 3ms/step - loss: 0.6623 - accuracy: 0.6229 - val_loss: 0.6840 - val_accuracy: 0.5787\n",
      "Epoch 10/200\n",
      "25/25 [==============================] - 0s 3ms/step - loss: 0.6724 - accuracy: 0.6051 - val_loss: 0.6960 - val_accuracy: 0.5888\n",
      "Epoch 11/200\n",
      "25/25 [==============================] - 0s 3ms/step - loss: 0.6513 - accuracy: 0.6102 - val_loss: 0.6925 - val_accuracy: 0.5939\n",
      "Epoch 12/200\n",
      "25/25 [==============================] - 0s 3ms/step - loss: 0.6529 - accuracy: 0.6268 - val_loss: 0.6857 - val_accuracy: 0.5888\n",
      "Epoch 13/200\n",
      "25/25 [==============================] - 0s 3ms/step - loss: 0.6264 - accuracy: 0.6497 - val_loss: 0.6864 - val_accuracy: 0.5990\n",
      "Epoch 14/200\n",
      "25/25 [==============================] - 0s 3ms/step - loss: 0.6247 - accuracy: 0.6433 - val_loss: 0.7070 - val_accuracy: 0.5736\n",
      "Epoch 00014: early stopping\n"
     ]
    },
    {
     "data": {
      "text/plain": [
       "<tensorflow.python.keras.callbacks.History at 0x7c6178ee20>"
      ]
     },
     "execution_count": 165,
     "metadata": {},
     "output_type": "execute_result"
    }
   ],
   "source": [
    "keras_2.fit(X_train_count, y_train,validation_data=(X_test_count, y_test), batch_size=32,epochs=200, callbacks=[history_2,early_stopping])"
   ]
  },
  {
   "cell_type": "markdown",
   "id": "6675e7f8",
   "metadata": {},
   "source": [
    "# Wyniki"
   ]
  },
  {
   "cell_type": "markdown",
   "id": "300905eb",
   "metadata": {},
   "source": [
    "Po kolei sprawdzamy accuracy dla każdego modelu oraz dodajemy niekiedy dodatkowe rzeczy w postaci np. wykresów."
   ]
  },
  {
   "cell_type": "markdown",
   "id": "2b672323",
   "metadata": {},
   "source": [
    "**Na samym dole w tabelce zebraliśmy wszystkie wyniki razem**"
   ]
  },
  {
   "cell_type": "code",
   "execution_count": 166,
   "id": "3b56ad16",
   "metadata": {},
   "outputs": [],
   "source": [
    "from sklearn import  metrics"
   ]
  },
  {
   "cell_type": "code",
   "execution_count": 185,
   "id": "803aaeae",
   "metadata": {},
   "outputs": [
    {
     "name": "stdout",
     "output_type": "stream",
     "text": [
      "accuracy_score: 0.5076142131979695\n"
     ]
    }
   ],
   "source": [
    "#DecisionTreeClassifier\n",
    "print(\"accuracy_score: {}\".format( metrics.accuracy_score(y_test, grid_0.predict(X_test_count)) ))"
   ]
  },
  {
   "cell_type": "markdown",
   "id": "88b7648a",
   "metadata": {},
   "source": [
    "Generowanie drzewa (wizualizacja)"
   ]
  },
  {
   "cell_type": "code",
   "execution_count": 168,
   "id": "31ec1b12",
   "metadata": {},
   "outputs": [
    {
     "data": {
      "image/png": "[encoded data removed]",
      "text/plain": [
       "<IPython.core.display.Image object>"
      ]
     },
     "execution_count": 168,
     "metadata": {},
     "output_type": "execute_result"
    }
   ],
   "source": [
    "from sklearn.tree import export_graphviz\n",
    "from six import StringIO\n",
    "from IPython.display import Image\n",
    "import pydotplus\n",
    "\n",
    "model = grid_0.best_estimator_.named_steps['classifier']\n",
    "dot_data = StringIO()\n",
    "export_graphviz(\n",
    "    model,\n",
    "    out_file=dot_data,\n",
    "    filled=True,\n",
    "    rounded=True,\n",
    "    special_characters=True,\n",
    "    feature_names=COLUMNS,\n",
    "    class_names=['0', '1']\n",
    ")\n",
    "\n",
    "graph = pydotplus.graph_from_dot_data(dot_data.getvalue())\n",
    "graph.write_png('tree.png')\n",
    "Image(graph.create_png())"
   ]
  },
  {
   "cell_type": "code",
   "execution_count": 169,
   "id": "07f75a1f",
   "metadata": {},
   "outputs": [
    {
     "name": "stdout",
     "output_type": "stream",
     "text": [
      "accuracy_score: 0.5736040609137056\n"
     ]
    }
   ],
   "source": [
    "#SVM\n",
    "print(\"accuracy_score: {}\".format( metrics.accuracy_score(y_test, grid_1.predict(X_test_count)) ))"
   ]
  },
  {
   "cell_type": "code",
   "execution_count": 170,
   "id": "af3f67de",
   "metadata": {},
   "outputs": [
    {
     "name": "stdout",
     "output_type": "stream",
     "text": [
      "accuracy_score: 0.6091370558375635\n"
     ]
    }
   ],
   "source": [
    "#Logistic regression\n",
    "print(\"accuracy_score: {}\".format( metrics.accuracy_score(y_test, grid_2.predict(X_test_count)) ))"
   ]
  },
  {
   "cell_type": "code",
   "execution_count": 171,
   "id": "7bd4f53a",
   "metadata": {},
   "outputs": [
    {
     "name": "stdout",
     "output_type": "stream",
     "text": [
      "accuracy_score: 0.5532994923857868\n"
     ]
    }
   ],
   "source": [
    "#XGBoost\n",
    "print(\"accuracy_score: {}\".format( metrics.accuracy_score(y_test, grid_3.predict(X_test_count)) ))"
   ]
  },
  {
   "cell_type": "code",
   "execution_count": 172,
   "id": "49d3b0cd",
   "metadata": {},
   "outputs": [
    {
     "name": "stdout",
     "output_type": "stream",
     "text": [
      "accuracy_score: 0.5228426395939086\n"
     ]
    }
   ],
   "source": [
    "#RandomForestClassifier\n",
    "print(\"accuracy_score: {}\".format( metrics.accuracy_score(y_test, grid_4.predict(X_test_count)) ))"
   ]
  },
  {
   "cell_type": "code",
   "execution_count": 173,
   "id": "7fcb7f33",
   "metadata": {
    "scrolled": true
   },
   "outputs": [
    {
     "name": "stdout",
     "output_type": "stream",
     "text": [
      "accuracy_score: 0.6091370558375635\n"
     ]
    }
   ],
   "source": [
    "#MLP\n",
    "print(\"accuracy_score: {}\".format( metrics.accuracy_score(y_test, grid_5.predict(X_test_count)) ))"
   ]
  },
  {
   "cell_type": "code",
   "execution_count": 174,
   "id": "c152c58f",
   "metadata": {},
   "outputs": [
    {
     "name": "stdout",
     "output_type": "stream",
     "text": [
      "accuracy_score: 0.5126903553299492\n"
     ]
    }
   ],
   "source": [
    "#GradientBoostingClassifeir\n",
    "print(\"accuracy_score: {}\".format( metrics.accuracy_score(y_test, grid_6.predict(X_test_count)) ))"
   ]
  },
  {
   "cell_type": "code",
   "execution_count": 175,
   "id": "a49eebe2",
   "metadata": {},
   "outputs": [
    {
     "name": "stdout",
     "output_type": "stream",
     "text": [
      "accuracy_score: 0.49746192893401014\n"
     ]
    }
   ],
   "source": [
    "#AdaBoostingClassifeir\n",
    "print(\"accuracy_score: {}\".format( metrics.accuracy_score(y_test, grid_7.predict(X_test_count)) ))"
   ]
  },
  {
   "cell_type": "code",
   "execution_count": 176,
   "id": "7f619cb5",
   "metadata": {},
   "outputs": [
    {
     "name": "stdout",
     "output_type": "stream",
     "text": [
      "WARNING:tensorflow:From <ipython-input-176-06499adb4e3c>:2: Sequential.predict_classes (from tensorflow.python.keras.engine.sequential) is deprecated and will be removed after 2021-01-01.\n",
      "Instructions for updating:\n",
      "Please use instead:* `np.argmax(model.predict(x), axis=-1)`,   if your model does multi-class classification   (e.g. if it uses a `softmax` last-layer activation).* `(model.predict(x) > 0.5).astype(\"int32\")`,   if your model does binary classification   (e.g. if it uses a `sigmoid` last-layer activation).\n",
      "accuracy_score: 0.5380710659898477\n"
     ]
    }
   ],
   "source": [
    "#Keras bez early stopping\n",
    "print(\"accuracy_score: {}\".format( metrics.accuracy_score(y_test, keras_1.predict_classes(X_test_count)) ))"
   ]
  },
  {
   "cell_type": "code",
   "execution_count": 177,
   "id": "8f9fa9d2",
   "metadata": {
    "scrolled": true
   },
   "outputs": [
    {
     "data": {
      "image/png": "[encoded data removed]",
      "text/plain": [
       "<Figure size 576x360 with 1 Axes>"
      ]
     },
     "metadata": {
      "needs_background": "light"
     },
     "output_type": "display_data"
    }
   ],
   "source": [
    "import pandas as pd\n",
    "\n",
    "pd.DataFrame(history_1.history).plot(figsize=(8, 5))\n",
    "plt.grid(True)\n",
    "plt.gca().set_ylim(0, 1)\n",
    "plt.yticks(np.linspace(0,1,11))\n",
    "plt.show()"
   ]
  },
  {
   "cell_type": "code",
   "execution_count": 178,
   "id": "87b669b0",
   "metadata": {},
   "outputs": [
    {
     "name": "stdout",
     "output_type": "stream",
     "text": [
      "accuracy_score: 0.5736040609137056\n"
     ]
    }
   ],
   "source": [
    "#Keras z early stopping\n",
    "print(\"accuracy_score: {}\".format( metrics.accuracy_score(y_test, keras_2.predict_classes(X_test_count)) ))"
   ]
  },
  {
   "cell_type": "code",
   "execution_count": 179,
   "id": "c9aeda58",
   "metadata": {},
   "outputs": [
    {
     "data": {
      "image/png": "[encoded data removed]",
      "text/plain": [
       "<Figure size 576x360 with 1 Axes>"
      ]
     },
     "metadata": {
      "needs_background": "light"
     },
     "output_type": "display_data"
    }
   ],
   "source": [
    "pd.DataFrame(history_2.history).plot(figsize=(8, 5))\n",
    "plt.grid(True)\n",
    "plt.gca().set_ylim(0, 1)\n",
    "plt.yticks(np.linspace(0,1,11))\n",
    "plt.show()"
   ]
  },
  {
   "cell_type": "markdown",
   "id": "54f6bdd6",
   "metadata": {},
   "source": [
    "## Zwizualizujmy wyniki w tabelce "
   ]
  },
  {
   "cell_type": "code",
   "execution_count": 188,
   "id": "8654e409",
   "metadata": {},
   "outputs": [
    {
     "name": "stdout",
     "output_type": "stream",
     "text": [
      "WARNING:tensorflow:From <ipython-input-188-57adaa2f28e3>:28: Sequential.predict_proba (from tensorflow.python.keras.engine.sequential) is deprecated and will be removed after 2021-01-01.\n",
      "Instructions for updating:\n",
      "Please use `model.predict()` instead.\n"
     ]
    },
    {
     "data": {
      "image/png": "[encoded data removed]",
      "text/plain": [
       "<Figure size 864x864 with 1 Axes>"
      ]
     },
     "metadata": {
      "needs_background": "light"
     },
     "output_type": "display_data"
    }
   ],
   "source": [
    "models = []\n",
    "models.append(('Decision tree classifier', grid_0))\n",
    "models.append(('SVM linear', grid_1))\n",
    "models.append(('Logistic regression', grid_2))\n",
    "models.append(('XGBoost classifier', grid_3))\n",
    "models.append(('Random forest classifier', grid_4))\n",
    "models.append(('MLPClassifier', grid_5))\n",
    "models.append(('Gradient boosting classifier', grid_6))\n",
    "models.append(('Ada boostring classifier', grid_7))\n",
    "models.append(('Keras', keras_1))\n",
    "models.append(('Keras early stopping', keras_2))\n",
    "\n",
    "precision_score = []\n",
    "recall_score = []\n",
    "f1_score = []\n",
    "accuracy_score = []\n",
    "roc_auc_val = []\n",
    "plt.figure(figsize=(12, 12))\n",
    "for name, model in models:\n",
    "    if((name == 'Keras') or (name == 'Keras early stopping')):\n",
    "        precision_score.append(metrics.precision_score(y_test, model.predict_classes(X_test_count)))\n",
    "        recall_score.append(metrics.recall_score(y_test, model.predict_classes(X_test_count)))\n",
    "        f1_score.append( metrics.f1_score(y_test, model.predict_classes(X_test_count)))\n",
    "        accuracy_score.append(metrics.accuracy_score(y_test, model.predict_classes(X_test_count)))\n",
    "        \n",
    "        \n",
    "        # calculate the fpr and tpr for all thresholds of the classification\n",
    "        probs = model.predict_proba(X_test_count)\n",
    "        preds = probs\n",
    "        fpr, tpr, threshold = metrics.roc_curve(y_test, preds)\n",
    "        roc_auc = metrics.auc(fpr, tpr)\n",
    "        roc_auc_val.append(roc_auc)\n",
    "        \n",
    "    else:\n",
    "        precision_score.append(metrics.precision_score(y_test, model.predict(X_test_count)))\n",
    "        recall_score.append(metrics.recall_score(y_test, model.predict(X_test_count)))\n",
    "        f1_score.append( metrics.f1_score(y_test, model.predict(X_test_count)))\n",
    "        accuracy_score.append(metrics.accuracy_score(y_test, model.predict(X_test_count)))\n",
    "        \n",
    "        if (name != 'SVM linear'):\n",
    "            # calculate the fpr and tpr for all thresholds of the classification\n",
    "            probs = model.predict_proba(X_test_count)\n",
    "            preds = probs[:,1]\n",
    "            fpr, tpr, threshold = metrics.roc_curve(y_test, preds)\n",
    "            roc_auc = metrics.auc(fpr, tpr)\n",
    "            roc_auc_val.append(roc_auc)\n",
    "            \n",
    "            \n",
    "    if (name != 'SVM linear'):\n",
    "        # method I: plt\n",
    "        import matplotlib.pyplot as plt\n",
    "        plt.title('Receiver Operating Characteristic')\n",
    "        plt.plot(fpr, tpr, label = '%s AUC = %0.10f' % (name, roc_auc))\n",
    "        plt.legend(loc = 'lower right')\n",
    "        plt.plot([-0.1, 1.1], [0, 1],'r--')\n",
    "        plt.xlim([-0.1, 1.1])\n",
    "        plt.ylim([-0.1, 1.1])\n",
    "        plt.ylabel('True Positive Rate')\n",
    "        plt.xlabel('False Positive Rate')\n",
    "plt.rcParams['figure.figsize'] = [2, 2]\n",
    "plt.show()"
   ]
  },
  {
   "cell_type": "code",
   "execution_count": 190,
   "id": "12677217",
   "metadata": {
    "scrolled": true
   },
   "outputs": [
    {
     "data": {
      "text/html": [
       "<div>\n",
       "<style scoped>\n",
       "    .dataframe tbody tr th:only-of-type {\n",
       "        vertical-align: middle;\n",
       "    }\n",
       "\n",
       "    .dataframe tbody tr th {\n",
       "        vertical-align: top;\n",
       "    }\n",
       "\n",
       "    .dataframe thead th {\n",
       "        text-align: right;\n",
       "    }\n",
       "</style>\n",
       "<table border=\"1\" class=\"dataframe\">\n",
       "  <thead>\n",
       "    <tr style=\"text-align: right;\">\n",
       "      <th></th>\n",
       "      <th>Method</th>\n",
       "      <th>precision_score</th>\n",
       "      <th>recall_score</th>\n",
       "      <th>f1_score</th>\n",
       "      <th>accuracy_score</th>\n",
       "    </tr>\n",
       "  </thead>\n",
       "  <tbody>\n",
       "    <tr>\n",
       "      <th>2</th>\n",
       "      <td>Logistic regression</td>\n",
       "      <td>0.626506</td>\n",
       "      <td>0.873950</td>\n",
       "      <td>0.729825</td>\n",
       "      <td>0.609137</td>\n",
       "    </tr>\n",
       "    <tr>\n",
       "      <th>5</th>\n",
       "      <td>MLPClassifier</td>\n",
       "      <td>0.608247</td>\n",
       "      <td>0.991597</td>\n",
       "      <td>0.753994</td>\n",
       "      <td>0.609137</td>\n",
       "    </tr>\n",
       "    <tr>\n",
       "      <th>1</th>\n",
       "      <td>SVM linear</td>\n",
       "      <td>0.625899</td>\n",
       "      <td>0.731092</td>\n",
       "      <td>0.674419</td>\n",
       "      <td>0.573604</td>\n",
       "    </tr>\n",
       "    <tr>\n",
       "      <th>9</th>\n",
       "      <td>Keras early stopping</td>\n",
       "      <td>0.617450</td>\n",
       "      <td>0.773109</td>\n",
       "      <td>0.686567</td>\n",
       "      <td>0.573604</td>\n",
       "    </tr>\n",
       "    <tr>\n",
       "      <th>3</th>\n",
       "      <td>XGBoost classifier</td>\n",
       "      <td>0.613139</td>\n",
       "      <td>0.705882</td>\n",
       "      <td>0.656250</td>\n",
       "      <td>0.553299</td>\n",
       "    </tr>\n",
       "    <tr>\n",
       "      <th>8</th>\n",
       "      <td>Keras</td>\n",
       "      <td>0.612903</td>\n",
       "      <td>0.638655</td>\n",
       "      <td>0.625514</td>\n",
       "      <td>0.538071</td>\n",
       "    </tr>\n",
       "    <tr>\n",
       "      <th>4</th>\n",
       "      <td>Random forest classifier</td>\n",
       "      <td>0.592593</td>\n",
       "      <td>0.672269</td>\n",
       "      <td>0.629921</td>\n",
       "      <td>0.522843</td>\n",
       "    </tr>\n",
       "    <tr>\n",
       "      <th>6</th>\n",
       "      <td>Gradient boosting classifier</td>\n",
       "      <td>0.598291</td>\n",
       "      <td>0.588235</td>\n",
       "      <td>0.593220</td>\n",
       "      <td>0.512690</td>\n",
       "    </tr>\n",
       "    <tr>\n",
       "      <th>0</th>\n",
       "      <td>Decision tree classifier</td>\n",
       "      <td>0.598214</td>\n",
       "      <td>0.563025</td>\n",
       "      <td>0.580087</td>\n",
       "      <td>0.507614</td>\n",
       "    </tr>\n",
       "    <tr>\n",
       "      <th>7</th>\n",
       "      <td>Ada boostring classifier</td>\n",
       "      <td>0.574627</td>\n",
       "      <td>0.647059</td>\n",
       "      <td>0.608696</td>\n",
       "      <td>0.497462</td>\n",
       "    </tr>\n",
       "  </tbody>\n",
       "</table>\n",
       "</div>"
      ],
      "text/plain": [
       "                         Method  precision_score  recall_score  f1_score  \\\n",
       "2           Logistic regression         0.626506      0.873950  0.729825   \n",
       "5                 MLPClassifier         0.608247      0.991597  0.753994   \n",
       "1                    SVM linear         0.625899      0.731092  0.674419   \n",
       "9          Keras early stopping         0.617450      0.773109  0.686567   \n",
       "3            XGBoost classifier         0.613139      0.705882  0.656250   \n",
       "8                         Keras         0.612903      0.638655  0.625514   \n",
       "4      Random forest classifier         0.592593      0.672269  0.629921   \n",
       "6  Gradient boosting classifier         0.598291      0.588235  0.593220   \n",
       "0      Decision tree classifier         0.598214      0.563025  0.580087   \n",
       "7      Ada boostring classifier         0.574627      0.647059  0.608696   \n",
       "\n",
       "   accuracy_score  \n",
       "2        0.609137  \n",
       "5        0.609137  \n",
       "1        0.573604  \n",
       "9        0.573604  \n",
       "3        0.553299  \n",
       "8        0.538071  \n",
       "4        0.522843  \n",
       "6        0.512690  \n",
       "0        0.507614  \n",
       "7        0.497462  "
      ]
     },
     "execution_count": 190,
     "metadata": {},
     "output_type": "execute_result"
    }
   ],
   "source": [
    "d = {\n",
    "     'precision_score': precision_score, \n",
    "     'recall_score': recall_score, \n",
    "     'f1_score': f1_score,\n",
    "     'accuracy_score' : accuracy_score,\n",
    "#      'roc_auc': roc_auc_val\n",
    "    }\n",
    "df = pd.DataFrame(data=d)\n",
    "df.insert(loc=0, column='Method', value=[model[0] for model in models])\n",
    "df.sort_values(by='accuracy_score', ascending=False)"
   ]
  },
  {
   "cell_type": "code",
   "execution_count": 191,
   "id": "126680bd",
   "metadata": {},
   "outputs": [
    {
     "data": {
      "text/plain": [
       "1    524\n",
       "0    458\n",
       "Name: Increased, dtype: int64"
      ]
     },
     "execution_count": 191,
     "metadata": {},
     "output_type": "execute_result"
    }
   ],
   "source": [
    "data['Increased'].value_counts()"
   ]
  },
  {
   "cell_type": "code",
   "execution_count": 192,
   "id": "bfaee3ab",
   "metadata": {},
   "outputs": [
    {
     "data": {
      "text/plain": [
       "0.5336048879837068"
      ]
     },
     "execution_count": 192,
     "metadata": {},
     "output_type": "execute_result"
    }
   ],
   "source": [
    "524/(458+524)"
   ]
  },
  {
   "cell_type": "code",
   "execution_count": null,
   "id": "fa9753fb",
   "metadata": {},
   "outputs": [],
   "source": []
  }
 ],
 "metadata": {
  "kernelspec": {
   "display_name": "Python 3",
   "language": "python",
   "name": "python3"
  },
  "language_info": {
   "codemirror_mode": {
    "name": "ipython",
    "version": 3
   },
   "file_extension": ".py",
   "mimetype": "text/x-python",
   "name": "python",
   "nbconvert_exporter": "python",
   "pygments_lexer": "ipython3",
   "version": "3.8.8"
  }
 },
 "nbformat": 4,
 "nbformat_minor": 5
}
