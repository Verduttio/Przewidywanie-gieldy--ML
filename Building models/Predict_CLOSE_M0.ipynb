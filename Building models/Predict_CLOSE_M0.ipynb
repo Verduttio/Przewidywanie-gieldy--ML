{
 "cells": [
  {
   "cell_type": "code",
   "execution_count": 570,
   "id": "41b8947c",
   "metadata": {},
   "outputs": [],
   "source": [
    "import numpy as np\n",
    "import pandas as pd\n",
    "import matplotlib.pyplot as plt\n",
    "from sklearn import metrics"
   ]
  },
  {
   "cell_type": "code",
   "execution_count": 571,
   "id": "3425afde",
   "metadata": {},
   "outputs": [],
   "source": [
    "import os\n",
    "DATA_PATH = \"Dane/USA/SP_500.csv\""
   ]
  },
  {
   "cell_type": "code",
   "execution_count": 572,
   "id": "3562007d",
   "metadata": {},
   "outputs": [],
   "source": [
    "data_stock = pd.read_csv(DATA_PATH, sep=\",\")"
   ]
  },
  {
   "cell_type": "code",
   "execution_count": 573,
   "id": "9e9eec52",
   "metadata": {},
   "outputs": [
    {
     "data": {
      "text/html": [
       "<div>\n",
       "<style scoped>\n",
       "    .dataframe tbody tr th:only-of-type {\n",
       "        vertical-align: middle;\n",
       "    }\n",
       "\n",
       "    .dataframe tbody tr th {\n",
       "        vertical-align: top;\n",
       "    }\n",
       "\n",
       "    .dataframe thead th {\n",
       "        text-align: right;\n",
       "    }\n",
       "</style>\n",
       "<table border=\"1\" class=\"dataframe\">\n",
       "  <thead>\n",
       "    <tr style=\"text-align: right;\">\n",
       "      <th></th>\n",
       "      <th>Date</th>\n",
       "      <th>Open</th>\n",
       "      <th>High</th>\n",
       "      <th>Low</th>\n",
       "      <th>Close</th>\n",
       "      <th>Volume</th>\n",
       "    </tr>\n",
       "  </thead>\n",
       "  <tbody>\n",
       "    <tr>\n",
       "      <th>0</th>\n",
       "      <td>2012-01-30</td>\n",
       "      <td>1316.16</td>\n",
       "      <td>1316.16</td>\n",
       "      <td>1300.49</td>\n",
       "      <td>1313.01</td>\n",
       "      <td>2032783333</td>\n",
       "    </tr>\n",
       "    <tr>\n",
       "      <th>1</th>\n",
       "      <td>2012-01-31</td>\n",
       "      <td>1313.53</td>\n",
       "      <td>1321.41</td>\n",
       "      <td>1306.69</td>\n",
       "      <td>1312.41</td>\n",
       "      <td>2353083333</td>\n",
       "    </tr>\n",
       "    <tr>\n",
       "      <th>2</th>\n",
       "      <td>2012-02-01</td>\n",
       "      <td>1312.45</td>\n",
       "      <td>1330.52</td>\n",
       "      <td>1312.45</td>\n",
       "      <td>1324.09</td>\n",
       "      <td>2502422222</td>\n",
       "    </tr>\n",
       "    <tr>\n",
       "      <th>3</th>\n",
       "      <td>2012-02-02</td>\n",
       "      <td>1324.24</td>\n",
       "      <td>1329.19</td>\n",
       "      <td>1321.57</td>\n",
       "      <td>1325.54</td>\n",
       "      <td>2289400000</td>\n",
       "    </tr>\n",
       "    <tr>\n",
       "      <th>4</th>\n",
       "      <td>2012-02-03</td>\n",
       "      <td>1326.21</td>\n",
       "      <td>1345.34</td>\n",
       "      <td>1326.21</td>\n",
       "      <td>1344.90</td>\n",
       "      <td>2560305556</td>\n",
       "    </tr>\n",
       "  </tbody>\n",
       "</table>\n",
       "</div>"
      ],
      "text/plain": [
       "         Date     Open     High      Low    Close      Volume\n",
       "0  2012-01-30  1316.16  1316.16  1300.49  1313.01  2032783333\n",
       "1  2012-01-31  1313.53  1321.41  1306.69  1312.41  2353083333\n",
       "2  2012-02-01  1312.45  1330.52  1312.45  1324.09  2502422222\n",
       "3  2012-02-02  1324.24  1329.19  1321.57  1325.54  2289400000\n",
       "4  2012-02-03  1326.21  1345.34  1326.21  1344.90  2560305556"
      ]
     },
     "execution_count": 573,
     "metadata": {},
     "output_type": "execute_result"
    }
   ],
   "source": [
    "data_stock.head()"
   ]
  },
  {
   "cell_type": "code",
   "execution_count": 574,
   "id": "e3096331",
   "metadata": {},
   "outputs": [
    {
     "data": {
      "text/html": [
       "<div>\n",
       "<style scoped>\n",
       "    .dataframe tbody tr th:only-of-type {\n",
       "        vertical-align: middle;\n",
       "    }\n",
       "\n",
       "    .dataframe tbody tr th {\n",
       "        vertical-align: top;\n",
       "    }\n",
       "\n",
       "    .dataframe thead th {\n",
       "        text-align: right;\n",
       "    }\n",
       "</style>\n",
       "<table border=\"1\" class=\"dataframe\">\n",
       "  <thead>\n",
       "    <tr style=\"text-align: right;\">\n",
       "      <th></th>\n",
       "      <th>Open</th>\n",
       "      <th>High</th>\n",
       "      <th>Low</th>\n",
       "      <th>Close</th>\n",
       "      <th>Volume</th>\n",
       "    </tr>\n",
       "  </thead>\n",
       "  <tbody>\n",
       "    <tr>\n",
       "      <th>count</th>\n",
       "      <td>1592.000000</td>\n",
       "      <td>1592.000000</td>\n",
       "      <td>1592.000000</td>\n",
       "      <td>1592.000000</td>\n",
       "      <td>1.592000e+03</td>\n",
       "    </tr>\n",
       "    <tr>\n",
       "      <th>mean</th>\n",
       "      <td>1983.254391</td>\n",
       "      <td>1991.843769</td>\n",
       "      <td>1974.077142</td>\n",
       "      <td>1983.754906</td>\n",
       "      <td>1.973925e+09</td>\n",
       "    </tr>\n",
       "    <tr>\n",
       "      <th>std</th>\n",
       "      <td>385.776016</td>\n",
       "      <td>386.468906</td>\n",
       "      <td>384.702618</td>\n",
       "      <td>385.463489</td>\n",
       "      <td>3.629619e+08</td>\n",
       "    </tr>\n",
       "    <tr>\n",
       "      <th>min</th>\n",
       "      <td>1277.820000</td>\n",
       "      <td>1282.550000</td>\n",
       "      <td>1266.740000</td>\n",
       "      <td>1278.040000</td>\n",
       "      <td>6.938667e+08</td>\n",
       "    </tr>\n",
       "    <tr>\n",
       "      <th>25%</th>\n",
       "      <td>1687.297500</td>\n",
       "      <td>1692.052500</td>\n",
       "      <td>1681.657500</td>\n",
       "      <td>1688.845000</td>\n",
       "      <td>1.762729e+09</td>\n",
       "    </tr>\n",
       "    <tr>\n",
       "      <th>50%</th>\n",
       "      <td>2018.305000</td>\n",
       "      <td>2026.790000</td>\n",
       "      <td>2005.280000</td>\n",
       "      <td>2019.180000</td>\n",
       "      <td>1.935067e+09</td>\n",
       "    </tr>\n",
       "    <tr>\n",
       "      <th>75%</th>\n",
       "      <td>2177.872500</td>\n",
       "      <td>2183.827500</td>\n",
       "      <td>2171.437500</td>\n",
       "      <td>2180.080000</td>\n",
       "      <td>2.129876e+09</td>\n",
       "    </tr>\n",
       "    <tr>\n",
       "      <th>max</th>\n",
       "      <td>2867.230000</td>\n",
       "      <td>2872.870000</td>\n",
       "      <td>2851.480000</td>\n",
       "      <td>2872.870000</td>\n",
       "      <td>4.220806e+09</td>\n",
       "    </tr>\n",
       "  </tbody>\n",
       "</table>\n",
       "</div>"
      ],
      "text/plain": [
       "              Open         High          Low        Close        Volume\n",
       "count  1592.000000  1592.000000  1592.000000  1592.000000  1.592000e+03\n",
       "mean   1983.254391  1991.843769  1974.077142  1983.754906  1.973925e+09\n",
       "std     385.776016   386.468906   384.702618   385.463489  3.629619e+08\n",
       "min    1277.820000  1282.550000  1266.740000  1278.040000  6.938667e+08\n",
       "25%    1687.297500  1692.052500  1681.657500  1688.845000  1.762729e+09\n",
       "50%    2018.305000  2026.790000  2005.280000  2019.180000  1.935067e+09\n",
       "75%    2177.872500  2183.827500  2171.437500  2180.080000  2.129876e+09\n",
       "max    2867.230000  2872.870000  2851.480000  2872.870000  4.220806e+09"
      ]
     },
     "execution_count": 574,
     "metadata": {},
     "output_type": "execute_result"
    }
   ],
   "source": [
    "data_stock.describe()"
   ]
  },
  {
   "cell_type": "code",
   "execution_count": 575,
   "id": "75c7feca",
   "metadata": {},
   "outputs": [
    {
     "name": "stdout",
     "output_type": "stream",
     "text": [
      "<class 'pandas.core.frame.DataFrame'>\n",
      "RangeIndex: 1592 entries, 0 to 1591\n",
      "Data columns (total 6 columns):\n",
      " #   Column  Non-Null Count  Dtype  \n",
      "---  ------  --------------  -----  \n",
      " 0   Date    1592 non-null   object \n",
      " 1   Open    1592 non-null   float64\n",
      " 2   High    1592 non-null   float64\n",
      " 3   Low     1592 non-null   float64\n",
      " 4   Close   1592 non-null   float64\n",
      " 5   Volume  1592 non-null   int64  \n",
      "dtypes: float64(4), int64(1), object(1)\n",
      "memory usage: 74.8+ KB\n"
     ]
    }
   ],
   "source": [
    "data_stock.info()"
   ]
  },
  {
   "cell_type": "markdown",
   "id": "ea3b70d7",
   "metadata": {},
   "source": [
    "# Wykresy"
   ]
  },
  {
   "cell_type": "markdown",
   "id": "6195dd0a",
   "metadata": {},
   "source": [
    "Zróbmy wykres CLOSE w zależności od czasu"
   ]
  },
  {
   "cell_type": "code",
   "execution_count": 576,
   "id": "61ee0ce4",
   "metadata": {},
   "outputs": [],
   "source": [
    "import matplotlib.pyplot as plt"
   ]
  },
  {
   "cell_type": "code",
   "execution_count": 577,
   "id": "135d9662",
   "metadata": {},
   "outputs": [
    {
     "data": {
      "image/png": "[encoded data removed]",
      "text/plain": [
       "<Figure size 1440x360 with 1 Axes>"
      ]
     },
     "metadata": {
      "needs_background": "light"
     },
     "output_type": "display_data"
    }
   ],
   "source": [
    "plt.subplots(figsize = (20, 5))\n",
    "plt.plot(data_stock['Close'], label = 'CLOSE')\n",
    "# plt.ylim([-0.004, 0.004])\n",
    "# plt.xlim([0, 1660])\n",
    "plt.ylabel('CLOSE Value')\n",
    "plt.xlabel('Days')\n",
    "plt.title('CLOSE values')\n",
    "plt.legend()\n",
    "plt.show()"
   ]
  },
  {
   "cell_type": "markdown",
   "id": "61addfa4",
   "metadata": {},
   "source": [
    "Spójrzmy na wycinek dzienny (7 dni)"
   ]
  },
  {
   "cell_type": "code",
   "execution_count": 578,
   "id": "f53ccf44",
   "metadata": {},
   "outputs": [
    {
     "data": {
      "image/png": "[encoded data removed]",
      "text/plain": [
       "<Figure size 1440x360 with 1 Axes>"
      ]
     },
     "metadata": {
      "needs_background": "light"
     },
     "output_type": "display_data"
    }
   ],
   "source": [
    "plt.subplots(figsize = (20, 5))\n",
    "plt.plot(data_stock['Close'][:8], label = 'CLOSE')\n",
    "plt.xlim([0, 7])\n",
    "plt.ylabel('CLOSE Value')\n",
    "plt.xlabel('Days')\n",
    "plt.title('CLOSE values')\n",
    "plt.legend()\n",
    "plt.show()"
   ]
  },
  {
   "cell_type": "markdown",
   "id": "3d6cc386",
   "metadata": {},
   "source": [
    "# Podzielenie danych na X i y"
   ]
  },
  {
   "cell_type": "markdown",
   "id": "2b38b8b2",
   "metadata": {},
   "source": [
    "Będziemy próbowali przewidzieć wartość CLOSE"
   ]
  },
  {
   "cell_type": "markdown",
   "id": "6ea59323",
   "metadata": {},
   "source": [
    "Spróbujemy to zrobić wykorzystując **n poprzednich danych**"
   ]
  },
  {
   "cell_type": "markdown",
   "id": "96f33b44",
   "metadata": {},
   "source": [
    "W tym celu utwórzmy kopię naszego dataframe *wig* aby móc dodać do niego dodatkowe kolumny wykorzystujące informacje z przeszłości"
   ]
  },
  {
   "cell_type": "code",
   "execution_count": 579,
   "id": "4834fd7d",
   "metadata": {},
   "outputs": [],
   "source": [
    "data_stock_modified = data_stock"
   ]
  },
  {
   "cell_type": "code",
   "execution_count": 580,
   "id": "17741a07",
   "metadata": {},
   "outputs": [
    {
     "data": {
      "text/html": [
       "<div>\n",
       "<style scoped>\n",
       "    .dataframe tbody tr th:only-of-type {\n",
       "        vertical-align: middle;\n",
       "    }\n",
       "\n",
       "    .dataframe tbody tr th {\n",
       "        vertical-align: top;\n",
       "    }\n",
       "\n",
       "    .dataframe thead th {\n",
       "        text-align: right;\n",
       "    }\n",
       "</style>\n",
       "<table border=\"1\" class=\"dataframe\">\n",
       "  <thead>\n",
       "    <tr style=\"text-align: right;\">\n",
       "      <th></th>\n",
       "      <th>Date</th>\n",
       "      <th>Open</th>\n",
       "      <th>High</th>\n",
       "      <th>Low</th>\n",
       "      <th>Close</th>\n",
       "      <th>Volume</th>\n",
       "    </tr>\n",
       "  </thead>\n",
       "  <tbody>\n",
       "    <tr>\n",
       "      <th>0</th>\n",
       "      <td>2012-01-30</td>\n",
       "      <td>1316.16</td>\n",
       "      <td>1316.16</td>\n",
       "      <td>1300.49</td>\n",
       "      <td>1313.01</td>\n",
       "      <td>2032783333</td>\n",
       "    </tr>\n",
       "    <tr>\n",
       "      <th>1</th>\n",
       "      <td>2012-01-31</td>\n",
       "      <td>1313.53</td>\n",
       "      <td>1321.41</td>\n",
       "      <td>1306.69</td>\n",
       "      <td>1312.41</td>\n",
       "      <td>2353083333</td>\n",
       "    </tr>\n",
       "    <tr>\n",
       "      <th>2</th>\n",
       "      <td>2012-02-01</td>\n",
       "      <td>1312.45</td>\n",
       "      <td>1330.52</td>\n",
       "      <td>1312.45</td>\n",
       "      <td>1324.09</td>\n",
       "      <td>2502422222</td>\n",
       "    </tr>\n",
       "    <tr>\n",
       "      <th>3</th>\n",
       "      <td>2012-02-02</td>\n",
       "      <td>1324.24</td>\n",
       "      <td>1329.19</td>\n",
       "      <td>1321.57</td>\n",
       "      <td>1325.54</td>\n",
       "      <td>2289400000</td>\n",
       "    </tr>\n",
       "    <tr>\n",
       "      <th>4</th>\n",
       "      <td>2012-02-03</td>\n",
       "      <td>1326.21</td>\n",
       "      <td>1345.34</td>\n",
       "      <td>1326.21</td>\n",
       "      <td>1344.90</td>\n",
       "      <td>2560305556</td>\n",
       "    </tr>\n",
       "  </tbody>\n",
       "</table>\n",
       "</div>"
      ],
      "text/plain": [
       "         Date     Open     High      Low    Close      Volume\n",
       "0  2012-01-30  1316.16  1316.16  1300.49  1313.01  2032783333\n",
       "1  2012-01-31  1313.53  1321.41  1306.69  1312.41  2353083333\n",
       "2  2012-02-01  1312.45  1330.52  1312.45  1324.09  2502422222\n",
       "3  2012-02-02  1324.24  1329.19  1321.57  1325.54  2289400000\n",
       "4  2012-02-03  1326.21  1345.34  1326.21  1344.90  2560305556"
      ]
     },
     "execution_count": 580,
     "metadata": {},
     "output_type": "execute_result"
    }
   ],
   "source": [
    "data_stock_modified.head()"
   ]
  },
  {
   "cell_type": "markdown",
   "id": "38905bea",
   "metadata": {},
   "source": [
    "Dodamy kolumny:<br>\n",
    "* Open_1_ago\n",
    "* High_1_ago\n",
    "* Low_1_ago\n",
    "* Close_1_ago\n",
    "* Vol_1_ago"
   ]
  },
  {
   "cell_type": "markdown",
   "id": "83a2b74d",
   "metadata": {},
   "source": [
    "**Oraz analogiczne kolumny dla 2 dnia wcześniej, 3 dnia wcześniej itd.**"
   ]
  },
  {
   "cell_type": "markdown",
   "id": "6e6a56b6",
   "metadata": {},
   "source": [
    "Usuńmy więc n pierwszych wierszy z naszych danych, gdyż dla nich nie będziemy mieli danych z przeszłości"
   ]
  },
  {
   "cell_type": "code",
   "execution_count": 581,
   "id": "536633ce",
   "metadata": {},
   "outputs": [],
   "source": [
    "memory = 0"
   ]
  },
  {
   "cell_type": "code",
   "execution_count": 582,
   "id": "e84af909",
   "metadata": {},
   "outputs": [],
   "source": [
    "data_stock_modified = data_stock_modified[memory:]"
   ]
  },
  {
   "cell_type": "code",
   "execution_count": 583,
   "id": "0fef45eb",
   "metadata": {},
   "outputs": [],
   "source": [
    "for i in range (1, memory+1):\n",
    "    data_stock_modified['Open_'+str(i)+'_ago'] = np.array(data_stock['Open'][memory-i:-i])\n",
    "    data_stock_modified['High_'+str(i)+'_ago'] = np.array(data_stock['High'][memory-i:-i])\n",
    "    data_stock_modified['Low_'+str(i)+'_ago'] = np.array(data_stock['Low'][memory-i:-i])\n",
    "    data_stock_modified['Close_'+str(i)+'_ago'] = np.array(data_stock['Close'][memory-i:-i])\n",
    "    data_stock_modified['Vol_'+str(i)+'_ago'] = np.array(data_stock['Volume'][memory-i:-i])"
   ]
  },
  {
   "cell_type": "code",
   "execution_count": 584,
   "id": "46d2457d",
   "metadata": {},
   "outputs": [
    {
     "data": {
      "text/html": [
       "<div>\n",
       "<style scoped>\n",
       "    .dataframe tbody tr th:only-of-type {\n",
       "        vertical-align: middle;\n",
       "    }\n",
       "\n",
       "    .dataframe tbody tr th {\n",
       "        vertical-align: top;\n",
       "    }\n",
       "\n",
       "    .dataframe thead th {\n",
       "        text-align: right;\n",
       "    }\n",
       "</style>\n",
       "<table border=\"1\" class=\"dataframe\">\n",
       "  <thead>\n",
       "    <tr style=\"text-align: right;\">\n",
       "      <th></th>\n",
       "      <th>Date</th>\n",
       "      <th>Open</th>\n",
       "      <th>High</th>\n",
       "      <th>Low</th>\n",
       "      <th>Close</th>\n",
       "      <th>Volume</th>\n",
       "    </tr>\n",
       "  </thead>\n",
       "  <tbody>\n",
       "    <tr>\n",
       "      <th>0</th>\n",
       "      <td>2012-01-30</td>\n",
       "      <td>1316.16</td>\n",
       "      <td>1316.16</td>\n",
       "      <td>1300.49</td>\n",
       "      <td>1313.01</td>\n",
       "      <td>2032783333</td>\n",
       "    </tr>\n",
       "    <tr>\n",
       "      <th>1</th>\n",
       "      <td>2012-01-31</td>\n",
       "      <td>1313.53</td>\n",
       "      <td>1321.41</td>\n",
       "      <td>1306.69</td>\n",
       "      <td>1312.41</td>\n",
       "      <td>2353083333</td>\n",
       "    </tr>\n",
       "    <tr>\n",
       "      <th>2</th>\n",
       "      <td>2012-02-01</td>\n",
       "      <td>1312.45</td>\n",
       "      <td>1330.52</td>\n",
       "      <td>1312.45</td>\n",
       "      <td>1324.09</td>\n",
       "      <td>2502422222</td>\n",
       "    </tr>\n",
       "    <tr>\n",
       "      <th>3</th>\n",
       "      <td>2012-02-02</td>\n",
       "      <td>1324.24</td>\n",
       "      <td>1329.19</td>\n",
       "      <td>1321.57</td>\n",
       "      <td>1325.54</td>\n",
       "      <td>2289400000</td>\n",
       "    </tr>\n",
       "    <tr>\n",
       "      <th>4</th>\n",
       "      <td>2012-02-03</td>\n",
       "      <td>1326.21</td>\n",
       "      <td>1345.34</td>\n",
       "      <td>1326.21</td>\n",
       "      <td>1344.90</td>\n",
       "      <td>2560305556</td>\n",
       "    </tr>\n",
       "    <tr>\n",
       "      <th>5</th>\n",
       "      <td>2012-02-06</td>\n",
       "      <td>1344.32</td>\n",
       "      <td>1344.36</td>\n",
       "      <td>1337.52</td>\n",
       "      <td>1344.33</td>\n",
       "      <td>1877611111</td>\n",
       "    </tr>\n",
       "  </tbody>\n",
       "</table>\n",
       "</div>"
      ],
      "text/plain": [
       "         Date     Open     High      Low    Close      Volume\n",
       "0  2012-01-30  1316.16  1316.16  1300.49  1313.01  2032783333\n",
       "1  2012-01-31  1313.53  1321.41  1306.69  1312.41  2353083333\n",
       "2  2012-02-01  1312.45  1330.52  1312.45  1324.09  2502422222\n",
       "3  2012-02-02  1324.24  1329.19  1321.57  1325.54  2289400000\n",
       "4  2012-02-03  1326.21  1345.34  1326.21  1344.90  2560305556\n",
       "5  2012-02-06  1344.32  1344.36  1337.52  1344.33  1877611111"
      ]
     },
     "execution_count": 584,
     "metadata": {},
     "output_type": "execute_result"
    }
   ],
   "source": [
    "data_stock_modified.head(6)"
   ]
  },
  {
   "cell_type": "code",
   "execution_count": null,
   "id": "c47f12fc",
   "metadata": {},
   "outputs": [],
   "source": []
  },
  {
   "cell_type": "markdown",
   "id": "b13fef80",
   "metadata": {},
   "source": [
    "**Możemy teraz utworzyć nasze zbiory X oraz y**"
   ]
  },
  {
   "cell_type": "markdown",
   "id": "46d40b54",
   "metadata": {},
   "source": [
    "Wydzielamy zbiór wartości"
   ]
  },
  {
   "cell_type": "code",
   "execution_count": 585,
   "id": "55d5e429",
   "metadata": {},
   "outputs": [],
   "source": [
    "y = data_stock_modified['Close'].values"
   ]
  },
  {
   "cell_type": "code",
   "execution_count": 586,
   "id": "92f89405",
   "metadata": {},
   "outputs": [
    {
     "data": {
      "text/plain": [
       "array([1313.01, 1312.41, 1324.09, ..., 2733.29, 2727.76, 2721.33])"
      ]
     },
     "execution_count": 586,
     "metadata": {},
     "output_type": "execute_result"
    }
   ],
   "source": [
    "y"
   ]
  },
  {
   "cell_type": "markdown",
   "id": "5b0d7182",
   "metadata": {},
   "source": [
    "**Wydzielamy zbiór argumentów**"
   ]
  },
  {
   "cell_type": "markdown",
   "id": "811cc68c",
   "metadata": {},
   "source": [
    "Usuwamy High, Low, Close, Vol, gdyż są to dane z przyszłości"
   ]
  },
  {
   "cell_type": "markdown",
   "id": "75104133",
   "metadata": {},
   "source": [
    "Ponadto usuwamy również Date, gdyż nie wnosi ona aktualnie wartościowych informacji i może zniekształcić nasz model"
   ]
  },
  {
   "cell_type": "code",
   "execution_count": 587,
   "id": "77274dc1",
   "metadata": {},
   "outputs": [],
   "source": [
    "X = data_stock_modified.drop(['High', 'Low', 'Close', 'Volume', 'Date'], axis=1)"
   ]
  },
  {
   "cell_type": "code",
   "execution_count": 588,
   "id": "55a81b0d",
   "metadata": {},
   "outputs": [
    {
     "data": {
      "text/html": [
       "<div>\n",
       "<style scoped>\n",
       "    .dataframe tbody tr th:only-of-type {\n",
       "        vertical-align: middle;\n",
       "    }\n",
       "\n",
       "    .dataframe tbody tr th {\n",
       "        vertical-align: top;\n",
       "    }\n",
       "\n",
       "    .dataframe thead th {\n",
       "        text-align: right;\n",
       "    }\n",
       "</style>\n",
       "<table border=\"1\" class=\"dataframe\">\n",
       "  <thead>\n",
       "    <tr style=\"text-align: right;\">\n",
       "      <th></th>\n",
       "      <th>Open</th>\n",
       "    </tr>\n",
       "  </thead>\n",
       "  <tbody>\n",
       "    <tr>\n",
       "      <th>0</th>\n",
       "      <td>1316.16</td>\n",
       "    </tr>\n",
       "    <tr>\n",
       "      <th>1</th>\n",
       "      <td>1313.53</td>\n",
       "    </tr>\n",
       "    <tr>\n",
       "      <th>2</th>\n",
       "      <td>1312.45</td>\n",
       "    </tr>\n",
       "    <tr>\n",
       "      <th>3</th>\n",
       "      <td>1324.24</td>\n",
       "    </tr>\n",
       "    <tr>\n",
       "      <th>4</th>\n",
       "      <td>1326.21</td>\n",
       "    </tr>\n",
       "    <tr>\n",
       "      <th>5</th>\n",
       "      <td>1344.32</td>\n",
       "    </tr>\n",
       "    <tr>\n",
       "      <th>6</th>\n",
       "      <td>1344.33</td>\n",
       "    </tr>\n",
       "    <tr>\n",
       "      <th>7</th>\n",
       "      <td>1347.04</td>\n",
       "    </tr>\n",
       "  </tbody>\n",
       "</table>\n",
       "</div>"
      ],
      "text/plain": [
       "      Open\n",
       "0  1316.16\n",
       "1  1313.53\n",
       "2  1312.45\n",
       "3  1324.24\n",
       "4  1326.21\n",
       "5  1344.32\n",
       "6  1344.33\n",
       "7  1347.04"
      ]
     },
     "execution_count": 588,
     "metadata": {},
     "output_type": "execute_result"
    }
   ],
   "source": [
    "X.head(8)"
   ]
  },
  {
   "cell_type": "code",
   "execution_count": null,
   "id": "186b6e3a",
   "metadata": {},
   "outputs": [],
   "source": []
  },
  {
   "cell_type": "markdown",
   "id": "f7301f56",
   "metadata": {},
   "source": [
    "# Modele"
   ]
  },
  {
   "cell_type": "code",
   "execution_count": 589,
   "id": "a42d7ef6",
   "metadata": {},
   "outputs": [],
   "source": [
    "from sklearn.model_selection import train_test_split\n",
    "X_train, X_test, y_train, y_test = train_test_split(X, y, test_size=0.20, random_state=42)\n",
    "# X_train, X_test, y_train, y_test = train_test_split(X, y, test_size=0.20, random_state=None, shuffle=False)"
   ]
  },
  {
   "cell_type": "code",
   "execution_count": 590,
   "id": "fc922f13",
   "metadata": {},
   "outputs": [],
   "source": [
    "open_values = X_test['Open'].values"
   ]
  },
  {
   "cell_type": "code",
   "execution_count": 591,
   "id": "edf7e27f",
   "metadata": {},
   "outputs": [
    {
     "data": {
      "text/html": [
       "<div>\n",
       "<style scoped>\n",
       "    .dataframe tbody tr th:only-of-type {\n",
       "        vertical-align: middle;\n",
       "    }\n",
       "\n",
       "    .dataframe tbody tr th {\n",
       "        vertical-align: top;\n",
       "    }\n",
       "\n",
       "    .dataframe thead th {\n",
       "        text-align: right;\n",
       "    }\n",
       "</style>\n",
       "<table border=\"1\" class=\"dataframe\">\n",
       "  <thead>\n",
       "    <tr style=\"text-align: right;\">\n",
       "      <th></th>\n",
       "      <th>Open</th>\n",
       "    </tr>\n",
       "  </thead>\n",
       "  <tbody>\n",
       "    <tr>\n",
       "      <th>1545</th>\n",
       "      <td>2714.99</td>\n",
       "    </tr>\n",
       "    <tr>\n",
       "      <th>1509</th>\n",
       "      <td>2867.23</td>\n",
       "    </tr>\n",
       "    <tr>\n",
       "      <th>744</th>\n",
       "      <td>2018.40</td>\n",
       "    </tr>\n",
       "    <tr>\n",
       "      <th>462</th>\n",
       "      <td>1808.69</td>\n",
       "    </tr>\n",
       "    <tr>\n",
       "      <th>1356</th>\n",
       "      <td>2450.66</td>\n",
       "    </tr>\n",
       "    <tr>\n",
       "      <th>...</th>\n",
       "      <td>...</td>\n",
       "    </tr>\n",
       "    <tr>\n",
       "      <th>1130</th>\n",
       "      <td>2169.81</td>\n",
       "    </tr>\n",
       "    <tr>\n",
       "      <th>1294</th>\n",
       "      <td>2343.00</td>\n",
       "    </tr>\n",
       "    <tr>\n",
       "      <th>860</th>\n",
       "      <td>2067.00</td>\n",
       "    </tr>\n",
       "    <tr>\n",
       "      <th>1459</th>\n",
       "      <td>2577.75</td>\n",
       "    </tr>\n",
       "    <tr>\n",
       "      <th>1126</th>\n",
       "      <td>2172.91</td>\n",
       "    </tr>\n",
       "  </tbody>\n",
       "</table>\n",
       "<p>1273 rows × 1 columns</p>\n",
       "</div>"
      ],
      "text/plain": [
       "         Open\n",
       "1545  2714.99\n",
       "1509  2867.23\n",
       "744   2018.40\n",
       "462   1808.69\n",
       "1356  2450.66\n",
       "...       ...\n",
       "1130  2169.81\n",
       "1294  2343.00\n",
       "860   2067.00\n",
       "1459  2577.75\n",
       "1126  2172.91\n",
       "\n",
       "[1273 rows x 1 columns]"
      ]
     },
     "execution_count": 591,
     "metadata": {},
     "output_type": "execute_result"
    }
   ],
   "source": [
    "X_train"
   ]
  },
  {
   "cell_type": "markdown",
   "id": "b1c60c52",
   "metadata": {},
   "source": [
    "**Skalowanie**"
   ]
  },
  {
   "cell_type": "code",
   "execution_count": 592,
   "id": "d40ce681",
   "metadata": {},
   "outputs": [],
   "source": [
    "from sklearn.preprocessing import StandardScaler\n",
    "scaler = StandardScaler()\n",
    "scaler.fit(X_train)\n",
    "X_train = scaler.transform(X_train)\n",
    "X_test = scaler.transform(X_test)"
   ]
  },
  {
   "cell_type": "code",
   "execution_count": 593,
   "id": "30edb571",
   "metadata": {},
   "outputs": [
    {
     "data": {
      "text/plain": [
       "(1273, 1)"
      ]
     },
     "execution_count": 593,
     "metadata": {},
     "output_type": "execute_result"
    }
   ],
   "source": [
    "X_train.shape"
   ]
  },
  {
   "cell_type": "code",
   "execution_count": 594,
   "id": "d6f38377",
   "metadata": {},
   "outputs": [
    {
     "data": {
      "text/plain": [
       "(1273,)"
      ]
     },
     "execution_count": 594,
     "metadata": {},
     "output_type": "execute_result"
    }
   ],
   "source": [
    "y_train.shape"
   ]
  },
  {
   "cell_type": "code",
   "execution_count": 595,
   "id": "ab1e432d",
   "metadata": {},
   "outputs": [],
   "source": [
    "# from sklearn.model_selection import StratifiedKFold\n",
    "# from sklearn.pipeline import Pipeline\n",
    "# from sklearn.model_selection import GridSearchCV\n",
    "# from sklearn.svm import SVC\n",
    "\n",
    "# seed=123\n",
    "# kfold = StratifiedKFold(n_splits=5)"
   ]
  },
  {
   "cell_type": "code",
   "execution_count": 596,
   "id": "871bb1e7",
   "metadata": {},
   "outputs": [
    {
     "data": {
      "text/plain": [
       "array([[1.8691388 ],\n",
       "       [2.26138945],\n",
       "       [0.07435502],\n",
       "       ...,\n",
       "       [0.19957429],\n",
       "       [1.51553607],\n",
       "       [0.47245439]])"
      ]
     },
     "execution_count": 596,
     "metadata": {},
     "output_type": "execute_result"
    }
   ],
   "source": [
    "X_train"
   ]
  },
  {
   "cell_type": "code",
   "execution_count": 597,
   "id": "a812eb0a",
   "metadata": {},
   "outputs": [
    {
     "name": "stdout",
     "output_type": "stream",
     "text": [
      "Model: \"sequential_18\"\n",
      "_________________________________________________________________\n",
      "Layer (type)                 Output Shape              Param #   \n",
      "=================================================================\n",
      "dense_65 (Dense)             (None, 300)               600       \n",
      "_________________________________________________________________\n",
      "dense_66 (Dense)             (None, 150)               45150     \n",
      "_________________________________________________________________\n",
      "dense_67 (Dense)             (None, 50)                7550      \n",
      "_________________________________________________________________\n",
      "dense_68 (Dense)             (None, 1)                 51        \n",
      "=================================================================\n",
      "Total params: 53,351\n",
      "Trainable params: 53,351\n",
      "Non-trainable params: 0\n",
      "_________________________________________________________________\n"
     ]
    }
   ],
   "source": [
    "from tensorflow import keras\n",
    "from tensorflow.keras.models import Sequential\n",
    "from tensorflow.keras.layers import Dense, LSTM\n",
    "from tensorflow.keras.models import Sequential\n",
    "from tensorflow.keras.layers import Flatten\n",
    "from tensorflow.keras.layers import BatchNormalization\n",
    "from tensorflow.keras.layers import Activation\n",
    "from tensorflow.keras.layers import Dropout\n",
    "from tensorflow.keras.callbacks import History\n",
    "\n",
    "history_sgd = History()\n",
    "model = Sequential()\n",
    "model.add(Dense(300,activation=\"elu\",input_shape=(X_train.shape[1],)))\n",
    "model.add(Dense(150,activation=\"elu\"))\n",
    "model.add(Dense(50,activation=\"elu\"))\n",
    "\n",
    "# model.add(Dense(100,activation=\"elu\",input_shape=(X_train.shape[1],)))\n",
    "# model.add(Dense(50,activation=\"elu\"))\n",
    "# model.add(Dense(10,activation=\"elu\"))\n",
    "\n",
    "\n",
    "model.add(Dense(1,activation=\"elu\"))\n",
    "model.summary()"
   ]
  },
  {
   "cell_type": "code",
   "execution_count": 598,
   "id": "673da6f8",
   "metadata": {},
   "outputs": [],
   "source": [
    "model.compile(loss=\"mean_squared_error\",optimizer='adam')"
   ]
  },
  {
   "cell_type": "code",
   "execution_count": 599,
   "id": "47312832",
   "metadata": {},
   "outputs": [
    {
     "name": "stdout",
     "output_type": "stream",
     "text": [
      "Epoch 1/200\n",
      "40/40 [==============================] - 0s 1ms/step - loss: 4071678.2500\n",
      "Epoch 2/200\n",
      "40/40 [==============================] - 0s 1ms/step - loss: 3596915.0000\n",
      "Epoch 3/200\n",
      "40/40 [==============================] - 0s 1ms/step - loss: 1876856.0000\n",
      "Epoch 4/200\n",
      "40/40 [==============================] - 0s 1ms/step - loss: 771437.3125\n",
      "Epoch 5/200\n",
      "40/40 [==============================] - 0s 1ms/step - loss: 266643.5312\n",
      "Epoch 6/200\n",
      "40/40 [==============================] - 0s 1ms/step - loss: 13125.7197\n",
      "Epoch 7/200\n",
      "40/40 [==============================] - 0s 1ms/step - loss: 362.9835\n",
      "Epoch 8/200\n",
      "40/40 [==============================] - 0s 1ms/step - loss: 259.5384\n",
      "Epoch 9/200\n",
      "40/40 [==============================] - 0s 1ms/step - loss: 259.2262\n",
      "Epoch 10/200\n",
      "40/40 [==============================] - 0s 1ms/step - loss: 258.2887\n",
      "Epoch 11/200\n",
      "40/40 [==============================] - 0s 1ms/step - loss: 258.6190\n",
      "Epoch 12/200\n",
      "40/40 [==============================] - 0s 1ms/step - loss: 257.7512\n",
      "Epoch 13/200\n",
      "40/40 [==============================] - 0s 1ms/step - loss: 257.9143\n",
      "Epoch 14/200\n",
      "40/40 [==============================] - 0s 1ms/step - loss: 258.2007\n",
      "Epoch 15/200\n",
      "40/40 [==============================] - 0s 1ms/step - loss: 258.2482\n",
      "Epoch 16/200\n",
      "40/40 [==============================] - 0s 1ms/step - loss: 256.9735\n",
      "Epoch 17/200\n",
      "40/40 [==============================] - 0s 1ms/step - loss: 257.1707\n",
      "Epoch 18/200\n",
      "40/40 [==============================] - 0s 1ms/step - loss: 257.5501\n",
      "Epoch 19/200\n",
      "40/40 [==============================] - 0s 1ms/step - loss: 256.7976\n",
      "Epoch 20/200\n",
      "40/40 [==============================] - 0s 1ms/step - loss: 255.4411\n",
      "Epoch 21/200\n",
      "40/40 [==============================] - 0s 1ms/step - loss: 255.9177\n",
      "Epoch 22/200\n",
      "40/40 [==============================] - 0s 1ms/step - loss: 255.3902\n",
      "Epoch 23/200\n",
      "40/40 [==============================] - 0s 1ms/step - loss: 260.7479\n",
      "Epoch 24/200\n",
      "40/40 [==============================] - 0s 1ms/step - loss: 254.7623\n",
      "Epoch 25/200\n",
      "40/40 [==============================] - 0s 1ms/step - loss: 255.0682\n",
      "Epoch 26/200\n",
      "40/40 [==============================] - 0s 2ms/step - loss: 254.5333\n",
      "Epoch 27/200\n",
      "40/40 [==============================] - 0s 1ms/step - loss: 259.2742\n",
      "Epoch 28/200\n",
      "40/40 [==============================] - 0s 1ms/step - loss: 253.2070\n",
      "Epoch 29/200\n",
      "40/40 [==============================] - 0s 1ms/step - loss: 254.4950\n",
      "Epoch 30/200\n",
      "40/40 [==============================] - 0s 1ms/step - loss: 253.3209\n",
      "Epoch 31/200\n",
      "40/40 [==============================] - 0s 1ms/step - loss: 253.9247\n",
      "Epoch 32/200\n",
      "40/40 [==============================] - 0s 1ms/step - loss: 254.4725\n",
      "Epoch 33/200\n",
      "40/40 [==============================] - 0s 1ms/step - loss: 253.0546\n",
      "Epoch 34/200\n",
      "40/40 [==============================] - 0s 1ms/step - loss: 250.3957\n",
      "Epoch 35/200\n",
      "40/40 [==============================] - 0s 1ms/step - loss: 252.5886\n",
      "Epoch 36/200\n",
      "40/40 [==============================] - 0s 1ms/step - loss: 251.3573\n",
      "Epoch 37/200\n",
      "40/40 [==============================] - 0s 1ms/step - loss: 250.1859\n",
      "Epoch 38/200\n",
      "40/40 [==============================] - 0s 1ms/step - loss: 253.0839\n",
      "Epoch 39/200\n",
      "40/40 [==============================] - 0s 1ms/step - loss: 250.6735\n",
      "Epoch 40/200\n",
      "40/40 [==============================] - 0s 1ms/step - loss: 258.0329\n",
      "Epoch 41/200\n",
      "40/40 [==============================] - 0s 1ms/step - loss: 247.9839\n",
      "Epoch 42/200\n",
      "40/40 [==============================] - 0s 1ms/step - loss: 247.9848\n",
      "Epoch 43/200\n",
      "40/40 [==============================] - 0s 1ms/step - loss: 247.8039\n",
      "Epoch 44/200\n",
      "40/40 [==============================] - 0s 1ms/step - loss: 248.6580\n",
      "Epoch 45/200\n",
      "40/40 [==============================] - 0s 1ms/step - loss: 246.8908\n",
      "Epoch 46/200\n",
      "40/40 [==============================] - 0s 1ms/step - loss: 252.2385\n",
      "Epoch 47/200\n",
      "40/40 [==============================] - 0s 1ms/step - loss: 247.6008\n",
      "Epoch 48/200\n",
      "40/40 [==============================] - 0s 1ms/step - loss: 248.9033\n",
      "Epoch 49/200\n",
      "40/40 [==============================] - 0s 1ms/step - loss: 248.5027\n",
      "Epoch 50/200\n",
      "40/40 [==============================] - 0s 1ms/step - loss: 247.7839\n",
      "Epoch 51/200\n",
      "40/40 [==============================] - 0s 1ms/step - loss: 246.4681\n",
      "Epoch 52/200\n",
      "40/40 [==============================] - 0s 965us/step - loss: 247.7908\n",
      "Epoch 53/200\n",
      "40/40 [==============================] - 0s 1ms/step - loss: 245.5817\n",
      "Epoch 54/200\n",
      "40/40 [==============================] - 0s 1ms/step - loss: 250.2743\n",
      "Epoch 55/200\n",
      "40/40 [==============================] - 0s 877us/step - loss: 242.6775\n",
      "Epoch 56/200\n",
      "40/40 [==============================] - 0s 940us/step - loss: 244.0740\n",
      "Epoch 57/200\n",
      "40/40 [==============================] - 0s 1ms/step - loss: 243.1055\n",
      "Epoch 58/200\n",
      "40/40 [==============================] - 0s 1ms/step - loss: 243.5207\n",
      "Epoch 59/200\n",
      "40/40 [==============================] - 0s 1ms/step - loss: 245.2881\n",
      "Epoch 60/200\n",
      "40/40 [==============================] - 0s 990us/step - loss: 241.0728\n",
      "Epoch 61/200\n",
      "40/40 [==============================] - 0s 1ms/step - loss: 244.7232\n",
      "Epoch 62/200\n",
      "40/40 [==============================] - 0s 1ms/step - loss: 246.7746\n",
      "Epoch 63/200\n",
      "40/40 [==============================] - 0s 1ms/step - loss: 239.3363\n",
      "Epoch 64/200\n",
      "40/40 [==============================] - 0s 1ms/step - loss: 244.4046\n",
      "Epoch 65/200\n",
      "40/40 [==============================] - 0s 1ms/step - loss: 244.9362\n",
      "Epoch 66/200\n",
      "40/40 [==============================] - 0s 940us/step - loss: 240.3511\n",
      "Epoch 67/200\n",
      "40/40 [==============================] - 0s 953us/step - loss: 239.7814\n",
      "Epoch 68/200\n",
      "40/40 [==============================] - 0s 1ms/step - loss: 240.1725\n",
      "Epoch 69/200\n",
      "40/40 [==============================] - 0s 1ms/step - loss: 246.8530\n",
      "Epoch 70/200\n",
      "40/40 [==============================] - 0s 1ms/step - loss: 237.8837\n",
      "Epoch 71/200\n",
      "40/40 [==============================] - 0s 1ms/step - loss: 238.3050\n",
      "Epoch 72/200\n",
      "40/40 [==============================] - 0s 953us/step - loss: 237.2234\n",
      "Epoch 73/200\n",
      "40/40 [==============================] - 0s 1ms/step - loss: 237.2515\n",
      "Epoch 74/200\n",
      "40/40 [==============================] - 0s 978us/step - loss: 235.3285\n",
      "Epoch 75/200\n",
      "40/40 [==============================] - 0s 1ms/step - loss: 237.0068\n",
      "Epoch 76/200\n",
      "40/40 [==============================] - 0s 1ms/step - loss: 237.9502\n",
      "Epoch 77/200\n",
      "40/40 [==============================] - 0s 1ms/step - loss: 235.5915\n",
      "Epoch 78/200\n",
      "40/40 [==============================] - 0s 1ms/step - loss: 235.7541\n",
      "Epoch 79/200\n",
      "40/40 [==============================] - 0s 1ms/step - loss: 241.6160\n",
      "Epoch 80/200\n",
      "40/40 [==============================] - 0s 1ms/step - loss: 245.0072\n",
      "Epoch 81/200\n",
      "40/40 [==============================] - 0s 1ms/step - loss: 235.7777\n",
      "Epoch 82/200\n",
      "40/40 [==============================] - 0s 1ms/step - loss: 237.0075\n",
      "Epoch 83/200\n",
      "40/40 [==============================] - 0s 1ms/step - loss: 236.3226\n",
      "Epoch 84/200\n",
      "40/40 [==============================] - 0s 1ms/step - loss: 242.7293\n",
      "Epoch 85/200\n",
      "40/40 [==============================] - 0s 1ms/step - loss: 234.0393\n",
      "Epoch 86/200\n",
      "40/40 [==============================] - 0s 1ms/step - loss: 238.7153\n",
      "Epoch 87/200\n",
      "40/40 [==============================] - 0s 1ms/step - loss: 238.6501\n",
      "Epoch 88/200\n",
      "40/40 [==============================] - 0s 1ms/step - loss: 243.0112\n",
      "Epoch 89/200\n",
      "40/40 [==============================] - 0s 1ms/step - loss: 252.3273\n",
      "Epoch 90/200\n",
      "40/40 [==============================] - 0s 965us/step - loss: 232.7198\n",
      "Epoch 91/200\n",
      "40/40 [==============================] - 0s 1ms/step - loss: 236.7488\n",
      "Epoch 92/200\n",
      "40/40 [==============================] - 0s 1ms/step - loss: 235.2209\n",
      "Epoch 93/200\n",
      "40/40 [==============================] - 0s 1ms/step - loss: 232.2048\n",
      "Epoch 94/200\n",
      "40/40 [==============================] - 0s 1ms/step - loss: 231.9202\n",
      "Epoch 95/200\n",
      "40/40 [==============================] - 0s 1ms/step - loss: 236.1123\n",
      "Epoch 96/200\n",
      "40/40 [==============================] - 0s 1ms/step - loss: 230.9310\n",
      "Epoch 97/200\n",
      "40/40 [==============================] - 0s 1ms/step - loss: 244.0756\n",
      "Epoch 98/200\n",
      "40/40 [==============================] - 0s 1ms/step - loss: 239.6994\n",
      "Epoch 99/200\n"
     ]
    },
    {
     "name": "stdout",
     "output_type": "stream",
     "text": [
      "40/40 [==============================] - 0s 1ms/step - loss: 238.8160\n",
      "Epoch 100/200\n",
      "40/40 [==============================] - 0s 1ms/step - loss: 235.2343\n",
      "Epoch 101/200\n",
      "40/40 [==============================] - 0s 1ms/step - loss: 234.4451\n",
      "Epoch 102/200\n",
      "40/40 [==============================] - 0s 1ms/step - loss: 231.9770\n",
      "Epoch 103/200\n",
      "40/40 [==============================] - 0s 1ms/step - loss: 237.7361\n",
      "Epoch 104/200\n",
      "40/40 [==============================] - 0s 852us/step - loss: 230.2576\n",
      "Epoch 105/200\n",
      "40/40 [==============================] - 0s 990us/step - loss: 236.4833\n",
      "Epoch 106/200\n",
      "40/40 [==============================] - 0s 927us/step - loss: 252.1984\n",
      "Epoch 107/200\n",
      "40/40 [==============================] - 0s 1ms/step - loss: 239.9169\n",
      "Epoch 108/200\n",
      "40/40 [==============================] - 0s 990us/step - loss: 230.1977\n",
      "Epoch 109/200\n",
      "40/40 [==============================] - 0s 1ms/step - loss: 242.1335\n",
      "Epoch 110/200\n",
      "40/40 [==============================] - 0s 927us/step - loss: 231.1060\n",
      "Epoch 111/200\n",
      "40/40 [==============================] - 0s 1ms/step - loss: 233.2740\n",
      "Epoch 112/200\n",
      "40/40 [==============================] - 0s 877us/step - loss: 234.5543\n",
      "Epoch 113/200\n",
      "40/40 [==============================] - 0s 1ms/step - loss: 247.1877\n",
      "Epoch 114/200\n",
      "40/40 [==============================] - 0s 1ms/step - loss: 229.9435\n",
      "Epoch 115/200\n",
      "40/40 [==============================] - 0s 1ms/step - loss: 259.1420\n",
      "Epoch 116/200\n",
      "40/40 [==============================] - 0s 940us/step - loss: 242.8406\n",
      "Epoch 117/200\n",
      "40/40 [==============================] - 0s 965us/step - loss: 242.0242\n",
      "Epoch 118/200\n",
      "40/40 [==============================] - 0s 978us/step - loss: 243.3183\n",
      "Epoch 119/200\n",
      "40/40 [==============================] - 0s 1ms/step - loss: 230.1783\n",
      "Epoch 120/200\n",
      "40/40 [==============================] - 0s 953us/step - loss: 231.9480\n",
      "Epoch 121/200\n",
      "40/40 [==============================] - 0s 1ms/step - loss: 264.5362\n",
      "Epoch 122/200\n",
      "40/40 [==============================] - 0s 877us/step - loss: 228.5298\n",
      "Epoch 123/200\n",
      "40/40 [==============================] - 0s 1ms/step - loss: 237.0612\n",
      "Epoch 124/200\n",
      "40/40 [==============================] - 0s 965us/step - loss: 245.2352\n",
      "Epoch 125/200\n",
      "40/40 [==============================] - 0s 1ms/step - loss: 231.2975\n",
      "Epoch 126/200\n",
      "40/40 [==============================] - 0s 1ms/step - loss: 274.9516\n",
      "Epoch 127/200\n",
      "40/40 [==============================] - 0s 990us/step - loss: 242.4447\n",
      "Epoch 128/200\n",
      "40/40 [==============================] - 0s 1ms/step - loss: 246.6688\n",
      "Epoch 129/200\n",
      "40/40 [==============================] - 0s 1ms/step - loss: 233.8591\n",
      "Epoch 130/200\n",
      "40/40 [==============================] - 0s 1ms/step - loss: 239.4894\n",
      "Epoch 131/200\n",
      "40/40 [==============================] - 0s 978us/step - loss: 236.6046\n",
      "Epoch 132/200\n",
      "40/40 [==============================] - 0s 965us/step - loss: 244.2286\n",
      "Epoch 133/200\n",
      "40/40 [==============================] - 0s 1ms/step - loss: 229.4185\n",
      "Epoch 134/200\n",
      "40/40 [==============================] - 0s 953us/step - loss: 229.0031\n",
      "Epoch 135/200\n",
      "40/40 [==============================] - 0s 1ms/step - loss: 236.1082\n",
      "Epoch 136/200\n",
      "40/40 [==============================] - 0s 915us/step - loss: 237.5518\n",
      "Epoch 137/200\n",
      "40/40 [==============================] - 0s 1ms/step - loss: 240.0505\n",
      "Epoch 138/200\n",
      "40/40 [==============================] - 0s 902us/step - loss: 248.2226\n",
      "Epoch 139/200\n",
      "40/40 [==============================] - 0s 990us/step - loss: 244.2421\n",
      "Epoch 140/200\n",
      "40/40 [==============================] - 0s 965us/step - loss: 232.9707\n",
      "Epoch 141/200\n",
      "40/40 [==============================] - 0s 1ms/step - loss: 229.7094\n",
      "Epoch 142/200\n",
      "40/40 [==============================] - 0s 877us/step - loss: 246.9275\n",
      "Epoch 143/200\n",
      "40/40 [==============================] - 0s 1ms/step - loss: 229.1784\n",
      "Epoch 144/200\n",
      "40/40 [==============================] - 0s 978us/step - loss: 231.5369\n",
      "Epoch 145/200\n",
      "40/40 [==============================] - 0s 1ms/step - loss: 253.7047\n",
      "Epoch 146/200\n",
      "40/40 [==============================] - 0s 877us/step - loss: 251.4247\n",
      "Epoch 147/200\n",
      "40/40 [==============================] - 0s 1ms/step - loss: 239.8634\n",
      "Epoch 148/200\n",
      "40/40 [==============================] - 0s 902us/step - loss: 232.5088\n",
      "Epoch 149/200\n",
      "40/40 [==============================] - 0s 1ms/step - loss: 233.3241\n",
      "Epoch 150/200\n",
      "40/40 [==============================] - 0s 865us/step - loss: 250.3525\n",
      "Epoch 151/200\n",
      "40/40 [==============================] - 0s 1ms/step - loss: 249.9890\n",
      "Epoch 152/200\n",
      "40/40 [==============================] - 0s 1ms/step - loss: 256.1586\n",
      "Epoch 153/200\n",
      "40/40 [==============================] - 0s 927us/step - loss: 239.8545\n",
      "Epoch 154/200\n",
      "40/40 [==============================] - 0s 978us/step - loss: 229.7037\n",
      "Epoch 155/200\n",
      "40/40 [==============================] - 0s 1ms/step - loss: 248.3300\n",
      "Epoch 156/200\n",
      "40/40 [==============================] - 0s 953us/step - loss: 230.2633\n",
      "Epoch 157/200\n",
      "40/40 [==============================] - 0s 1ms/step - loss: 233.1330\n",
      "Epoch 158/200\n",
      "40/40 [==============================] - 0s 1ms/step - loss: 228.0098\n",
      "Epoch 159/200\n",
      "40/40 [==============================] - 0s 990us/step - loss: 241.5504\n",
      "Epoch 160/200\n",
      "40/40 [==============================] - 0s 1ms/step - loss: 230.3812\n",
      "Epoch 161/200\n",
      "40/40 [==============================] - 0s 990us/step - loss: 241.6155\n",
      "Epoch 162/200\n",
      "40/40 [==============================] - 0s 990us/step - loss: 235.9328\n",
      "Epoch 163/200\n",
      "40/40 [==============================] - 0s 1ms/step - loss: 236.5484\n",
      "Epoch 164/200\n",
      "40/40 [==============================] - 0s 1ms/step - loss: 253.2929\n",
      "Epoch 165/200\n",
      "40/40 [==============================] - 0s 1ms/step - loss: 302.8754\n",
      "Epoch 166/200\n",
      "40/40 [==============================] - 0s 1ms/step - loss: 272.7167\n",
      "Epoch 167/200\n",
      "40/40 [==============================] - 0s 1ms/step - loss: 245.0928\n",
      "Epoch 168/200\n",
      "40/40 [==============================] - 0s 1ms/step - loss: 251.5827\n",
      "Epoch 169/200\n",
      "40/40 [==============================] - 0s 1ms/step - loss: 253.3430\n",
      "Epoch 170/200\n",
      "40/40 [==============================] - 0s 1ms/step - loss: 248.0169\n",
      "Epoch 171/200\n",
      "40/40 [==============================] - 0s 1ms/step - loss: 275.3604\n",
      "Epoch 172/200\n",
      "40/40 [==============================] - 0s 1ms/step - loss: 267.9225\n",
      "Epoch 173/200\n",
      "40/40 [==============================] - 0s 1ms/step - loss: 232.1184\n",
      "Epoch 174/200\n",
      "40/40 [==============================] - 0s 978us/step - loss: 249.8038\n",
      "Epoch 175/200\n",
      "40/40 [==============================] - 0s 1ms/step - loss: 237.3931\n",
      "Epoch 176/200\n",
      "40/40 [==============================] - 0s 1ms/step - loss: 247.9421\n",
      "Epoch 177/200\n",
      "40/40 [==============================] - 0s 1ms/step - loss: 224.1854\n",
      "Epoch 178/200\n",
      "40/40 [==============================] - 0s 1ms/step - loss: 239.6389\n",
      "Epoch 179/200\n",
      "40/40 [==============================] - 0s 1ms/step - loss: 236.3482\n",
      "Epoch 180/200\n",
      "40/40 [==============================] - 0s 1ms/step - loss: 267.4537\n",
      "Epoch 181/200\n",
      "40/40 [==============================] - 0s 1ms/step - loss: 264.7101\n",
      "Epoch 182/200\n",
      "40/40 [==============================] - 0s 1ms/step - loss: 245.8137\n",
      "Epoch 183/200\n",
      "40/40 [==============================] - 0s 1ms/step - loss: 239.3068\n",
      "Epoch 184/200\n",
      "40/40 [==============================] - 0s 1ms/step - loss: 232.8208\n",
      "Epoch 185/200\n",
      "40/40 [==============================] - 0s 1ms/step - loss: 259.5799\n",
      "Epoch 186/200\n",
      "40/40 [==============================] - 0s 1ms/step - loss: 243.2468\n",
      "Epoch 187/200\n",
      "40/40 [==============================] - 0s 965us/step - loss: 233.3451\n",
      "Epoch 188/200\n",
      "40/40 [==============================] - 0s 1ms/step - loss: 269.6765\n",
      "Epoch 189/200\n",
      "40/40 [==============================] - 0s 1ms/step - loss: 259.7392\n",
      "Epoch 190/200\n",
      "40/40 [==============================] - 0s 1ms/step - loss: 253.9641\n",
      "Epoch 191/200\n",
      "40/40 [==============================] - 0s 953us/step - loss: 245.0475\n",
      "Epoch 192/200\n",
      "40/40 [==============================] - 0s 965us/step - loss: 249.3896\n",
      "Epoch 193/200\n",
      "40/40 [==============================] - 0s 1ms/step - loss: 226.1868\n",
      "Epoch 194/200\n",
      "40/40 [==============================] - 0s 1ms/step - loss: 254.3037\n",
      "Epoch 195/200\n"
     ]
    },
    {
     "name": "stdout",
     "output_type": "stream",
     "text": [
      "40/40 [==============================] - 0s 1ms/step - loss: 253.5422\n",
      "Epoch 196/200\n",
      "40/40 [==============================] - 0s 1ms/step - loss: 239.7477\n",
      "Epoch 197/200\n",
      "40/40 [==============================] - 0s 965us/step - loss: 244.4180\n",
      "Epoch 198/200\n",
      "40/40 [==============================] - 0s 953us/step - loss: 242.6941\n",
      "Epoch 199/200\n",
      "40/40 [==============================] - 0s 1ms/step - loss: 249.8181\n",
      "Epoch 200/200\n",
      "40/40 [==============================] - 0s 953us/step - loss: 235.8560\n"
     ]
    },
    {
     "data": {
      "text/plain": [
       "<tensorflow.python.keras.callbacks.History at 0xecd22ae20>"
      ]
     },
     "execution_count": 599,
     "metadata": {},
     "output_type": "execute_result"
    }
   ],
   "source": [
    "model.fit(X_train, y_train, batch_size=32,epochs=200, callbacks=[history_sgd])"
   ]
  },
  {
   "cell_type": "code",
   "execution_count": 600,
   "id": "403135d0",
   "metadata": {},
   "outputs": [
    {
     "data": {
      "text/plain": [
       "dict_keys(['loss'])"
      ]
     },
     "execution_count": 600,
     "metadata": {},
     "output_type": "execute_result"
    }
   ],
   "source": [
    "history_sgd.history.keys()"
   ]
  },
  {
   "cell_type": "code",
   "execution_count": 601,
   "id": "2f8f0f84",
   "metadata": {},
   "outputs": [
    {
     "data": {
      "image/png": "[encoded data removed]",
      "text/plain": [
       "<Figure size 576x360 with 1 Axes>"
      ]
     },
     "metadata": {
      "needs_background": "light"
     },
     "output_type": "display_data"
    }
   ],
   "source": [
    "pd.DataFrame(history_sgd.history).plot(figsize=(8, 5))\n",
    "plt.grid(True)\n",
    "plt.gca().set_ylim(0, 500)\n",
    "plt.show()"
   ]
  },
  {
   "cell_type": "code",
   "execution_count": 602,
   "id": "e67e763c",
   "metadata": {},
   "outputs": [],
   "source": [
    "predictions = model.predict(X_test)"
   ]
  },
  {
   "cell_type": "code",
   "execution_count": 603,
   "id": "0d43c963",
   "metadata": {},
   "outputs": [
    {
     "data": {
      "text/plain": [
       "array([[1965.7173],\n",
       "       [2127.8494],\n",
       "       [2745.5623],\n",
       "       [1649.857 ],\n",
       "       [2654.9565],\n",
       "       [1366.3184],\n",
       "       [2441.3528],\n",
       "       [1823.849 ],\n",
       "       [2049.9424],\n",
       "       [1910.529 ],\n",
       "       [1965.1234],\n",
       "       [1604.8387],\n",
       "       [1933.1772],\n",
       "       [2670.9277],\n",
       "       [2362.751 ],\n",
       "       [1930.3156],\n",
       "       [1380.1384],\n",
       "       [1515.538 ],\n",
       "       [2105.4226],\n",
       "       [2159.9673],\n",
       "       [2157.2712],\n",
       "       [1864.4708],\n",
       "       [2766.2432],\n",
       "       [1410.6826],\n",
       "       [1379.0033],\n",
       "       [1964.787 ],\n",
       "       [2267.4604],\n",
       "       [2445.87  ],\n",
       "       [1523.6508],\n",
       "       [1932.4943],\n",
       "       [1613.6278],\n",
       "       [1377.39  ],\n",
       "       [1890.2919],\n",
       "       [2085.9253],\n",
       "       [1527.0746],\n",
       "       [2162.4456],\n",
       "       [1846.9379],\n",
       "       [2537.2947],\n",
       "       [2553.3271],\n",
       "       [2437.4062],\n",
       "       [1570.538 ],\n",
       "       [1382.2997],\n",
       "       [2460.3745],\n",
       "       [1402.3029],\n",
       "       [2379.141 ],\n",
       "       [1743.0404],\n",
       "       [2001.2719],\n",
       "       [1983.8873],\n",
       "       [1970.4977],\n",
       "       [1596.0587],\n",
       "       [2597.1626],\n",
       "       [1903.0312],\n",
       "       [2051.3267],\n",
       "       [1689.4064],\n",
       "       [2095.976 ],\n",
       "       [2083.7314],\n",
       "       [2098.891 ],\n",
       "       [1346.546 ],\n",
       "       [2735.4604],\n",
       "       [1645.6335],\n",
       "       [1413.5924],\n",
       "       [1375.2094],\n",
       "       [1712.286 ],\n",
       "       [1931.296 ],\n",
       "       [2094.3354],\n",
       "       [2023.064 ],\n",
       "       [1927.7809],\n",
       "       [2371.6455],\n",
       "       [1599.5392],\n",
       "       [1709.1683],\n",
       "       [2088.159 ],\n",
       "       [1921.2944],\n",
       "       [2715.871 ],\n",
       "       [1681.8678],\n",
       "       [2165.8027],\n",
       "       [2731.3408],\n",
       "       [2085.886 ],\n",
       "       [2474.6309],\n",
       "       [1693.9847],\n",
       "       [2725.73  ],\n",
       "       [2035.1594],\n",
       "       [1947.2859],\n",
       "       [2115.4414],\n",
       "       [2776.959 ],\n",
       "       [2069.6658],\n",
       "       [2499.586 ],\n",
       "       [1969.3893],\n",
       "       [1877.9371],\n",
       "       [2268.8115],\n",
       "       [1465.2484],\n",
       "       [1467.4003],\n",
       "       [2648.683 ],\n",
       "       [1390.3578],\n",
       "       [2041.7948],\n",
       "       [2094.4048],\n",
       "       [1436.493 ],\n",
       "       [1653.6132],\n",
       "       [2152.65  ],\n",
       "       [1549.1476],\n",
       "       [1874.2809],\n",
       "       [1689.1182],\n",
       "       [2093.8513],\n",
       "       [1941.7219],\n",
       "       [2105.5808],\n",
       "       [2114.2559],\n",
       "       [2321.5942],\n",
       "       [1845.5403],\n",
       "       [1970.9432],\n",
       "       [1704.6206],\n",
       "       [2000.6289],\n",
       "       [1560.739 ],\n",
       "       [1381.931 ],\n",
       "       [2549.6116],\n",
       "       [2007.9493],\n",
       "       [1855.462 ],\n",
       "       [1441.3561],\n",
       "       [1584.8708],\n",
       "       [1701.9197],\n",
       "       [2031.5402],\n",
       "       [2712.938 ],\n",
       "       [1377.0018],\n",
       "       [1371.4554],\n",
       "       [2130.0127],\n",
       "       [2109.9185],\n",
       "       [1333.2721],\n",
       "       [1368.1501],\n",
       "       [1848.266 ],\n",
       "       [1699.983 ],\n",
       "       [1706.4476],\n",
       "       [1775.5781],\n",
       "       [2800.6516],\n",
       "       [1346.7251],\n",
       "       [1525.5817],\n",
       "       [2048.1233],\n",
       "       [1714.54  ],\n",
       "       [2053.1064],\n",
       "       [1479.9703],\n",
       "       [2551.7544],\n",
       "       [1988.3104],\n",
       "       [1399.6526],\n",
       "       [1698.9902],\n",
       "       [1425.8994],\n",
       "       [2091.7068],\n",
       "       [1993.6932],\n",
       "       [1879.2252],\n",
       "       [2050.6743],\n",
       "       [1441.2067],\n",
       "       [1502.5656],\n",
       "       [2170.779 ],\n",
       "       [1586.1239],\n",
       "       [1981.0966],\n",
       "       [2104.8596],\n",
       "       [2435.5261],\n",
       "       [1846.5414],\n",
       "       [2442.9966],\n",
       "       [1712.3358],\n",
       "       [1667.7316],\n",
       "       [1504.6862],\n",
       "       [2369.4883],\n",
       "       [2140.6406],\n",
       "       [2061.4707],\n",
       "       [1656.0576],\n",
       "       [2070.536 ],\n",
       "       [1459.0121],\n",
       "       [2095.225 ],\n",
       "       [2005.1104],\n",
       "       [2271.1387],\n",
       "       [2175.4487],\n",
       "       [2058.663 ],\n",
       "       [1879.3539],\n",
       "       [2270.567 ],\n",
       "       [1877.4716],\n",
       "       [2064.4365],\n",
       "       [1559.1769],\n",
       "       [1595.0244],\n",
       "       [1448.8694],\n",
       "       [2045.3448],\n",
       "       [2061.5496],\n",
       "       [1532.8175],\n",
       "       [1416.5519],\n",
       "       [2289.883 ],\n",
       "       [1547.3368],\n",
       "       [1907.4291],\n",
       "       [2466.7407],\n",
       "       [1465.059 ],\n",
       "       [2111.331 ],\n",
       "       [1479.9006],\n",
       "       [2716.1558],\n",
       "       [1985.5597],\n",
       "       [1343.2042],\n",
       "       [2669.524 ],\n",
       "       [2158.6143],\n",
       "       [2424.1875],\n",
       "       [1468.8247],\n",
       "       [1922.3241],\n",
       "       [2083.7808],\n",
       "       [1703.2404],\n",
       "       [2128.037 ],\n",
       "       [1304.386 ],\n",
       "       [1659.5352],\n",
       "       [2595.8262],\n",
       "       [2068.974 ],\n",
       "       [1762.1835],\n",
       "       [1684.6486],\n",
       "       [1898.316 ],\n",
       "       [1388.0468],\n",
       "       [1369.4843],\n",
       "       [2062.1333],\n",
       "       [1879.3539],\n",
       "       [1883.6542],\n",
       "       [2002.3898],\n",
       "       [2053.6008],\n",
       "       [2179.6738],\n",
       "       [1616.461 ],\n",
       "       [1906.9238],\n",
       "       [2124.797 ],\n",
       "       [1946.9293],\n",
       "       [1838.7501],\n",
       "       [1833.6049],\n",
       "       [1388.2161],\n",
       "       [2109.6812],\n",
       "       [2389.895 ],\n",
       "       [2187.9666],\n",
       "       [1848.0677],\n",
       "       [1811.9801],\n",
       "       [1559.8436],\n",
       "       [2063.2007],\n",
       "       [1750.087 ],\n",
       "       [2370.5127],\n",
       "       [1916.5902],\n",
       "       [1921.4528],\n",
       "       [2065.7314],\n",
       "       [1488.7643],\n",
       "       [1895.275 ],\n",
       "       [2017.5548],\n",
       "       [1393.2465],\n",
       "       [1360.2367],\n",
       "       [1990.1312],\n",
       "       [2572.3535],\n",
       "       [1983.63  ],\n",
       "       [1887.0723],\n",
       "       [1411.4102],\n",
       "       [1363.7203],\n",
       "       [1726.6123],\n",
       "       [2202.2979],\n",
       "       [2047.6487],\n",
       "       [1334.3654],\n",
       "       [2201.7158],\n",
       "       [2092.616 ],\n",
       "       [1977.4154],\n",
       "       [1370.5894],\n",
       "       [2155.948 ],\n",
       "       [2277.2031],\n",
       "       [2101.9644],\n",
       "       [2661.789 ],\n",
       "       [1881.8112],\n",
       "       [2414.1167],\n",
       "       [2164.7363],\n",
       "       [2044.9493],\n",
       "       [2104.484 ],\n",
       "       [1952.226 ],\n",
       "       [1387.5087],\n",
       "       [2092.2207],\n",
       "       [2184.5803],\n",
       "       [2073.1257],\n",
       "       [1666.778 ],\n",
       "       [2564.6196],\n",
       "       [2678.1125],\n",
       "       [1619.3046],\n",
       "       [1796.5582],\n",
       "       [2081.9717],\n",
       "       [2169.456 ],\n",
       "       [2179.3286],\n",
       "       [2365.8047],\n",
       "       [2259.5903],\n",
       "       [2175.044 ],\n",
       "       [2066.2356],\n",
       "       [2392.4849],\n",
       "       [2183.6821],\n",
       "       [2015.5072],\n",
       "       [1410.5331],\n",
       "       [2432.8198],\n",
       "       [2354.1309],\n",
       "       [1468.9441],\n",
       "       [2170.7393],\n",
       "       [1519.6293],\n",
       "       [2008.8993],\n",
       "       [2360.4062],\n",
       "       [2250.6147],\n",
       "       [2425.92  ],\n",
       "       [1435.606 ],\n",
       "       [2426.9631],\n",
       "       [1411.3601],\n",
       "       [2728.3198],\n",
       "       [2252.4692],\n",
       "       [2386.1133],\n",
       "       [2442.8882],\n",
       "       [1849.6737],\n",
       "       [2442.731 ],\n",
       "       [1980.5231],\n",
       "       [1982.403 ],\n",
       "       [1426.5969],\n",
       "       [1879.7008],\n",
       "       [1566.1608],\n",
       "       [2445.3188],\n",
       "       [1850.1493],\n",
       "       [2035.3077],\n",
       "       [2189.516 ],\n",
       "       [2353.3232],\n",
       "       [2160.6187],\n",
       "       [1848.4247],\n",
       "       [2175.1821],\n",
       "       [2101.411 ],\n",
       "       [2623.29  ],\n",
       "       [2353.195 ],\n",
       "       [2041.7057],\n",
       "       [2270.833 ],\n",
       "       [1595.9098],\n",
       "       [2260.9907]], dtype=float32)"
      ]
     },
     "execution_count": 603,
     "metadata": {},
     "output_type": "execute_result"
    }
   ],
   "source": [
    "predictions"
   ]
  },
  {
   "cell_type": "markdown",
   "id": "9e034196",
   "metadata": {},
   "source": [
    "# Analiza wyników"
   ]
  },
  {
   "cell_type": "code",
   "execution_count": 604,
   "id": "b37cac4a",
   "metadata": {},
   "outputs": [],
   "source": [
    "predictions = np.concatenate(predictions)"
   ]
  },
  {
   "cell_type": "code",
   "execution_count": 605,
   "id": "35018e7d",
   "metadata": {},
   "outputs": [],
   "source": [
    "d = {'Open': open_values,\n",
    "    'Close': y_test, \n",
    "     'Close_Predicted': predictions\n",
    "    }\n",
    "results = pd.DataFrame(data=d)"
   ]
  },
  {
   "cell_type": "code",
   "execution_count": 606,
   "id": "ec2bad00",
   "metadata": {},
   "outputs": [
    {
     "data": {
      "text/html": [
       "<div>\n",
       "<style scoped>\n",
       "    .dataframe tbody tr th:only-of-type {\n",
       "        vertical-align: middle;\n",
       "    }\n",
       "\n",
       "    .dataframe tbody tr th {\n",
       "        vertical-align: top;\n",
       "    }\n",
       "\n",
       "    .dataframe thead th {\n",
       "        text-align: right;\n",
       "    }\n",
       "</style>\n",
       "<table border=\"1\" class=\"dataframe\">\n",
       "  <thead>\n",
       "    <tr style=\"text-align: right;\">\n",
       "      <th></th>\n",
       "      <th>Open</th>\n",
       "      <th>Close</th>\n",
       "      <th>Close_Predicted</th>\n",
       "    </tr>\n",
       "  </thead>\n",
       "  <tbody>\n",
       "    <tr>\n",
       "      <th>0</th>\n",
       "      <td>1961.39</td>\n",
       "      <td>1942.74</td>\n",
       "      <td>1965.717285</td>\n",
       "    </tr>\n",
       "    <tr>\n",
       "      <th>1</th>\n",
       "      <td>2125.36</td>\n",
       "      <td>2147.26</td>\n",
       "      <td>2127.849365</td>\n",
       "    </tr>\n",
       "    <tr>\n",
       "      <th>2</th>\n",
       "      <td>2752.97</td>\n",
       "      <td>2767.56</td>\n",
       "      <td>2745.562256</td>\n",
       "    </tr>\n",
       "    <tr>\n",
       "      <th>3</th>\n",
       "      <td>1642.89</td>\n",
       "      <td>1652.32</td>\n",
       "      <td>1649.857056</td>\n",
       "    </tr>\n",
       "    <tr>\n",
       "      <th>4</th>\n",
       "      <td>2660.63</td>\n",
       "      <td>2675.81</td>\n",
       "      <td>2654.956543</td>\n",
       "    </tr>\n",
       "  </tbody>\n",
       "</table>\n",
       "</div>"
      ],
      "text/plain": [
       "      Open    Close  Close_Predicted\n",
       "0  1961.39  1942.74      1965.717285\n",
       "1  2125.36  2147.26      2127.849365\n",
       "2  2752.97  2767.56      2745.562256\n",
       "3  1642.89  1652.32      1649.857056\n",
       "4  2660.63  2675.81      2654.956543"
      ]
     },
     "execution_count": 606,
     "metadata": {},
     "output_type": "execute_result"
    }
   ],
   "source": [
    "results.head()"
   ]
  },
  {
   "cell_type": "code",
   "execution_count": 607,
   "id": "c65b8719",
   "metadata": {},
   "outputs": [],
   "source": [
    "results['Difference'] = results['Close_Predicted'] - results['Close']"
   ]
  },
  {
   "cell_type": "code",
   "execution_count": 608,
   "id": "d2f9408c",
   "metadata": {},
   "outputs": [
    {
     "data": {
      "text/html": [
       "<div>\n",
       "<style scoped>\n",
       "    .dataframe tbody tr th:only-of-type {\n",
       "        vertical-align: middle;\n",
       "    }\n",
       "\n",
       "    .dataframe tbody tr th {\n",
       "        vertical-align: top;\n",
       "    }\n",
       "\n",
       "    .dataframe thead th {\n",
       "        text-align: right;\n",
       "    }\n",
       "</style>\n",
       "<table border=\"1\" class=\"dataframe\">\n",
       "  <thead>\n",
       "    <tr style=\"text-align: right;\">\n",
       "      <th></th>\n",
       "      <th>Open</th>\n",
       "      <th>Close</th>\n",
       "      <th>Close_Predicted</th>\n",
       "      <th>Difference</th>\n",
       "    </tr>\n",
       "  </thead>\n",
       "  <tbody>\n",
       "    <tr>\n",
       "      <th>0</th>\n",
       "      <td>1961.39</td>\n",
       "      <td>1942.74</td>\n",
       "      <td>1965.717285</td>\n",
       "      <td>22.977285</td>\n",
       "    </tr>\n",
       "    <tr>\n",
       "      <th>1</th>\n",
       "      <td>2125.36</td>\n",
       "      <td>2147.26</td>\n",
       "      <td>2127.849365</td>\n",
       "      <td>-19.410635</td>\n",
       "    </tr>\n",
       "    <tr>\n",
       "      <th>2</th>\n",
       "      <td>2752.97</td>\n",
       "      <td>2767.56</td>\n",
       "      <td>2745.562256</td>\n",
       "      <td>-21.997744</td>\n",
       "    </tr>\n",
       "    <tr>\n",
       "      <th>3</th>\n",
       "      <td>1642.89</td>\n",
       "      <td>1652.32</td>\n",
       "      <td>1649.857056</td>\n",
       "      <td>-2.462944</td>\n",
       "    </tr>\n",
       "    <tr>\n",
       "      <th>4</th>\n",
       "      <td>2660.63</td>\n",
       "      <td>2675.81</td>\n",
       "      <td>2654.956543</td>\n",
       "      <td>-20.853457</td>\n",
       "    </tr>\n",
       "  </tbody>\n",
       "</table>\n",
       "</div>"
      ],
      "text/plain": [
       "      Open    Close  Close_Predicted  Difference\n",
       "0  1961.39  1942.74      1965.717285   22.977285\n",
       "1  2125.36  2147.26      2127.849365  -19.410635\n",
       "2  2752.97  2767.56      2745.562256  -21.997744\n",
       "3  1642.89  1652.32      1649.857056   -2.462944\n",
       "4  2660.63  2675.81      2654.956543  -20.853457"
      ]
     },
     "execution_count": 608,
     "metadata": {},
     "output_type": "execute_result"
    }
   ],
   "source": [
    "results.head()"
   ]
  },
  {
   "cell_type": "code",
   "execution_count": 609,
   "id": "9d211d9c",
   "metadata": {},
   "outputs": [
    {
     "data": {
      "text/html": [
       "<div>\n",
       "<style scoped>\n",
       "    .dataframe tbody tr th:only-of-type {\n",
       "        vertical-align: middle;\n",
       "    }\n",
       "\n",
       "    .dataframe tbody tr th {\n",
       "        vertical-align: top;\n",
       "    }\n",
       "\n",
       "    .dataframe thead th {\n",
       "        text-align: right;\n",
       "    }\n",
       "</style>\n",
       "<table border=\"1\" class=\"dataframe\">\n",
       "  <thead>\n",
       "    <tr style=\"text-align: right;\">\n",
       "      <th></th>\n",
       "      <th>Open</th>\n",
       "      <th>Close</th>\n",
       "      <th>Close_Predicted</th>\n",
       "      <th>Difference</th>\n",
       "    </tr>\n",
       "  </thead>\n",
       "  <tbody>\n",
       "    <tr>\n",
       "      <th>count</th>\n",
       "      <td>319.000000</td>\n",
       "      <td>319.000000</td>\n",
       "      <td>319.000000</td>\n",
       "      <td>319.000000</td>\n",
       "    </tr>\n",
       "    <tr>\n",
       "      <th>mean</th>\n",
       "      <td>1958.165517</td>\n",
       "      <td>1959.150502</td>\n",
       "      <td>1961.685913</td>\n",
       "      <td>2.534689</td>\n",
       "    </tr>\n",
       "    <tr>\n",
       "      <th>std</th>\n",
       "      <td>375.199051</td>\n",
       "      <td>374.919968</td>\n",
       "      <td>371.294983</td>\n",
       "      <td>13.786324</td>\n",
       "    </tr>\n",
       "    <tr>\n",
       "      <th>min</th>\n",
       "      <td>1295.730000</td>\n",
       "      <td>1304.860000</td>\n",
       "      <td>1304.385986</td>\n",
       "      <td>-62.572866</td>\n",
       "    </tr>\n",
       "    <tr>\n",
       "      <th>25%</th>\n",
       "      <td>1660.400000</td>\n",
       "      <td>1669.880000</td>\n",
       "      <td>1667.254761</td>\n",
       "      <td>-5.049568</td>\n",
       "    </tr>\n",
       "    <tr>\n",
       "      <th>50%</th>\n",
       "      <td>1984.220000</td>\n",
       "      <td>1987.660000</td>\n",
       "      <td>1988.310425</td>\n",
       "      <td>1.647739</td>\n",
       "    </tr>\n",
       "    <tr>\n",
       "      <th>75%</th>\n",
       "      <td>2168.810000</td>\n",
       "      <td>2170.895000</td>\n",
       "      <td>2170.759155</td>\n",
       "      <td>9.155479</td>\n",
       "    </tr>\n",
       "    <tr>\n",
       "      <th>max</th>\n",
       "      <td>2809.160000</td>\n",
       "      <td>2832.970000</td>\n",
       "      <td>2800.651611</td>\n",
       "      <td>44.391558</td>\n",
       "    </tr>\n",
       "  </tbody>\n",
       "</table>\n",
       "</div>"
      ],
      "text/plain": [
       "              Open        Close  Close_Predicted  Difference\n",
       "count   319.000000   319.000000       319.000000  319.000000\n",
       "mean   1958.165517  1959.150502      1961.685913    2.534689\n",
       "std     375.199051   374.919968       371.294983   13.786324\n",
       "min    1295.730000  1304.860000      1304.385986  -62.572866\n",
       "25%    1660.400000  1669.880000      1667.254761   -5.049568\n",
       "50%    1984.220000  1987.660000      1988.310425    1.647739\n",
       "75%    2168.810000  2170.895000      2170.759155    9.155479\n",
       "max    2809.160000  2832.970000      2800.651611   44.391558"
      ]
     },
     "execution_count": 609,
     "metadata": {},
     "output_type": "execute_result"
    }
   ],
   "source": [
    "results.describe()"
   ]
  },
  {
   "cell_type": "code",
   "execution_count": 610,
   "id": "e89e774e",
   "metadata": {},
   "outputs": [
    {
     "data": {
      "text/plain": [
       "0.9986020160498689"
      ]
     },
     "execution_count": 610,
     "metadata": {},
     "output_type": "execute_result"
    }
   ],
   "source": [
    "from sklearn import  metrics\n",
    "metrics.r2_score(results['Close'], results['Close_Predicted'])"
   ]
  },
  {
   "cell_type": "code",
   "execution_count": 611,
   "id": "d18a2cfe",
   "metadata": {},
   "outputs": [
    {
     "name": "stdout",
     "output_type": "stream",
     "text": [
      "Difference mean:  2.5346890459688516\n",
      "Difference std:  13.786324280793163\n"
     ]
    }
   ],
   "source": [
    "print(\"Difference mean: \", results['Difference'].mean())\n",
    "print(\"Difference std: \", results['Difference'].std())"
   ]
  },
  {
   "cell_type": "markdown",
   "id": "659b08ae",
   "metadata": {},
   "source": [
    "**Dowiedzmy się ile wynosi accuracy naszego modelu w kwestii przewidywania czy kurs wzrósł czy zmalał**"
   ]
  },
  {
   "cell_type": "markdown",
   "id": "243b2248",
   "metadata": {},
   "source": [
    "Utwórzmy kolumny Up_Down oraz Up_Down_Predicted"
   ]
  },
  {
   "cell_type": "markdown",
   "id": "662618a3",
   "metadata": {},
   "source": [
    "1 będzie oznaczała, że kurs wzrósł<br>\n",
    "0 kurs zmalał lub pozostał taki sam"
   ]
  },
  {
   "cell_type": "code",
   "execution_count": 612,
   "id": "fdac98fe",
   "metadata": {},
   "outputs": [],
   "source": [
    "results['Up_Down'] = results['Close'] - results['Open']\n",
    "results['Up_Down'] = results['Up_Down'].map(lambda diff: 1 if diff > 0 else 0)"
   ]
  },
  {
   "cell_type": "code",
   "execution_count": 613,
   "id": "ebc331da",
   "metadata": {},
   "outputs": [],
   "source": [
    "results['Up_Down_Predicted'] = results['Close_Predicted'] - results['Open']\n",
    "results['Up_Down_Predicted'] = results['Up_Down_Predicted'].map(lambda diff: 1 if diff > 0 else 0)"
   ]
  },
  {
   "cell_type": "code",
   "execution_count": 614,
   "id": "117ec718",
   "metadata": {},
   "outputs": [
    {
     "data": {
      "text/html": [
       "<div>\n",
       "<style scoped>\n",
       "    .dataframe tbody tr th:only-of-type {\n",
       "        vertical-align: middle;\n",
       "    }\n",
       "\n",
       "    .dataframe tbody tr th {\n",
       "        vertical-align: top;\n",
       "    }\n",
       "\n",
       "    .dataframe thead th {\n",
       "        text-align: right;\n",
       "    }\n",
       "</style>\n",
       "<table border=\"1\" class=\"dataframe\">\n",
       "  <thead>\n",
       "    <tr style=\"text-align: right;\">\n",
       "      <th></th>\n",
       "      <th>Open</th>\n",
       "      <th>Close</th>\n",
       "      <th>Close_Predicted</th>\n",
       "      <th>Difference</th>\n",
       "      <th>Up_Down</th>\n",
       "      <th>Up_Down_Predicted</th>\n",
       "    </tr>\n",
       "  </thead>\n",
       "  <tbody>\n",
       "    <tr>\n",
       "      <th>0</th>\n",
       "      <td>1961.39</td>\n",
       "      <td>1942.74</td>\n",
       "      <td>1965.717285</td>\n",
       "      <td>22.977285</td>\n",
       "      <td>0</td>\n",
       "      <td>1</td>\n",
       "    </tr>\n",
       "    <tr>\n",
       "      <th>1</th>\n",
       "      <td>2125.36</td>\n",
       "      <td>2147.26</td>\n",
       "      <td>2127.849365</td>\n",
       "      <td>-19.410635</td>\n",
       "      <td>1</td>\n",
       "      <td>1</td>\n",
       "    </tr>\n",
       "    <tr>\n",
       "      <th>2</th>\n",
       "      <td>2752.97</td>\n",
       "      <td>2767.56</td>\n",
       "      <td>2745.562256</td>\n",
       "      <td>-21.997744</td>\n",
       "      <td>1</td>\n",
       "      <td>0</td>\n",
       "    </tr>\n",
       "    <tr>\n",
       "      <th>3</th>\n",
       "      <td>1642.89</td>\n",
       "      <td>1652.32</td>\n",
       "      <td>1649.857056</td>\n",
       "      <td>-2.462944</td>\n",
       "      <td>1</td>\n",
       "      <td>1</td>\n",
       "    </tr>\n",
       "    <tr>\n",
       "      <th>4</th>\n",
       "      <td>2660.63</td>\n",
       "      <td>2675.81</td>\n",
       "      <td>2654.956543</td>\n",
       "      <td>-20.853457</td>\n",
       "      <td>1</td>\n",
       "      <td>0</td>\n",
       "    </tr>\n",
       "  </tbody>\n",
       "</table>\n",
       "</div>"
      ],
      "text/plain": [
       "      Open    Close  Close_Predicted  Difference  Up_Down  Up_Down_Predicted\n",
       "0  1961.39  1942.74      1965.717285   22.977285        0                  1\n",
       "1  2125.36  2147.26      2127.849365  -19.410635        1                  1\n",
       "2  2752.97  2767.56      2745.562256  -21.997744        1                  0\n",
       "3  1642.89  1652.32      1649.857056   -2.462944        1                  1\n",
       "4  2660.63  2675.81      2654.956543  -20.853457        1                  0"
      ]
     },
     "execution_count": 614,
     "metadata": {},
     "output_type": "execute_result"
    }
   ],
   "source": [
    "results.head()"
   ]
  },
  {
   "cell_type": "markdown",
   "id": "5c5c1527",
   "metadata": {},
   "source": [
    "**Utwórzmy jeszcze kolumnę wskazującą na to czy model przewidział wzrost/spadek poprawnie**"
   ]
  },
  {
   "cell_type": "markdown",
   "id": "d43b4792",
   "metadata": {},
   "source": [
    "1 = model przewidział wzrost/spadek poprawnie<br>\n",
    "0 = model źle przewidział wzrost/spadek"
   ]
  },
  {
   "cell_type": "code",
   "execution_count": 615,
   "id": "d5fb3213",
   "metadata": {},
   "outputs": [],
   "source": [
    "results['Prediction_correct'] = results['Up_Down'] - results['Up_Down_Predicted']\n",
    "results['Prediction_correct'] = results['Prediction_correct'].map(lambda res: 1 if res==0 else 0)"
   ]
  },
  {
   "cell_type": "code",
   "execution_count": 616,
   "id": "17a30011",
   "metadata": {},
   "outputs": [
    {
     "data": {
      "text/html": [
       "<div>\n",
       "<style scoped>\n",
       "    .dataframe tbody tr th:only-of-type {\n",
       "        vertical-align: middle;\n",
       "    }\n",
       "\n",
       "    .dataframe tbody tr th {\n",
       "        vertical-align: top;\n",
       "    }\n",
       "\n",
       "    .dataframe thead th {\n",
       "        text-align: right;\n",
       "    }\n",
       "</style>\n",
       "<table border=\"1\" class=\"dataframe\">\n",
       "  <thead>\n",
       "    <tr style=\"text-align: right;\">\n",
       "      <th></th>\n",
       "      <th>Open</th>\n",
       "      <th>Close</th>\n",
       "      <th>Close_Predicted</th>\n",
       "      <th>Difference</th>\n",
       "      <th>Up_Down</th>\n",
       "      <th>Up_Down_Predicted</th>\n",
       "      <th>Prediction_correct</th>\n",
       "    </tr>\n",
       "  </thead>\n",
       "  <tbody>\n",
       "    <tr>\n",
       "      <th>0</th>\n",
       "      <td>1961.39</td>\n",
       "      <td>1942.74</td>\n",
       "      <td>1965.717285</td>\n",
       "      <td>22.977285</td>\n",
       "      <td>0</td>\n",
       "      <td>1</td>\n",
       "      <td>0</td>\n",
       "    </tr>\n",
       "    <tr>\n",
       "      <th>1</th>\n",
       "      <td>2125.36</td>\n",
       "      <td>2147.26</td>\n",
       "      <td>2127.849365</td>\n",
       "      <td>-19.410635</td>\n",
       "      <td>1</td>\n",
       "      <td>1</td>\n",
       "      <td>1</td>\n",
       "    </tr>\n",
       "    <tr>\n",
       "      <th>2</th>\n",
       "      <td>2752.97</td>\n",
       "      <td>2767.56</td>\n",
       "      <td>2745.562256</td>\n",
       "      <td>-21.997744</td>\n",
       "      <td>1</td>\n",
       "      <td>0</td>\n",
       "      <td>0</td>\n",
       "    </tr>\n",
       "    <tr>\n",
       "      <th>3</th>\n",
       "      <td>1642.89</td>\n",
       "      <td>1652.32</td>\n",
       "      <td>1649.857056</td>\n",
       "      <td>-2.462944</td>\n",
       "      <td>1</td>\n",
       "      <td>1</td>\n",
       "      <td>1</td>\n",
       "    </tr>\n",
       "    <tr>\n",
       "      <th>4</th>\n",
       "      <td>2660.63</td>\n",
       "      <td>2675.81</td>\n",
       "      <td>2654.956543</td>\n",
       "      <td>-20.853457</td>\n",
       "      <td>1</td>\n",
       "      <td>0</td>\n",
       "      <td>0</td>\n",
       "    </tr>\n",
       "  </tbody>\n",
       "</table>\n",
       "</div>"
      ],
      "text/plain": [
       "      Open    Close  Close_Predicted  Difference  Up_Down  Up_Down_Predicted  \\\n",
       "0  1961.39  1942.74      1965.717285   22.977285        0                  1   \n",
       "1  2125.36  2147.26      2127.849365  -19.410635        1                  1   \n",
       "2  2752.97  2767.56      2745.562256  -21.997744        1                  0   \n",
       "3  1642.89  1652.32      1649.857056   -2.462944        1                  1   \n",
       "4  2660.63  2675.81      2654.956543  -20.853457        1                  0   \n",
       "\n",
       "   Prediction_correct  \n",
       "0                   0  \n",
       "1                   1  \n",
       "2                   0  \n",
       "3                   1  \n",
       "4                   0  "
      ]
     },
     "execution_count": 616,
     "metadata": {},
     "output_type": "execute_result"
    }
   ],
   "source": [
    "results.head()"
   ]
  },
  {
   "cell_type": "markdown",
   "id": "4333e0ca",
   "metadata": {},
   "source": [
    "**Usuńmy kolumny Up_Down oraz Up_Down_Predicted aby nie zaciemniać wyników**"
   ]
  },
  {
   "cell_type": "code",
   "execution_count": 617,
   "id": "cb65a829",
   "metadata": {},
   "outputs": [],
   "source": [
    "results.drop(['Up_Down', 'Up_Down_Predicted'], axis=1, inplace=True)"
   ]
  },
  {
   "cell_type": "code",
   "execution_count": 618,
   "id": "f241cc15",
   "metadata": {},
   "outputs": [
    {
     "data": {
      "text/html": [
       "<div>\n",
       "<style scoped>\n",
       "    .dataframe tbody tr th:only-of-type {\n",
       "        vertical-align: middle;\n",
       "    }\n",
       "\n",
       "    .dataframe tbody tr th {\n",
       "        vertical-align: top;\n",
       "    }\n",
       "\n",
       "    .dataframe thead th {\n",
       "        text-align: right;\n",
       "    }\n",
       "</style>\n",
       "<table border=\"1\" class=\"dataframe\">\n",
       "  <thead>\n",
       "    <tr style=\"text-align: right;\">\n",
       "      <th></th>\n",
       "      <th>Open</th>\n",
       "      <th>Close</th>\n",
       "      <th>Close_Predicted</th>\n",
       "      <th>Difference</th>\n",
       "      <th>Prediction_correct</th>\n",
       "    </tr>\n",
       "  </thead>\n",
       "  <tbody>\n",
       "    <tr>\n",
       "      <th>0</th>\n",
       "      <td>1961.39</td>\n",
       "      <td>1942.74</td>\n",
       "      <td>1965.717285</td>\n",
       "      <td>22.977285</td>\n",
       "      <td>0</td>\n",
       "    </tr>\n",
       "    <tr>\n",
       "      <th>1</th>\n",
       "      <td>2125.36</td>\n",
       "      <td>2147.26</td>\n",
       "      <td>2127.849365</td>\n",
       "      <td>-19.410635</td>\n",
       "      <td>1</td>\n",
       "    </tr>\n",
       "    <tr>\n",
       "      <th>2</th>\n",
       "      <td>2752.97</td>\n",
       "      <td>2767.56</td>\n",
       "      <td>2745.562256</td>\n",
       "      <td>-21.997744</td>\n",
       "      <td>0</td>\n",
       "    </tr>\n",
       "    <tr>\n",
       "      <th>3</th>\n",
       "      <td>1642.89</td>\n",
       "      <td>1652.32</td>\n",
       "      <td>1649.857056</td>\n",
       "      <td>-2.462944</td>\n",
       "      <td>1</td>\n",
       "    </tr>\n",
       "    <tr>\n",
       "      <th>4</th>\n",
       "      <td>2660.63</td>\n",
       "      <td>2675.81</td>\n",
       "      <td>2654.956543</td>\n",
       "      <td>-20.853457</td>\n",
       "      <td>0</td>\n",
       "    </tr>\n",
       "  </tbody>\n",
       "</table>\n",
       "</div>"
      ],
      "text/plain": [
       "      Open    Close  Close_Predicted  Difference  Prediction_correct\n",
       "0  1961.39  1942.74      1965.717285   22.977285                   0\n",
       "1  2125.36  2147.26      2127.849365  -19.410635                   1\n",
       "2  2752.97  2767.56      2745.562256  -21.997744                   0\n",
       "3  1642.89  1652.32      1649.857056   -2.462944                   1\n",
       "4  2660.63  2675.81      2654.956543  -20.853457                   0"
      ]
     },
     "execution_count": 618,
     "metadata": {},
     "output_type": "execute_result"
    }
   ],
   "source": [
    "results.head()"
   ]
  },
  {
   "cell_type": "markdown",
   "id": "c64390ff",
   "metadata": {},
   "source": [
    "**Policzmy liczbę jedynek i podzielmy ją przez liczbę wszystkich wierszy, wynik da nam accuracy**"
   ]
  },
  {
   "cell_type": "code",
   "execution_count": 619,
   "id": "8b1e621b",
   "metadata": {},
   "outputs": [
    {
     "name": "stdout",
     "output_type": "stream",
     "text": [
      "170\n"
     ]
    }
   ],
   "source": [
    "good = results['Prediction_correct'].sum()\n",
    "print(good)"
   ]
  },
  {
   "cell_type": "code",
   "execution_count": 620,
   "id": "74ff8bca",
   "metadata": {},
   "outputs": [],
   "source": [
    "accuracy = good/(results.shape[0])"
   ]
  },
  {
   "cell_type": "code",
   "execution_count": 621,
   "id": "f4129993",
   "metadata": {},
   "outputs": [
    {
     "name": "stdout",
     "output_type": "stream",
     "text": [
      "accuracy:  0.5329153605015674\n"
     ]
    }
   ],
   "source": [
    "print(\"accuracy: \", accuracy)"
   ]
  },
  {
   "cell_type": "code",
   "execution_count": null,
   "id": "63188b15",
   "metadata": {},
   "outputs": [],
   "source": []
  },
  {
   "cell_type": "code",
   "execution_count": null,
   "id": "b895be59",
   "metadata": {},
   "outputs": [],
   "source": []
  }
 ],
 "metadata": {
  "kernelspec": {
   "display_name": "Python 3",
   "language": "python",
   "name": "python3"
  },
  "language_info": {
   "codemirror_mode": {
    "name": "ipython",
    "version": 3
   },
   "file_extension": ".py",
   "mimetype": "text/x-python",
   "name": "python",
   "nbconvert_exporter": "python",
   "pygments_lexer": "ipython3",
   "version": "3.8.8"
  }
 },
 "nbformat": 4,
 "nbformat_minor": 5
}
