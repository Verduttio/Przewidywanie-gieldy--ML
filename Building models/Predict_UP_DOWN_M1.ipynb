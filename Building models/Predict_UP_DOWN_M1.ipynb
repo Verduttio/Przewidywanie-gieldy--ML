{
 "cells": [
  {
   "cell_type": "code",
   "execution_count": 78,
   "id": "41b8947c",
   "metadata": {},
   "outputs": [],
   "source": [
    "import numpy as np\n",
    "import pandas as pd\n",
    "import matplotlib.pyplot as plt\n",
    "from sklearn import metrics"
   ]
  },
  {
   "cell_type": "code",
   "execution_count": 79,
   "id": "3425afde",
   "metadata": {},
   "outputs": [],
   "source": [
    "import os\n",
    "DATA_PATH = \"Dane/USA/SP_500.csv\""
   ]
  },
  {
   "cell_type": "code",
   "execution_count": 80,
   "id": "3562007d",
   "metadata": {},
   "outputs": [],
   "source": [
    "data_stock = pd.read_csv(DATA_PATH, sep=\",\")"
   ]
  },
  {
   "cell_type": "code",
   "execution_count": 81,
   "id": "9e9eec52",
   "metadata": {
    "scrolled": true
   },
   "outputs": [
    {
     "data": {
      "text/html": [
       "<div>\n",
       "<style scoped>\n",
       "    .dataframe tbody tr th:only-of-type {\n",
       "        vertical-align: middle;\n",
       "    }\n",
       "\n",
       "    .dataframe tbody tr th {\n",
       "        vertical-align: top;\n",
       "    }\n",
       "\n",
       "    .dataframe thead th {\n",
       "        text-align: right;\n",
       "    }\n",
       "</style>\n",
       "<table border=\"1\" class=\"dataframe\">\n",
       "  <thead>\n",
       "    <tr style=\"text-align: right;\">\n",
       "      <th></th>\n",
       "      <th>Date</th>\n",
       "      <th>Open</th>\n",
       "      <th>High</th>\n",
       "      <th>Low</th>\n",
       "      <th>Close</th>\n",
       "      <th>Volume</th>\n",
       "    </tr>\n",
       "  </thead>\n",
       "  <tbody>\n",
       "    <tr>\n",
       "      <th>0</th>\n",
       "      <td>2012-01-30</td>\n",
       "      <td>1316.16</td>\n",
       "      <td>1316.16</td>\n",
       "      <td>1300.49</td>\n",
       "      <td>1313.01</td>\n",
       "      <td>2032783333</td>\n",
       "    </tr>\n",
       "    <tr>\n",
       "      <th>1</th>\n",
       "      <td>2012-01-31</td>\n",
       "      <td>1313.53</td>\n",
       "      <td>1321.41</td>\n",
       "      <td>1306.69</td>\n",
       "      <td>1312.41</td>\n",
       "      <td>2353083333</td>\n",
       "    </tr>\n",
       "    <tr>\n",
       "      <th>2</th>\n",
       "      <td>2012-02-01</td>\n",
       "      <td>1312.45</td>\n",
       "      <td>1330.52</td>\n",
       "      <td>1312.45</td>\n",
       "      <td>1324.09</td>\n",
       "      <td>2502422222</td>\n",
       "    </tr>\n",
       "    <tr>\n",
       "      <th>3</th>\n",
       "      <td>2012-02-02</td>\n",
       "      <td>1324.24</td>\n",
       "      <td>1329.19</td>\n",
       "      <td>1321.57</td>\n",
       "      <td>1325.54</td>\n",
       "      <td>2289400000</td>\n",
       "    </tr>\n",
       "    <tr>\n",
       "      <th>4</th>\n",
       "      <td>2012-02-03</td>\n",
       "      <td>1326.21</td>\n",
       "      <td>1345.34</td>\n",
       "      <td>1326.21</td>\n",
       "      <td>1344.90</td>\n",
       "      <td>2560305556</td>\n",
       "    </tr>\n",
       "  </tbody>\n",
       "</table>\n",
       "</div>"
      ],
      "text/plain": [
       "         Date     Open     High      Low    Close      Volume\n",
       "0  2012-01-30  1316.16  1316.16  1300.49  1313.01  2032783333\n",
       "1  2012-01-31  1313.53  1321.41  1306.69  1312.41  2353083333\n",
       "2  2012-02-01  1312.45  1330.52  1312.45  1324.09  2502422222\n",
       "3  2012-02-02  1324.24  1329.19  1321.57  1325.54  2289400000\n",
       "4  2012-02-03  1326.21  1345.34  1326.21  1344.90  2560305556"
      ]
     },
     "execution_count": 81,
     "metadata": {},
     "output_type": "execute_result"
    }
   ],
   "source": [
    "data_stock.head()"
   ]
  },
  {
   "cell_type": "code",
   "execution_count": 82,
   "id": "e3096331",
   "metadata": {},
   "outputs": [
    {
     "data": {
      "text/html": [
       "<div>\n",
       "<style scoped>\n",
       "    .dataframe tbody tr th:only-of-type {\n",
       "        vertical-align: middle;\n",
       "    }\n",
       "\n",
       "    .dataframe tbody tr th {\n",
       "        vertical-align: top;\n",
       "    }\n",
       "\n",
       "    .dataframe thead th {\n",
       "        text-align: right;\n",
       "    }\n",
       "</style>\n",
       "<table border=\"1\" class=\"dataframe\">\n",
       "  <thead>\n",
       "    <tr style=\"text-align: right;\">\n",
       "      <th></th>\n",
       "      <th>Open</th>\n",
       "      <th>High</th>\n",
       "      <th>Low</th>\n",
       "      <th>Close</th>\n",
       "      <th>Volume</th>\n",
       "    </tr>\n",
       "  </thead>\n",
       "  <tbody>\n",
       "    <tr>\n",
       "      <th>count</th>\n",
       "      <td>1592.000000</td>\n",
       "      <td>1592.000000</td>\n",
       "      <td>1592.000000</td>\n",
       "      <td>1592.000000</td>\n",
       "      <td>1.592000e+03</td>\n",
       "    </tr>\n",
       "    <tr>\n",
       "      <th>mean</th>\n",
       "      <td>1983.254391</td>\n",
       "      <td>1991.843769</td>\n",
       "      <td>1974.077142</td>\n",
       "      <td>1983.754906</td>\n",
       "      <td>1.973925e+09</td>\n",
       "    </tr>\n",
       "    <tr>\n",
       "      <th>std</th>\n",
       "      <td>385.776016</td>\n",
       "      <td>386.468906</td>\n",
       "      <td>384.702618</td>\n",
       "      <td>385.463489</td>\n",
       "      <td>3.629619e+08</td>\n",
       "    </tr>\n",
       "    <tr>\n",
       "      <th>min</th>\n",
       "      <td>1277.820000</td>\n",
       "      <td>1282.550000</td>\n",
       "      <td>1266.740000</td>\n",
       "      <td>1278.040000</td>\n",
       "      <td>6.938667e+08</td>\n",
       "    </tr>\n",
       "    <tr>\n",
       "      <th>25%</th>\n",
       "      <td>1687.297500</td>\n",
       "      <td>1692.052500</td>\n",
       "      <td>1681.657500</td>\n",
       "      <td>1688.845000</td>\n",
       "      <td>1.762729e+09</td>\n",
       "    </tr>\n",
       "    <tr>\n",
       "      <th>50%</th>\n",
       "      <td>2018.305000</td>\n",
       "      <td>2026.790000</td>\n",
       "      <td>2005.280000</td>\n",
       "      <td>2019.180000</td>\n",
       "      <td>1.935067e+09</td>\n",
       "    </tr>\n",
       "    <tr>\n",
       "      <th>75%</th>\n",
       "      <td>2177.872500</td>\n",
       "      <td>2183.827500</td>\n",
       "      <td>2171.437500</td>\n",
       "      <td>2180.080000</td>\n",
       "      <td>2.129876e+09</td>\n",
       "    </tr>\n",
       "    <tr>\n",
       "      <th>max</th>\n",
       "      <td>2867.230000</td>\n",
       "      <td>2872.870000</td>\n",
       "      <td>2851.480000</td>\n",
       "      <td>2872.870000</td>\n",
       "      <td>4.220806e+09</td>\n",
       "    </tr>\n",
       "  </tbody>\n",
       "</table>\n",
       "</div>"
      ],
      "text/plain": [
       "              Open         High          Low        Close        Volume\n",
       "count  1592.000000  1592.000000  1592.000000  1592.000000  1.592000e+03\n",
       "mean   1983.254391  1991.843769  1974.077142  1983.754906  1.973925e+09\n",
       "std     385.776016   386.468906   384.702618   385.463489  3.629619e+08\n",
       "min    1277.820000  1282.550000  1266.740000  1278.040000  6.938667e+08\n",
       "25%    1687.297500  1692.052500  1681.657500  1688.845000  1.762729e+09\n",
       "50%    2018.305000  2026.790000  2005.280000  2019.180000  1.935067e+09\n",
       "75%    2177.872500  2183.827500  2171.437500  2180.080000  2.129876e+09\n",
       "max    2867.230000  2872.870000  2851.480000  2872.870000  4.220806e+09"
      ]
     },
     "execution_count": 82,
     "metadata": {},
     "output_type": "execute_result"
    }
   ],
   "source": [
    "data_stock.describe()"
   ]
  },
  {
   "cell_type": "code",
   "execution_count": 83,
   "id": "75c7feca",
   "metadata": {},
   "outputs": [
    {
     "name": "stdout",
     "output_type": "stream",
     "text": [
      "<class 'pandas.core.frame.DataFrame'>\n",
      "RangeIndex: 1592 entries, 0 to 1591\n",
      "Data columns (total 6 columns):\n",
      " #   Column  Non-Null Count  Dtype  \n",
      "---  ------  --------------  -----  \n",
      " 0   Date    1592 non-null   object \n",
      " 1   Open    1592 non-null   float64\n",
      " 2   High    1592 non-null   float64\n",
      " 3   Low     1592 non-null   float64\n",
      " 4   Close   1592 non-null   float64\n",
      " 5   Volume  1592 non-null   int64  \n",
      "dtypes: float64(4), int64(1), object(1)\n",
      "memory usage: 74.8+ KB\n"
     ]
    }
   ],
   "source": [
    "data_stock.info()"
   ]
  },
  {
   "cell_type": "markdown",
   "id": "f5266cff",
   "metadata": {},
   "source": [
    "Dodajmy kolumnę wskazującą czy podczas danej sesji kurs wzrósł czy zmalał"
   ]
  },
  {
   "cell_type": "code",
   "execution_count": 84,
   "id": "8bb06837",
   "metadata": {},
   "outputs": [],
   "source": [
    "#1 - wzrósł\n",
    "#0 - zmalał\n",
    "data_stock['Increased'] = data_stock['Close']-data_stock['Open']\n",
    "data_stock['Increased'] = data_stock['Increased'].map(lambda diff: 1 if diff > 0 else 0)"
   ]
  },
  {
   "cell_type": "code",
   "execution_count": 85,
   "id": "d5479944",
   "metadata": {},
   "outputs": [
    {
     "data": {
      "text/html": [
       "<div>\n",
       "<style scoped>\n",
       "    .dataframe tbody tr th:only-of-type {\n",
       "        vertical-align: middle;\n",
       "    }\n",
       "\n",
       "    .dataframe tbody tr th {\n",
       "        vertical-align: top;\n",
       "    }\n",
       "\n",
       "    .dataframe thead th {\n",
       "        text-align: right;\n",
       "    }\n",
       "</style>\n",
       "<table border=\"1\" class=\"dataframe\">\n",
       "  <thead>\n",
       "    <tr style=\"text-align: right;\">\n",
       "      <th></th>\n",
       "      <th>Date</th>\n",
       "      <th>Open</th>\n",
       "      <th>High</th>\n",
       "      <th>Low</th>\n",
       "      <th>Close</th>\n",
       "      <th>Volume</th>\n",
       "      <th>Increased</th>\n",
       "    </tr>\n",
       "  </thead>\n",
       "  <tbody>\n",
       "    <tr>\n",
       "      <th>0</th>\n",
       "      <td>2012-01-30</td>\n",
       "      <td>1316.16</td>\n",
       "      <td>1316.16</td>\n",
       "      <td>1300.49</td>\n",
       "      <td>1313.01</td>\n",
       "      <td>2032783333</td>\n",
       "      <td>0</td>\n",
       "    </tr>\n",
       "    <tr>\n",
       "      <th>1</th>\n",
       "      <td>2012-01-31</td>\n",
       "      <td>1313.53</td>\n",
       "      <td>1321.41</td>\n",
       "      <td>1306.69</td>\n",
       "      <td>1312.41</td>\n",
       "      <td>2353083333</td>\n",
       "      <td>0</td>\n",
       "    </tr>\n",
       "    <tr>\n",
       "      <th>2</th>\n",
       "      <td>2012-02-01</td>\n",
       "      <td>1312.45</td>\n",
       "      <td>1330.52</td>\n",
       "      <td>1312.45</td>\n",
       "      <td>1324.09</td>\n",
       "      <td>2502422222</td>\n",
       "      <td>1</td>\n",
       "    </tr>\n",
       "    <tr>\n",
       "      <th>3</th>\n",
       "      <td>2012-02-02</td>\n",
       "      <td>1324.24</td>\n",
       "      <td>1329.19</td>\n",
       "      <td>1321.57</td>\n",
       "      <td>1325.54</td>\n",
       "      <td>2289400000</td>\n",
       "      <td>1</td>\n",
       "    </tr>\n",
       "    <tr>\n",
       "      <th>4</th>\n",
       "      <td>2012-02-03</td>\n",
       "      <td>1326.21</td>\n",
       "      <td>1345.34</td>\n",
       "      <td>1326.21</td>\n",
       "      <td>1344.90</td>\n",
       "      <td>2560305556</td>\n",
       "      <td>1</td>\n",
       "    </tr>\n",
       "  </tbody>\n",
       "</table>\n",
       "</div>"
      ],
      "text/plain": [
       "         Date     Open     High      Low    Close      Volume  Increased\n",
       "0  2012-01-30  1316.16  1316.16  1300.49  1313.01  2032783333          0\n",
       "1  2012-01-31  1313.53  1321.41  1306.69  1312.41  2353083333          0\n",
       "2  2012-02-01  1312.45  1330.52  1312.45  1324.09  2502422222          1\n",
       "3  2012-02-02  1324.24  1329.19  1321.57  1325.54  2289400000          1\n",
       "4  2012-02-03  1326.21  1345.34  1326.21  1344.90  2560305556          1"
      ]
     },
     "execution_count": 85,
     "metadata": {},
     "output_type": "execute_result"
    }
   ],
   "source": [
    "data_stock.head()"
   ]
  },
  {
   "cell_type": "code",
   "execution_count": null,
   "id": "34513b25",
   "metadata": {},
   "outputs": [],
   "source": []
  },
  {
   "cell_type": "markdown",
   "id": "6195dd0a",
   "metadata": {},
   "source": [
    "Zróbmy wykres CLOSE w zależności od czasu"
   ]
  },
  {
   "cell_type": "code",
   "execution_count": 86,
   "id": "61ee0ce4",
   "metadata": {},
   "outputs": [],
   "source": [
    "import matplotlib.pyplot as plt"
   ]
  },
  {
   "cell_type": "code",
   "execution_count": 87,
   "id": "135d9662",
   "metadata": {},
   "outputs": [
    {
     "data": {
      "image/png": "[encoded data removed]",
      "text/plain": [
       "<Figure size 1440x360 with 1 Axes>"
      ]
     },
     "metadata": {},
     "output_type": "display_data"
    }
   ],
   "source": [
    "plt.subplots(figsize = (20, 5))\n",
    "plt.plot(data_stock['Close'], label = 'CLOSE')\n",
    "# plt.ylim([-0.004, 0.004])\n",
    "# plt.xlim([0, 1660])\n",
    "plt.ylabel('CLOSE Value')\n",
    "plt.xlabel('Days')\n",
    "plt.title('CLOSE values')\n",
    "plt.legend()\n",
    "plt.show()"
   ]
  },
  {
   "cell_type": "markdown",
   "id": "61addfa4",
   "metadata": {},
   "source": [
    "Spójrzmy na wycinek dzienny (7 dni)"
   ]
  },
  {
   "cell_type": "code",
   "execution_count": 88,
   "id": "f53ccf44",
   "metadata": {
    "scrolled": true
   },
   "outputs": [
    {
     "data": {
      "image/png": "[encoded data removed]",
      "text/plain": [
       "<Figure size 1440x360 with 1 Axes>"
      ]
     },
     "metadata": {},
     "output_type": "display_data"
    }
   ],
   "source": [
    "plt.subplots(figsize = (20, 5))\n",
    "plt.plot(data_stock['Close'][:8], label = 'CLOSE')\n",
    "plt.xlim([0, 7])\n",
    "plt.ylabel('CLOSE Value')\n",
    "plt.xlabel('Days')\n",
    "plt.title('CLOSE values')\n",
    "plt.legend()\n",
    "plt.show()"
   ]
  },
  {
   "cell_type": "code",
   "execution_count": 89,
   "id": "e1135da6",
   "metadata": {},
   "outputs": [
    {
     "data": {
      "image/png": "[encoded data removed]",
      "text/plain": [
       "<Figure size 720x720 with 2 Axes>"
      ]
     },
     "metadata": {},
     "output_type": "display_data"
    }
   ],
   "source": [
    "import seaborn as sns\n",
    "\n",
    "# sns.set(style='darkgrid')\n",
    "\n",
    "corr = data_stock.corr()\n",
    "f, ax = plt.subplots(figsize=(10, 10))\n",
    "cmap = sns.diverging_palette(220, 10, as_cmap=True)\n",
    "\n",
    "sns.heatmap(corr, cmap=cmap, vmin=-1, vmax=1,\n",
    "            square=True, xticklabels=True, yticklabels=True,\n",
    "            linewidths=.5, cbar_kws={'shrink': .5}, ax=ax)\n",
    "plt.show()"
   ]
  },
  {
   "cell_type": "markdown",
   "id": "3d6cc386",
   "metadata": {},
   "source": [
    "# Podzielenie danych na X i y"
   ]
  },
  {
   "cell_type": "markdown",
   "id": "2b38b8b2",
   "metadata": {},
   "source": [
    "Będziemy próbowali przewidzieć czy kurs wzrośnie czy zmaleje podczas danej sesji"
   ]
  },
  {
   "cell_type": "markdown",
   "id": "56d4ab2c",
   "metadata": {},
   "source": [
    "Wykorzystamy w tym celu kolumny VOL oraz inforację czy wtedy kurs wzrósł czy zmalał"
   ]
  },
  {
   "cell_type": "markdown",
   "id": "6ea59323",
   "metadata": {},
   "source": [
    "Spróbujemy to zrobić wykorzystując **n poprzednich danych**"
   ]
  },
  {
   "cell_type": "markdown",
   "id": "96f33b44",
   "metadata": {},
   "source": [
    "W tym celu utwórzmy kopię naszego dataframe *wig* aby móc dodać do niego dodatkowe kolumny wykorzystujące informacje z przeszłości"
   ]
  },
  {
   "cell_type": "code",
   "execution_count": 90,
   "id": "4834fd7d",
   "metadata": {},
   "outputs": [],
   "source": [
    "data_stock_modified = data_stock"
   ]
  },
  {
   "cell_type": "code",
   "execution_count": 91,
   "id": "17741a07",
   "metadata": {},
   "outputs": [
    {
     "data": {
      "text/html": [
       "<div>\n",
       "<style scoped>\n",
       "    .dataframe tbody tr th:only-of-type {\n",
       "        vertical-align: middle;\n",
       "    }\n",
       "\n",
       "    .dataframe tbody tr th {\n",
       "        vertical-align: top;\n",
       "    }\n",
       "\n",
       "    .dataframe thead th {\n",
       "        text-align: right;\n",
       "    }\n",
       "</style>\n",
       "<table border=\"1\" class=\"dataframe\">\n",
       "  <thead>\n",
       "    <tr style=\"text-align: right;\">\n",
       "      <th></th>\n",
       "      <th>Date</th>\n",
       "      <th>Open</th>\n",
       "      <th>High</th>\n",
       "      <th>Low</th>\n",
       "      <th>Close</th>\n",
       "      <th>Volume</th>\n",
       "      <th>Increased</th>\n",
       "    </tr>\n",
       "  </thead>\n",
       "  <tbody>\n",
       "    <tr>\n",
       "      <th>0</th>\n",
       "      <td>2012-01-30</td>\n",
       "      <td>1316.16</td>\n",
       "      <td>1316.16</td>\n",
       "      <td>1300.49</td>\n",
       "      <td>1313.01</td>\n",
       "      <td>2032783333</td>\n",
       "      <td>0</td>\n",
       "    </tr>\n",
       "    <tr>\n",
       "      <th>1</th>\n",
       "      <td>2012-01-31</td>\n",
       "      <td>1313.53</td>\n",
       "      <td>1321.41</td>\n",
       "      <td>1306.69</td>\n",
       "      <td>1312.41</td>\n",
       "      <td>2353083333</td>\n",
       "      <td>0</td>\n",
       "    </tr>\n",
       "    <tr>\n",
       "      <th>2</th>\n",
       "      <td>2012-02-01</td>\n",
       "      <td>1312.45</td>\n",
       "      <td>1330.52</td>\n",
       "      <td>1312.45</td>\n",
       "      <td>1324.09</td>\n",
       "      <td>2502422222</td>\n",
       "      <td>1</td>\n",
       "    </tr>\n",
       "    <tr>\n",
       "      <th>3</th>\n",
       "      <td>2012-02-02</td>\n",
       "      <td>1324.24</td>\n",
       "      <td>1329.19</td>\n",
       "      <td>1321.57</td>\n",
       "      <td>1325.54</td>\n",
       "      <td>2289400000</td>\n",
       "      <td>1</td>\n",
       "    </tr>\n",
       "    <tr>\n",
       "      <th>4</th>\n",
       "      <td>2012-02-03</td>\n",
       "      <td>1326.21</td>\n",
       "      <td>1345.34</td>\n",
       "      <td>1326.21</td>\n",
       "      <td>1344.90</td>\n",
       "      <td>2560305556</td>\n",
       "      <td>1</td>\n",
       "    </tr>\n",
       "  </tbody>\n",
       "</table>\n",
       "</div>"
      ],
      "text/plain": [
       "         Date     Open     High      Low    Close      Volume  Increased\n",
       "0  2012-01-30  1316.16  1316.16  1300.49  1313.01  2032783333          0\n",
       "1  2012-01-31  1313.53  1321.41  1306.69  1312.41  2353083333          0\n",
       "2  2012-02-01  1312.45  1330.52  1312.45  1324.09  2502422222          1\n",
       "3  2012-02-02  1324.24  1329.19  1321.57  1325.54  2289400000          1\n",
       "4  2012-02-03  1326.21  1345.34  1326.21  1344.90  2560305556          1"
      ]
     },
     "execution_count": 91,
     "metadata": {},
     "output_type": "execute_result"
    }
   ],
   "source": [
    "data_stock_modified.head()"
   ]
  },
  {
   "cell_type": "markdown",
   "id": "6e6a56b6",
   "metadata": {},
   "source": [
    "Usuńmy n pierwszych wiersze z naszych danych, gdyż dla nich nie będziemy mieli danych z przeszłości"
   ]
  },
  {
   "cell_type": "code",
   "execution_count": 92,
   "id": "536633ce",
   "metadata": {},
   "outputs": [],
   "source": [
    "memory = 1"
   ]
  },
  {
   "cell_type": "code",
   "execution_count": 93,
   "id": "e84af909",
   "metadata": {},
   "outputs": [],
   "source": [
    "data_stock_modified = data_stock_modified[memory:]"
   ]
  },
  {
   "cell_type": "code",
   "execution_count": 94,
   "id": "0fef45eb",
   "metadata": {},
   "outputs": [
    {
     "name": "stderr",
     "output_type": "stream",
     "text": [
      "<ipython-input-94-a2f7d989ca09>:2: SettingWithCopyWarning: \n",
      "A value is trying to be set on a copy of a slice from a DataFrame.\n",
      "Try using .loc[row_indexer,col_indexer] = value instead\n",
      "\n",
      "See the caveats in the documentation: https://pandas.pydata.org/pandas-docs/stable/user_guide/indexing.html#returning-a-view-versus-a-copy\n",
      "  data_stock_modified['Vol_'+str(i)+'_ago'] = np.array(data_stock['Volume'][memory-i:-i])\n",
      "<ipython-input-94-a2f7d989ca09>:3: SettingWithCopyWarning: \n",
      "A value is trying to be set on a copy of a slice from a DataFrame.\n",
      "Try using .loc[row_indexer,col_indexer] = value instead\n",
      "\n",
      "See the caveats in the documentation: https://pandas.pydata.org/pandas-docs/stable/user_guide/indexing.html#returning-a-view-versus-a-copy\n",
      "  data_stock_modified['Increased_'+str(i)+'_ago'] = np.array(data_stock['Increased'][memory-i:-i])\n"
     ]
    }
   ],
   "source": [
    "for i in range (1, memory+1):\n",
    "    data_stock_modified['Vol_'+str(i)+'_ago'] = np.array(data_stock['Volume'][memory-i:-i])\n",
    "    data_stock_modified['Increased_'+str(i)+'_ago'] = np.array(data_stock['Increased'][memory-i:-i])"
   ]
  },
  {
   "cell_type": "code",
   "execution_count": 95,
   "id": "46d2457d",
   "metadata": {},
   "outputs": [
    {
     "data": {
      "text/html": [
       "<div>\n",
       "<style scoped>\n",
       "    .dataframe tbody tr th:only-of-type {\n",
       "        vertical-align: middle;\n",
       "    }\n",
       "\n",
       "    .dataframe tbody tr th {\n",
       "        vertical-align: top;\n",
       "    }\n",
       "\n",
       "    .dataframe thead th {\n",
       "        text-align: right;\n",
       "    }\n",
       "</style>\n",
       "<table border=\"1\" class=\"dataframe\">\n",
       "  <thead>\n",
       "    <tr style=\"text-align: right;\">\n",
       "      <th></th>\n",
       "      <th>Date</th>\n",
       "      <th>Open</th>\n",
       "      <th>High</th>\n",
       "      <th>Low</th>\n",
       "      <th>Close</th>\n",
       "      <th>Volume</th>\n",
       "      <th>Increased</th>\n",
       "      <th>Vol_1_ago</th>\n",
       "      <th>Increased_1_ago</th>\n",
       "    </tr>\n",
       "  </thead>\n",
       "  <tbody>\n",
       "    <tr>\n",
       "      <th>1</th>\n",
       "      <td>2012-01-31</td>\n",
       "      <td>1313.53</td>\n",
       "      <td>1321.41</td>\n",
       "      <td>1306.69</td>\n",
       "      <td>1312.41</td>\n",
       "      <td>2353083333</td>\n",
       "      <td>0</td>\n",
       "      <td>2032783333</td>\n",
       "      <td>0</td>\n",
       "    </tr>\n",
       "    <tr>\n",
       "      <th>2</th>\n",
       "      <td>2012-02-01</td>\n",
       "      <td>1312.45</td>\n",
       "      <td>1330.52</td>\n",
       "      <td>1312.45</td>\n",
       "      <td>1324.09</td>\n",
       "      <td>2502422222</td>\n",
       "      <td>1</td>\n",
       "      <td>2353083333</td>\n",
       "      <td>0</td>\n",
       "    </tr>\n",
       "    <tr>\n",
       "      <th>3</th>\n",
       "      <td>2012-02-02</td>\n",
       "      <td>1324.24</td>\n",
       "      <td>1329.19</td>\n",
       "      <td>1321.57</td>\n",
       "      <td>1325.54</td>\n",
       "      <td>2289400000</td>\n",
       "      <td>1</td>\n",
       "      <td>2502422222</td>\n",
       "      <td>1</td>\n",
       "    </tr>\n",
       "    <tr>\n",
       "      <th>4</th>\n",
       "      <td>2012-02-03</td>\n",
       "      <td>1326.21</td>\n",
       "      <td>1345.34</td>\n",
       "      <td>1326.21</td>\n",
       "      <td>1344.90</td>\n",
       "      <td>2560305556</td>\n",
       "      <td>1</td>\n",
       "      <td>2289400000</td>\n",
       "      <td>1</td>\n",
       "    </tr>\n",
       "    <tr>\n",
       "      <th>5</th>\n",
       "      <td>2012-02-06</td>\n",
       "      <td>1344.32</td>\n",
       "      <td>1344.36</td>\n",
       "      <td>1337.52</td>\n",
       "      <td>1344.33</td>\n",
       "      <td>1877611111</td>\n",
       "      <td>1</td>\n",
       "      <td>2560305556</td>\n",
       "      <td>1</td>\n",
       "    </tr>\n",
       "    <tr>\n",
       "      <th>6</th>\n",
       "      <td>2012-02-07</td>\n",
       "      <td>1344.33</td>\n",
       "      <td>1349.24</td>\n",
       "      <td>1335.92</td>\n",
       "      <td>1347.05</td>\n",
       "      <td>2079144444</td>\n",
       "      <td>1</td>\n",
       "      <td>1877611111</td>\n",
       "      <td>1</td>\n",
       "    </tr>\n",
       "  </tbody>\n",
       "</table>\n",
       "</div>"
      ],
      "text/plain": [
       "         Date     Open     High      Low    Close      Volume  Increased  \\\n",
       "1  2012-01-31  1313.53  1321.41  1306.69  1312.41  2353083333          0   \n",
       "2  2012-02-01  1312.45  1330.52  1312.45  1324.09  2502422222          1   \n",
       "3  2012-02-02  1324.24  1329.19  1321.57  1325.54  2289400000          1   \n",
       "4  2012-02-03  1326.21  1345.34  1326.21  1344.90  2560305556          1   \n",
       "5  2012-02-06  1344.32  1344.36  1337.52  1344.33  1877611111          1   \n",
       "6  2012-02-07  1344.33  1349.24  1335.92  1347.05  2079144444          1   \n",
       "\n",
       "    Vol_1_ago  Increased_1_ago  \n",
       "1  2032783333                0  \n",
       "2  2353083333                0  \n",
       "3  2502422222                1  \n",
       "4  2289400000                1  \n",
       "5  2560305556                1  \n",
       "6  1877611111                1  "
      ]
     },
     "execution_count": 95,
     "metadata": {},
     "output_type": "execute_result"
    }
   ],
   "source": [
    "data_stock_modified.head(6)"
   ]
  },
  {
   "cell_type": "code",
   "execution_count": 96,
   "id": "c47f12fc",
   "metadata": {},
   "outputs": [
    {
     "data": {
      "image/png": "[encoded data removed]",
      "text/plain": [
       "<Figure size 1800x1800 with 2 Axes>"
      ]
     },
     "metadata": {},
     "output_type": "display_data"
    }
   ],
   "source": [
    "sns.set(style='darkgrid')\n",
    "\n",
    "corr = data_stock_modified.corr()\n",
    "f, ax = plt.subplots(figsize=(25, 25))\n",
    "cmap = sns.diverging_palette(220, 10, as_cmap=True)\n",
    "\n",
    "sns.heatmap(corr, cmap=cmap, vmin=-1, vmax=1,\n",
    "            square=True, xticklabels=True, yticklabels=True,\n",
    "            linewidths=.5, cbar_kws={'shrink': .5}, ax=ax)\n",
    "plt.show()"
   ]
  },
  {
   "cell_type": "markdown",
   "id": "b13fef80",
   "metadata": {},
   "source": [
    "**Możemy teraz utworzyć nasze zbiory X oraz y**"
   ]
  },
  {
   "cell_type": "markdown",
   "id": "46d40b54",
   "metadata": {},
   "source": [
    "Wydzielamy zbiór wartości"
   ]
  },
  {
   "cell_type": "code",
   "execution_count": 97,
   "id": "55d5e429",
   "metadata": {},
   "outputs": [],
   "source": [
    "y = data_stock_modified['Increased'].values"
   ]
  },
  {
   "cell_type": "code",
   "execution_count": 98,
   "id": "92f89405",
   "metadata": {},
   "outputs": [
    {
     "data": {
      "text/plain": [
       "array([0, 1, 1, ..., 1, 0, 0], dtype=int64)"
      ]
     },
     "execution_count": 98,
     "metadata": {},
     "output_type": "execute_result"
    }
   ],
   "source": [
    "y"
   ]
  },
  {
   "cell_type": "markdown",
   "id": "5b0d7182",
   "metadata": {},
   "source": [
    "**Wydzielamy zbiór argumentów**"
   ]
  },
  {
   "cell_type": "markdown",
   "id": "811cc68c",
   "metadata": {},
   "source": [
    "Usuwamy HIGH, LOW, CLOSE, VOL, gdyż są to dane z przyszłości"
   ]
  },
  {
   "cell_type": "markdown",
   "id": "0f4ec57c",
   "metadata": {},
   "source": [
    "Usuwamy również OPEN gdyż w takiej obróbce mogłoby ono tylko zaciemnić dane"
   ]
  },
  {
   "cell_type": "markdown",
   "id": "75104133",
   "metadata": {},
   "source": [
    "Ponadto usuwamy również DATE, gdyż nie wnoszą one aktualnie wartościowych informacji i mogą zniekształcić nasz model"
   ]
  },
  {
   "cell_type": "code",
   "execution_count": 99,
   "id": "77274dc1",
   "metadata": {},
   "outputs": [],
   "source": [
    "X = data_stock_modified.drop(['High', 'Low', 'Close', 'Volume', 'Open', 'Date', 'Increased'], axis=1)"
   ]
  },
  {
   "cell_type": "code",
   "execution_count": 100,
   "id": "55a81b0d",
   "metadata": {},
   "outputs": [
    {
     "data": {
      "text/html": [
       "<div>\n",
       "<style scoped>\n",
       "    .dataframe tbody tr th:only-of-type {\n",
       "        vertical-align: middle;\n",
       "    }\n",
       "\n",
       "    .dataframe tbody tr th {\n",
       "        vertical-align: top;\n",
       "    }\n",
       "\n",
       "    .dataframe thead th {\n",
       "        text-align: right;\n",
       "    }\n",
       "</style>\n",
       "<table border=\"1\" class=\"dataframe\">\n",
       "  <thead>\n",
       "    <tr style=\"text-align: right;\">\n",
       "      <th></th>\n",
       "      <th>Vol_1_ago</th>\n",
       "      <th>Increased_1_ago</th>\n",
       "    </tr>\n",
       "  </thead>\n",
       "  <tbody>\n",
       "    <tr>\n",
       "      <th>1</th>\n",
       "      <td>2032783333</td>\n",
       "      <td>0</td>\n",
       "    </tr>\n",
       "    <tr>\n",
       "      <th>2</th>\n",
       "      <td>2353083333</td>\n",
       "      <td>0</td>\n",
       "    </tr>\n",
       "    <tr>\n",
       "      <th>3</th>\n",
       "      <td>2502422222</td>\n",
       "      <td>1</td>\n",
       "    </tr>\n",
       "    <tr>\n",
       "      <th>4</th>\n",
       "      <td>2289400000</td>\n",
       "      <td>1</td>\n",
       "    </tr>\n",
       "    <tr>\n",
       "      <th>5</th>\n",
       "      <td>2560305556</td>\n",
       "      <td>1</td>\n",
       "    </tr>\n",
       "    <tr>\n",
       "      <th>6</th>\n",
       "      <td>1877611111</td>\n",
       "      <td>1</td>\n",
       "    </tr>\n",
       "    <tr>\n",
       "      <th>7</th>\n",
       "      <td>2079144444</td>\n",
       "      <td>1</td>\n",
       "    </tr>\n",
       "    <tr>\n",
       "      <th>8</th>\n",
       "      <td>2275961111</td>\n",
       "      <td>1</td>\n",
       "    </tr>\n",
       "  </tbody>\n",
       "</table>\n",
       "</div>"
      ],
      "text/plain": [
       "    Vol_1_ago  Increased_1_ago\n",
       "1  2032783333                0\n",
       "2  2353083333                0\n",
       "3  2502422222                1\n",
       "4  2289400000                1\n",
       "5  2560305556                1\n",
       "6  1877611111                1\n",
       "7  2079144444                1\n",
       "8  2275961111                1"
      ]
     },
     "execution_count": 100,
     "metadata": {},
     "output_type": "execute_result"
    }
   ],
   "source": [
    "X.head(8)"
   ]
  },
  {
   "cell_type": "markdown",
   "id": "f7301f56",
   "metadata": {},
   "source": [
    "# Modele"
   ]
  },
  {
   "cell_type": "code",
   "execution_count": 101,
   "id": "a42d7ef6",
   "metadata": {},
   "outputs": [],
   "source": [
    "from sklearn.model_selection import train_test_split\n",
    "# X_train, X_test, y_train, y_test = train_test_split(X, y, test_size=0.20, random_state=42)\n",
    "X_train, X_test, y_train, y_test = train_test_split(X, y, test_size=0.20)\n",
    "# X_train, X_test, y_train, y_test = train_test_split(X, y, test_size=0.20, random_state=None, shuffle=False)"
   ]
  },
  {
   "cell_type": "code",
   "execution_count": 102,
   "id": "edf7e27f",
   "metadata": {},
   "outputs": [
    {
     "data": {
      "text/html": [
       "<div>\n",
       "<style scoped>\n",
       "    .dataframe tbody tr th:only-of-type {\n",
       "        vertical-align: middle;\n",
       "    }\n",
       "\n",
       "    .dataframe tbody tr th {\n",
       "        vertical-align: top;\n",
       "    }\n",
       "\n",
       "    .dataframe thead th {\n",
       "        text-align: right;\n",
       "    }\n",
       "</style>\n",
       "<table border=\"1\" class=\"dataframe\">\n",
       "  <thead>\n",
       "    <tr style=\"text-align: right;\">\n",
       "      <th></th>\n",
       "      <th>Vol_1_ago</th>\n",
       "      <th>Increased_1_ago</th>\n",
       "    </tr>\n",
       "  </thead>\n",
       "  <tbody>\n",
       "    <tr>\n",
       "      <th>22</th>\n",
       "      <td>2490205556</td>\n",
       "      <td>0</td>\n",
       "    </tr>\n",
       "    <tr>\n",
       "      <th>345</th>\n",
       "      <td>1877011111</td>\n",
       "      <td>1</td>\n",
       "    </tr>\n",
       "    <tr>\n",
       "      <th>5</th>\n",
       "      <td>2560305556</td>\n",
       "      <td>1</td>\n",
       "    </tr>\n",
       "    <tr>\n",
       "      <th>82</th>\n",
       "      <td>2187594444</td>\n",
       "      <td>1</td>\n",
       "    </tr>\n",
       "    <tr>\n",
       "      <th>891</th>\n",
       "      <td>1789611111</td>\n",
       "      <td>0</td>\n",
       "    </tr>\n",
       "    <tr>\n",
       "      <th>...</th>\n",
       "      <td>...</td>\n",
       "      <td>...</td>\n",
       "    </tr>\n",
       "    <tr>\n",
       "      <th>1558</th>\n",
       "      <td>1701644444</td>\n",
       "      <td>0</td>\n",
       "    </tr>\n",
       "    <tr>\n",
       "      <th>1532</th>\n",
       "      <td>2502205556</td>\n",
       "      <td>0</td>\n",
       "    </tr>\n",
       "    <tr>\n",
       "      <th>896</th>\n",
       "      <td>2179150000</td>\n",
       "      <td>0</td>\n",
       "    </tr>\n",
       "    <tr>\n",
       "      <th>1095</th>\n",
       "      <td>1912233333</td>\n",
       "      <td>1</td>\n",
       "    </tr>\n",
       "    <tr>\n",
       "      <th>1270</th>\n",
       "      <td>1956061111</td>\n",
       "      <td>1</td>\n",
       "    </tr>\n",
       "  </tbody>\n",
       "</table>\n",
       "<p>1272 rows × 2 columns</p>\n",
       "</div>"
      ],
      "text/plain": [
       "       Vol_1_ago  Increased_1_ago\n",
       "22    2490205556                0\n",
       "345   1877011111                1\n",
       "5     2560305556                1\n",
       "82    2187594444                1\n",
       "891   1789611111                0\n",
       "...          ...              ...\n",
       "1558  1701644444                0\n",
       "1532  2502205556                0\n",
       "896   2179150000                0\n",
       "1095  1912233333                1\n",
       "1270  1956061111                1\n",
       "\n",
       "[1272 rows x 2 columns]"
      ]
     },
     "execution_count": 102,
     "metadata": {},
     "output_type": "execute_result"
    }
   ],
   "source": [
    "X_train"
   ]
  },
  {
   "cell_type": "markdown",
   "id": "b1c60c52",
   "metadata": {},
   "source": [
    "**Skalowanie**"
   ]
  },
  {
   "cell_type": "code",
   "execution_count": 103,
   "id": "d40ce681",
   "metadata": {},
   "outputs": [],
   "source": [
    "from sklearn.preprocessing import StandardScaler\n",
    "scaler = StandardScaler()\n",
    "scaler.fit(X_train)\n",
    "X_train = scaler.transform(X_train)\n",
    "X_test = scaler.transform(X_test)"
   ]
  },
  {
   "cell_type": "code",
   "execution_count": 104,
   "id": "30edb571",
   "metadata": {},
   "outputs": [
    {
     "data": {
      "text/plain": [
       "(1272, 2)"
      ]
     },
     "execution_count": 104,
     "metadata": {},
     "output_type": "execute_result"
    }
   ],
   "source": [
    "X_train.shape"
   ]
  },
  {
   "cell_type": "code",
   "execution_count": 105,
   "id": "d6f38377",
   "metadata": {},
   "outputs": [
    {
     "data": {
      "text/plain": [
       "(1272,)"
      ]
     },
     "execution_count": 105,
     "metadata": {},
     "output_type": "execute_result"
    }
   ],
   "source": [
    "y_train.shape"
   ]
  },
  {
   "cell_type": "code",
   "execution_count": 106,
   "id": "ab1e432d",
   "metadata": {},
   "outputs": [],
   "source": [
    "from sklearn.model_selection import StratifiedKFold\n",
    "from sklearn.pipeline import Pipeline\n",
    "from sklearn.model_selection import GridSearchCV\n",
    "from sklearn.svm import SVC\n",
    "\n",
    "seed=123\n",
    "# kfold = StratifiedKFold(n_splits=5, random_state=seed, shuffle=True)\n",
    "kfold = StratifiedKFold(n_splits=5)"
   ]
  },
  {
   "cell_type": "code",
   "execution_count": 107,
   "id": "871bb1e7",
   "metadata": {},
   "outputs": [
    {
     "data": {
      "text/plain": [
       "array([[ 1.4267716 , -1.08367845],\n",
       "       [-0.2451538 ,  0.92278296],\n",
       "       [ 1.61790505,  0.92278296],\n",
       "       ...,\n",
       "       [ 0.57865288, -1.08367845],\n",
       "       [-0.1491175 ,  0.92278296],\n",
       "       [-0.02961743,  0.92278296]])"
      ]
     },
     "execution_count": 107,
     "metadata": {},
     "output_type": "execute_result"
    }
   ],
   "source": [
    "X_train"
   ]
  },
  {
   "cell_type": "code",
   "execution_count": null,
   "id": "7c6d704f",
   "metadata": {},
   "outputs": [],
   "source": []
  },
  {
   "cell_type": "code",
   "execution_count": null,
   "id": "c2e9a674",
   "metadata": {},
   "outputs": [],
   "source": [
    "from sklearn.linear_model import LogisticRegression\n",
    "pipe = Pipeline([\n",
    "    ('classifier', LogisticRegression(max_iter=10000))])\n",
    "\n",
    "param_grid = {\n",
    "            'classifier__C' : np.linspace(0, 0.1, 100),\n",
    "            'classifier__solver':['newton-cg', 'lbfgs', 'liblinear'],\n",
    "            'classifier__penalty' : ['l1', 'l2']\n",
    "}\n",
    "\n",
    "grid_4 = GridSearchCV(pipe, param_grid, verbose=10,scoring='accuracy')\n",
    "grid_4.fit(X_train, y_train)\n",
    "grid_4.best_params_"
   ]
  },
  {
   "cell_type": "code",
   "execution_count": 109,
   "id": "b208f09d",
   "metadata": {},
   "outputs": [
    {
     "data": {
      "text/plain": [
       "0.5517241379310345"
      ]
     },
     "execution_count": 109,
     "metadata": {},
     "output_type": "execute_result"
    }
   ],
   "source": [
    "from sklearn import  metrics\n",
    "metrics.accuracy_score(y_test, grid_4.predict(X_test))"
   ]
  },
  {
   "cell_type": "code",
   "execution_count": null,
   "id": "9c61d037",
   "metadata": {},
   "outputs": [],
   "source": []
  },
  {
   "cell_type": "code",
   "execution_count": 110,
   "id": "a812eb0a",
   "metadata": {},
   "outputs": [
    {
     "name": "stdout",
     "output_type": "stream",
     "text": [
      "Model: \"sequential_2\"\n",
      "_________________________________________________________________\n",
      "Layer (type)                 Output Shape              Param #   \n",
      "=================================================================\n",
      "flatten_2 (Flatten)          (None, 2)                 0         \n",
      "_________________________________________________________________\n",
      "dense_8 (Dense)              (None, 300)               900       \n",
      "_________________________________________________________________\n",
      "batch_normalization_6 (Batch (None, 300)               1200      \n",
      "_________________________________________________________________\n",
      "activation_6 (Activation)    (None, 300)               0         \n",
      "_________________________________________________________________\n",
      "dropout_6 (Dropout)          (None, 300)               0         \n",
      "_________________________________________________________________\n",
      "dense_9 (Dense)              (None, 150)               45150     \n",
      "_________________________________________________________________\n",
      "batch_normalization_7 (Batch (None, 150)               600       \n",
      "_________________________________________________________________\n",
      "activation_7 (Activation)    (None, 150)               0         \n",
      "_________________________________________________________________\n",
      "dropout_7 (Dropout)          (None, 150)               0         \n",
      "_________________________________________________________________\n",
      "dense_10 (Dense)             (None, 50)                7550      \n",
      "_________________________________________________________________\n",
      "batch_normalization_8 (Batch (None, 50)                200       \n",
      "_________________________________________________________________\n",
      "activation_8 (Activation)    (None, 50)                0         \n",
      "_________________________________________________________________\n",
      "dropout_8 (Dropout)          (None, 50)                0         \n",
      "_________________________________________________________________\n",
      "dense_11 (Dense)             (None, 1)                 51        \n",
      "=================================================================\n",
      "Total params: 55,651\n",
      "Trainable params: 54,651\n",
      "Non-trainable params: 1,000\n",
      "_________________________________________________________________\n"
     ]
    }
   ],
   "source": [
    "from tensorflow import keras\n",
    "from tensorflow.keras.models import Sequential\n",
    "from tensorflow.keras.layers import Dense, LSTM, Flatten\n",
    "from tensorflow.keras.layers import Activation\n",
    "from tensorflow.keras.layers import Dropout\n",
    "from tensorflow.keras.layers import BatchNormalization\n",
    "\n",
    "from tensorflow.keras.callbacks import History\n",
    "\n",
    "history_sgd = History()\n",
    "model = Sequential()\n",
    "\n",
    "model.add(Flatten(input_shape=((X_train).shape[1],)))\n",
    "\n",
    "model.add(Dense(300))\n",
    "model.add(BatchNormalization())\n",
    "model.add(Activation(\"elu\"))\n",
    "model.add(Dropout(0.3))\n",
    "\n",
    "model.add(Dense(150))\n",
    "model.add(BatchNormalization())\n",
    "model.add(Activation(\"elu\"))\n",
    "model.add(Dropout(0.3))\n",
    "\n",
    "model.add(Dense(50))\n",
    "model.add(BatchNormalization())\n",
    "model.add(Activation(\"elu\"))\n",
    "model.add(Dropout(0.3))\n",
    "\n",
    "model.add(Dense(1,activation=\"sigmoid\"))\n",
    "\n",
    "\n",
    "\n",
    "model.summary()"
   ]
  },
  {
   "cell_type": "code",
   "execution_count": 111,
   "id": "673da6f8",
   "metadata": {},
   "outputs": [],
   "source": [
    "model.compile(loss=\"binary_crossentropy\",optimizer='adam', metrics=[\"accuracy\"])"
   ]
  },
  {
   "cell_type": "code",
   "execution_count": 112,
   "id": "47312832",
   "metadata": {},
   "outputs": [
    {
     "name": "stdout",
     "output_type": "stream",
     "text": [
      "Epoch 1/200\n",
      "40/40 [==============================] - 0s 7ms/step - loss: 0.8367 - accuracy: 0.5079 - val_loss: 0.6916 - val_accuracy: 0.4984\n",
      "Epoch 2/200\n",
      "40/40 [==============================] - 0s 3ms/step - loss: 0.7700 - accuracy: 0.5118 - val_loss: 0.6892 - val_accuracy: 0.5486\n",
      "Epoch 3/200\n",
      "40/40 [==============================] - 0s 3ms/step - loss: 0.7646 - accuracy: 0.5149 - val_loss: 0.6880 - val_accuracy: 0.5549\n",
      "Epoch 4/200\n",
      "40/40 [==============================] - 0s 3ms/step - loss: 0.7697 - accuracy: 0.5212 - val_loss: 0.6876 - val_accuracy: 0.5580\n",
      "Epoch 5/200\n",
      "40/40 [==============================] - 0s 3ms/step - loss: 0.7448 - accuracy: 0.5181 - val_loss: 0.6879 - val_accuracy: 0.5580\n",
      "Epoch 6/200\n",
      "40/40 [==============================] - 0s 3ms/step - loss: 0.7458 - accuracy: 0.5157 - val_loss: 0.6882 - val_accuracy: 0.5486\n",
      "Epoch 7/200\n",
      "40/40 [==============================] - 0s 3ms/step - loss: 0.7493 - accuracy: 0.4937 - val_loss: 0.6953 - val_accuracy: 0.4922\n",
      "Epoch 8/200\n",
      "40/40 [==============================] - 0s 3ms/step - loss: 0.7397 - accuracy: 0.5118 - val_loss: 0.6931 - val_accuracy: 0.5016\n",
      "Epoch 9/200\n",
      "40/40 [==============================] - 0s 3ms/step - loss: 0.7300 - accuracy: 0.5220 - val_loss: 0.6913 - val_accuracy: 0.5423\n",
      "Epoch 10/200\n",
      "40/40 [==============================] - 0s 3ms/step - loss: 0.7373 - accuracy: 0.4976 - val_loss: 0.6928 - val_accuracy: 0.4828\n",
      "Epoch 11/200\n",
      "40/40 [==============================] - 0s 3ms/step - loss: 0.7293 - accuracy: 0.5173 - val_loss: 0.6919 - val_accuracy: 0.5517\n",
      "Epoch 12/200\n",
      "40/40 [==============================] - 0s 3ms/step - loss: 0.7297 - accuracy: 0.5055 - val_loss: 0.6959 - val_accuracy: 0.5141\n",
      "Epoch 13/200\n",
      "40/40 [==============================] - 0s 3ms/step - loss: 0.7070 - accuracy: 0.5228 - val_loss: 0.6996 - val_accuracy: 0.5016\n",
      "Epoch 14/200\n",
      "40/40 [==============================] - 0s 3ms/step - loss: 0.7287 - accuracy: 0.5071 - val_loss: 0.6904 - val_accuracy: 0.5580\n",
      "Epoch 15/200\n",
      "40/40 [==============================] - 0s 3ms/step - loss: 0.7231 - accuracy: 0.5008 - val_loss: 0.7013 - val_accuracy: 0.4890\n",
      "Epoch 16/200\n",
      "40/40 [==============================] - 0s 3ms/step - loss: 0.7090 - accuracy: 0.5275 - val_loss: 0.6927 - val_accuracy: 0.5549\n",
      "Epoch 17/200\n",
      "40/40 [==============================] - 0s 3ms/step - loss: 0.7241 - accuracy: 0.4921 - val_loss: 0.6990 - val_accuracy: 0.4984\n",
      "Epoch 18/200\n",
      "40/40 [==============================] - 0s 3ms/step - loss: 0.7117 - accuracy: 0.5236 - val_loss: 0.6934 - val_accuracy: 0.5549\n",
      "Epoch 19/200\n",
      "40/40 [==============================] - 0s 3ms/step - loss: 0.7167 - accuracy: 0.5354 - val_loss: 0.6965 - val_accuracy: 0.4890\n",
      "Epoch 20/200\n",
      "40/40 [==============================] - 0s 3ms/step - loss: 0.7078 - accuracy: 0.5307 - val_loss: 0.6924 - val_accuracy: 0.5110\n",
      "Epoch 21/200\n",
      "40/40 [==============================] - 0s 3ms/step - loss: 0.7065 - accuracy: 0.5259 - val_loss: 0.6928 - val_accuracy: 0.5110\n",
      "Epoch 22/200\n",
      "40/40 [==============================] - 0s 3ms/step - loss: 0.7101 - accuracy: 0.5086 - val_loss: 0.6932 - val_accuracy: 0.4984\n",
      "Epoch 23/200\n",
      "40/40 [==============================] - 0s 3ms/step - loss: 0.7019 - accuracy: 0.5299 - val_loss: 0.6936 - val_accuracy: 0.5674\n",
      "Epoch 24/200\n",
      "40/40 [==============================] - 0s 3ms/step - loss: 0.7107 - accuracy: 0.5024 - val_loss: 0.6913 - val_accuracy: 0.5580\n",
      "Epoch 25/200\n",
      "40/40 [==============================] - 0s 3ms/step - loss: 0.7071 - accuracy: 0.5307 - val_loss: 0.6905 - val_accuracy: 0.5611\n",
      "Epoch 26/200\n",
      "40/40 [==============================] - 0s 3ms/step - loss: 0.7037 - accuracy: 0.5330 - val_loss: 0.6914 - val_accuracy: 0.5643\n",
      "Epoch 27/200\n",
      "40/40 [==============================] - 0s 3ms/step - loss: 0.7069 - accuracy: 0.5197 - val_loss: 0.6914 - val_accuracy: 0.5204\n",
      "Epoch 28/200\n",
      "40/40 [==============================] - 0s 3ms/step - loss: 0.7065 - accuracy: 0.5118 - val_loss: 0.6901 - val_accuracy: 0.5611\n",
      "Epoch 29/200\n",
      "40/40 [==============================] - 0s 3ms/step - loss: 0.7102 - accuracy: 0.4890 - val_loss: 0.6916 - val_accuracy: 0.5392\n",
      "Epoch 30/200\n",
      "40/40 [==============================] - 0s 3ms/step - loss: 0.6914 - accuracy: 0.5519 - val_loss: 0.6921 - val_accuracy: 0.5235\n",
      "Epoch 31/200\n",
      "40/40 [==============================] - 0s 3ms/step - loss: 0.7000 - accuracy: 0.5197 - val_loss: 0.6921 - val_accuracy: 0.5580\n",
      "Epoch 32/200\n",
      "40/40 [==============================] - 0s 3ms/step - loss: 0.6992 - accuracy: 0.5165 - val_loss: 0.6933 - val_accuracy: 0.4953\n",
      "Epoch 33/200\n",
      "40/40 [==============================] - 0s 3ms/step - loss: 0.6975 - accuracy: 0.5377 - val_loss: 0.6928 - val_accuracy: 0.5266\n",
      "Epoch 34/200\n",
      "40/40 [==============================] - 0s 3ms/step - loss: 0.6973 - accuracy: 0.5362 - val_loss: 0.6905 - val_accuracy: 0.5611\n",
      "Epoch 35/200\n",
      "40/40 [==============================] - 0s 3ms/step - loss: 0.6988 - accuracy: 0.5142 - val_loss: 0.6920 - val_accuracy: 0.5047\n",
      "Epoch 36/200\n",
      "40/40 [==============================] - 0s 3ms/step - loss: 0.6953 - accuracy: 0.5307 - val_loss: 0.6915 - val_accuracy: 0.5517\n",
      "Epoch 37/200\n",
      "40/40 [==============================] - 0s 3ms/step - loss: 0.6977 - accuracy: 0.5149 - val_loss: 0.6920 - val_accuracy: 0.5016\n",
      "Epoch 38/200\n",
      "40/40 [==============================] - 0s 3ms/step - loss: 0.6924 - accuracy: 0.5409 - val_loss: 0.6929 - val_accuracy: 0.5172\n",
      "Epoch 39/200\n",
      "40/40 [==============================] - 0s 3ms/step - loss: 0.6961 - accuracy: 0.5189 - val_loss: 0.6910 - val_accuracy: 0.5517\n",
      "Epoch 40/200\n",
      "40/40 [==============================] - 0s 3ms/step - loss: 0.6922 - accuracy: 0.5346 - val_loss: 0.6925 - val_accuracy: 0.4984\n",
      "Epoch 41/200\n",
      "40/40 [==============================] - 0s 3ms/step - loss: 0.6961 - accuracy: 0.5291 - val_loss: 0.6925 - val_accuracy: 0.5110\n",
      "Epoch 42/200\n",
      "40/40 [==============================] - 0s 3ms/step - loss: 0.6902 - accuracy: 0.5432 - val_loss: 0.6925 - val_accuracy: 0.5204\n",
      "Epoch 43/200\n",
      "40/40 [==============================] - 0s 3ms/step - loss: 0.6895 - accuracy: 0.5425 - val_loss: 0.6910 - val_accuracy: 0.5517\n",
      "Epoch 44/200\n",
      "40/40 [==============================] - 0s 3ms/step - loss: 0.6971 - accuracy: 0.5362 - val_loss: 0.6915 - val_accuracy: 0.5016\n",
      "Epoch 45/200\n",
      "40/40 [==============================] - 0s 3ms/step - loss: 0.6938 - accuracy: 0.5244 - val_loss: 0.6928 - val_accuracy: 0.5110\n",
      "Epoch 46/200\n",
      "40/40 [==============================] - 0s 3ms/step - loss: 0.6934 - accuracy: 0.5409 - val_loss: 0.6923 - val_accuracy: 0.5110\n",
      "Epoch 47/200\n",
      "40/40 [==============================] - 0s 3ms/step - loss: 0.6924 - accuracy: 0.5291 - val_loss: 0.6906 - val_accuracy: 0.5455\n",
      "Epoch 48/200\n",
      "40/40 [==============================] - 0s 3ms/step - loss: 0.6903 - accuracy: 0.5244 - val_loss: 0.6908 - val_accuracy: 0.5549\n",
      "Epoch 49/200\n",
      "40/40 [==============================] - 0s 3ms/step - loss: 0.6933 - accuracy: 0.5228 - val_loss: 0.6930 - val_accuracy: 0.5078\n",
      "Epoch 50/200\n",
      "40/40 [==============================] - 0s 3ms/step - loss: 0.6905 - accuracy: 0.5283 - val_loss: 0.6899 - val_accuracy: 0.5517\n",
      "Epoch 51/200\n",
      "40/40 [==============================] - 0s 3ms/step - loss: 0.6910 - accuracy: 0.5401 - val_loss: 0.6900 - val_accuracy: 0.5486\n",
      "Epoch 52/200\n",
      "40/40 [==============================] - 0s 3ms/step - loss: 0.6881 - accuracy: 0.5425 - val_loss: 0.6916 - val_accuracy: 0.5643\n",
      "Epoch 53/200\n",
      "40/40 [==============================] - 0s 3ms/step - loss: 0.6917 - accuracy: 0.5472 - val_loss: 0.6928 - val_accuracy: 0.5016\n",
      "Epoch 54/200\n",
      "40/40 [==============================] - 0s 3ms/step - loss: 0.6914 - accuracy: 0.5283 - val_loss: 0.6910 - val_accuracy: 0.5580\n",
      "Epoch 55/200\n",
      "40/40 [==============================] - 0s 3ms/step - loss: 0.6884 - accuracy: 0.5409 - val_loss: 0.6911 - val_accuracy: 0.5486\n",
      "Epoch 56/200\n",
      "40/40 [==============================] - 0s 3ms/step - loss: 0.6913 - accuracy: 0.5425 - val_loss: 0.6911 - val_accuracy: 0.5078\n",
      "Epoch 57/200\n",
      "40/40 [==============================] - 0s 3ms/step - loss: 0.6921 - accuracy: 0.5236 - val_loss: 0.6907 - val_accuracy: 0.5517\n",
      "Epoch 58/200\n",
      "40/40 [==============================] - 0s 3ms/step - loss: 0.6901 - accuracy: 0.5322 - val_loss: 0.6915 - val_accuracy: 0.4890\n"
     ]
    },
    {
     "name": "stdout",
     "output_type": "stream",
     "text": [
      "Epoch 59/200\n",
      "40/40 [==============================] - 0s 3ms/step - loss: 0.6948 - accuracy: 0.5031 - val_loss: 0.6923 - val_accuracy: 0.5078\n",
      "Epoch 60/200\n",
      "40/40 [==============================] - 0s 3ms/step - loss: 0.6893 - accuracy: 0.5393 - val_loss: 0.6905 - val_accuracy: 0.5580\n",
      "Epoch 61/200\n",
      "40/40 [==============================] - 0s 3ms/step - loss: 0.6881 - accuracy: 0.5393 - val_loss: 0.6920 - val_accuracy: 0.5204\n",
      "Epoch 62/200\n",
      "40/40 [==============================] - 0s 3ms/step - loss: 0.6877 - accuracy: 0.5527 - val_loss: 0.6926 - val_accuracy: 0.5172\n",
      "Epoch 63/200\n",
      "40/40 [==============================] - 0s 3ms/step - loss: 0.6900 - accuracy: 0.5291 - val_loss: 0.6909 - val_accuracy: 0.5580\n",
      "Epoch 64/200\n",
      "40/40 [==============================] - 0s 3ms/step - loss: 0.6881 - accuracy: 0.5267 - val_loss: 0.6906 - val_accuracy: 0.5549\n",
      "Epoch 65/200\n",
      "40/40 [==============================] - 0s 3ms/step - loss: 0.6893 - accuracy: 0.5448 - val_loss: 0.6922 - val_accuracy: 0.5016\n",
      "Epoch 66/200\n",
      "40/40 [==============================] - 0s 3ms/step - loss: 0.6884 - accuracy: 0.5338 - val_loss: 0.6906 - val_accuracy: 0.5517\n",
      "Epoch 67/200\n",
      "40/40 [==============================] - 0s 3ms/step - loss: 0.6885 - accuracy: 0.5299 - val_loss: 0.6919 - val_accuracy: 0.5141\n",
      "Epoch 68/200\n",
      "40/40 [==============================] - 0s 3ms/step - loss: 0.6886 - accuracy: 0.5346 - val_loss: 0.6901 - val_accuracy: 0.5517\n",
      "Epoch 69/200\n",
      "40/40 [==============================] - 0s 3ms/step - loss: 0.6890 - accuracy: 0.5346 - val_loss: 0.6910 - val_accuracy: 0.5580\n",
      "Epoch 70/200\n",
      "40/40 [==============================] - 0s 3ms/step - loss: 0.6903 - accuracy: 0.5369 - val_loss: 0.6933 - val_accuracy: 0.5110\n",
      "Epoch 71/200\n",
      "40/40 [==============================] - 0s 3ms/step - loss: 0.6890 - accuracy: 0.5417 - val_loss: 0.6913 - val_accuracy: 0.5549\n",
      "Epoch 72/200\n",
      "40/40 [==============================] - 0s 3ms/step - loss: 0.6928 - accuracy: 0.5142 - val_loss: 0.6920 - val_accuracy: 0.5204\n",
      "Epoch 73/200\n",
      "40/40 [==============================] - 0s 3ms/step - loss: 0.6893 - accuracy: 0.5440 - val_loss: 0.6910 - val_accuracy: 0.5392\n",
      "Epoch 74/200\n",
      "40/40 [==============================] - 0s 3ms/step - loss: 0.6936 - accuracy: 0.5110 - val_loss: 0.6911 - val_accuracy: 0.4953\n",
      "Epoch 75/200\n",
      "40/40 [==============================] - 0s 3ms/step - loss: 0.6882 - accuracy: 0.5354 - val_loss: 0.6902 - val_accuracy: 0.5517\n",
      "Epoch 76/200\n",
      "40/40 [==============================] - 0s 3ms/step - loss: 0.6868 - accuracy: 0.5401 - val_loss: 0.6911 - val_accuracy: 0.5643\n",
      "Epoch 77/200\n",
      "40/40 [==============================] - 0s 3ms/step - loss: 0.6891 - accuracy: 0.5212 - val_loss: 0.6914 - val_accuracy: 0.4984\n",
      "Epoch 78/200\n",
      "40/40 [==============================] - 0s 3ms/step - loss: 0.6880 - accuracy: 0.5291 - val_loss: 0.6924 - val_accuracy: 0.5549\n",
      "Epoch 79/200\n",
      "40/40 [==============================] - 0s 3ms/step - loss: 0.6908 - accuracy: 0.5314 - val_loss: 0.6910 - val_accuracy: 0.5110\n",
      "Epoch 80/200\n",
      "40/40 [==============================] - 0s 3ms/step - loss: 0.6879 - accuracy: 0.5330 - val_loss: 0.6919 - val_accuracy: 0.5047\n",
      "Epoch 81/200\n",
      "40/40 [==============================] - 0s 3ms/step - loss: 0.6893 - accuracy: 0.5157 - val_loss: 0.6916 - val_accuracy: 0.4984\n",
      "Epoch 82/200\n",
      "40/40 [==============================] - 0s 3ms/step - loss: 0.6894 - accuracy: 0.5354 - val_loss: 0.6907 - val_accuracy: 0.5455\n",
      "Epoch 83/200\n",
      "40/40 [==============================] - 0s 3ms/step - loss: 0.6864 - accuracy: 0.5362 - val_loss: 0.6922 - val_accuracy: 0.4922\n",
      "Epoch 84/200\n",
      "40/40 [==============================] - 0s 3ms/step - loss: 0.6915 - accuracy: 0.5244 - val_loss: 0.6907 - val_accuracy: 0.5580\n",
      "Epoch 85/200\n",
      "40/40 [==============================] - 0s 3ms/step - loss: 0.6890 - accuracy: 0.5283 - val_loss: 0.6915 - val_accuracy: 0.5047\n",
      "Epoch 86/200\n",
      "40/40 [==============================] - 0s 3ms/step - loss: 0.6865 - accuracy: 0.5448 - val_loss: 0.6929 - val_accuracy: 0.5674\n",
      "Epoch 87/200\n",
      "40/40 [==============================] - 0s 3ms/step - loss: 0.6895 - accuracy: 0.5338 - val_loss: 0.6907 - val_accuracy: 0.5674\n",
      "Epoch 88/200\n",
      "40/40 [==============================] - 0s 3ms/step - loss: 0.6906 - accuracy: 0.5275 - val_loss: 0.6918 - val_accuracy: 0.4922\n",
      "Epoch 89/200\n",
      "40/40 [==============================] - 0s 3ms/step - loss: 0.6881 - accuracy: 0.5425 - val_loss: 0.6913 - val_accuracy: 0.5549\n",
      "Epoch 90/200\n",
      "40/40 [==============================] - 0s 3ms/step - loss: 0.6896 - accuracy: 0.5314 - val_loss: 0.6905 - val_accuracy: 0.5643\n",
      "Epoch 91/200\n",
      "40/40 [==============================] - 0s 3ms/step - loss: 0.6884 - accuracy: 0.5401 - val_loss: 0.6899 - val_accuracy: 0.5549\n",
      "Epoch 92/200\n",
      "40/40 [==============================] - 0s 3ms/step - loss: 0.6900 - accuracy: 0.5338 - val_loss: 0.6906 - val_accuracy: 0.5486\n",
      "Epoch 93/200\n",
      "40/40 [==============================] - 0s 3ms/step - loss: 0.6902 - accuracy: 0.5322 - val_loss: 0.6911 - val_accuracy: 0.5643\n",
      "Epoch 94/200\n",
      "40/40 [==============================] - 0s 3ms/step - loss: 0.6909 - accuracy: 0.5291 - val_loss: 0.6936 - val_accuracy: 0.4984\n",
      "Epoch 95/200\n",
      "40/40 [==============================] - 0s 3ms/step - loss: 0.6903 - accuracy: 0.5330 - val_loss: 0.6918 - val_accuracy: 0.5047\n",
      "Epoch 96/200\n",
      "40/40 [==============================] - 0s 3ms/step - loss: 0.6896 - accuracy: 0.5252 - val_loss: 0.6941 - val_accuracy: 0.4984\n",
      "Epoch 97/200\n",
      "40/40 [==============================] - 0s 3ms/step - loss: 0.6900 - accuracy: 0.5283 - val_loss: 0.6898 - val_accuracy: 0.5580\n",
      "Epoch 98/200\n",
      "40/40 [==============================] - 0s 3ms/step - loss: 0.6884 - accuracy: 0.5346 - val_loss: 0.6912 - val_accuracy: 0.5392\n",
      "Epoch 99/200\n",
      "40/40 [==============================] - 0s 3ms/step - loss: 0.6884 - accuracy: 0.5197 - val_loss: 0.6911 - val_accuracy: 0.5611\n",
      "Epoch 100/200\n",
      "40/40 [==============================] - 0s 3ms/step - loss: 0.6922 - accuracy: 0.5220 - val_loss: 0.6911 - val_accuracy: 0.5517\n",
      "Epoch 101/200\n",
      "40/40 [==============================] - 0s 3ms/step - loss: 0.6868 - accuracy: 0.5456 - val_loss: 0.6908 - val_accuracy: 0.5423\n",
      "Epoch 102/200\n",
      "40/40 [==============================] - 0s 3ms/step - loss: 0.6873 - accuracy: 0.5291 - val_loss: 0.6926 - val_accuracy: 0.5580\n",
      "Epoch 103/200\n",
      "40/40 [==============================] - 0s 3ms/step - loss: 0.6900 - accuracy: 0.5244 - val_loss: 0.6926 - val_accuracy: 0.4984\n",
      "Epoch 104/200\n",
      "40/40 [==============================] - 0s 3ms/step - loss: 0.6868 - accuracy: 0.5456 - val_loss: 0.6910 - val_accuracy: 0.5549\n",
      "Epoch 105/200\n",
      "40/40 [==============================] - 0s 3ms/step - loss: 0.6882 - accuracy: 0.5346 - val_loss: 0.6916 - val_accuracy: 0.5549\n",
      "Epoch 106/200\n",
      "40/40 [==============================] - 0s 3ms/step - loss: 0.6896 - accuracy: 0.5181 - val_loss: 0.6915 - val_accuracy: 0.5580\n",
      "Epoch 107/200\n",
      "40/40 [==============================] - 0s 3ms/step - loss: 0.6897 - accuracy: 0.5487 - val_loss: 0.6905 - val_accuracy: 0.5423\n",
      "Epoch 108/200\n",
      "40/40 [==============================] - 0s 3ms/step - loss: 0.6885 - accuracy: 0.5314 - val_loss: 0.6914 - val_accuracy: 0.4953\n",
      "Epoch 109/200\n",
      "40/40 [==============================] - 0s 3ms/step - loss: 0.6898 - accuracy: 0.5322 - val_loss: 0.6913 - val_accuracy: 0.5172\n",
      "Epoch 110/200\n",
      "40/40 [==============================] - 0s 3ms/step - loss: 0.6872 - accuracy: 0.5448 - val_loss: 0.6914 - val_accuracy: 0.5611\n",
      "Epoch 111/200\n",
      "40/40 [==============================] - 0s 3ms/step - loss: 0.6887 - accuracy: 0.5472 - val_loss: 0.6907 - val_accuracy: 0.5235\n",
      "Epoch 112/200\n",
      "40/40 [==============================] - 0s 3ms/step - loss: 0.6893 - accuracy: 0.5283 - val_loss: 0.6912 - val_accuracy: 0.5141\n",
      "Epoch 113/200\n",
      "40/40 [==============================] - 0s 3ms/step - loss: 0.6838 - accuracy: 0.5676 - val_loss: 0.6915 - val_accuracy: 0.5110\n",
      "Epoch 114/200\n",
      "40/40 [==============================] - 0s 3ms/step - loss: 0.6914 - accuracy: 0.5307 - val_loss: 0.6899 - val_accuracy: 0.5549\n",
      "Epoch 115/200\n",
      "40/40 [==============================] - 0s 3ms/step - loss: 0.6874 - accuracy: 0.5448 - val_loss: 0.6931 - val_accuracy: 0.5643\n",
      "Epoch 116/200\n",
      "40/40 [==============================] - 0s 3ms/step - loss: 0.6859 - accuracy: 0.5487 - val_loss: 0.6919 - val_accuracy: 0.5643\n",
      "Epoch 117/200\n",
      "40/40 [==============================] - 0s 3ms/step - loss: 0.6895 - accuracy: 0.5291 - val_loss: 0.6919 - val_accuracy: 0.5078\n",
      "Epoch 118/200\n",
      "40/40 [==============================] - 0s 3ms/step - loss: 0.6868 - accuracy: 0.5385 - val_loss: 0.6905 - val_accuracy: 0.5580\n",
      "Epoch 119/200\n",
      "40/40 [==============================] - 0s 3ms/step - loss: 0.6887 - accuracy: 0.5425 - val_loss: 0.6918 - val_accuracy: 0.4984\n",
      "Epoch 120/200\n",
      "40/40 [==============================] - 0s 3ms/step - loss: 0.6890 - accuracy: 0.5346 - val_loss: 0.6914 - val_accuracy: 0.5078\n",
      "Epoch 121/200\n",
      "40/40 [==============================] - 0s 3ms/step - loss: 0.6905 - accuracy: 0.5401 - val_loss: 0.6912 - val_accuracy: 0.5611\n",
      "Epoch 122/200\n",
      "40/40 [==============================] - 0s 3ms/step - loss: 0.6875 - accuracy: 0.5440 - val_loss: 0.6919 - val_accuracy: 0.5078\n",
      "Epoch 123/200\n",
      "40/40 [==============================] - 0s 3ms/step - loss: 0.6907 - accuracy: 0.5299 - val_loss: 0.6916 - val_accuracy: 0.5047\n",
      "Epoch 124/200\n",
      "40/40 [==============================] - 0s 3ms/step - loss: 0.6883 - accuracy: 0.5417 - val_loss: 0.6913 - val_accuracy: 0.5078\n",
      "Epoch 125/200\n",
      "40/40 [==============================] - 0s 3ms/step - loss: 0.6889 - accuracy: 0.5377 - val_loss: 0.6913 - val_accuracy: 0.5110\n",
      "Epoch 126/200\n",
      "40/40 [==============================] - 0s 3ms/step - loss: 0.6902 - accuracy: 0.5275 - val_loss: 0.6917 - val_accuracy: 0.5110\n",
      "Epoch 127/200\n",
      "40/40 [==============================] - 0s 3ms/step - loss: 0.6884 - accuracy: 0.5456 - val_loss: 0.6922 - val_accuracy: 0.5110\n",
      "Epoch 128/200\n",
      "40/40 [==============================] - 0s 3ms/step - loss: 0.6900 - accuracy: 0.5228 - val_loss: 0.6911 - val_accuracy: 0.5549\n",
      "Epoch 129/200\n",
      "40/40 [==============================] - 0s 3ms/step - loss: 0.6881 - accuracy: 0.5283 - val_loss: 0.6914 - val_accuracy: 0.5047\n",
      "Epoch 130/200\n",
      "40/40 [==============================] - 0s 3ms/step - loss: 0.6890 - accuracy: 0.5283 - val_loss: 0.6929 - val_accuracy: 0.5110\n",
      "Epoch 131/200\n",
      "40/40 [==============================] - 0s 3ms/step - loss: 0.6870 - accuracy: 0.5472 - val_loss: 0.6923 - val_accuracy: 0.5172\n",
      "Epoch 132/200\n",
      "40/40 [==============================] - 0s 3ms/step - loss: 0.6892 - accuracy: 0.5307 - val_loss: 0.6915 - val_accuracy: 0.5674\n",
      "Epoch 133/200\n",
      "40/40 [==============================] - 0s 3ms/step - loss: 0.6870 - accuracy: 0.5417 - val_loss: 0.6919 - val_accuracy: 0.4953\n",
      "Epoch 134/200\n",
      "40/40 [==============================] - 0s 3ms/step - loss: 0.6880 - accuracy: 0.5535 - val_loss: 0.6904 - val_accuracy: 0.5611\n",
      "Epoch 135/200\n",
      "40/40 [==============================] - 0s 3ms/step - loss: 0.6918 - accuracy: 0.5259 - val_loss: 0.6929 - val_accuracy: 0.4984\n",
      "Epoch 136/200\n",
      "40/40 [==============================] - 0s 3ms/step - loss: 0.6849 - accuracy: 0.5448 - val_loss: 0.6913 - val_accuracy: 0.5580\n",
      "Epoch 137/200\n",
      "40/40 [==============================] - 0s 3ms/step - loss: 0.6867 - accuracy: 0.5314 - val_loss: 0.6922 - val_accuracy: 0.4953\n",
      "Epoch 138/200\n",
      "40/40 [==============================] - 0s 3ms/step - loss: 0.6885 - accuracy: 0.5362 - val_loss: 0.6917 - val_accuracy: 0.5047\n",
      "Epoch 139/200\n",
      "40/40 [==============================] - 0s 3ms/step - loss: 0.6876 - accuracy: 0.5417 - val_loss: 0.6919 - val_accuracy: 0.5110\n",
      "Epoch 140/200\n",
      "40/40 [==============================] - 0s 3ms/step - loss: 0.6895 - accuracy: 0.5299 - val_loss: 0.6917 - val_accuracy: 0.5674\n",
      "Epoch 141/200\n",
      "40/40 [==============================] - 0s 3ms/step - loss: 0.6893 - accuracy: 0.5385 - val_loss: 0.6899 - val_accuracy: 0.5580\n",
      "Epoch 142/200\n",
      "40/40 [==============================] - 0s 3ms/step - loss: 0.6869 - accuracy: 0.5590 - val_loss: 0.6916 - val_accuracy: 0.5455\n",
      "Epoch 143/200\n",
      "40/40 [==============================] - 0s 3ms/step - loss: 0.6884 - accuracy: 0.5464 - val_loss: 0.6910 - val_accuracy: 0.5517\n",
      "Epoch 144/200\n",
      "40/40 [==============================] - 0s 3ms/step - loss: 0.6877 - accuracy: 0.5542 - val_loss: 0.6924 - val_accuracy: 0.5078\n",
      "Epoch 145/200\n",
      "40/40 [==============================] - 0s 3ms/step - loss: 0.6878 - accuracy: 0.5590 - val_loss: 0.6915 - val_accuracy: 0.5486\n",
      "Epoch 146/200\n",
      "40/40 [==============================] - 0s 3ms/step - loss: 0.6855 - accuracy: 0.5385 - val_loss: 0.6935 - val_accuracy: 0.5141\n",
      "Epoch 147/200\n",
      "40/40 [==============================] - 0s 3ms/step - loss: 0.6896 - accuracy: 0.5425 - val_loss: 0.6929 - val_accuracy: 0.5016\n",
      "Epoch 148/200\n",
      "40/40 [==============================] - 0s 3ms/step - loss: 0.6880 - accuracy: 0.5417 - val_loss: 0.6926 - val_accuracy: 0.4984\n",
      "Epoch 149/200\n",
      "40/40 [==============================] - 0s 3ms/step - loss: 0.6869 - accuracy: 0.5511 - val_loss: 0.6906 - val_accuracy: 0.5611\n",
      "Epoch 150/200\n",
      "40/40 [==============================] - 0s 3ms/step - loss: 0.6904 - accuracy: 0.5228 - val_loss: 0.6923 - val_accuracy: 0.5235\n",
      "Epoch 151/200\n",
      "40/40 [==============================] - 0s 3ms/step - loss: 0.6870 - accuracy: 0.5472 - val_loss: 0.6926 - val_accuracy: 0.5141\n",
      "Epoch 152/200\n",
      "40/40 [==============================] - 0s 3ms/step - loss: 0.6887 - accuracy: 0.5393 - val_loss: 0.6941 - val_accuracy: 0.4922\n",
      "Epoch 153/200\n",
      "40/40 [==============================] - 0s 3ms/step - loss: 0.6890 - accuracy: 0.5425 - val_loss: 0.6936 - val_accuracy: 0.4984\n",
      "Epoch 154/200\n",
      "40/40 [==============================] - 0s 3ms/step - loss: 0.6870 - accuracy: 0.5511 - val_loss: 0.6918 - val_accuracy: 0.5549\n",
      "Epoch 155/200\n",
      "40/40 [==============================] - 0s 3ms/step - loss: 0.6897 - accuracy: 0.5354 - val_loss: 0.6929 - val_accuracy: 0.5235\n",
      "Epoch 156/200\n",
      "40/40 [==============================] - 0s 3ms/step - loss: 0.6890 - accuracy: 0.5291 - val_loss: 0.6925 - val_accuracy: 0.4953\n",
      "Epoch 157/200\n",
      "40/40 [==============================] - 0s 3ms/step - loss: 0.6867 - accuracy: 0.5519 - val_loss: 0.6910 - val_accuracy: 0.5549\n",
      "Epoch 158/200\n",
      "40/40 [==============================] - 0s 3ms/step - loss: 0.6891 - accuracy: 0.5417 - val_loss: 0.6908 - val_accuracy: 0.5580\n",
      "Epoch 159/200\n",
      "40/40 [==============================] - 0s 3ms/step - loss: 0.6890 - accuracy: 0.5409 - val_loss: 0.6906 - val_accuracy: 0.5517\n",
      "Epoch 160/200\n",
      "40/40 [==============================] - 0s 3ms/step - loss: 0.6876 - accuracy: 0.5425 - val_loss: 0.6921 - val_accuracy: 0.5172\n",
      "Epoch 161/200\n",
      "40/40 [==============================] - 0s 3ms/step - loss: 0.6865 - accuracy: 0.5354 - val_loss: 0.6918 - val_accuracy: 0.5580\n",
      "Epoch 162/200\n",
      "40/40 [==============================] - 0s 3ms/step - loss: 0.6872 - accuracy: 0.5362 - val_loss: 0.6919 - val_accuracy: 0.5078\n",
      "Epoch 163/200\n",
      "40/40 [==============================] - 0s 3ms/step - loss: 0.6892 - accuracy: 0.5283 - val_loss: 0.6930 - val_accuracy: 0.5078\n",
      "Epoch 164/200\n",
      "40/40 [==============================] - 0s 3ms/step - loss: 0.6904 - accuracy: 0.5252 - val_loss: 0.6918 - val_accuracy: 0.5141\n",
      "Epoch 165/200\n",
      "40/40 [==============================] - 0s 3ms/step - loss: 0.6880 - accuracy: 0.5432 - val_loss: 0.6923 - val_accuracy: 0.5674\n",
      "Epoch 166/200\n",
      "40/40 [==============================] - 0s 3ms/step - loss: 0.6892 - accuracy: 0.5354 - val_loss: 0.6922 - val_accuracy: 0.5423\n",
      "Epoch 167/200\n",
      "40/40 [==============================] - 0s 3ms/step - loss: 0.6897 - accuracy: 0.5393 - val_loss: 0.6913 - val_accuracy: 0.5517\n",
      "Epoch 168/200\n",
      "40/40 [==============================] - 0s 3ms/step - loss: 0.6859 - accuracy: 0.5535 - val_loss: 0.6929 - val_accuracy: 0.5110\n",
      "Epoch 169/200\n",
      "40/40 [==============================] - 0s 3ms/step - loss: 0.6873 - accuracy: 0.5440 - val_loss: 0.6930 - val_accuracy: 0.5078\n",
      "Epoch 170/200\n",
      "40/40 [==============================] - 0s 3ms/step - loss: 0.6888 - accuracy: 0.5409 - val_loss: 0.6936 - val_accuracy: 0.4984\n",
      "Epoch 171/200\n",
      "40/40 [==============================] - 0s 3ms/step - loss: 0.6873 - accuracy: 0.5440 - val_loss: 0.6920 - val_accuracy: 0.5204\n",
      "Epoch 172/200\n",
      "40/40 [==============================] - 0s 3ms/step - loss: 0.6891 - accuracy: 0.5385 - val_loss: 0.6928 - val_accuracy: 0.5016\n",
      "Epoch 173/200\n"
     ]
    },
    {
     "name": "stdout",
     "output_type": "stream",
     "text": [
      "40/40 [==============================] - 0s 3ms/step - loss: 0.6874 - accuracy: 0.5377 - val_loss: 0.6917 - val_accuracy: 0.5549\n",
      "Epoch 174/200\n",
      "40/40 [==============================] - 0s 3ms/step - loss: 0.6883 - accuracy: 0.5456 - val_loss: 0.6930 - val_accuracy: 0.5110\n",
      "Epoch 175/200\n",
      "40/40 [==============================] - 0s 3ms/step - loss: 0.6879 - accuracy: 0.5448 - val_loss: 0.6924 - val_accuracy: 0.5517\n",
      "Epoch 176/200\n",
      "40/40 [==============================] - 0s 3ms/step - loss: 0.6886 - accuracy: 0.5385 - val_loss: 0.6936 - val_accuracy: 0.5016\n",
      "Epoch 177/200\n",
      "40/40 [==============================] - 0s 3ms/step - loss: 0.6870 - accuracy: 0.5464 - val_loss: 0.6935 - val_accuracy: 0.5078\n",
      "Epoch 178/200\n",
      "40/40 [==============================] - 0s 3ms/step - loss: 0.6889 - accuracy: 0.5464 - val_loss: 0.6921 - val_accuracy: 0.5110\n",
      "Epoch 179/200\n",
      "40/40 [==============================] - 0s 3ms/step - loss: 0.6874 - accuracy: 0.5464 - val_loss: 0.6931 - val_accuracy: 0.5016\n",
      "Epoch 180/200\n",
      "40/40 [==============================] - 0s 3ms/step - loss: 0.6889 - accuracy: 0.5566 - val_loss: 0.6918 - val_accuracy: 0.5549\n",
      "Epoch 181/200\n",
      "40/40 [==============================] - 0s 3ms/step - loss: 0.6891 - accuracy: 0.5369 - val_loss: 0.6915 - val_accuracy: 0.5580\n",
      "Epoch 182/200\n",
      "40/40 [==============================] - 0s 3ms/step - loss: 0.6892 - accuracy: 0.5401 - val_loss: 0.6920 - val_accuracy: 0.5016\n",
      "Epoch 183/200\n",
      "40/40 [==============================] - 0s 3ms/step - loss: 0.6904 - accuracy: 0.5401 - val_loss: 0.6909 - val_accuracy: 0.5486\n",
      "Epoch 184/200\n",
      "40/40 [==============================] - 0s 3ms/step - loss: 0.6864 - accuracy: 0.5440 - val_loss: 0.6918 - val_accuracy: 0.5580\n",
      "Epoch 185/200\n",
      "40/40 [==============================] - 0s 3ms/step - loss: 0.6890 - accuracy: 0.5330 - val_loss: 0.6916 - val_accuracy: 0.5172\n",
      "Epoch 186/200\n",
      "40/40 [==============================] - 0s 3ms/step - loss: 0.6884 - accuracy: 0.5362 - val_loss: 0.6918 - val_accuracy: 0.5235\n",
      "Epoch 187/200\n",
      "40/40 [==============================] - 0s 3ms/step - loss: 0.6871 - accuracy: 0.5236 - val_loss: 0.6946 - val_accuracy: 0.4984\n",
      "Epoch 188/200\n",
      "40/40 [==============================] - 0s 3ms/step - loss: 0.6869 - accuracy: 0.5425 - val_loss: 0.6938 - val_accuracy: 0.4953\n",
      "Epoch 189/200\n",
      "40/40 [==============================] - 0s 3ms/step - loss: 0.6887 - accuracy: 0.5432 - val_loss: 0.6934 - val_accuracy: 0.5016\n",
      "Epoch 190/200\n",
      "40/40 [==============================] - 0s 3ms/step - loss: 0.6875 - accuracy: 0.5574 - val_loss: 0.6926 - val_accuracy: 0.5016\n",
      "Epoch 191/200\n",
      "40/40 [==============================] - 0s 3ms/step - loss: 0.6873 - accuracy: 0.5401 - val_loss: 0.6935 - val_accuracy: 0.4984\n",
      "Epoch 192/200\n",
      "40/40 [==============================] - 0s 3ms/step - loss: 0.6864 - accuracy: 0.5456 - val_loss: 0.6958 - val_accuracy: 0.5078\n",
      "Epoch 193/200\n",
      "40/40 [==============================] - 0s 3ms/step - loss: 0.6908 - accuracy: 0.5244 - val_loss: 0.6935 - val_accuracy: 0.5078\n",
      "Epoch 194/200\n",
      "40/40 [==============================] - 0s 3ms/step - loss: 0.6884 - accuracy: 0.5267 - val_loss: 0.6927 - val_accuracy: 0.5611\n",
      "Epoch 195/200\n",
      "40/40 [==============================] - 0s 3ms/step - loss: 0.6887 - accuracy: 0.5291 - val_loss: 0.6926 - val_accuracy: 0.5172\n",
      "Epoch 196/200\n",
      "40/40 [==============================] - 0s 3ms/step - loss: 0.6878 - accuracy: 0.5401 - val_loss: 0.6918 - val_accuracy: 0.5517\n",
      "Epoch 197/200\n",
      "40/40 [==============================] - 0s 3ms/step - loss: 0.6887 - accuracy: 0.5432 - val_loss: 0.6944 - val_accuracy: 0.5110\n",
      "Epoch 198/200\n",
      "40/40 [==============================] - 0s 3ms/step - loss: 0.6869 - accuracy: 0.5590 - val_loss: 0.6937 - val_accuracy: 0.5486\n",
      "Epoch 199/200\n",
      "40/40 [==============================] - 0s 3ms/step - loss: 0.6870 - accuracy: 0.5330 - val_loss: 0.6925 - val_accuracy: 0.5549\n",
      "Epoch 200/200\n",
      "40/40 [==============================] - 0s 3ms/step - loss: 0.6881 - accuracy: 0.5291 - val_loss: 0.6939 - val_accuracy: 0.5643\n"
     ]
    },
    {
     "data": {
      "text/plain": [
       "<tensorflow.python.keras.callbacks.History at 0x7dbda27d30>"
      ]
     },
     "execution_count": 112,
     "metadata": {},
     "output_type": "execute_result"
    }
   ],
   "source": [
    "model.fit(X_train, y_train, batch_size=32,epochs=200, validation_data=(X_test, y_test), callbacks=[history_sgd])"
   ]
  },
  {
   "cell_type": "code",
   "execution_count": 113,
   "id": "903c3ab3",
   "metadata": {
    "scrolled": false
   },
   "outputs": [
    {
     "data": {
      "image/png": "[encoded data removed]",
      "text/plain": [
       "<Figure size 576x360 with 1 Axes>"
      ]
     },
     "metadata": {},
     "output_type": "display_data"
    }
   ],
   "source": [
    "import pandas as pd\n",
    "\n",
    "pd.DataFrame(history_sgd.history).plot(figsize=(8, 5))\n",
    "plt.grid(True)\n",
    "plt.gca().set_ylim(0, 1)\n",
    "plt.yticks(np.linspace(0,1,11))\n",
    "plt.show()"
   ]
  },
  {
   "cell_type": "markdown",
   "id": "ed5d9fc4",
   "metadata": {},
   "source": [
    "# Krzywe ROC"
   ]
  },
  {
   "cell_type": "code",
   "execution_count": 114,
   "id": "c9b14e3f",
   "metadata": {},
   "outputs": [
    {
     "data": {
      "image/png": "[encoded data removed]",
      "text/plain": [
       "<Figure size 864x864 with 1 Axes>"
      ]
     },
     "metadata": {},
     "output_type": "display_data"
    }
   ],
   "source": [
    "models = []\n",
    "models.append(('Logistic regression', grid_4))\n",
    "models.append(('Keras', model))\n",
    "\n",
    "precision_score = []\n",
    "recall_score = []\n",
    "f1_score = []\n",
    "accuracy_score = []\n",
    "roc_auc_val = []\n",
    "plt.figure(figsize=(12, 12))\n",
    "for name, model in models:\n",
    "    if((name == 'Keras')):\n",
    "        precision_score.append(metrics.precision_score(y_test, model.predict_classes(X_test)))\n",
    "        recall_score.append(metrics.recall_score(y_test, model.predict_classes(X_test)))\n",
    "        f1_score.append( metrics.f1_score(y_test, model.predict_classes(X_test)))\n",
    "        accuracy_score.append(metrics.accuracy_score(y_test, model.predict_classes(X_test)))\n",
    "        \n",
    "        \n",
    "        # calculate the fpr and tpr for all thresholds of the classification\n",
    "        probs = model.predict_proba(X_test)\n",
    "        preds = probs\n",
    "        fpr, tpr, threshold = metrics.roc_curve(y_test, preds)\n",
    "        roc_auc = metrics.auc(fpr, tpr)\n",
    "        roc_auc_val.append(roc_auc)\n",
    "        \n",
    "    else:\n",
    "        precision_score.append(metrics.precision_score(y_test, model.predict(X_test)))\n",
    "        recall_score.append(metrics.recall_score(y_test, model.predict(X_test)))\n",
    "        f1_score.append( metrics.f1_score(y_test, model.predict(X_test)))\n",
    "        accuracy_score.append(metrics.accuracy_score(y_test, model.predict(X_test)))\n",
    "        \n",
    "        # calculate the fpr and tpr for all thresholds of the classification\n",
    "        probs = model.predict_proba(X_test)\n",
    "        preds = probs[:,1]\n",
    "        fpr, tpr, threshold = metrics.roc_curve(y_test, preds)\n",
    "        roc_auc = metrics.auc(fpr, tpr)\n",
    "        roc_auc_val.append(roc_auc)\n",
    "            \n",
    "\n",
    "    # method I: plt\n",
    "    import matplotlib.pyplot as plt\n",
    "    plt.title('Receiver Operating Characteristic')\n",
    "    plt.plot(fpr, tpr, label = '%s AUC = %0.10f' % (name, roc_auc))\n",
    "    plt.legend(loc = 'lower right')\n",
    "    plt.plot([-0.1, 1.1], [0, 1],'r--')\n",
    "    plt.xlim([-0.1, 1.1])\n",
    "    plt.ylim([-0.1, 1.1])\n",
    "    plt.ylabel('True Positive Rate')\n",
    "    plt.xlabel('False Positive Rate')\n",
    "plt.rcParams['figure.figsize'] = [2, 2]\n",
    "plt.show()"
   ]
  },
  {
   "cell_type": "code",
   "execution_count": 115,
   "id": "93e03afb",
   "metadata": {},
   "outputs": [
    {
     "data": {
      "text/html": [
       "<div>\n",
       "<style scoped>\n",
       "    .dataframe tbody tr th:only-of-type {\n",
       "        vertical-align: middle;\n",
       "    }\n",
       "\n",
       "    .dataframe tbody tr th {\n",
       "        vertical-align: top;\n",
       "    }\n",
       "\n",
       "    .dataframe thead th {\n",
       "        text-align: right;\n",
       "    }\n",
       "</style>\n",
       "<table border=\"1\" class=\"dataframe\">\n",
       "  <thead>\n",
       "    <tr style=\"text-align: right;\">\n",
       "      <th></th>\n",
       "      <th>Method</th>\n",
       "      <th>precision_score</th>\n",
       "      <th>recall_score</th>\n",
       "      <th>f1_score</th>\n",
       "      <th>accuracy_score</th>\n",
       "      <th>roc_auc</th>\n",
       "    </tr>\n",
       "  </thead>\n",
       "  <tbody>\n",
       "    <tr>\n",
       "      <th>1</th>\n",
       "      <td>Keras</td>\n",
       "      <td>0.567474</td>\n",
       "      <td>0.921348</td>\n",
       "      <td>0.702355</td>\n",
       "      <td>0.564263</td>\n",
       "      <td>0.503984</td>\n",
       "    </tr>\n",
       "    <tr>\n",
       "      <th>0</th>\n",
       "      <td>Logistic regression</td>\n",
       "      <td>0.558923</td>\n",
       "      <td>0.932584</td>\n",
       "      <td>0.698947</td>\n",
       "      <td>0.551724</td>\n",
       "      <td>0.509483</td>\n",
       "    </tr>\n",
       "  </tbody>\n",
       "</table>\n",
       "</div>"
      ],
      "text/plain": [
       "                Method  precision_score  recall_score  f1_score  \\\n",
       "1                Keras         0.567474      0.921348  0.702355   \n",
       "0  Logistic regression         0.558923      0.932584  0.698947   \n",
       "\n",
       "   accuracy_score   roc_auc  \n",
       "1        0.564263  0.503984  \n",
       "0        0.551724  0.509483  "
      ]
     },
     "execution_count": 115,
     "metadata": {},
     "output_type": "execute_result"
    }
   ],
   "source": [
    "d = {\n",
    "     'precision_score': precision_score, \n",
    "     'recall_score': recall_score, \n",
    "     'f1_score': f1_score,\n",
    "     'accuracy_score' : accuracy_score,\n",
    "     'roc_auc': roc_auc_val\n",
    "    }\n",
    "df = pd.DataFrame(data=d)\n",
    "df.insert(loc=0, column='Method', value=[model[0] for model in models])\n",
    "df.sort_values(by='accuracy_score', ascending=False)"
   ]
  },
  {
   "cell_type": "code",
   "execution_count": null,
   "id": "61abee3e",
   "metadata": {},
   "outputs": [],
   "source": []
  }
 ],
 "metadata": {
  "kernelspec": {
   "display_name": "Python 3",
   "language": "python",
   "name": "python3"
  },
  "language_info": {
   "codemirror_mode": {
    "name": "ipython",
    "version": 3
   },
   "file_extension": ".py",
   "mimetype": "text/x-python",
   "name": "python",
   "nbconvert_exporter": "python",
   "pygments_lexer": "ipython3",
   "version": "3.8.8"
  }
 },
 "nbformat": 4,
 "nbformat_minor": 5
}
