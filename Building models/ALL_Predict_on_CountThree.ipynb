{
 "cells": [
  {
   "cell_type": "code",
   "execution_count": 1,
   "id": "bfc30036",
   "metadata": {},
   "outputs": [],
   "source": [
    "import numpy as np\n",
    "import pandas as pd\n",
    "import matplotlib.pyplot as plt\n",
    "from sklearn import metrics"
   ]
  },
  {
   "cell_type": "code",
   "execution_count": 2,
   "id": "2281bfe5",
   "metadata": {},
   "outputs": [],
   "source": [
    "import os\n",
    "DATA_PATH = \"Dane\\Wlasne\\stock_data_with_news_all.csv\""
   ]
  },
  {
   "cell_type": "code",
   "execution_count": 3,
   "id": "69952b9f",
   "metadata": {},
   "outputs": [],
   "source": [
    "data = pd.read_csv(DATA_PATH, sep=\",\")"
   ]
  },
  {
   "cell_type": "code",
   "execution_count": 4,
   "id": "2fad7bc7",
   "metadata": {},
   "outputs": [
    {
     "data": {
      "text/html": [
       "<div>\n",
       "<style scoped>\n",
       "    .dataframe tbody tr th:only-of-type {\n",
       "        vertical-align: middle;\n",
       "    }\n",
       "\n",
       "    .dataframe tbody tr th {\n",
       "        vertical-align: top;\n",
       "    }\n",
       "\n",
       "    .dataframe thead th {\n",
       "        text-align: right;\n",
       "    }\n",
       "</style>\n",
       "<table border=\"1\" class=\"dataframe\">\n",
       "  <thead>\n",
       "    <tr style=\"text-align: right;\">\n",
       "      <th></th>\n",
       "      <th>Date</th>\n",
       "      <th>Increased</th>\n",
       "      <th>News_no1</th>\n",
       "      <th>News_no2</th>\n",
       "      <th>News_no3</th>\n",
       "      <th>News_no4</th>\n",
       "      <th>News_no5</th>\n",
       "      <th>News_no6</th>\n",
       "      <th>News_no7</th>\n",
       "      <th>News_no8</th>\n",
       "      <th>...</th>\n",
       "      <th>News_no41</th>\n",
       "      <th>News_no42</th>\n",
       "      <th>News_no43</th>\n",
       "      <th>News_no44</th>\n",
       "      <th>News_no45</th>\n",
       "      <th>News_no46</th>\n",
       "      <th>News_no47</th>\n",
       "      <th>News_no48</th>\n",
       "      <th>News_no49</th>\n",
       "      <th>News_no50</th>\n",
       "    </tr>\n",
       "  </thead>\n",
       "  <tbody>\n",
       "    <tr>\n",
       "      <th>0</th>\n",
       "      <td>2012-01-30</td>\n",
       "      <td>0</td>\n",
       "      <td>Jessica Hoppe, Blogger Behind 'Having It All' ...</td>\n",
       "      <td>Indiana Welcomes Super Bowl Fans With Children...</td>\n",
       "      <td>Be Not Afraid: How Travel Disarms Media Hype</td>\n",
       "      <td>Water Parks In Miami: A Huffington Post Travel...</td>\n",
       "      <td>10 Dips, Nibbles And Dishes For Game Day</td>\n",
       "      <td>Isabella Rossellini Models For Betsey Johnson,...</td>\n",
       "      <td>Small Town Life In The Peruvian Andes</td>\n",
       "      <td>Self-Acceptance: Are You an 'Alchemist' or a '...</td>\n",
       "      <td>...</td>\n",
       "      <td>Craigslist Finds: 14 Completely Strange Sales ...</td>\n",
       "      <td>Local Mom Gives A \"Hand Up\" To Single Mothers</td>\n",
       "      <td>Water Parks in Maryland: A Huffington Post Tra...</td>\n",
       "      <td>Sofia Coppola's First Marni For H&amp;M Ads, And O...</td>\n",
       "      <td>Water Parks In North Dakota: A Huffington Post...</td>\n",
       "      <td>The London Declaration: A Tipping Point For Th...</td>\n",
       "      <td>Can Conflict Actually Improve Relationships?</td>\n",
       "      <td>Juliana Luna, Dancer: FaceTime, A Beauty Stree...</td>\n",
       "      <td>5 Serums We're Using To Fight Aging, Dryness, ...</td>\n",
       "      <td>Ikat-Inspired DIY Nail Art</td>\n",
       "    </tr>\n",
       "    <tr>\n",
       "      <th>1</th>\n",
       "      <td>2012-01-31</td>\n",
       "      <td>0</td>\n",
       "      <td>Miley Cyrus Mom Jeans Might Actually Be Kinda ...</td>\n",
       "      <td>Marion Cotillard, Carey Mulligan &amp; 'Vanity Fai...</td>\n",
       "      <td>12 Reasons To Avoid GMOs</td>\n",
       "      <td>King Karl</td>\n",
       "      <td>Healthy Mexican At Home: Frito Pie Makeover</td>\n",
       "      <td>US Panel Defends Call To Censor Bird Flu Studies</td>\n",
       "      <td>William &amp; Kate's Patter of Little Feet: A Cock...</td>\n",
       "      <td>Military Families + Autism: A Recipe for Heart...</td>\n",
       "      <td>...</td>\n",
       "      <td>David Tutera Lawsuit: Couple Sues Celebrity We...</td>\n",
       "      <td>GraphicImage Will Declutter Your Purse: iPad, ...</td>\n",
       "      <td>Love And Health: Research Examines Love's Impa...</td>\n",
       "      <td>Skiers vs. Snowboarders: Who Gets Injured More?</td>\n",
       "      <td>I Stole My Friend's Dress</td>\n",
       "      <td>The Wonder Of Tomato Paste In A Tube</td>\n",
       "      <td>New Cure for Chronic Disease Discovered</td>\n",
       "      <td>HIV Is 'Like Diabetes'? Let's Stop Kidding Our...</td>\n",
       "      <td>Getting to Know the Tiger Mom</td>\n",
       "      <td>Joan And Melissa Rivers On Ideal Shopping Budd...</td>\n",
       "    </tr>\n",
       "    <tr>\n",
       "      <th>2</th>\n",
       "      <td>2012-02-01</td>\n",
       "      <td>1</td>\n",
       "      <td>Astrology Now: Relationships, Projects Coming ...</td>\n",
       "      <td>Man Drinks Green Cleaning Product, Survives (V...</td>\n",
       "      <td>A Very '80s Vintage Top: From Our Network</td>\n",
       "      <td>Technicolor Dream Coat: From Our Network</td>\n",
       "      <td>How To Wear Bright Stripes: From Our Network</td>\n",
       "      <td>Nagging: Is It Killing Your Marriage?</td>\n",
       "      <td>The World Is A Classroom</td>\n",
       "      <td>Best Children's Books For February</td>\n",
       "      <td>...</td>\n",
       "      <td>Lindsay Lohan Floral Pants Are A Bit Busy (PHO...</td>\n",
       "      <td>World's Most Popular Landmarks (PHOTOS)</td>\n",
       "      <td>Round 3: Game Day Snacks Bracket Challenge</td>\n",
       "      <td>Gwyneth Paltrow Marriage: Actress Gives Relati...</td>\n",
       "      <td>New Adventures in Facial Hair</td>\n",
       "      <td>G-Star Jeans on Why Spokesmodel Clémence Poésy...</td>\n",
       "      <td>Divorce Over Infidelity? Not So Fast...</td>\n",
       "      <td>Joan And Melissa Rivers Talk About Motherhood ...</td>\n",
       "      <td>Conversion Disorder and Mass Hysteria</td>\n",
       "      <td>Should Grief Be Treated the Same as Depression?</td>\n",
       "    </tr>\n",
       "    <tr>\n",
       "      <th>3</th>\n",
       "      <td>2012-02-02</td>\n",
       "      <td>1</td>\n",
       "      <td>Join Eckhart Tolle, Jim Carrey and John Raatz ...</td>\n",
       "      <td>Reflecting on the Wonder Years</td>\n",
       "      <td>Our Top 10 Favorite Super Bowl Food Commercials</td>\n",
       "      <td>Emma Watson's Style Problem, Lana Del Ray's Vo...</td>\n",
       "      <td>We Mimic The Way Our Dining Companions Eat, St...</td>\n",
       "      <td>Gisele Super Bowl Email Requests Prayers &amp; Pos...</td>\n",
       "      <td>Lana Del Rey Vogue UK Cover: Is The Indie Sing...</td>\n",
       "      <td>Blake Lively Talks Not Having A Stylist, Wanti...</td>\n",
       "      <td>...</td>\n",
       "      <td>Lauren Scruggs, Model Who Walked Into Plane Pr...</td>\n",
       "      <td>Crystal Renn Reveals The Truth About Her Recen...</td>\n",
       "      <td>Olivia Wilde: Divorce Made Me Feel Like A 'Fai...</td>\n",
       "      <td>Love In Marriage: Long-Term Love May Not Be Un...</td>\n",
       "      <td>Baby Plays Ping-Pong Better Than You (VIDEO)</td>\n",
       "      <td>Post-Exercise Massages Work: New Research Prov...</td>\n",
       "      <td>Homes Of The Heartbroken: Divorced Celebs' Houses</td>\n",
       "      <td>Facebook May Be Used Against You In Court, Law...</td>\n",
       "      <td>Great Things Happen When We Work Together</td>\n",
       "      <td>Jason Wu's Cat Has Us Dreaming Of Kitty Coutur...</td>\n",
       "    </tr>\n",
       "    <tr>\n",
       "      <th>4</th>\n",
       "      <td>2012-02-03</td>\n",
       "      <td>1</td>\n",
       "      <td>One, Two, Three</td>\n",
       "      <td>How to Begin to Achieve Your Dreams Right Now</td>\n",
       "      <td>How To Break Free From The Addictive Fix</td>\n",
       "      <td>Why I'm A Cross-Dresser...For Men's Accessories</td>\n",
       "      <td>Can Exercise Be Addicting?</td>\n",
       "      <td>The Culture of Wellbeing: Jill Miller and the ...</td>\n",
       "      <td>How To Be Organized: Super Bowl Food Stain Rem...</td>\n",
       "      <td>High-Fructose Corn Syrup May Be Worse for You ...</td>\n",
       "      <td>...</td>\n",
       "      <td>How Much Are the Fines for a Book 31 Years Late?</td>\n",
       "      <td>New Year, New Bride: How to Slim Down for Your...</td>\n",
       "      <td>The Death and Dying Series Part Two: Grief in ...</td>\n",
       "      <td>Insiders' Guide To Mardi Gras</td>\n",
       "      <td>5 Nail Trends That You Can Actually Do Yourself</td>\n",
       "      <td>92 Year-Old  Ski-Wear Designer, Klaus Obermeye...</td>\n",
       "      <td>Michelle Obama Wax Statue Could Use A Makeover...</td>\n",
       "      <td>High-Tech Airport Terminals: Is Mobile Boardin...</td>\n",
       "      <td>2m Couples Divorced In China In 2011</td>\n",
       "      <td>NFL Homes: Amani Toomer, Muhammed Wilkerson, V...</td>\n",
       "    </tr>\n",
       "  </tbody>\n",
       "</table>\n",
       "<p>5 rows × 52 columns</p>\n",
       "</div>"
      ],
      "text/plain": [
       "         Date  Increased                                           News_no1  \\\n",
       "0  2012-01-30          0  Jessica Hoppe, Blogger Behind 'Having It All' ...   \n",
       "1  2012-01-31          0  Miley Cyrus Mom Jeans Might Actually Be Kinda ...   \n",
       "2  2012-02-01          1  Astrology Now: Relationships, Projects Coming ...   \n",
       "3  2012-02-02          1  Join Eckhart Tolle, Jim Carrey and John Raatz ...   \n",
       "4  2012-02-03          1                                    One, Two, Three   \n",
       "\n",
       "                                            News_no2  \\\n",
       "0  Indiana Welcomes Super Bowl Fans With Children...   \n",
       "1  Marion Cotillard, Carey Mulligan & 'Vanity Fai...   \n",
       "2  Man Drinks Green Cleaning Product, Survives (V...   \n",
       "3                     Reflecting on the Wonder Years   \n",
       "4      How to Begin to Achieve Your Dreams Right Now   \n",
       "\n",
       "                                          News_no3  \\\n",
       "0     Be Not Afraid: How Travel Disarms Media Hype   \n",
       "1                         12 Reasons To Avoid GMOs   \n",
       "2        A Very '80s Vintage Top: From Our Network   \n",
       "3  Our Top 10 Favorite Super Bowl Food Commercials   \n",
       "4         How To Break Free From The Addictive Fix   \n",
       "\n",
       "                                            News_no4  \\\n",
       "0  Water Parks In Miami: A Huffington Post Travel...   \n",
       "1                                          King Karl   \n",
       "2           Technicolor Dream Coat: From Our Network   \n",
       "3  Emma Watson's Style Problem, Lana Del Ray's Vo...   \n",
       "4    Why I'm A Cross-Dresser...For Men's Accessories   \n",
       "\n",
       "                                            News_no5  \\\n",
       "0           10 Dips, Nibbles And Dishes For Game Day   \n",
       "1        Healthy Mexican At Home: Frito Pie Makeover   \n",
       "2       How To Wear Bright Stripes: From Our Network   \n",
       "3  We Mimic The Way Our Dining Companions Eat, St...   \n",
       "4                         Can Exercise Be Addicting?   \n",
       "\n",
       "                                            News_no6  \\\n",
       "0  Isabella Rossellini Models For Betsey Johnson,...   \n",
       "1   US Panel Defends Call To Censor Bird Flu Studies   \n",
       "2              Nagging: Is It Killing Your Marriage?   \n",
       "3  Gisele Super Bowl Email Requests Prayers & Pos...   \n",
       "4  The Culture of Wellbeing: Jill Miller and the ...   \n",
       "\n",
       "                                            News_no7  \\\n",
       "0              Small Town Life In The Peruvian Andes   \n",
       "1  William & Kate's Patter of Little Feet: A Cock...   \n",
       "2                           The World Is A Classroom   \n",
       "3  Lana Del Rey Vogue UK Cover: Is The Indie Sing...   \n",
       "4  How To Be Organized: Super Bowl Food Stain Rem...   \n",
       "\n",
       "                                            News_no8  ...  \\\n",
       "0  Self-Acceptance: Are You an 'Alchemist' or a '...  ...   \n",
       "1  Military Families + Autism: A Recipe for Heart...  ...   \n",
       "2                 Best Children's Books For February  ...   \n",
       "3  Blake Lively Talks Not Having A Stylist, Wanti...  ...   \n",
       "4  High-Fructose Corn Syrup May Be Worse for You ...  ...   \n",
       "\n",
       "                                           News_no41  \\\n",
       "0  Craigslist Finds: 14 Completely Strange Sales ...   \n",
       "1  David Tutera Lawsuit: Couple Sues Celebrity We...   \n",
       "2  Lindsay Lohan Floral Pants Are A Bit Busy (PHO...   \n",
       "3  Lauren Scruggs, Model Who Walked Into Plane Pr...   \n",
       "4   How Much Are the Fines for a Book 31 Years Late?   \n",
       "\n",
       "                                           News_no42  \\\n",
       "0      Local Mom Gives A \"Hand Up\" To Single Mothers   \n",
       "1  GraphicImage Will Declutter Your Purse: iPad, ...   \n",
       "2            World's Most Popular Landmarks (PHOTOS)   \n",
       "3  Crystal Renn Reveals The Truth About Her Recen...   \n",
       "4  New Year, New Bride: How to Slim Down for Your...   \n",
       "\n",
       "                                           News_no43  \\\n",
       "0  Water Parks in Maryland: A Huffington Post Tra...   \n",
       "1  Love And Health: Research Examines Love's Impa...   \n",
       "2         Round 3: Game Day Snacks Bracket Challenge   \n",
       "3  Olivia Wilde: Divorce Made Me Feel Like A 'Fai...   \n",
       "4  The Death and Dying Series Part Two: Grief in ...   \n",
       "\n",
       "                                           News_no44  \\\n",
       "0  Sofia Coppola's First Marni For H&M Ads, And O...   \n",
       "1    Skiers vs. Snowboarders: Who Gets Injured More?   \n",
       "2  Gwyneth Paltrow Marriage: Actress Gives Relati...   \n",
       "3  Love In Marriage: Long-Term Love May Not Be Un...   \n",
       "4                      Insiders' Guide To Mardi Gras   \n",
       "\n",
       "                                           News_no45  \\\n",
       "0  Water Parks In North Dakota: A Huffington Post...   \n",
       "1                          I Stole My Friend's Dress   \n",
       "2                      New Adventures in Facial Hair   \n",
       "3       Baby Plays Ping-Pong Better Than You (VIDEO)   \n",
       "4    5 Nail Trends That You Can Actually Do Yourself   \n",
       "\n",
       "                                           News_no46  \\\n",
       "0  The London Declaration: A Tipping Point For Th...   \n",
       "1               The Wonder Of Tomato Paste In A Tube   \n",
       "2  G-Star Jeans on Why Spokesmodel Clémence Poésy...   \n",
       "3  Post-Exercise Massages Work: New Research Prov...   \n",
       "4  92 Year-Old  Ski-Wear Designer, Klaus Obermeye...   \n",
       "\n",
       "                                           News_no47  \\\n",
       "0       Can Conflict Actually Improve Relationships?   \n",
       "1            New Cure for Chronic Disease Discovered   \n",
       "2            Divorce Over Infidelity? Not So Fast...   \n",
       "3  Homes Of The Heartbroken: Divorced Celebs' Houses   \n",
       "4  Michelle Obama Wax Statue Could Use A Makeover...   \n",
       "\n",
       "                                           News_no48  \\\n",
       "0  Juliana Luna, Dancer: FaceTime, A Beauty Stree...   \n",
       "1  HIV Is 'Like Diabetes'? Let's Stop Kidding Our...   \n",
       "2  Joan And Melissa Rivers Talk About Motherhood ...   \n",
       "3  Facebook May Be Used Against You In Court, Law...   \n",
       "4  High-Tech Airport Terminals: Is Mobile Boardin...   \n",
       "\n",
       "                                           News_no49  \\\n",
       "0  5 Serums We're Using To Fight Aging, Dryness, ...   \n",
       "1                      Getting to Know the Tiger Mom   \n",
       "2              Conversion Disorder and Mass Hysteria   \n",
       "3          Great Things Happen When We Work Together   \n",
       "4               2m Couples Divorced In China In 2011   \n",
       "\n",
       "                                           News_no50  \n",
       "0                         Ikat-Inspired DIY Nail Art  \n",
       "1  Joan And Melissa Rivers On Ideal Shopping Budd...  \n",
       "2    Should Grief Be Treated the Same as Depression?  \n",
       "3  Jason Wu's Cat Has Us Dreaming Of Kitty Coutur...  \n",
       "4  NFL Homes: Amani Toomer, Muhammed Wilkerson, V...  \n",
       "\n",
       "[5 rows x 52 columns]"
      ]
     },
     "execution_count": 4,
     "metadata": {},
     "output_type": "execute_result"
    }
   ],
   "source": [
    "data.head()"
   ]
  },
  {
   "cell_type": "markdown",
   "id": "d18ae40e",
   "metadata": {},
   "source": [
    "# Dzielenie na train/test"
   ]
  },
  {
   "cell_type": "code",
   "execution_count": 5,
   "id": "b03aac92",
   "metadata": {},
   "outputs": [],
   "source": [
    "from sklearn.model_selection import train_test_split\n",
    "X_train, X_test, y_train, y_test = train_test_split(data.drop(['Date', 'Increased'], axis=1), data['Increased'], test_size=0.20, random_state=42)"
   ]
  },
  {
   "cell_type": "code",
   "execution_count": 6,
   "id": "a6d1faf6",
   "metadata": {},
   "outputs": [
    {
     "data": {
      "text/plain": [
       "(1272, 50)"
      ]
     },
     "execution_count": 6,
     "metadata": {},
     "output_type": "execute_result"
    }
   ],
   "source": [
    "X_train.shape"
   ]
  },
  {
   "cell_type": "code",
   "execution_count": 7,
   "id": "e8d731c1",
   "metadata": {},
   "outputs": [
    {
     "data": {
      "text/plain": [
       "(318, 50)"
      ]
     },
     "execution_count": 7,
     "metadata": {},
     "output_type": "execute_result"
    }
   ],
   "source": [
    "X_test.shape"
   ]
  },
  {
   "cell_type": "code",
   "execution_count": 8,
   "id": "293d51c3",
   "metadata": {},
   "outputs": [
    {
     "data": {
      "text/plain": [
       "(1272,)"
      ]
     },
     "execution_count": 8,
     "metadata": {},
     "output_type": "execute_result"
    }
   ],
   "source": [
    "y_train.shape"
   ]
  },
  {
   "cell_type": "code",
   "execution_count": 9,
   "id": "085b3df0",
   "metadata": {},
   "outputs": [
    {
     "data": {
      "text/html": [
       "<div>\n",
       "<style scoped>\n",
       "    .dataframe tbody tr th:only-of-type {\n",
       "        vertical-align: middle;\n",
       "    }\n",
       "\n",
       "    .dataframe tbody tr th {\n",
       "        vertical-align: top;\n",
       "    }\n",
       "\n",
       "    .dataframe thead th {\n",
       "        text-align: right;\n",
       "    }\n",
       "</style>\n",
       "<table border=\"1\" class=\"dataframe\">\n",
       "  <thead>\n",
       "    <tr style=\"text-align: right;\">\n",
       "      <th></th>\n",
       "      <th>News_no1</th>\n",
       "      <th>News_no2</th>\n",
       "      <th>News_no3</th>\n",
       "      <th>News_no4</th>\n",
       "      <th>News_no5</th>\n",
       "      <th>News_no6</th>\n",
       "      <th>News_no7</th>\n",
       "      <th>News_no8</th>\n",
       "      <th>News_no9</th>\n",
       "      <th>News_no10</th>\n",
       "      <th>...</th>\n",
       "      <th>News_no41</th>\n",
       "      <th>News_no42</th>\n",
       "      <th>News_no43</th>\n",
       "      <th>News_no44</th>\n",
       "      <th>News_no45</th>\n",
       "      <th>News_no46</th>\n",
       "      <th>News_no47</th>\n",
       "      <th>News_no48</th>\n",
       "      <th>News_no49</th>\n",
       "      <th>News_no50</th>\n",
       "    </tr>\n",
       "  </thead>\n",
       "  <tbody>\n",
       "    <tr>\n",
       "      <th>1174</th>\n",
       "      <td>1 In 5 U.S. Households With Kids Don't Have En...</td>\n",
       "      <td>Donald Trump, We Need To Talk About What A Pol...</td>\n",
       "      <td>Wednesday's Morning Email: Early Polls Give Cl...</td>\n",
       "      <td>Snapchat Fans, Rejoice: Ballot Selfies Are Tot...</td>\n",
       "      <td>Clinton-Supporting Super PACs Target Latino Vo...</td>\n",
       "      <td>Donald Trump Rallies Troops: 'We're Gonna Get ...</td>\n",
       "      <td>Charlotte Protesters Demand Mayor's Resignatio...</td>\n",
       "      <td>Emily Blunt Doesn’t Care If Her 'Girl On The T...</td>\n",
       "      <td>Indiana Officials Attack Voter Registration Dr...</td>\n",
       "      <td>Inside The Landmark, Long Overdue Study On Che...</td>\n",
       "      <td>...</td>\n",
       "      <td>Jesse Williams Has A Message For Americans Who...</td>\n",
       "      <td>Photos From The Townville Elementary Shooting ...</td>\n",
       "      <td>Alabama Chief Justice Stands Trial For Blockin...</td>\n",
       "      <td>California Men Charged In Suspected Murder Amo...</td>\n",
       "      <td>The Surprising Truth About What's REALLY In Co...</td>\n",
       "      <td>Police Fatally Shoot Black Man In San Diego Su...</td>\n",
       "      <td>Ice-T Reveals What It Was Like To Have Vice Pr...</td>\n",
       "      <td>18 Latinos Share Their Honest Thoughts About H...</td>\n",
       "      <td>Hillary Clinton Blasts North Carolina's 'Mean-...</td>\n",
       "      <td>#TrumpAFact Turns Twitter Into A World Where E...</td>\n",
       "    </tr>\n",
       "    <tr>\n",
       "      <th>701</th>\n",
       "      <td>The Importance of Multidisciplinary Eating Dis...</td>\n",
       "      <td>What Veterans Have Taught Me About Teaching</td>\n",
       "      <td>Yes, Anyone Can Wear Red Lipstick</td>\n",
       "      <td>Why Every College Student Should Work on a Pol...</td>\n",
       "      <td>McDonald's Drops Rights to \"You Deserve a Break\"</td>\n",
       "      <td>10 Strategies For Boosting Your Efficiency And...</td>\n",
       "      <td>Pizza Hut's New Menu Makes Us Cringe</td>\n",
       "      <td>Cops Unveil New Tool In The Fight To Stop Scho...</td>\n",
       "      <td>11 University Towns That Double As Amazing Ret...</td>\n",
       "      <td>The 8 Main Concerns Shared By Older Women</td>\n",
       "      <td>...</td>\n",
       "      <td>What Explains the Election Results? It's (Stil...</td>\n",
       "      <td>A League of His Own: How Lewis Howes Went From...</td>\n",
       "      <td>If Put In Other Industries, Many Hollywood Exe...</td>\n",
       "      <td>Are We Really the Smartest Creatures on Earth?</td>\n",
       "      <td>What a Fisherman Can Teach the Alpha Male and ...</td>\n",
       "      <td>Vitamin D vs. Common Cold: And the Winner Is...</td>\n",
       "      <td>The Spookie Mind</td>\n",
       "      <td>It Isn't the Athletes; It's the Educators</td>\n",
       "      <td>The Most Important Symbol for Investors Is 'DOL'</td>\n",
       "      <td>Stephen Glass Breaks His Silence</td>\n",
       "    </tr>\n",
       "    <tr>\n",
       "      <th>1479</th>\n",
       "      <td>Mom Celebrates Her Stretch Marks With Post-Bab...</td>\n",
       "      <td>Right-Wing Conspiracy Theory About Alabama Ele...</td>\n",
       "      <td>Millennials Are Drowning And They Need A New S...</td>\n",
       "      <td>Holiday Beauty Looks For Every Party On Your C...</td>\n",
       "      <td>Christmas Comes Early To Dixie</td>\n",
       "      <td>To Improve Human Rights In North Korea, Engage...</td>\n",
       "      <td>Australia’s Music Industry Fights Sex Abuse Wi...</td>\n",
       "      <td>Suicide Bomber Disguised As Cop Attacks Police...</td>\n",
       "      <td>Time Is Running Out For Syria's Besieged Commu...</td>\n",
       "      <td>The Actual Rohingya Death Toll Is 22 Times Hig...</td>\n",
       "      <td>...</td>\n",
       "      <td>El Salvador Upholds Three-Decade Prison Term F...</td>\n",
       "      <td>U.S.-Saudi Nuclear Talks: A Barometer For Whit...</td>\n",
       "      <td>Daisy Ridley And John Boyega Explain How 'Star...</td>\n",
       "      <td>Repackaging Abolition: Targeting Christians, C...</td>\n",
       "      <td>What's Inside The GOP's Christmas Box?</td>\n",
       "      <td>The Biggest Lessons For Democrats From The Ala...</td>\n",
       "      <td>Tom Hanks And Stephen Colbert Are Ready To Fig...</td>\n",
       "      <td>Rep. Farenthold's Former Aide Describes Abusiv...</td>\n",
       "      <td>LGBTQ Alabamians Played A Crucial Role In Spur...</td>\n",
       "      <td>Marco Rubio Holding Out For Child Tax Credit T...</td>\n",
       "    </tr>\n",
       "    <tr>\n",
       "      <th>528</th>\n",
       "      <td>9 Disgusting Things You Didn't Know You've Bee...</td>\n",
       "      <td>My 40-Something Self</td>\n",
       "      <td>Paralympic Snowboarder Amy Purdy On Overcoming...</td>\n",
       "      <td>Innovative Cardio Workouts</td>\n",
       "      <td>The Therapeutic Value Of An F-Bomb</td>\n",
       "      <td>A Digital Detox Can Change Your Life. Here's W...</td>\n",
       "      <td>Non-Melanoma Skin Cancer Raises Risk Of Develo...</td>\n",
       "      <td>4 Habits for a Healthy Weight</td>\n",
       "      <td>The Weekly Menu Board: Why Every Family Kitche...</td>\n",
       "      <td>Using Airplane Wi-Fi? Watch Out For The Guy In...</td>\n",
       "      <td>...</td>\n",
       "      <td>10 Glorious Places Where Daylight Savings Time...</td>\n",
       "      <td>New Therapy Could Simplify Treatment, Improve ...</td>\n",
       "      <td>The Stars Who Landed On This Week's Worst-Dres...</td>\n",
       "      <td>My Husband Got a Standing Ovation at Starbucks</td>\n",
       "      <td>Cressida Bonas' Red Carpet Style Includes Snea...</td>\n",
       "      <td>Sardinian Honey and Cheese Pastries (Seadas)</td>\n",
       "      <td>Ziplining and Facing My Fears to Step Into My ...</td>\n",
       "      <td>Moms Gone Wild: When You Feel Out of Control</td>\n",
       "      <td>Raymond Bickson of Hawaii: How to Be A Hospita...</td>\n",
       "      <td>Visiting the Driest Place on Earth</td>\n",
       "    </tr>\n",
       "    <tr>\n",
       "      <th>987</th>\n",
       "      <td>Friend Of California Shooter Indicted On Gun, ...</td>\n",
       "      <td>Twitter Reverses Stance On Archiving Politicia...</td>\n",
       "      <td>How The Bond Between Police And Prosecutors Im...</td>\n",
       "      <td>Jeb Bush Says 'My Bad' After Flubbing Answer A...</td>\n",
       "      <td>How The Koch Network Rivals The GOP</td>\n",
       "      <td>Carmelo Anthony Calls For Gun Control After Cl...</td>\n",
       "      <td>Amazing Couple Adopts 7 Siblings To Keep Them ...</td>\n",
       "      <td>2015 Didn't Bring An End To Americans' Economi...</td>\n",
       "      <td>Top Ben Carson Aides Resign</td>\n",
       "      <td>Ted Cruz’s Fundraising Jumps In 4th Quarter</td>\n",
       "      <td>...</td>\n",
       "      <td>President Obama Joins Jerry Seinfeld For A Cha...</td>\n",
       "      <td>5 Hacks For Making Your New Year's Resolutions...</td>\n",
       "      <td>Muslims Use New Year's Eve In Times Square To ...</td>\n",
       "      <td>Tonya Couch, Mother Of Fugitive 'Affluenza' Te...</td>\n",
       "      <td>Doctors Change Teenage Burn Victim’s Life With...</td>\n",
       "      <td>The New York Daily News Bill Cosby Cover Doesn...</td>\n",
       "      <td>TCU Quarterback Trevone Boykin Arrested After ...</td>\n",
       "      <td>Young Son Of Slain NYPD Officer Salutes His Da...</td>\n",
       "      <td>15 Blog Posts By Latinos That Got Us Talking I...</td>\n",
       "      <td>Why SIDS Skyrockets On New Year's Day</td>\n",
       "    </tr>\n",
       "  </tbody>\n",
       "</table>\n",
       "<p>5 rows × 50 columns</p>\n",
       "</div>"
      ],
      "text/plain": [
       "                                               News_no1  \\\n",
       "1174  1 In 5 U.S. Households With Kids Don't Have En...   \n",
       "701   The Importance of Multidisciplinary Eating Dis...   \n",
       "1479  Mom Celebrates Her Stretch Marks With Post-Bab...   \n",
       "528   9 Disgusting Things You Didn't Know You've Bee...   \n",
       "987   Friend Of California Shooter Indicted On Gun, ...   \n",
       "\n",
       "                                               News_no2  \\\n",
       "1174  Donald Trump, We Need To Talk About What A Pol...   \n",
       "701         What Veterans Have Taught Me About Teaching   \n",
       "1479  Right-Wing Conspiracy Theory About Alabama Ele...   \n",
       "528                                My 40-Something Self   \n",
       "987   Twitter Reverses Stance On Archiving Politicia...   \n",
       "\n",
       "                                               News_no3  \\\n",
       "1174  Wednesday's Morning Email: Early Polls Give Cl...   \n",
       "701                   Yes, Anyone Can Wear Red Lipstick   \n",
       "1479  Millennials Are Drowning And They Need A New S...   \n",
       "528   Paralympic Snowboarder Amy Purdy On Overcoming...   \n",
       "987   How The Bond Between Police And Prosecutors Im...   \n",
       "\n",
       "                                               News_no4  \\\n",
       "1174  Snapchat Fans, Rejoice: Ballot Selfies Are Tot...   \n",
       "701   Why Every College Student Should Work on a Pol...   \n",
       "1479  Holiday Beauty Looks For Every Party On Your C...   \n",
       "528                          Innovative Cardio Workouts   \n",
       "987   Jeb Bush Says 'My Bad' After Flubbing Answer A...   \n",
       "\n",
       "                                               News_no5  \\\n",
       "1174  Clinton-Supporting Super PACs Target Latino Vo...   \n",
       "701    McDonald's Drops Rights to \"You Deserve a Break\"   \n",
       "1479                     Christmas Comes Early To Dixie   \n",
       "528                  The Therapeutic Value Of An F-Bomb   \n",
       "987                 How The Koch Network Rivals The GOP   \n",
       "\n",
       "                                               News_no6  \\\n",
       "1174  Donald Trump Rallies Troops: 'We're Gonna Get ...   \n",
       "701   10 Strategies For Boosting Your Efficiency And...   \n",
       "1479  To Improve Human Rights In North Korea, Engage...   \n",
       "528   A Digital Detox Can Change Your Life. Here's W...   \n",
       "987   Carmelo Anthony Calls For Gun Control After Cl...   \n",
       "\n",
       "                                               News_no7  \\\n",
       "1174  Charlotte Protesters Demand Mayor's Resignatio...   \n",
       "701                Pizza Hut's New Menu Makes Us Cringe   \n",
       "1479  Australia’s Music Industry Fights Sex Abuse Wi...   \n",
       "528   Non-Melanoma Skin Cancer Raises Risk Of Develo...   \n",
       "987   Amazing Couple Adopts 7 Siblings To Keep Them ...   \n",
       "\n",
       "                                               News_no8  \\\n",
       "1174  Emily Blunt Doesn’t Care If Her 'Girl On The T...   \n",
       "701   Cops Unveil New Tool In The Fight To Stop Scho...   \n",
       "1479  Suicide Bomber Disguised As Cop Attacks Police...   \n",
       "528                       4 Habits for a Healthy Weight   \n",
       "987   2015 Didn't Bring An End To Americans' Economi...   \n",
       "\n",
       "                                               News_no9  \\\n",
       "1174  Indiana Officials Attack Voter Registration Dr...   \n",
       "701   11 University Towns That Double As Amazing Ret...   \n",
       "1479  Time Is Running Out For Syria's Besieged Commu...   \n",
       "528   The Weekly Menu Board: Why Every Family Kitche...   \n",
       "987                         Top Ben Carson Aides Resign   \n",
       "\n",
       "                                              News_no10  ...  \\\n",
       "1174  Inside The Landmark, Long Overdue Study On Che...  ...   \n",
       "701           The 8 Main Concerns Shared By Older Women  ...   \n",
       "1479  The Actual Rohingya Death Toll Is 22 Times Hig...  ...   \n",
       "528   Using Airplane Wi-Fi? Watch Out For The Guy In...  ...   \n",
       "987         Ted Cruz’s Fundraising Jumps In 4th Quarter  ...   \n",
       "\n",
       "                                              News_no41  \\\n",
       "1174  Jesse Williams Has A Message For Americans Who...   \n",
       "701   What Explains the Election Results? It's (Stil...   \n",
       "1479  El Salvador Upholds Three-Decade Prison Term F...   \n",
       "528   10 Glorious Places Where Daylight Savings Time...   \n",
       "987   President Obama Joins Jerry Seinfeld For A Cha...   \n",
       "\n",
       "                                              News_no42  \\\n",
       "1174  Photos From The Townville Elementary Shooting ...   \n",
       "701   A League of His Own: How Lewis Howes Went From...   \n",
       "1479  U.S.-Saudi Nuclear Talks: A Barometer For Whit...   \n",
       "528   New Therapy Could Simplify Treatment, Improve ...   \n",
       "987   5 Hacks For Making Your New Year's Resolutions...   \n",
       "\n",
       "                                              News_no43  \\\n",
       "1174  Alabama Chief Justice Stands Trial For Blockin...   \n",
       "701   If Put In Other Industries, Many Hollywood Exe...   \n",
       "1479  Daisy Ridley And John Boyega Explain How 'Star...   \n",
       "528   The Stars Who Landed On This Week's Worst-Dres...   \n",
       "987   Muslims Use New Year's Eve In Times Square To ...   \n",
       "\n",
       "                                              News_no44  \\\n",
       "1174  California Men Charged In Suspected Murder Amo...   \n",
       "701      Are We Really the Smartest Creatures on Earth?   \n",
       "1479  Repackaging Abolition: Targeting Christians, C...   \n",
       "528      My Husband Got a Standing Ovation at Starbucks   \n",
       "987   Tonya Couch, Mother Of Fugitive 'Affluenza' Te...   \n",
       "\n",
       "                                              News_no45  \\\n",
       "1174  The Surprising Truth About What's REALLY In Co...   \n",
       "701   What a Fisherman Can Teach the Alpha Male and ...   \n",
       "1479             What's Inside The GOP's Christmas Box?   \n",
       "528   Cressida Bonas' Red Carpet Style Includes Snea...   \n",
       "987   Doctors Change Teenage Burn Victim’s Life With...   \n",
       "\n",
       "                                              News_no46  \\\n",
       "1174  Police Fatally Shoot Black Man In San Diego Su...   \n",
       "701     Vitamin D vs. Common Cold: And the Winner Is...   \n",
       "1479  The Biggest Lessons For Democrats From The Ala...   \n",
       "528        Sardinian Honey and Cheese Pastries (Seadas)   \n",
       "987   The New York Daily News Bill Cosby Cover Doesn...   \n",
       "\n",
       "                                              News_no47  \\\n",
       "1174  Ice-T Reveals What It Was Like To Have Vice Pr...   \n",
       "701                                    The Spookie Mind   \n",
       "1479  Tom Hanks And Stephen Colbert Are Ready To Fig...   \n",
       "528   Ziplining and Facing My Fears to Step Into My ...   \n",
       "987   TCU Quarterback Trevone Boykin Arrested After ...   \n",
       "\n",
       "                                              News_no48  \\\n",
       "1174  18 Latinos Share Their Honest Thoughts About H...   \n",
       "701           It Isn't the Athletes; It's the Educators   \n",
       "1479  Rep. Farenthold's Former Aide Describes Abusiv...   \n",
       "528        Moms Gone Wild: When You Feel Out of Control   \n",
       "987   Young Son Of Slain NYPD Officer Salutes His Da...   \n",
       "\n",
       "                                              News_no49  \\\n",
       "1174  Hillary Clinton Blasts North Carolina's 'Mean-...   \n",
       "701    The Most Important Symbol for Investors Is 'DOL'   \n",
       "1479  LGBTQ Alabamians Played A Crucial Role In Spur...   \n",
       "528   Raymond Bickson of Hawaii: How to Be A Hospita...   \n",
       "987   15 Blog Posts By Latinos That Got Us Talking I...   \n",
       "\n",
       "                                              News_no50  \n",
       "1174  #TrumpAFact Turns Twitter Into A World Where E...  \n",
       "701                    Stephen Glass Breaks His Silence  \n",
       "1479  Marco Rubio Holding Out For Child Tax Credit T...  \n",
       "528                  Visiting the Driest Place on Earth  \n",
       "987               Why SIDS Skyrockets On New Year's Day  \n",
       "\n",
       "[5 rows x 50 columns]"
      ]
     },
     "execution_count": 9,
     "metadata": {},
     "output_type": "execute_result"
    }
   ],
   "source": [
    "X_train.head()"
   ]
  },
  {
   "cell_type": "markdown",
   "id": "7466f441",
   "metadata": {},
   "source": [
    "# Przetwarzanie newsów (Count Vectorizer)"
   ]
  },
  {
   "cell_type": "code",
   "execution_count": 10,
   "id": "ec1938a5",
   "metadata": {},
   "outputs": [],
   "source": [
    "trainheadlines = []\n",
    "for row in range(0,len(X_train.index)):\n",
    "    trainheadlines.append(' '.join(str(x) for x in X_train.iloc[row]))"
   ]
  },
  {
   "cell_type": "code",
   "execution_count": 11,
   "id": "ce4aa4e0",
   "metadata": {},
   "outputs": [
    {
     "data": {
      "text/plain": [
       "\"1 In 5 U.S. Households With Kids Don't Have Enough To Eat: Report Donald Trump, We Need To Talk About What A Poll Is Wednesday's Morning Email: Early Polls Give Clinton Debate Bump Snapchat Fans, Rejoice: Ballot Selfies Are Totally Constitutional In New Hampshire Clinton-Supporting Super PACs Target Latino Voters Donald Trump Rallies Troops: 'We're Gonna Get Rid Of That Crooked Woman' Charlotte Protesters Demand Mayor's Resignation Over Keith Scott's Slaying Emily Blunt Doesn’t Care If Her 'Girl On The Train' Character Isn’t 'Likable' Indiana Officials Attack Voter Registration Drive After Finding 10 Bad Forms Inside The Landmark, Long Overdue Study On Chest Binding Obama Says He Wouldn't Want His Daughters Listening To Trump HUFFPOST HILL - Wow, It Seems Like Obama's First Veto Override Was Only Yesterday Danny Meyer Steps Up And Gives His Workers Paid Parental Leave Humanizing Portraits Give Detained Immigrants The Dignity They Deserve House Sets Up Vote On Flint Funding In Bid To Avert Government Shutdown Thousands Of Indiana Residents Endangered By Misleading Lead Report Congress Acts Swiftly To Avoid Government Shutdown (UPDATE) Conservative Newspaper Editorial Boards Line Up Behind Hillary Clinton Kim Kardashian Gives Rob A Lesson In Swaddling Babies On 'Rob & Chyna' These Gigantic Soup Dumplings Are The Size Of Your Head Police Body Cameras Are Pointless Unless Cops Use Them Correctly Trump Backers Blasting Clinton For Poor Vetting Should Maybe Think This Through The Most Important Things We Know After NFL Week 3 Republicans Just Cannot Let The Clinton Emails Go Judge Blocks Some Voter Registrations On Election Day In Illinois ‘SNL’ Taps Alec Baldwin To Play Trump Against Kate McKinnon's Hillary Vic Mensa Shares How His Clash With Police Moved Him To Vote HUFFPOLLSTER: Does Fact-Checking Work? Sort Of Reid Scott Shows Why The First Amendment Is So Important, Even For Assholes A Vote For Third Party Is A Vote For Trump, Obama Says Suspected Chelsea Bomber Allegedly Attacked Family In 2014 This 6-Year-Old Had A Drake-Themed Birthday Party And It Was Legit BLM Co-Founder On Why We Shouldn't Be Surprised By Racial Uprisings Powerful Ad Shows What Girls Hear When You Tell Them To Be Quiet Forbes Pegs Trump's Wealth At $3.7 Billion, $800 Million Less Than Last Year Miley Cyrus Probably Made Less Than The 'Hannah Montana' Co-Stars You Can't Even Name Former USC Football Player Sues NCAA Over 'Unpaid Wages' Michael Moore Declares That Donald Trump 'Won' The Debate Only Trump’s Antics Could Make Daniel Radcliffe Give Voldemort A Backhanded Compliment Trump Gets Big Boost From Fake Newspaper Jesse Williams Has A Message For Americans Who Say They Aren't Voting Photos From The Townville Elementary Shooting Scene Alabama Chief Justice Stands Trial For Blocking Same-Sex Marriage California Men Charged In Suspected Murder Among Furries The Surprising Truth About What's REALLY In Commercial Pumpkin Spice Police Fatally Shoot Black Man In San Diego Suburb, Sparking Protests Ice-T Reveals What It Was Like To Have Vice President Joe Biden On The 'SVU' Set 18 Latinos Share Their Honest Thoughts About Hillary Clinton Hillary Clinton Blasts North Carolina's 'Mean-Spirited' Anti-LGBT Law #TrumpAFact Turns Twitter Into A World Where Everything Is True\""
      ]
     },
     "execution_count": 11,
     "metadata": {},
     "output_type": "execute_result"
    }
   ],
   "source": [
    "trainheadlines[0]"
   ]
  },
  {
   "cell_type": "markdown",
   "id": "d9dbebdd",
   "metadata": {},
   "source": [
    "Usuwamy słowa najczęściej występujące a nic nieznaczące"
   ]
  },
  {
   "cell_type": "markdown",
   "id": "7a396826",
   "metadata": {},
   "source": [
    "Tura pierwsza (słowa często występujące lecz nie mające żandego realnego znaczenia)"
   ]
  },
  {
   "cell_type": "code",
   "execution_count": 12,
   "id": "a076cfc8",
   "metadata": {},
   "outputs": [],
   "source": [
    "useless_words = [\n",
    "    ' to ', \n",
    "    ' you ', \n",
    "    ' the ', \n",
    "    ' and ', \n",
    "    ' are ', \n",
    "    ' is ', \n",
    "    ' what ', \n",
    "    ' we ', \n",
    "    ' where ', \n",
    "    ' when ', \n",
    "    ' from ', \n",
    "    ' at ', \n",
    "    ' a ', \n",
    "    ' or ', \n",
    "    ' for ',\n",
    "    ' i ',\n",
    "    ' an '\n",
    "    # possibly important\n",
    "#     ' in ',\n",
    "#     ' of ',\n",
    "#     ' on ',\n",
    "#     ' with ',\n",
    "#     ' his ',\n",
    "#     ' it '\n",
    "]"
   ]
  },
  {
   "cell_type": "markdown",
   "id": "c503a59f",
   "metadata": {},
   "source": [
    "Druga tura oczyszczania nieznaczących słów (apostrofy)"
   ]
  },
  {
   "cell_type": "code",
   "execution_count": 13,
   "id": "7568ab8e",
   "metadata": {},
   "outputs": [],
   "source": [
    "useless_words_p2 = [\n",
    "    \"'s \",\n",
    "    \"'t \",\n",
    "    \"'re \"\n",
    "]"
   ]
  },
  {
   "cell_type": "markdown",
   "id": "e7af0299",
   "metadata": {},
   "source": [
    "Trzecia tura oczyszczania nieznaczących słów (znaki specjalne)"
   ]
  },
  {
   "cell_type": "code",
   "execution_count": 14,
   "id": "bc34caa5",
   "metadata": {},
   "outputs": [],
   "source": [
    "useless_words_p3 = [\n",
    "    ':',\n",
    "    \"'\",\n",
    "    ',',\n",
    "    \"(\",\n",
    "    \")\",\n",
    "    '!',\n",
    "    '?',\n",
    "    '.',\n",
    "    '`',\n",
    "    '‘',\n",
    "    '’'\n",
    "]"
   ]
  },
  {
   "cell_type": "markdown",
   "id": "f8dc8357",
   "metadata": {},
   "source": [
    "Czwarta tura oczyszczania nieznaczących słów (cyfry)"
   ]
  },
  {
   "cell_type": "code",
   "execution_count": 15,
   "id": "5c398e4d",
   "metadata": {},
   "outputs": [],
   "source": [
    "useless_words_p4 = [\n",
    "    '1',\n",
    "    '2',\n",
    "    '3',\n",
    "    '4',\n",
    "    '5',\n",
    "    '6',\n",
    "    '7',\n",
    "    '8',\n",
    "    '9',\n",
    "    '0'\n",
    "]"
   ]
  },
  {
   "cell_type": "markdown",
   "id": "71b42a42",
   "metadata": {},
   "source": [
    "Piąta tura (dni tygodnia)?"
   ]
  },
  {
   "cell_type": "code",
   "execution_count": 16,
   "id": "daf75313",
   "metadata": {},
   "outputs": [],
   "source": [
    "useless_words_p5 = [\n",
    "    ' monday ',\n",
    "    ' tuesday ',\n",
    "    ' wednesday ',\n",
    "    ' thursday ',\n",
    "    ' friday ',\n",
    "    ' saturday ',\n",
    "    ' sunday '\n",
    "]"
   ]
  },
  {
   "cell_type": "markdown",
   "id": "cd92ac4f",
   "metadata": {},
   "source": [
    "Szósta tura (nazwy miesięcy)"
   ]
  },
  {
   "cell_type": "code",
   "execution_count": 17,
   "id": "eb1ee871",
   "metadata": {},
   "outputs": [],
   "source": [
    "useless_words_p6 = [\n",
    "    ' january ',\n",
    "    ' february ',\n",
    "    ' march ',\n",
    "    ' april ',\n",
    "    ' may ',\n",
    "    ' june ',\n",
    "    ' july ',\n",
    "    ' august ',\n",
    "    ' september ',\n",
    "    ' october ',\n",
    "    ' november ', \n",
    "    ' december '\n",
    "]"
   ]
  },
  {
   "cell_type": "markdown",
   "id": "4ffe65fe",
   "metadata": {},
   "source": [
    "Najpierw jednak znormalizujmy tekst do malych liter"
   ]
  },
  {
   "cell_type": "code",
   "execution_count": 18,
   "id": "f2254544",
   "metadata": {},
   "outputs": [],
   "source": [
    "trainheadlines = [hdline.lower() for hdline in trainheadlines]"
   ]
  },
  {
   "cell_type": "code",
   "execution_count": 19,
   "id": "d84069a9",
   "metadata": {},
   "outputs": [
    {
     "data": {
      "text/plain": [
       "'9 disgusting things you didn\\'t know you\\'ve been eating your whole life my 40-something self paralympic snowboarder amy purdy on overcoming obstacles and her medal-worthy breakfast innovative cardio workouts the therapeutic value of an f-bomb a digital detox can change your life. here\\'s what to know before you do it. non-melanoma skin cancer raises risk of developing other cancers, study finds 4 habits for a healthy weight the weekly menu board: why every family kitchen needs one using airplane wi-fi? watch out for the guy in 27a \\'sesame street\\' parodies \\'les misérables\\' by subtracting revolution and adding cookies culinary do\\'s & don\\'ts from \"the worst cook in america\" the italian guide to flawless style the moscow mule sucks: 15 bartenders name their most overrated and underrated cocktails create and style: new toys allow kids to customize the fun \\'hot facebook mom\\' still wants to know: \\'what\\'s your excuse?\\' when we allow their light to shine, a movement is created pack your chanel! karl lagerfeld is designing a hotel wanna drink like a famous person this weekend? mix up some \\'funky juice\\' like tina fey. dear baristas: can we tone down the \"a-hole customer\" posts? orange juice recalled in 6 states due to milk-mixing error miley cyrus\\' full marc jacobs\\' spring/summer 2014 campaign (photos) bubbles rising: sparkling trend in santa barbara? new study links hearing loss with depression risk why you can\\'t get that song from \\'frozen\\' out of your head another reason to add more fish to your diet the one-day guide to new orleans\\' literary landmarks matthew mcconaughey: gratitude reciprocates how this mom solved her child\\'s sleep problem how the \\'godfather of slow\\' learned to live in the moment why you should embrace \\'slow sex\\' (watch) finding my footing: my unlikely path to becoming a runner what\\'s new in great britain in 2014 5-year-old\\'s attempt to forge mommy\\'s signature is definitely frame-worthy watch: how unplugging can help you reconnect with your family ranbaxy recalls more than 64,000 bottles of generic lipitor in u.s. your next go-to meatball recipe 3 ways to great chicken stock - easy, lazy and fast he said, \\'i think your baby has dwarfism\\' forget work-life balance: aim for blend instead 10 glorious places where daylight savings time does not exist new therapy could simplify treatment, improve quality of life for hemophilia patients the stars who landed on this week\\'s worst-dressed list need a makeover (photos) my husband got a standing ovation at starbucks cressida bonas\\' red carpet style includes sneakers, because duh sardinian honey and cheese pastries (seadas) ziplining and facing my fears to step into my greatness moms gone wild: when you feel out of control raymond bickson of hawaii: how to be a hospitable host visiting the driest place on earth'"
      ]
     },
     "execution_count": 19,
     "metadata": {},
     "output_type": "execute_result"
    }
   ],
   "source": [
    "trainheadlines[3]"
   ]
  },
  {
   "cell_type": "markdown",
   "id": "ca379ffb",
   "metadata": {},
   "source": [
    "Teraz usunmy slowa"
   ]
  },
  {
   "cell_type": "markdown",
   "id": "dd4af180",
   "metadata": {},
   "source": [
    "**TURA 1**"
   ]
  },
  {
   "cell_type": "code",
   "execution_count": 20,
   "id": "25d530d5",
   "metadata": {},
   "outputs": [],
   "source": [
    "for to_remove in useless_words:\n",
    "    trainheadlines = [hdline.replace(to_remove, ' ') for hdline in trainheadlines]"
   ]
  },
  {
   "cell_type": "code",
   "execution_count": 21,
   "id": "f235f9e6",
   "metadata": {},
   "outputs": [
    {
     "data": {
      "text/plain": [
       "'9 disgusting things didn\\'t know you\\'ve been eating your whole life my 40-something self paralympic snowboarder amy purdy on overcoming obstacles her medal-worthy breakfast innovative cardio workouts therapeutic value of f-bomb digital detox can change your life. here\\'s know before do it. non-melanoma skin cancer raises risk of developing other cancers, study finds 4 habits healthy weight weekly menu board: why every family kitchen needs one using airplane wi-fi? watch out guy in 27a \\'sesame street\\' parodies \\'les misérables\\' by subtracting revolution adding cookies culinary do\\'s & don\\'ts \"the worst cook in america\" italian guide flawless style moscow mule sucks: 15 bartenders name their most overrated underrated cocktails create style: new toys allow kids customize fun \\'hot facebook mom\\' still wants know: \\'what\\'s your excuse?\\' allow their light shine, movement created pack your chanel! karl lagerfeld designing hotel wanna drink like famous person this weekend? mix up some \\'funky juice\\' like tina fey. dear baristas: can tone down \"a-hole customer\" posts? orange juice recalled in 6 states due milk-mixing error miley cyrus\\' full marc jacobs\\' spring/summer 2014 campaign (photos) bubbles rising: sparkling trend in santa barbara? new study links hearing loss with depression risk why can\\'t get that song \\'frozen\\' out of your head another reason add more fish your diet one-day guide new orleans\\' literary landmarks matthew mcconaughey: gratitude reciprocates how this mom solved her child\\'s sleep problem how \\'godfather of slow\\' learned live in moment why should embrace \\'slow sex\\' (watch) finding my footing: my unlikely path becoming runner what\\'s new in great britain in 2014 5-year-old\\'s attempt forge mommy\\'s signature definitely frame-worthy watch: how unplugging can help reconnect with your family ranbaxy recalls more than 64,000 bottles of generic lipitor in u.s. your next go-to meatball recipe 3 ways great chicken stock - easy, lazy fast he said, \\'i think your baby has dwarfism\\' forget work-life balance: aim blend instead 10 glorious places daylight savings time does not exist new therapy could simplify treatment, improve quality of life hemophilia patients stars who landed on this week\\'s worst-dressed list need makeover (photos) my husband got standing ovation starbucks cressida bonas\\' red carpet style includes sneakers, because duh sardinian honey cheese pastries (seadas) ziplining facing my fears step into my greatness moms gone wild: feel out of control raymond bickson of hawaii: how be hospitable host visiting driest place on earth'"
      ]
     },
     "execution_count": 21,
     "metadata": {},
     "output_type": "execute_result"
    }
   ],
   "source": [
    "trainheadlines[3]"
   ]
  },
  {
   "cell_type": "markdown",
   "id": "ff9d095f",
   "metadata": {},
   "source": [
    "**TURA 2**"
   ]
  },
  {
   "cell_type": "code",
   "execution_count": 22,
   "id": "b300e337",
   "metadata": {},
   "outputs": [],
   "source": [
    "for to_remove in useless_words_p2:\n",
    "    trainheadlines = [hdline.replace(to_remove, ' ') for hdline in trainheadlines]"
   ]
  },
  {
   "cell_type": "code",
   "execution_count": 23,
   "id": "fdd21b49",
   "metadata": {},
   "outputs": [
    {
     "data": {
      "text/plain": [
       "'9 disgusting things didn know you\\'ve been eating your whole life my 40-something self paralympic snowboarder amy purdy on overcoming obstacles her medal-worthy breakfast innovative cardio workouts therapeutic value of f-bomb digital detox can change your life. here know before do it. non-melanoma skin cancer raises risk of developing other cancers, study finds 4 habits healthy weight weekly menu board: why every family kitchen needs one using airplane wi-fi? watch out guy in 27a \\'sesame street\\' parodies \\'les misérables\\' by subtracting revolution adding cookies culinary do & don\\'ts \"the worst cook in america\" italian guide flawless style moscow mule sucks: 15 bartenders name their most overrated underrated cocktails create style: new toys allow kids customize fun \\'hot facebook mom\\' still wants know: \\'what your excuse?\\' allow their light shine, movement created pack your chanel! karl lagerfeld designing hotel wanna drink like famous person this weekend? mix up some \\'funky juice\\' like tina fey. dear baristas: can tone down \"a-hole customer\" posts? orange juice recalled in 6 states due milk-mixing error miley cyrus\\' full marc jacobs\\' spring/summer 2014 campaign (photos) bubbles rising: sparkling trend in santa barbara? new study links hearing loss with depression risk why can get that song \\'frozen\\' out of your head another reason add more fish your diet one-day guide new orleans\\' literary landmarks matthew mcconaughey: gratitude reciprocates how this mom solved her child sleep problem how \\'godfather of slow\\' learned live in moment why should embrace \\'slow sex\\' (watch) finding my footing: my unlikely path becoming runner what new in great britain in 2014 5-year-old attempt forge mommy signature definitely frame-worthy watch: how unplugging can help reconnect with your family ranbaxy recalls more than 64,000 bottles of generic lipitor in u.s. your next go-to meatball recipe 3 ways great chicken stock - easy, lazy fast he said, \\'i think your baby has dwarfism\\' forget work-life balance: aim blend instead 10 glorious places daylight savings time does not exist new therapy could simplify treatment, improve quality of life hemophilia patients stars who landed on this week worst-dressed list need makeover (photos) my husband got standing ovation starbucks cressida bonas\\' red carpet style includes sneakers, because duh sardinian honey cheese pastries (seadas) ziplining facing my fears step into my greatness moms gone wild: feel out of control raymond bickson of hawaii: how be hospitable host visiting driest place on earth'"
      ]
     },
     "execution_count": 23,
     "metadata": {},
     "output_type": "execute_result"
    }
   ],
   "source": [
    "trainheadlines[3]"
   ]
  },
  {
   "cell_type": "markdown",
   "id": "42911f71",
   "metadata": {},
   "source": [
    "**TURA 3**"
   ]
  },
  {
   "cell_type": "code",
   "execution_count": 24,
   "id": "3adcb4c5",
   "metadata": {},
   "outputs": [],
   "source": [
    "for to_remove in useless_words_p3:\n",
    "    trainheadlines = [hdline.replace(to_remove, '') for hdline in trainheadlines]"
   ]
  },
  {
   "cell_type": "code",
   "execution_count": 25,
   "id": "8619e5fa",
   "metadata": {},
   "outputs": [
    {
     "data": {
      "text/plain": [
       "'9 disgusting things didn know youve been eating your whole life my 40-something self paralympic snowboarder amy purdy on overcoming obstacles her medal-worthy breakfast innovative cardio workouts therapeutic value of f-bomb digital detox can change your life here know before do it non-melanoma skin cancer raises risk of developing other cancers study finds 4 habits healthy weight weekly menu board why every family kitchen needs one using airplane wi-fi watch out guy in 27a sesame street parodies les misérables by subtracting revolution adding cookies culinary do & donts \"the worst cook in america\" italian guide flawless style moscow mule sucks 15 bartenders name their most overrated underrated cocktails create style new toys allow kids customize fun hot facebook mom still wants know what your excuse allow their light shine movement created pack your chanel karl lagerfeld designing hotel wanna drink like famous person this weekend mix up some funky juice like tina fey dear baristas can tone down \"a-hole customer\" posts orange juice recalled in 6 states due milk-mixing error miley cyrus full marc jacobs spring/summer 2014 campaign photos bubbles rising sparkling trend in santa barbara new study links hearing loss with depression risk why can get that song frozen out of your head another reason add more fish your diet one-day guide new orleans literary landmarks matthew mcconaughey gratitude reciprocates how this mom solved her child sleep problem how godfather of slow learned live in moment why should embrace slow sex watch finding my footing my unlikely path becoming runner what new in great britain in 2014 5-year-old attempt forge mommy signature definitely frame-worthy watch how unplugging can help reconnect with your family ranbaxy recalls more than 64000 bottles of generic lipitor in us your next go-to meatball recipe 3 ways great chicken stock - easy lazy fast he said i think your baby has dwarfism forget work-life balance aim blend instead 10 glorious places daylight savings time does not exist new therapy could simplify treatment improve quality of life hemophilia patients stars who landed on this week worst-dressed list need makeover photos my husband got standing ovation starbucks cressida bonas red carpet style includes sneakers because duh sardinian honey cheese pastries seadas ziplining facing my fears step into my greatness moms gone wild feel out of control raymond bickson of hawaii how be hospitable host visiting driest place on earth'"
      ]
     },
     "execution_count": 25,
     "metadata": {},
     "output_type": "execute_result"
    }
   ],
   "source": [
    "trainheadlines[3]"
   ]
  },
  {
   "cell_type": "markdown",
   "id": "de7bcaae",
   "metadata": {},
   "source": [
    "**TURA 4**"
   ]
  },
  {
   "cell_type": "code",
   "execution_count": 26,
   "id": "033e84f2",
   "metadata": {},
   "outputs": [],
   "source": [
    "for to_remove in useless_words_p4:\n",
    "    trainheadlines = [hdline.replace(to_remove, '') for hdline in trainheadlines]"
   ]
  },
  {
   "cell_type": "code",
   "execution_count": 27,
   "id": "7ececebb",
   "metadata": {},
   "outputs": [
    {
     "data": {
      "text/plain": [
       "' disgusting things didn know youve been eating your whole life my -something self paralympic snowboarder amy purdy on overcoming obstacles her medal-worthy breakfast innovative cardio workouts therapeutic value of f-bomb digital detox can change your life here know before do it non-melanoma skin cancer raises risk of developing other cancers study finds  habits healthy weight weekly menu board why every family kitchen needs one using airplane wi-fi watch out guy in a sesame street parodies les misérables by subtracting revolution adding cookies culinary do & donts \"the worst cook in america\" italian guide flawless style moscow mule sucks  bartenders name their most overrated underrated cocktails create style new toys allow kids customize fun hot facebook mom still wants know what your excuse allow their light shine movement created pack your chanel karl lagerfeld designing hotel wanna drink like famous person this weekend mix up some funky juice like tina fey dear baristas can tone down \"a-hole customer\" posts orange juice recalled in  states due milk-mixing error miley cyrus full marc jacobs spring/summer  campaign photos bubbles rising sparkling trend in santa barbara new study links hearing loss with depression risk why can get that song frozen out of your head another reason add more fish your diet one-day guide new orleans literary landmarks matthew mcconaughey gratitude reciprocates how this mom solved her child sleep problem how godfather of slow learned live in moment why should embrace slow sex watch finding my footing my unlikely path becoming runner what new in great britain in  -year-old attempt forge mommy signature definitely frame-worthy watch how unplugging can help reconnect with your family ranbaxy recalls more than  bottles of generic lipitor in us your next go-to meatball recipe  ways great chicken stock - easy lazy fast he said i think your baby has dwarfism forget work-life balance aim blend instead  glorious places daylight savings time does not exist new therapy could simplify treatment improve quality of life hemophilia patients stars who landed on this week worst-dressed list need makeover photos my husband got standing ovation starbucks cressida bonas red carpet style includes sneakers because duh sardinian honey cheese pastries seadas ziplining facing my fears step into my greatness moms gone wild feel out of control raymond bickson of hawaii how be hospitable host visiting driest place on earth'"
      ]
     },
     "execution_count": 27,
     "metadata": {},
     "output_type": "execute_result"
    }
   ],
   "source": [
    "trainheadlines[3]"
   ]
  },
  {
   "cell_type": "markdown",
   "id": "7385f090",
   "metadata": {},
   "source": [
    "**TURA 5**"
   ]
  },
  {
   "cell_type": "code",
   "execution_count": 28,
   "id": "8f373907",
   "metadata": {},
   "outputs": [],
   "source": [
    "for to_remove in useless_words_p5:\n",
    "    trainheadlines = [hdline.replace(to_remove, '') for hdline in trainheadlines]"
   ]
  },
  {
   "cell_type": "code",
   "execution_count": 29,
   "id": "b7ddf1bf",
   "metadata": {},
   "outputs": [
    {
     "data": {
      "text/plain": [
       "' disgusting things didn know youve been eating your whole life my -something self paralympic snowboarder amy purdy on overcoming obstacles her medal-worthy breakfast innovative cardio workouts therapeutic value of f-bomb digital detox can change your life here know before do it non-melanoma skin cancer raises risk of developing other cancers study finds  habits healthy weight weekly menu board why every family kitchen needs one using airplane wi-fi watch out guy in a sesame street parodies les misérables by subtracting revolution adding cookies culinary do & donts \"the worst cook in america\" italian guide flawless style moscow mule sucks  bartenders name their most overrated underrated cocktails create style new toys allow kids customize fun hot facebook mom still wants know what your excuse allow their light shine movement created pack your chanel karl lagerfeld designing hotel wanna drink like famous person this weekend mix up some funky juice like tina fey dear baristas can tone down \"a-hole customer\" posts orange juice recalled in  states due milk-mixing error miley cyrus full marc jacobs spring/summer  campaign photos bubbles rising sparkling trend in santa barbara new study links hearing loss with depression risk why can get that song frozen out of your head another reason add more fish your diet one-day guide new orleans literary landmarks matthew mcconaughey gratitude reciprocates how this mom solved her child sleep problem how godfather of slow learned live in moment why should embrace slow sex watch finding my footing my unlikely path becoming runner what new in great britain in  -year-old attempt forge mommy signature definitely frame-worthy watch how unplugging can help reconnect with your family ranbaxy recalls more than  bottles of generic lipitor in us your next go-to meatball recipe  ways great chicken stock - easy lazy fast he said i think your baby has dwarfism forget work-life balance aim blend instead  glorious places daylight savings time does not exist new therapy could simplify treatment improve quality of life hemophilia patients stars who landed on this week worst-dressed list need makeover photos my husband got standing ovation starbucks cressida bonas red carpet style includes sneakers because duh sardinian honey cheese pastries seadas ziplining facing my fears step into my greatness moms gone wild feel out of control raymond bickson of hawaii how be hospitable host visiting driest place on earth'"
      ]
     },
     "execution_count": 29,
     "metadata": {},
     "output_type": "execute_result"
    }
   ],
   "source": [
    "trainheadlines[3]"
   ]
  },
  {
   "cell_type": "markdown",
   "id": "367133a3",
   "metadata": {},
   "source": [
    "**TURA 6**"
   ]
  },
  {
   "cell_type": "code",
   "execution_count": 30,
   "id": "e834871c",
   "metadata": {},
   "outputs": [],
   "source": [
    "for to_remove in useless_words_p6:\n",
    "    trainheadlines = [hdline.replace(to_remove, '') for hdline in trainheadlines]"
   ]
  },
  {
   "cell_type": "markdown",
   "id": "0ad3fbaf",
   "metadata": {},
   "source": [
    "**Przykładowe newsy po oczyszczeniu z nieznaczących znaków i wyrazów**"
   ]
  },
  {
   "cell_type": "code",
   "execution_count": 31,
   "id": "6230726b",
   "metadata": {},
   "outputs": [
    {
     "data": {
      "text/plain": [
       "' disgusting things didn know youve been eating your whole life my -something self paralympic snowboarder amy purdy on overcoming obstacles her medal-worthy breakfast innovative cardio workouts therapeutic value of f-bomb digital detox can change your life here know before do it non-melanoma skin cancer raises risk of developing other cancers study finds  habits healthy weight weekly menu board why every family kitchen needs one using airplane wi-fi watch out guy in a sesame street parodies les misérables by subtracting revolution adding cookies culinary do & donts \"the worst cook in america\" italian guide flawless style moscow mule sucks  bartenders name their most overrated underrated cocktails create style new toys allow kids customize fun hot facebook mom still wants know what your excuse allow their light shine movement created pack your chanel karl lagerfeld designing hotel wanna drink like famous person this weekend mix up some funky juice like tina fey dear baristas can tone down \"a-hole customer\" posts orange juice recalled in  states due milk-mixing error miley cyrus full marc jacobs spring/summer  campaign photos bubbles rising sparkling trend in santa barbara new study links hearing loss with depression risk why can get that song frozen out of your head another reason add more fish your diet one-day guide new orleans literary landmarks matthew mcconaughey gratitude reciprocates how this mom solved her child sleep problem how godfather of slow learned live in moment why should embrace slow sex watch finding my footing my unlikely path becoming runner what new in great britain in  -year-old attempt forge mommy signature definitely frame-worthy watch how unplugging can help reconnect with your family ranbaxy recalls more than  bottles of generic lipitor in us your next go-to meatball recipe  ways great chicken stock - easy lazy fast he said i think your baby has dwarfism forget work-life balance aim blend instead  glorious places daylight savings time does not exist new therapy could simplify treatment improve quality of life hemophilia patients stars who landed on this week worst-dressed list need makeover photos my husband got standing ovation starbucks cressida bonas red carpet style includes sneakers because duh sardinian honey cheese pastries seadas ziplining facing my fears step into my greatness moms gone wild feel out of control raymond bickson of hawaii how be hospitable host visiting driest place on earth'"
      ]
     },
     "execution_count": 31,
     "metadata": {},
     "output_type": "execute_result"
    }
   ],
   "source": [
    "trainheadlines[3]"
   ]
  },
  {
   "cell_type": "markdown",
   "id": "4ca2faea",
   "metadata": {},
   "source": [
    "# Dzielenie fraz"
   ]
  },
  {
   "cell_type": "code",
   "execution_count": 32,
   "id": "919e8df9",
   "metadata": {},
   "outputs": [],
   "source": [
    "from sklearn.feature_extraction.text import CountVectorizer"
   ]
  },
  {
   "cell_type": "code",
   "execution_count": 33,
   "id": "affd59a7",
   "metadata": {},
   "outputs": [
    {
     "name": "stdout",
     "output_type": "stream",
     "text": [
      "(1272, 481482)\n"
     ]
    }
   ],
   "source": [
    "countvectorizer = CountVectorizer(ngram_range=(3,3))\n",
    "train_words = countvectorizer.fit_transform(trainheadlines)\n",
    "print(train_words.shape)"
   ]
  },
  {
   "cell_type": "code",
   "execution_count": 34,
   "id": "a2545eaf",
   "metadata": {},
   "outputs": [
    {
     "data": {
      "text/plain": [
       "(1272, 50)"
      ]
     },
     "execution_count": 34,
     "metadata": {},
     "output_type": "execute_result"
    }
   ],
   "source": [
    "X_train.shape"
   ]
  },
  {
   "cell_type": "markdown",
   "id": "9051835e",
   "metadata": {},
   "source": [
    "# Analiza wyrazów"
   ]
  },
  {
   "cell_type": "code",
   "execution_count": 35,
   "id": "504b0b99",
   "metadata": {},
   "outputs": [],
   "source": [
    "X_train_count = train_words.toarray()"
   ]
  },
  {
   "cell_type": "code",
   "execution_count": 36,
   "id": "2bce4a57",
   "metadata": {},
   "outputs": [],
   "source": [
    "X_train_count = pd.DataFrame(data=X_train_count,columns = countvectorizer.get_feature_names())"
   ]
  },
  {
   "cell_type": "code",
   "execution_count": 37,
   "id": "f8281cdc",
   "metadata": {},
   "outputs": [
    {
     "data": {
      "text/html": [
       "<div>\n",
       "<style scoped>\n",
       "    .dataframe tbody tr th:only-of-type {\n",
       "        vertical-align: middle;\n",
       "    }\n",
       "\n",
       "    .dataframe tbody tr th {\n",
       "        vertical-align: top;\n",
       "    }\n",
       "\n",
       "    .dataframe thead th {\n",
       "        text-align: right;\n",
       "    }\n",
       "</style>\n",
       "<table border=\"1\" class=\"dataframe\">\n",
       "  <thead>\n",
       "    <tr style=\"text-align: right;\">\n",
       "      <th></th>\n",
       "      <th>______ while black</th>\n",
       "      <th>_ツ_ littlest gentleman</th>\n",
       "      <th>_ツ_ new york</th>\n",
       "      <th>aa alternatives should</th>\n",
       "      <th>aa sponsee died</th>\n",
       "      <th>aa then what</th>\n",
       "      <th>aaa never thought</th>\n",
       "      <th>aaa rating taste</th>\n",
       "      <th>aaliyah with throwback</th>\n",
       "      <th>aap breastfeeding recommendation</th>\n",
       "      <th>...</th>\n",
       "      <th>zurich friends become</th>\n",
       "      <th>zurich mosque shooting</th>\n",
       "      <th>zurich on backpacker</th>\n",
       "      <th>zurich on dime</th>\n",
       "      <th>zurlon tipton accidentally</th>\n",
       "      <th>zvovushe pregnant woman</th>\n",
       "      <th>zyberk ceo simpletherapy</th>\n",
       "      <th>zzs over weekend</th>\n",
       "      <th>zzzs declining care</th>\n",
       "      <th>élysées exploring my</th>\n",
       "    </tr>\n",
       "  </thead>\n",
       "  <tbody>\n",
       "    <tr>\n",
       "      <th>0</th>\n",
       "      <td>0</td>\n",
       "      <td>0</td>\n",
       "      <td>0</td>\n",
       "      <td>0</td>\n",
       "      <td>0</td>\n",
       "      <td>0</td>\n",
       "      <td>0</td>\n",
       "      <td>0</td>\n",
       "      <td>0</td>\n",
       "      <td>0</td>\n",
       "      <td>...</td>\n",
       "      <td>0</td>\n",
       "      <td>0</td>\n",
       "      <td>0</td>\n",
       "      <td>0</td>\n",
       "      <td>0</td>\n",
       "      <td>0</td>\n",
       "      <td>0</td>\n",
       "      <td>0</td>\n",
       "      <td>0</td>\n",
       "      <td>0</td>\n",
       "    </tr>\n",
       "    <tr>\n",
       "      <th>1</th>\n",
       "      <td>0</td>\n",
       "      <td>0</td>\n",
       "      <td>0</td>\n",
       "      <td>0</td>\n",
       "      <td>0</td>\n",
       "      <td>0</td>\n",
       "      <td>0</td>\n",
       "      <td>0</td>\n",
       "      <td>0</td>\n",
       "      <td>0</td>\n",
       "      <td>...</td>\n",
       "      <td>0</td>\n",
       "      <td>0</td>\n",
       "      <td>0</td>\n",
       "      <td>0</td>\n",
       "      <td>0</td>\n",
       "      <td>0</td>\n",
       "      <td>0</td>\n",
       "      <td>0</td>\n",
       "      <td>0</td>\n",
       "      <td>0</td>\n",
       "    </tr>\n",
       "    <tr>\n",
       "      <th>2</th>\n",
       "      <td>0</td>\n",
       "      <td>0</td>\n",
       "      <td>0</td>\n",
       "      <td>0</td>\n",
       "      <td>0</td>\n",
       "      <td>0</td>\n",
       "      <td>0</td>\n",
       "      <td>0</td>\n",
       "      <td>0</td>\n",
       "      <td>0</td>\n",
       "      <td>...</td>\n",
       "      <td>0</td>\n",
       "      <td>0</td>\n",
       "      <td>0</td>\n",
       "      <td>0</td>\n",
       "      <td>0</td>\n",
       "      <td>0</td>\n",
       "      <td>0</td>\n",
       "      <td>0</td>\n",
       "      <td>0</td>\n",
       "      <td>0</td>\n",
       "    </tr>\n",
       "    <tr>\n",
       "      <th>3</th>\n",
       "      <td>0</td>\n",
       "      <td>0</td>\n",
       "      <td>0</td>\n",
       "      <td>0</td>\n",
       "      <td>0</td>\n",
       "      <td>0</td>\n",
       "      <td>0</td>\n",
       "      <td>0</td>\n",
       "      <td>0</td>\n",
       "      <td>0</td>\n",
       "      <td>...</td>\n",
       "      <td>0</td>\n",
       "      <td>0</td>\n",
       "      <td>0</td>\n",
       "      <td>0</td>\n",
       "      <td>0</td>\n",
       "      <td>0</td>\n",
       "      <td>0</td>\n",
       "      <td>0</td>\n",
       "      <td>0</td>\n",
       "      <td>0</td>\n",
       "    </tr>\n",
       "    <tr>\n",
       "      <th>4</th>\n",
       "      <td>0</td>\n",
       "      <td>0</td>\n",
       "      <td>0</td>\n",
       "      <td>0</td>\n",
       "      <td>0</td>\n",
       "      <td>0</td>\n",
       "      <td>0</td>\n",
       "      <td>0</td>\n",
       "      <td>0</td>\n",
       "      <td>0</td>\n",
       "      <td>...</td>\n",
       "      <td>0</td>\n",
       "      <td>0</td>\n",
       "      <td>0</td>\n",
       "      <td>0</td>\n",
       "      <td>0</td>\n",
       "      <td>0</td>\n",
       "      <td>0</td>\n",
       "      <td>0</td>\n",
       "      <td>0</td>\n",
       "      <td>0</td>\n",
       "    </tr>\n",
       "  </tbody>\n",
       "</table>\n",
       "<p>5 rows × 481482 columns</p>\n",
       "</div>"
      ],
      "text/plain": [
       "   ______ while black  _ツ_ littlest gentleman  _ツ_ new york  \\\n",
       "0                   0                       0             0   \n",
       "1                   0                       0             0   \n",
       "2                   0                       0             0   \n",
       "3                   0                       0             0   \n",
       "4                   0                       0             0   \n",
       "\n",
       "   aa alternatives should  aa sponsee died  aa then what  aaa never thought  \\\n",
       "0                       0                0             0                  0   \n",
       "1                       0                0             0                  0   \n",
       "2                       0                0             0                  0   \n",
       "3                       0                0             0                  0   \n",
       "4                       0                0             0                  0   \n",
       "\n",
       "   aaa rating taste  aaliyah with throwback  aap breastfeeding recommendation  \\\n",
       "0                 0                       0                                 0   \n",
       "1                 0                       0                                 0   \n",
       "2                 0                       0                                 0   \n",
       "3                 0                       0                                 0   \n",
       "4                 0                       0                                 0   \n",
       "\n",
       "   ...  zurich friends become  zurich mosque shooting  zurich on backpacker  \\\n",
       "0  ...                      0                       0                     0   \n",
       "1  ...                      0                       0                     0   \n",
       "2  ...                      0                       0                     0   \n",
       "3  ...                      0                       0                     0   \n",
       "4  ...                      0                       0                     0   \n",
       "\n",
       "   zurich on dime  zurlon tipton accidentally  zvovushe pregnant woman  \\\n",
       "0               0                           0                        0   \n",
       "1               0                           0                        0   \n",
       "2               0                           0                        0   \n",
       "3               0                           0                        0   \n",
       "4               0                           0                        0   \n",
       "\n",
       "   zyberk ceo simpletherapy  zzs over weekend  zzzs declining care  \\\n",
       "0                         0                 0                    0   \n",
       "1                         0                 0                    0   \n",
       "2                         0                 0                    0   \n",
       "3                         0                 0                    0   \n",
       "4                         0                 0                    0   \n",
       "\n",
       "   élysées exploring my  \n",
       "0                     0  \n",
       "1                     0  \n",
       "2                     0  \n",
       "3                     0  \n",
       "4                     0  \n",
       "\n",
       "[5 rows x 481482 columns]"
      ]
     },
     "execution_count": 37,
     "metadata": {},
     "output_type": "execute_result"
    }
   ],
   "source": [
    "X_train_count.head()"
   ]
  },
  {
   "cell_type": "code",
   "execution_count": 38,
   "id": "5b41e265",
   "metadata": {},
   "outputs": [
    {
     "data": {
      "text/plain": [
       "______ while black          1\n",
       "_ツ_ littlest gentleman      1\n",
       "_ツ_ new york                1\n",
       "aa alternatives should      1\n",
       "aa sponsee died             1\n",
       "                           ..\n",
       "zvovushe pregnant woman     1\n",
       "zyberk ceo simpletherapy    1\n",
       "zzs over weekend            1\n",
       "zzzs declining care         1\n",
       "élysées exploring my        1\n",
       "Length: 481482, dtype: int64"
      ]
     },
     "execution_count": 38,
     "metadata": {},
     "output_type": "execute_result"
    }
   ],
   "source": [
    "X_train_count.sum(axis=0)"
   ]
  },
  {
   "cell_type": "code",
   "execution_count": 39,
   "id": "5f8e1af3",
   "metadata": {},
   "outputs": [],
   "source": [
    "words_appearence = pd.DataFrame(X_train_count.sum(axis=0))"
   ]
  },
  {
   "cell_type": "code",
   "execution_count": 40,
   "id": "9719e340",
   "metadata": {},
   "outputs": [
    {
     "data": {
      "text/html": [
       "<div>\n",
       "<style scoped>\n",
       "    .dataframe tbody tr th:only-of-type {\n",
       "        vertical-align: middle;\n",
       "    }\n",
       "\n",
       "    .dataframe tbody tr th {\n",
       "        vertical-align: top;\n",
       "    }\n",
       "\n",
       "    .dataframe thead th {\n",
       "        text-align: right;\n",
       "    }\n",
       "</style>\n",
       "<table border=\"1\" class=\"dataframe\">\n",
       "  <thead>\n",
       "    <tr style=\"text-align: right;\">\n",
       "      <th></th>\n",
       "      <th>0</th>\n",
       "    </tr>\n",
       "  </thead>\n",
       "  <tbody>\n",
       "    <tr>\n",
       "      <th>______ while black</th>\n",
       "      <td>1</td>\n",
       "    </tr>\n",
       "    <tr>\n",
       "      <th>_ツ_ littlest gentleman</th>\n",
       "      <td>1</td>\n",
       "    </tr>\n",
       "    <tr>\n",
       "      <th>_ツ_ new york</th>\n",
       "      <td>1</td>\n",
       "    </tr>\n",
       "    <tr>\n",
       "      <th>aa alternatives should</th>\n",
       "      <td>1</td>\n",
       "    </tr>\n",
       "    <tr>\n",
       "      <th>aa sponsee died</th>\n",
       "      <td>1</td>\n",
       "    </tr>\n",
       "    <tr>\n",
       "      <th>...</th>\n",
       "      <td>...</td>\n",
       "    </tr>\n",
       "    <tr>\n",
       "      <th>zvovushe pregnant woman</th>\n",
       "      <td>1</td>\n",
       "    </tr>\n",
       "    <tr>\n",
       "      <th>zyberk ceo simpletherapy</th>\n",
       "      <td>1</td>\n",
       "    </tr>\n",
       "    <tr>\n",
       "      <th>zzs over weekend</th>\n",
       "      <td>1</td>\n",
       "    </tr>\n",
       "    <tr>\n",
       "      <th>zzzs declining care</th>\n",
       "      <td>1</td>\n",
       "    </tr>\n",
       "    <tr>\n",
       "      <th>élysées exploring my</th>\n",
       "      <td>1</td>\n",
       "    </tr>\n",
       "  </tbody>\n",
       "</table>\n",
       "<p>481482 rows × 1 columns</p>\n",
       "</div>"
      ],
      "text/plain": [
       "                          0\n",
       "______ while black        1\n",
       "_ツ_ littlest gentleman    1\n",
       "_ツ_ new york              1\n",
       "aa alternatives should    1\n",
       "aa sponsee died           1\n",
       "...                      ..\n",
       "zvovushe pregnant woman   1\n",
       "zyberk ceo simpletherapy  1\n",
       "zzs over weekend          1\n",
       "zzzs declining care       1\n",
       "élysées exploring my      1\n",
       "\n",
       "[481482 rows x 1 columns]"
      ]
     },
     "execution_count": 40,
     "metadata": {},
     "output_type": "execute_result"
    }
   ],
   "source": [
    "words_appearence"
   ]
  },
  {
   "cell_type": "code",
   "execution_count": 41,
   "id": "bf773748",
   "metadata": {},
   "outputs": [],
   "source": [
    "# word_appearence.rename(columns = {'0':'Counts'}, inplace = True)\n",
    "words_appearence.columns = ['Counts']"
   ]
  },
  {
   "cell_type": "code",
   "execution_count": 42,
   "id": "eb822b4d",
   "metadata": {},
   "outputs": [
    {
     "data": {
      "text/html": [
       "<div>\n",
       "<style scoped>\n",
       "    .dataframe tbody tr th:only-of-type {\n",
       "        vertical-align: middle;\n",
       "    }\n",
       "\n",
       "    .dataframe tbody tr th {\n",
       "        vertical-align: top;\n",
       "    }\n",
       "\n",
       "    .dataframe thead th {\n",
       "        text-align: right;\n",
       "    }\n",
       "</style>\n",
       "<table border=\"1\" class=\"dataframe\">\n",
       "  <thead>\n",
       "    <tr style=\"text-align: right;\">\n",
       "      <th></th>\n",
       "      <th>Counts</th>\n",
       "    </tr>\n",
       "  </thead>\n",
       "  <tbody>\n",
       "    <tr>\n",
       "      <th>______ while black</th>\n",
       "      <td>1</td>\n",
       "    </tr>\n",
       "    <tr>\n",
       "      <th>_ツ_ littlest gentleman</th>\n",
       "      <td>1</td>\n",
       "    </tr>\n",
       "    <tr>\n",
       "      <th>_ツ_ new york</th>\n",
       "      <td>1</td>\n",
       "    </tr>\n",
       "    <tr>\n",
       "      <th>aa alternatives should</th>\n",
       "      <td>1</td>\n",
       "    </tr>\n",
       "    <tr>\n",
       "      <th>aa sponsee died</th>\n",
       "      <td>1</td>\n",
       "    </tr>\n",
       "  </tbody>\n",
       "</table>\n",
       "</div>"
      ],
      "text/plain": [
       "                        Counts\n",
       "______ while black           1\n",
       "_ツ_ littlest gentleman       1\n",
       "_ツ_ new york                 1\n",
       "aa alternatives should       1\n",
       "aa sponsee died              1"
      ]
     },
     "execution_count": 42,
     "metadata": {},
     "output_type": "execute_result"
    }
   ],
   "source": [
    "words_appearence.head()"
   ]
  },
  {
   "cell_type": "code",
   "execution_count": 43,
   "id": "3c047bc5",
   "metadata": {},
   "outputs": [],
   "source": [
    "words_appearence.sort_values(by=['Counts'], ascending=False, inplace=True)"
   ]
  },
  {
   "cell_type": "code",
   "execution_count": 44,
   "id": "264be78e",
   "metadata": {},
   "outputs": [
    {
     "data": {
      "text/html": [
       "<div>\n",
       "<style scoped>\n",
       "    .dataframe tbody tr th:only-of-type {\n",
       "        vertical-align: middle;\n",
       "    }\n",
       "\n",
       "    .dataframe tbody tr th {\n",
       "        vertical-align: top;\n",
       "    }\n",
       "\n",
       "    .dataframe thead th {\n",
       "        text-align: right;\n",
       "    }\n",
       "</style>\n",
       "<table border=\"1\" class=\"dataframe\">\n",
       "  <thead>\n",
       "    <tr style=\"text-align: right;\">\n",
       "      <th></th>\n",
       "      <th>Counts</th>\n",
       "    </tr>\n",
       "  </thead>\n",
       "  <tbody>\n",
       "    <tr>\n",
       "      <th>rise need know</th>\n",
       "      <td>113</td>\n",
       "    </tr>\n",
       "    <tr>\n",
       "      <th>need know on</th>\n",
       "      <td>111</td>\n",
       "    </tr>\n",
       "    <tr>\n",
       "      <th>huffpost rise need</th>\n",
       "      <td>111</td>\n",
       "    </tr>\n",
       "    <tr>\n",
       "      <th>new york city</th>\n",
       "      <td>81</td>\n",
       "    </tr>\n",
       "    <tr>\n",
       "      <th>game of thrones</th>\n",
       "      <td>77</td>\n",
       "    </tr>\n",
       "  </tbody>\n",
       "</table>\n",
       "</div>"
      ],
      "text/plain": [
       "                    Counts\n",
       "rise need know         113\n",
       "need know on           111\n",
       "huffpost rise need     111\n",
       "new york city           81\n",
       "game of thrones         77"
      ]
     },
     "execution_count": 44,
     "metadata": {},
     "output_type": "execute_result"
    }
   ],
   "source": [
    "words_appearence.head()"
   ]
  },
  {
   "cell_type": "markdown",
   "id": "36ea24ba",
   "metadata": {},
   "source": [
    "Wyrzućmy frazy, które występują mniej niż *count_border* razy"
   ]
  },
  {
   "cell_type": "code",
   "execution_count": 45,
   "id": "4e42966f",
   "metadata": {},
   "outputs": [],
   "source": [
    "count_border = 24"
   ]
  },
  {
   "cell_type": "code",
   "execution_count": 46,
   "id": "8cb5784c",
   "metadata": {},
   "outputs": [],
   "source": [
    "words_appearence_cut = words_appearence[words_appearence.Counts >= count_border]"
   ]
  },
  {
   "cell_type": "code",
   "execution_count": 47,
   "id": "5ec84de6",
   "metadata": {},
   "outputs": [
    {
     "data": {
      "text/html": [
       "<div>\n",
       "<style scoped>\n",
       "    .dataframe tbody tr th:only-of-type {\n",
       "        vertical-align: middle;\n",
       "    }\n",
       "\n",
       "    .dataframe tbody tr th {\n",
       "        vertical-align: top;\n",
       "    }\n",
       "\n",
       "    .dataframe thead th {\n",
       "        text-align: right;\n",
       "    }\n",
       "</style>\n",
       "<table border=\"1\" class=\"dataframe\">\n",
       "  <thead>\n",
       "    <tr style=\"text-align: right;\">\n",
       "      <th></th>\n",
       "      <th>Counts</th>\n",
       "    </tr>\n",
       "  </thead>\n",
       "  <tbody>\n",
       "    <tr>\n",
       "      <th>rise need know</th>\n",
       "      <td>113</td>\n",
       "    </tr>\n",
       "    <tr>\n",
       "      <th>need know on</th>\n",
       "      <td>111</td>\n",
       "    </tr>\n",
       "    <tr>\n",
       "      <th>huffpost rise need</th>\n",
       "      <td>111</td>\n",
       "    </tr>\n",
       "    <tr>\n",
       "      <th>new york city</th>\n",
       "      <td>81</td>\n",
       "    </tr>\n",
       "    <tr>\n",
       "      <th>game of thrones</th>\n",
       "      <td>77</td>\n",
       "    </tr>\n",
       "    <tr>\n",
       "      <th>roundup of ebay</th>\n",
       "      <td>73</td>\n",
       "    </tr>\n",
       "    <tr>\n",
       "      <th>weekly roundup of</th>\n",
       "      <td>73</td>\n",
       "    </tr>\n",
       "    <tr>\n",
       "      <th>of ebay vintage</th>\n",
       "      <td>73</td>\n",
       "    </tr>\n",
       "    <tr>\n",
       "      <th>need know about</th>\n",
       "      <td>71</td>\n",
       "    </tr>\n",
       "    <tr>\n",
       "      <th>york fashion week</th>\n",
       "      <td>66</td>\n",
       "    </tr>\n",
       "    <tr>\n",
       "      <th>new york fashion</th>\n",
       "      <td>66</td>\n",
       "    </tr>\n",
       "    <tr>\n",
       "      <th>health care bill</th>\n",
       "      <td>65</td>\n",
       "    </tr>\n",
       "    <tr>\n",
       "      <th>craft of day</th>\n",
       "      <td>63</td>\n",
       "    </tr>\n",
       "    <tr>\n",
       "      <th>in new york</th>\n",
       "      <td>59</td>\n",
       "    </tr>\n",
       "    <tr>\n",
       "      <th>recipe of day</th>\n",
       "      <td>57</td>\n",
       "    </tr>\n",
       "    <tr>\n",
       "      <th>state of union</th>\n",
       "      <td>53</td>\n",
       "    </tr>\n",
       "    <tr>\n",
       "      <th>new york times</th>\n",
       "      <td>52</td>\n",
       "    </tr>\n",
       "    <tr>\n",
       "      <th>opens up about</th>\n",
       "      <td>51</td>\n",
       "    </tr>\n",
       "    <tr>\n",
       "      <th>of donald trump</th>\n",
       "      <td>46</td>\n",
       "    </tr>\n",
       "    <tr>\n",
       "      <th>same sex marriage</th>\n",
       "      <td>45</td>\n",
       "    </tr>\n",
       "  </tbody>\n",
       "</table>\n",
       "</div>"
      ],
      "text/plain": [
       "                    Counts\n",
       "rise need know         113\n",
       "need know on           111\n",
       "huffpost rise need     111\n",
       "new york city           81\n",
       "game of thrones         77\n",
       "roundup of ebay         73\n",
       "weekly roundup of       73\n",
       "of ebay vintage         73\n",
       "need know about         71\n",
       "york fashion week       66\n",
       "new york fashion        66\n",
       "health care bill        65\n",
       "craft of day            63\n",
       "in new york             59\n",
       "recipe of day           57\n",
       "state of union          53\n",
       "new york times          52\n",
       "opens up about          51\n",
       "of donald trump         46\n",
       "same sex marriage       45"
      ]
     },
     "execution_count": 47,
     "metadata": {},
     "output_type": "execute_result"
    }
   ],
   "source": [
    "words_appearence_cut.head(20)"
   ]
  },
  {
   "cell_type": "code",
   "execution_count": 48,
   "id": "608dfada",
   "metadata": {},
   "outputs": [
    {
     "data": {
      "text/plain": [
       "(67, 1)"
      ]
     },
     "execution_count": 48,
     "metadata": {},
     "output_type": "execute_result"
    }
   ],
   "source": [
    "words_appearence_cut.shape"
   ]
  },
  {
   "cell_type": "markdown",
   "id": "b2592e58",
   "metadata": {},
   "source": [
    "**Wykres liczby fraz w zależności od frazy**"
   ]
  },
  {
   "cell_type": "code",
   "execution_count": 49,
   "id": "3af7b6ae",
   "metadata": {},
   "outputs": [
    {
     "data": {
      "text/plain": [
       "<AxesSubplot:>"
      ]
     },
     "execution_count": 49,
     "metadata": {},
     "output_type": "execute_result"
    },
    {
     "data": {
      "image/png": "[encoded data removed]",
      "text/plain": [
       "<Figure size 2160x720 with 1 Axes>"
      ]
     },
     "metadata": {
      "needs_background": "light"
     },
     "output_type": "display_data"
    }
   ],
   "source": [
    "words_appearence_cut.plot(kind=\"bar\", figsize=(30,10))"
   ]
  },
  {
   "cell_type": "markdown",
   "id": "688bf358",
   "metadata": {},
   "source": [
    "Usuńmy jeszcze te frazy z X_train_count"
   ]
  },
  {
   "cell_type": "markdown",
   "id": "3da53007",
   "metadata": {},
   "source": [
    "*Aktualnie nasze frazy są indeksami w words_appearence więc nie mamy się do nich jak łatwo odwołać, zresetujmy więc index*"
   ]
  },
  {
   "cell_type": "code",
   "execution_count": 50,
   "id": "64b50ef6",
   "metadata": {},
   "outputs": [],
   "source": [
    "words_appearence.reset_index(inplace=True)"
   ]
  },
  {
   "cell_type": "markdown",
   "id": "0c2bb899",
   "metadata": {},
   "source": [
    "Teraz możemy usunąć frazy z X_train_count"
   ]
  },
  {
   "cell_type": "code",
   "execution_count": 51,
   "id": "5332cfa7",
   "metadata": {},
   "outputs": [],
   "source": [
    "words_appearence_dropped = words_appearence[words_appearence.Counts < count_border]"
   ]
  },
  {
   "cell_type": "code",
   "execution_count": 52,
   "id": "6e5c444b",
   "metadata": {},
   "outputs": [],
   "source": [
    "X_train_count.drop(words_appearence_dropped['index'], axis=1, inplace=True)"
   ]
  },
  {
   "cell_type": "code",
   "execution_count": 53,
   "id": "820303a3",
   "metadata": {},
   "outputs": [
    {
     "data": {
      "text/html": [
       "<div>\n",
       "<style scoped>\n",
       "    .dataframe tbody tr th:only-of-type {\n",
       "        vertical-align: middle;\n",
       "    }\n",
       "\n",
       "    .dataframe tbody tr th {\n",
       "        vertical-align: top;\n",
       "    }\n",
       "\n",
       "    .dataframe thead th {\n",
       "        text-align: right;\n",
       "    }\n",
       "</style>\n",
       "<table border=\"1\" class=\"dataframe\">\n",
       "  <thead>\n",
       "    <tr style=\"text-align: right;\">\n",
       "      <th></th>\n",
       "      <th>around world photos</th>\n",
       "      <th>back to school</th>\n",
       "      <th>best dressed list</th>\n",
       "      <th>black lives matter</th>\n",
       "      <th>can teach us</th>\n",
       "      <th>cooking off cuff</th>\n",
       "      <th>craft of day</th>\n",
       "      <th>cute kid note</th>\n",
       "      <th>didn know about</th>\n",
       "      <th>donald trump has</th>\n",
       "      <th>...</th>\n",
       "      <th>trump travel ban</th>\n",
       "      <th>trump white house</th>\n",
       "      <th>vintage clothing finds</th>\n",
       "      <th>vintage home finds</th>\n",
       "      <th>weekly meditations healthy</th>\n",
       "      <th>weekly roundup of</th>\n",
       "      <th>weight loss success</th>\n",
       "      <th>with donald trump</th>\n",
       "      <th>women in business</th>\n",
       "      <th>york fashion week</th>\n",
       "    </tr>\n",
       "  </thead>\n",
       "  <tbody>\n",
       "    <tr>\n",
       "      <th>0</th>\n",
       "      <td>0</td>\n",
       "      <td>0</td>\n",
       "      <td>0</td>\n",
       "      <td>0</td>\n",
       "      <td>0</td>\n",
       "      <td>0</td>\n",
       "      <td>0</td>\n",
       "      <td>0</td>\n",
       "      <td>0</td>\n",
       "      <td>0</td>\n",
       "      <td>...</td>\n",
       "      <td>0</td>\n",
       "      <td>0</td>\n",
       "      <td>0</td>\n",
       "      <td>0</td>\n",
       "      <td>0</td>\n",
       "      <td>0</td>\n",
       "      <td>0</td>\n",
       "      <td>0</td>\n",
       "      <td>0</td>\n",
       "      <td>0</td>\n",
       "    </tr>\n",
       "    <tr>\n",
       "      <th>1</th>\n",
       "      <td>0</td>\n",
       "      <td>0</td>\n",
       "      <td>0</td>\n",
       "      <td>0</td>\n",
       "      <td>0</td>\n",
       "      <td>0</td>\n",
       "      <td>0</td>\n",
       "      <td>0</td>\n",
       "      <td>0</td>\n",
       "      <td>0</td>\n",
       "      <td>...</td>\n",
       "      <td>0</td>\n",
       "      <td>0</td>\n",
       "      <td>0</td>\n",
       "      <td>0</td>\n",
       "      <td>0</td>\n",
       "      <td>0</td>\n",
       "      <td>0</td>\n",
       "      <td>0</td>\n",
       "      <td>0</td>\n",
       "      <td>0</td>\n",
       "    </tr>\n",
       "    <tr>\n",
       "      <th>2</th>\n",
       "      <td>0</td>\n",
       "      <td>0</td>\n",
       "      <td>0</td>\n",
       "      <td>0</td>\n",
       "      <td>0</td>\n",
       "      <td>0</td>\n",
       "      <td>0</td>\n",
       "      <td>0</td>\n",
       "      <td>0</td>\n",
       "      <td>0</td>\n",
       "      <td>...</td>\n",
       "      <td>0</td>\n",
       "      <td>0</td>\n",
       "      <td>0</td>\n",
       "      <td>0</td>\n",
       "      <td>0</td>\n",
       "      <td>0</td>\n",
       "      <td>0</td>\n",
       "      <td>0</td>\n",
       "      <td>0</td>\n",
       "      <td>0</td>\n",
       "    </tr>\n",
       "    <tr>\n",
       "      <th>3</th>\n",
       "      <td>0</td>\n",
       "      <td>0</td>\n",
       "      <td>0</td>\n",
       "      <td>0</td>\n",
       "      <td>0</td>\n",
       "      <td>0</td>\n",
       "      <td>0</td>\n",
       "      <td>0</td>\n",
       "      <td>0</td>\n",
       "      <td>0</td>\n",
       "      <td>...</td>\n",
       "      <td>0</td>\n",
       "      <td>0</td>\n",
       "      <td>0</td>\n",
       "      <td>0</td>\n",
       "      <td>0</td>\n",
       "      <td>0</td>\n",
       "      <td>0</td>\n",
       "      <td>0</td>\n",
       "      <td>0</td>\n",
       "      <td>0</td>\n",
       "    </tr>\n",
       "    <tr>\n",
       "      <th>4</th>\n",
       "      <td>0</td>\n",
       "      <td>0</td>\n",
       "      <td>0</td>\n",
       "      <td>0</td>\n",
       "      <td>0</td>\n",
       "      <td>0</td>\n",
       "      <td>0</td>\n",
       "      <td>0</td>\n",
       "      <td>0</td>\n",
       "      <td>0</td>\n",
       "      <td>...</td>\n",
       "      <td>0</td>\n",
       "      <td>0</td>\n",
       "      <td>0</td>\n",
       "      <td>0</td>\n",
       "      <td>0</td>\n",
       "      <td>0</td>\n",
       "      <td>0</td>\n",
       "      <td>0</td>\n",
       "      <td>0</td>\n",
       "      <td>0</td>\n",
       "    </tr>\n",
       "    <tr>\n",
       "      <th>...</th>\n",
       "      <td>...</td>\n",
       "      <td>...</td>\n",
       "      <td>...</td>\n",
       "      <td>...</td>\n",
       "      <td>...</td>\n",
       "      <td>...</td>\n",
       "      <td>...</td>\n",
       "      <td>...</td>\n",
       "      <td>...</td>\n",
       "      <td>...</td>\n",
       "      <td>...</td>\n",
       "      <td>...</td>\n",
       "      <td>...</td>\n",
       "      <td>...</td>\n",
       "      <td>...</td>\n",
       "      <td>...</td>\n",
       "      <td>...</td>\n",
       "      <td>...</td>\n",
       "      <td>...</td>\n",
       "      <td>...</td>\n",
       "      <td>...</td>\n",
       "    </tr>\n",
       "    <tr>\n",
       "      <th>1267</th>\n",
       "      <td>0</td>\n",
       "      <td>0</td>\n",
       "      <td>0</td>\n",
       "      <td>0</td>\n",
       "      <td>0</td>\n",
       "      <td>0</td>\n",
       "      <td>0</td>\n",
       "      <td>0</td>\n",
       "      <td>0</td>\n",
       "      <td>0</td>\n",
       "      <td>...</td>\n",
       "      <td>0</td>\n",
       "      <td>0</td>\n",
       "      <td>0</td>\n",
       "      <td>0</td>\n",
       "      <td>0</td>\n",
       "      <td>0</td>\n",
       "      <td>0</td>\n",
       "      <td>0</td>\n",
       "      <td>0</td>\n",
       "      <td>0</td>\n",
       "    </tr>\n",
       "    <tr>\n",
       "      <th>1268</th>\n",
       "      <td>0</td>\n",
       "      <td>0</td>\n",
       "      <td>0</td>\n",
       "      <td>0</td>\n",
       "      <td>0</td>\n",
       "      <td>0</td>\n",
       "      <td>0</td>\n",
       "      <td>0</td>\n",
       "      <td>0</td>\n",
       "      <td>0</td>\n",
       "      <td>...</td>\n",
       "      <td>0</td>\n",
       "      <td>0</td>\n",
       "      <td>0</td>\n",
       "      <td>0</td>\n",
       "      <td>0</td>\n",
       "      <td>0</td>\n",
       "      <td>0</td>\n",
       "      <td>0</td>\n",
       "      <td>0</td>\n",
       "      <td>0</td>\n",
       "    </tr>\n",
       "    <tr>\n",
       "      <th>1269</th>\n",
       "      <td>0</td>\n",
       "      <td>0</td>\n",
       "      <td>0</td>\n",
       "      <td>1</td>\n",
       "      <td>0</td>\n",
       "      <td>0</td>\n",
       "      <td>0</td>\n",
       "      <td>0</td>\n",
       "      <td>0</td>\n",
       "      <td>0</td>\n",
       "      <td>...</td>\n",
       "      <td>0</td>\n",
       "      <td>0</td>\n",
       "      <td>0</td>\n",
       "      <td>0</td>\n",
       "      <td>0</td>\n",
       "      <td>0</td>\n",
       "      <td>0</td>\n",
       "      <td>0</td>\n",
       "      <td>0</td>\n",
       "      <td>0</td>\n",
       "    </tr>\n",
       "    <tr>\n",
       "      <th>1270</th>\n",
       "      <td>0</td>\n",
       "      <td>0</td>\n",
       "      <td>0</td>\n",
       "      <td>1</td>\n",
       "      <td>0</td>\n",
       "      <td>1</td>\n",
       "      <td>0</td>\n",
       "      <td>0</td>\n",
       "      <td>0</td>\n",
       "      <td>0</td>\n",
       "      <td>...</td>\n",
       "      <td>0</td>\n",
       "      <td>0</td>\n",
       "      <td>0</td>\n",
       "      <td>0</td>\n",
       "      <td>0</td>\n",
       "      <td>0</td>\n",
       "      <td>0</td>\n",
       "      <td>0</td>\n",
       "      <td>0</td>\n",
       "      <td>0</td>\n",
       "    </tr>\n",
       "    <tr>\n",
       "      <th>1271</th>\n",
       "      <td>0</td>\n",
       "      <td>0</td>\n",
       "      <td>0</td>\n",
       "      <td>0</td>\n",
       "      <td>0</td>\n",
       "      <td>0</td>\n",
       "      <td>0</td>\n",
       "      <td>0</td>\n",
       "      <td>0</td>\n",
       "      <td>0</td>\n",
       "      <td>...</td>\n",
       "      <td>0</td>\n",
       "      <td>0</td>\n",
       "      <td>0</td>\n",
       "      <td>0</td>\n",
       "      <td>0</td>\n",
       "      <td>0</td>\n",
       "      <td>0</td>\n",
       "      <td>0</td>\n",
       "      <td>0</td>\n",
       "      <td>0</td>\n",
       "    </tr>\n",
       "  </tbody>\n",
       "</table>\n",
       "<p>1272 rows × 67 columns</p>\n",
       "</div>"
      ],
      "text/plain": [
       "      around world photos  back to school  best dressed list  \\\n",
       "0                       0               0                  0   \n",
       "1                       0               0                  0   \n",
       "2                       0               0                  0   \n",
       "3                       0               0                  0   \n",
       "4                       0               0                  0   \n",
       "...                   ...             ...                ...   \n",
       "1267                    0               0                  0   \n",
       "1268                    0               0                  0   \n",
       "1269                    0               0                  0   \n",
       "1270                    0               0                  0   \n",
       "1271                    0               0                  0   \n",
       "\n",
       "      black lives matter  can teach us  cooking off cuff  craft of day  \\\n",
       "0                      0             0                 0             0   \n",
       "1                      0             0                 0             0   \n",
       "2                      0             0                 0             0   \n",
       "3                      0             0                 0             0   \n",
       "4                      0             0                 0             0   \n",
       "...                  ...           ...               ...           ...   \n",
       "1267                   0             0                 0             0   \n",
       "1268                   0             0                 0             0   \n",
       "1269                   1             0                 0             0   \n",
       "1270                   1             0                 1             0   \n",
       "1271                   0             0                 0             0   \n",
       "\n",
       "      cute kid note  didn know about  donald trump has  ...  trump travel ban  \\\n",
       "0                 0                0                 0  ...                 0   \n",
       "1                 0                0                 0  ...                 0   \n",
       "2                 0                0                 0  ...                 0   \n",
       "3                 0                0                 0  ...                 0   \n",
       "4                 0                0                 0  ...                 0   \n",
       "...             ...              ...               ...  ...               ...   \n",
       "1267              0                0                 0  ...                 0   \n",
       "1268              0                0                 0  ...                 0   \n",
       "1269              0                0                 0  ...                 0   \n",
       "1270              0                0                 0  ...                 0   \n",
       "1271              0                0                 0  ...                 0   \n",
       "\n",
       "      trump white house  vintage clothing finds  vintage home finds  \\\n",
       "0                     0                       0                   0   \n",
       "1                     0                       0                   0   \n",
       "2                     0                       0                   0   \n",
       "3                     0                       0                   0   \n",
       "4                     0                       0                   0   \n",
       "...                 ...                     ...                 ...   \n",
       "1267                  0                       0                   0   \n",
       "1268                  0                       0                   0   \n",
       "1269                  0                       0                   0   \n",
       "1270                  0                       0                   0   \n",
       "1271                  0                       0                   0   \n",
       "\n",
       "      weekly meditations healthy  weekly roundup of  weight loss success  \\\n",
       "0                              0                  0                    0   \n",
       "1                              0                  0                    0   \n",
       "2                              0                  0                    0   \n",
       "3                              0                  0                    0   \n",
       "4                              0                  0                    0   \n",
       "...                          ...                ...                  ...   \n",
       "1267                           0                  0                    0   \n",
       "1268                           0                  0                    0   \n",
       "1269                           0                  0                    0   \n",
       "1270                           0                  0                    0   \n",
       "1271                           0                  0                    0   \n",
       "\n",
       "      with donald trump  women in business  york fashion week  \n",
       "0                     0                  0                  0  \n",
       "1                     0                  0                  0  \n",
       "2                     0                  0                  0  \n",
       "3                     0                  0                  0  \n",
       "4                     0                  0                  0  \n",
       "...                 ...                ...                ...  \n",
       "1267                  0                  0                  0  \n",
       "1268                  0                  0                  0  \n",
       "1269                  0                  0                  0  \n",
       "1270                  0                  0                  0  \n",
       "1271                  0                  0                  0  \n",
       "\n",
       "[1272 rows x 67 columns]"
      ]
     },
     "execution_count": 53,
     "metadata": {},
     "output_type": "execute_result"
    }
   ],
   "source": [
    "X_train_count"
   ]
  },
  {
   "cell_type": "code",
   "execution_count": 54,
   "id": "849ffdd9",
   "metadata": {},
   "outputs": [
    {
     "data": {
      "text/plain": [
       "array([[0, 0, 0, ..., 0, 0, 0],\n",
       "       [0, 0, 0, ..., 0, 0, 0],\n",
       "       [0, 0, 0, ..., 0, 0, 0],\n",
       "       ...,\n",
       "       [0, 0, 0, ..., 0, 0, 0],\n",
       "       [0, 0, 0, ..., 0, 0, 0],\n",
       "       [0, 0, 0, ..., 0, 0, 0]], dtype=int64)"
      ]
     },
     "execution_count": 54,
     "metadata": {},
     "output_type": "execute_result"
    }
   ],
   "source": [
    "X_train_count.values"
   ]
  },
  {
   "cell_type": "code",
   "execution_count": 55,
   "id": "c92a72d3",
   "metadata": {},
   "outputs": [
    {
     "data": {
      "image/png": "[encoded data removed]",
      "text/plain": [
       "<Figure size 1800x1800 with 2 Axes>"
      ]
     },
     "metadata": {
      "needs_background": "light"
     },
     "output_type": "display_data"
    }
   ],
   "source": [
    "import seaborn as sns\n",
    "\n",
    "# sns.set(style='darkgrid')\n",
    "\n",
    "corr = X_train_count.corr()\n",
    "f, ax = plt.subplots(figsize=(25, 25))\n",
    "cmap = sns.diverging_palette(220, 10, as_cmap=True)\n",
    "\n",
    "sns.heatmap(corr, cmap=cmap, vmin=-1, vmax=1,\n",
    "            square=True, xticklabels=True, yticklabels=True,\n",
    "            linewidths=.5, cbar_kws={'shrink': .5}, ax=ax)\n",
    "plt.show()"
   ]
  },
  {
   "cell_type": "markdown",
   "id": "72f33cdc",
   "metadata": {},
   "source": [
    "# Przygotowanie zbioru testowego"
   ]
  },
  {
   "cell_type": "markdown",
   "id": "3d9734e9",
   "metadata": {},
   "source": [
    "**Najpierw stwórzmy tablicę fraz**"
   ]
  },
  {
   "cell_type": "code",
   "execution_count": 56,
   "id": "9640ac91",
   "metadata": {},
   "outputs": [],
   "source": [
    "testheadlines = []\n",
    "for row in range(0,len(X_test.index)):\n",
    "    testheadlines.append(' '.join(str(x) for x in X_test.iloc[row]))"
   ]
  },
  {
   "cell_type": "code",
   "execution_count": 57,
   "id": "3a92489c",
   "metadata": {},
   "outputs": [
    {
     "name": "stdout",
     "output_type": "stream",
     "text": [
      "(318, 138746)\n"
     ]
    }
   ],
   "source": [
    "test_words = countvectorizer.fit_transform(testheadlines)\n",
    "print(test_words.shape)"
   ]
  },
  {
   "cell_type": "code",
   "execution_count": 58,
   "id": "8184e61a",
   "metadata": {},
   "outputs": [],
   "source": [
    "X_test_count_all = test_words.toarray()"
   ]
  },
  {
   "cell_type": "code",
   "execution_count": 59,
   "id": "1dd78ad8",
   "metadata": {},
   "outputs": [],
   "source": [
    "X_test_count_all = pd.DataFrame(data=X_test_count_all,columns = countvectorizer.get_feature_names())"
   ]
  },
  {
   "cell_type": "code",
   "execution_count": 60,
   "id": "78d21d96",
   "metadata": {},
   "outputs": [
    {
     "data": {
      "text/html": [
       "<div>\n",
       "<style scoped>\n",
       "    .dataframe tbody tr th:only-of-type {\n",
       "        vertical-align: middle;\n",
       "    }\n",
       "\n",
       "    .dataframe tbody tr th {\n",
       "        vertical-align: top;\n",
       "    }\n",
       "\n",
       "    .dataframe thead th {\n",
       "        text-align: right;\n",
       "    }\n",
       "</style>\n",
       "<table border=\"1\" class=\"dataframe\">\n",
       "  <thead>\n",
       "    <tr style=\"text-align: right;\">\n",
       "      <th></th>\n",
       "      <th>000 000 listens</th>\n",
       "      <th>000 000 reasons</th>\n",
       "      <th>000 adoptions for</th>\n",
       "      <th>000 after losing</th>\n",
       "      <th>000 and guitar</th>\n",
       "      <th>000 at auction</th>\n",
       "      <th>000 balloons pops</th>\n",
       "      <th>000 bill for</th>\n",
       "      <th>000 brazilians curse</th>\n",
       "      <th>000 campaign to</th>\n",
       "      <th>...</th>\n",
       "      <th>zumba class news</th>\n",
       "      <th>zuniga should be</th>\n",
       "      <th>zurich 11 of</th>\n",
       "      <th>zurich mosque wounding</th>\n",
       "      <th>zwirner in london</th>\n",
       "      <th>zylowska top 15</th>\n",
       "      <th>zzs marriage beyond</th>\n",
       "      <th>zzs what sorcery</th>\n",
       "      <th>étienne behavioral science</th>\n",
       "      <th>čechomor is not</th>\n",
       "    </tr>\n",
       "  </thead>\n",
       "  <tbody>\n",
       "    <tr>\n",
       "      <th>0</th>\n",
       "      <td>0</td>\n",
       "      <td>0</td>\n",
       "      <td>0</td>\n",
       "      <td>0</td>\n",
       "      <td>0</td>\n",
       "      <td>0</td>\n",
       "      <td>0</td>\n",
       "      <td>0</td>\n",
       "      <td>0</td>\n",
       "      <td>0</td>\n",
       "      <td>...</td>\n",
       "      <td>0</td>\n",
       "      <td>0</td>\n",
       "      <td>0</td>\n",
       "      <td>0</td>\n",
       "      <td>0</td>\n",
       "      <td>0</td>\n",
       "      <td>0</td>\n",
       "      <td>0</td>\n",
       "      <td>0</td>\n",
       "      <td>0</td>\n",
       "    </tr>\n",
       "    <tr>\n",
       "      <th>1</th>\n",
       "      <td>0</td>\n",
       "      <td>0</td>\n",
       "      <td>0</td>\n",
       "      <td>0</td>\n",
       "      <td>0</td>\n",
       "      <td>0</td>\n",
       "      <td>0</td>\n",
       "      <td>0</td>\n",
       "      <td>0</td>\n",
       "      <td>0</td>\n",
       "      <td>...</td>\n",
       "      <td>0</td>\n",
       "      <td>0</td>\n",
       "      <td>0</td>\n",
       "      <td>0</td>\n",
       "      <td>0</td>\n",
       "      <td>0</td>\n",
       "      <td>0</td>\n",
       "      <td>0</td>\n",
       "      <td>0</td>\n",
       "      <td>0</td>\n",
       "    </tr>\n",
       "    <tr>\n",
       "      <th>2</th>\n",
       "      <td>0</td>\n",
       "      <td>0</td>\n",
       "      <td>0</td>\n",
       "      <td>0</td>\n",
       "      <td>0</td>\n",
       "      <td>0</td>\n",
       "      <td>0</td>\n",
       "      <td>0</td>\n",
       "      <td>0</td>\n",
       "      <td>0</td>\n",
       "      <td>...</td>\n",
       "      <td>0</td>\n",
       "      <td>0</td>\n",
       "      <td>0</td>\n",
       "      <td>0</td>\n",
       "      <td>0</td>\n",
       "      <td>0</td>\n",
       "      <td>0</td>\n",
       "      <td>0</td>\n",
       "      <td>0</td>\n",
       "      <td>0</td>\n",
       "    </tr>\n",
       "    <tr>\n",
       "      <th>3</th>\n",
       "      <td>0</td>\n",
       "      <td>0</td>\n",
       "      <td>0</td>\n",
       "      <td>0</td>\n",
       "      <td>0</td>\n",
       "      <td>0</td>\n",
       "      <td>0</td>\n",
       "      <td>0</td>\n",
       "      <td>0</td>\n",
       "      <td>0</td>\n",
       "      <td>...</td>\n",
       "      <td>0</td>\n",
       "      <td>0</td>\n",
       "      <td>0</td>\n",
       "      <td>0</td>\n",
       "      <td>0</td>\n",
       "      <td>0</td>\n",
       "      <td>0</td>\n",
       "      <td>0</td>\n",
       "      <td>0</td>\n",
       "      <td>0</td>\n",
       "    </tr>\n",
       "    <tr>\n",
       "      <th>4</th>\n",
       "      <td>0</td>\n",
       "      <td>0</td>\n",
       "      <td>0</td>\n",
       "      <td>0</td>\n",
       "      <td>0</td>\n",
       "      <td>0</td>\n",
       "      <td>0</td>\n",
       "      <td>0</td>\n",
       "      <td>0</td>\n",
       "      <td>0</td>\n",
       "      <td>...</td>\n",
       "      <td>0</td>\n",
       "      <td>0</td>\n",
       "      <td>0</td>\n",
       "      <td>0</td>\n",
       "      <td>0</td>\n",
       "      <td>0</td>\n",
       "      <td>0</td>\n",
       "      <td>0</td>\n",
       "      <td>0</td>\n",
       "      <td>0</td>\n",
       "    </tr>\n",
       "  </tbody>\n",
       "</table>\n",
       "<p>5 rows × 138746 columns</p>\n",
       "</div>"
      ],
      "text/plain": [
       "   000 000 listens  000 000 reasons  000 adoptions for  000 after losing  \\\n",
       "0                0                0                  0                 0   \n",
       "1                0                0                  0                 0   \n",
       "2                0                0                  0                 0   \n",
       "3                0                0                  0                 0   \n",
       "4                0                0                  0                 0   \n",
       "\n",
       "   000 and guitar  000 at auction  000 balloons pops  000 bill for  \\\n",
       "0               0               0                  0             0   \n",
       "1               0               0                  0             0   \n",
       "2               0               0                  0             0   \n",
       "3               0               0                  0             0   \n",
       "4               0               0                  0             0   \n",
       "\n",
       "   000 brazilians curse  000 campaign to  ...  zumba class news  \\\n",
       "0                     0                0  ...                 0   \n",
       "1                     0                0  ...                 0   \n",
       "2                     0                0  ...                 0   \n",
       "3                     0                0  ...                 0   \n",
       "4                     0                0  ...                 0   \n",
       "\n",
       "   zuniga should be  zurich 11 of  zurich mosque wounding  zwirner in london  \\\n",
       "0                 0             0                       0                  0   \n",
       "1                 0             0                       0                  0   \n",
       "2                 0             0                       0                  0   \n",
       "3                 0             0                       0                  0   \n",
       "4                 0             0                       0                  0   \n",
       "\n",
       "   zylowska top 15  zzs marriage beyond  zzs what sorcery  \\\n",
       "0                0                    0                 0   \n",
       "1                0                    0                 0   \n",
       "2                0                    0                 0   \n",
       "3                0                    0                 0   \n",
       "4                0                    0                 0   \n",
       "\n",
       "   étienne behavioral science  čechomor is not  \n",
       "0                           0                0  \n",
       "1                           0                0  \n",
       "2                           0                0  \n",
       "3                           0                0  \n",
       "4                           0                0  \n",
       "\n",
       "[5 rows x 138746 columns]"
      ]
     },
     "execution_count": 60,
     "metadata": {},
     "output_type": "execute_result"
    }
   ],
   "source": [
    "X_test_count_all.head()"
   ]
  },
  {
   "cell_type": "code",
   "execution_count": 61,
   "id": "f0c646c1",
   "metadata": {},
   "outputs": [],
   "source": [
    "words_test = X_test_count_all.columns"
   ]
  },
  {
   "cell_type": "code",
   "execution_count": 62,
   "id": "9b56587c",
   "metadata": {},
   "outputs": [
    {
     "data": {
      "text/plain": [
       "Index(['000 000 listens', '000 000 reasons', '000 adoptions for',\n",
       "       '000 after losing', '000 and guitar', '000 at auction',\n",
       "       '000 balloons pops', '000 bill for', '000 brazilians curse',\n",
       "       '000 campaign to',\n",
       "       ...\n",
       "       'zumba class news', 'zuniga should be', 'zurich 11 of',\n",
       "       'zurich mosque wounding', 'zwirner in london', 'zylowska top 15',\n",
       "       'zzs marriage beyond', 'zzs what sorcery', 'étienne behavioral science',\n",
       "       'čechomor is not'],\n",
       "      dtype='object', length=138746)"
      ]
     },
     "execution_count": 62,
     "metadata": {},
     "output_type": "execute_result"
    }
   ],
   "source": [
    "words_test"
   ]
  },
  {
   "cell_type": "markdown",
   "id": "ca3ad2ca",
   "metadata": {},
   "source": [
    "**Mamy już tablicę fraz oraz listę fraz**"
   ]
  },
  {
   "cell_type": "markdown",
   "id": "6a51578a",
   "metadata": {},
   "source": [
    "Teraz musimy stworzyć X_test_count z takimi samymi kolumnami jak w X_train_count"
   ]
  },
  {
   "cell_type": "code",
   "execution_count": 63,
   "id": "feeb9851",
   "metadata": {},
   "outputs": [],
   "source": [
    "X_test_count = pd.DataFrame(columns = X_train_count.columns)"
   ]
  },
  {
   "cell_type": "code",
   "execution_count": 64,
   "id": "2d668f7c",
   "metadata": {},
   "outputs": [
    {
     "data": {
      "text/html": [
       "<div>\n",
       "<style scoped>\n",
       "    .dataframe tbody tr th:only-of-type {\n",
       "        vertical-align: middle;\n",
       "    }\n",
       "\n",
       "    .dataframe tbody tr th {\n",
       "        vertical-align: top;\n",
       "    }\n",
       "\n",
       "    .dataframe thead th {\n",
       "        text-align: right;\n",
       "    }\n",
       "</style>\n",
       "<table border=\"1\" class=\"dataframe\">\n",
       "  <thead>\n",
       "    <tr style=\"text-align: right;\">\n",
       "      <th></th>\n",
       "      <th>around world photos</th>\n",
       "      <th>back to school</th>\n",
       "      <th>best dressed list</th>\n",
       "      <th>black lives matter</th>\n",
       "      <th>can teach us</th>\n",
       "      <th>cooking off cuff</th>\n",
       "      <th>craft of day</th>\n",
       "      <th>cute kid note</th>\n",
       "      <th>didn know about</th>\n",
       "      <th>donald trump has</th>\n",
       "      <th>...</th>\n",
       "      <th>trump travel ban</th>\n",
       "      <th>trump white house</th>\n",
       "      <th>vintage clothing finds</th>\n",
       "      <th>vintage home finds</th>\n",
       "      <th>weekly meditations healthy</th>\n",
       "      <th>weekly roundup of</th>\n",
       "      <th>weight loss success</th>\n",
       "      <th>with donald trump</th>\n",
       "      <th>women in business</th>\n",
       "      <th>york fashion week</th>\n",
       "    </tr>\n",
       "  </thead>\n",
       "  <tbody>\n",
       "  </tbody>\n",
       "</table>\n",
       "<p>0 rows × 67 columns</p>\n",
       "</div>"
      ],
      "text/plain": [
       "Empty DataFrame\n",
       "Columns: [around world photos, back to school, best dressed list, black lives matter, can teach us, cooking off cuff, craft of day, cute kid note, didn know about, donald trump has, donald trump in, donald trump jr, donald trump over, donald trump says, ebay vintage clothing, ebay vintage home, everything need know, game of thrones, gop health care, health care bill, home finds photos, huffpost hill trump, huffpost rise need, in new york, in wake of, kid note of, kim jong un, look of day, meditations healthy sex, my year old, need know about, need know on, new year resolutions, new york city, new york fashion, new york times, note of day, of donald trump, of ebay vintage, on climate change, on donald trump, on health care, on looney front, opens up about, recipe of day, rise need know, roundup of ebay, same sex marriage, secretary of state, should know about, st patrick day, state of union, taught me about, teach us about, that will make, this holiday season, trump says he, trump travel ban, trump white house, vintage clothing finds, vintage home finds, weekly meditations healthy, weekly roundup of, weight loss success, with donald trump, women in business, york fashion week]\n",
       "Index: []\n",
       "\n",
       "[0 rows x 67 columns]"
      ]
     },
     "execution_count": 64,
     "metadata": {},
     "output_type": "execute_result"
    }
   ],
   "source": [
    "X_test_count"
   ]
  },
  {
   "cell_type": "code",
   "execution_count": 65,
   "id": "65e86664",
   "metadata": {},
   "outputs": [
    {
     "data": {
      "text/html": [
       "<div>\n",
       "<style scoped>\n",
       "    .dataframe tbody tr th:only-of-type {\n",
       "        vertical-align: middle;\n",
       "    }\n",
       "\n",
       "    .dataframe tbody tr th {\n",
       "        vertical-align: top;\n",
       "    }\n",
       "\n",
       "    .dataframe thead th {\n",
       "        text-align: right;\n",
       "    }\n",
       "</style>\n",
       "<table border=\"1\" class=\"dataframe\">\n",
       "  <thead>\n",
       "    <tr style=\"text-align: right;\">\n",
       "      <th></th>\n",
       "      <th>around world photos</th>\n",
       "      <th>back to school</th>\n",
       "      <th>best dressed list</th>\n",
       "      <th>black lives matter</th>\n",
       "      <th>can teach us</th>\n",
       "      <th>cooking off cuff</th>\n",
       "      <th>craft of day</th>\n",
       "      <th>cute kid note</th>\n",
       "      <th>didn know about</th>\n",
       "      <th>donald trump has</th>\n",
       "      <th>...</th>\n",
       "      <th>trump travel ban</th>\n",
       "      <th>trump white house</th>\n",
       "      <th>vintage clothing finds</th>\n",
       "      <th>vintage home finds</th>\n",
       "      <th>weekly meditations healthy</th>\n",
       "      <th>weekly roundup of</th>\n",
       "      <th>weight loss success</th>\n",
       "      <th>with donald trump</th>\n",
       "      <th>women in business</th>\n",
       "      <th>york fashion week</th>\n",
       "    </tr>\n",
       "  </thead>\n",
       "  <tbody>\n",
       "    <tr>\n",
       "      <th>0</th>\n",
       "      <td>0</td>\n",
       "      <td>0</td>\n",
       "      <td>0</td>\n",
       "      <td>0</td>\n",
       "      <td>0</td>\n",
       "      <td>0</td>\n",
       "      <td>0</td>\n",
       "      <td>0</td>\n",
       "      <td>0</td>\n",
       "      <td>0</td>\n",
       "      <td>...</td>\n",
       "      <td>0</td>\n",
       "      <td>0</td>\n",
       "      <td>0</td>\n",
       "      <td>0</td>\n",
       "      <td>0</td>\n",
       "      <td>0</td>\n",
       "      <td>0</td>\n",
       "      <td>0</td>\n",
       "      <td>0</td>\n",
       "      <td>0</td>\n",
       "    </tr>\n",
       "  </tbody>\n",
       "</table>\n",
       "<p>1 rows × 67 columns</p>\n",
       "</div>"
      ],
      "text/plain": [
       "   around world photos  back to school  best dressed list  black lives matter  \\\n",
       "0                    0               0                  0                   0   \n",
       "\n",
       "   can teach us  cooking off cuff  craft of day  cute kid note  \\\n",
       "0             0                 0             0              0   \n",
       "\n",
       "   didn know about  donald trump has  ...  trump travel ban  \\\n",
       "0                0                 0  ...                 0   \n",
       "\n",
       "   trump white house  vintage clothing finds  vintage home finds  \\\n",
       "0                  0                       0                   0   \n",
       "\n",
       "   weekly meditations healthy  weekly roundup of  weight loss success  \\\n",
       "0                           0                  0                    0   \n",
       "\n",
       "   with donald trump  women in business  york fashion week  \n",
       "0                  0                  0                  0  \n",
       "\n",
       "[1 rows x 67 columns]"
      ]
     },
     "execution_count": 65,
     "metadata": {},
     "output_type": "execute_result"
    }
   ],
   "source": [
    "X_train_count.head(1)"
   ]
  },
  {
   "cell_type": "markdown",
   "id": "c94ebc21",
   "metadata": {},
   "source": [
    "Utworzyliśmy pusty dataframe X_test_count zawierający kolumny z X_train_count"
   ]
  },
  {
   "cell_type": "markdown",
   "id": "d79c1540",
   "metadata": {},
   "source": [
    "Teraz musimy wpisać wystąpienia fraz do X_test_count, jeśli w testheadlines nie było takiej frazy jaka była w X_train_count to wtedy wpisujemy 0"
   ]
  },
  {
   "cell_type": "code",
   "execution_count": 66,
   "id": "58c3856d",
   "metadata": {},
   "outputs": [
    {
     "data": {
      "text/plain": [
       "0"
      ]
     },
     "execution_count": 66,
     "metadata": {},
     "output_type": "execute_result"
    }
   ],
   "source": [
    "1 if 'around world photos' in words_test else 0"
   ]
  },
  {
   "cell_type": "code",
   "execution_count": 67,
   "id": "d89db5fc",
   "metadata": {},
   "outputs": [
    {
     "data": {
      "text/plain": [
       "Index(['around world photos', 'back to school', 'best dressed list',\n",
       "       'black lives matter', 'can teach us', 'cooking off cuff',\n",
       "       'craft of day', 'cute kid note', 'didn know about', 'donald trump has',\n",
       "       'donald trump in', 'donald trump jr', 'donald trump over',\n",
       "       'donald trump says', 'ebay vintage clothing', 'ebay vintage home',\n",
       "       'everything need know', 'game of thrones', 'gop health care',\n",
       "       'health care bill', 'home finds photos', 'huffpost hill trump',\n",
       "       'huffpost rise need', 'in new york', 'in wake of', 'kid note of',\n",
       "       'kim jong un', 'look of day', 'meditations healthy sex', 'my year old',\n",
       "       'need know about', 'need know on', 'new year resolutions',\n",
       "       'new york city', 'new york fashion', 'new york times', 'note of day',\n",
       "       'of donald trump', 'of ebay vintage', 'on climate change',\n",
       "       'on donald trump', 'on health care', 'on looney front',\n",
       "       'opens up about', 'recipe of day', 'rise need know', 'roundup of ebay',\n",
       "       'same sex marriage', 'secretary of state', 'should know about',\n",
       "       'st patrick day', 'state of union', 'taught me about', 'teach us about',\n",
       "       'that will make', 'this holiday season', 'trump says he',\n",
       "       'trump travel ban', 'trump white house', 'vintage clothing finds',\n",
       "       'vintage home finds', 'weekly meditations healthy', 'weekly roundup of',\n",
       "       'weight loss success', 'with donald trump', 'women in business',\n",
       "       'york fashion week'],\n",
       "      dtype='object')"
      ]
     },
     "execution_count": 67,
     "metadata": {},
     "output_type": "execute_result"
    }
   ],
   "source": [
    "X_test_count.columns"
   ]
  },
  {
   "cell_type": "code",
   "execution_count": 68,
   "id": "cc4f362a",
   "metadata": {},
   "outputs": [],
   "source": [
    "for col in X_test_count.columns:\n",
    "    X_test_count[col] = X_test_count_all[col] if col in words_test else 0"
   ]
  },
  {
   "cell_type": "code",
   "execution_count": 69,
   "id": "6529df3a",
   "metadata": {},
   "outputs": [],
   "source": [
    "X_test_count['around world photos'] = 0 #z jakiegoś powodu to pomija i zostawia NaN"
   ]
  },
  {
   "cell_type": "code",
   "execution_count": 70,
   "id": "70b8d7b6",
   "metadata": {},
   "outputs": [
    {
     "data": {
      "text/html": [
       "<div>\n",
       "<style scoped>\n",
       "    .dataframe tbody tr th:only-of-type {\n",
       "        vertical-align: middle;\n",
       "    }\n",
       "\n",
       "    .dataframe tbody tr th {\n",
       "        vertical-align: top;\n",
       "    }\n",
       "\n",
       "    .dataframe thead th {\n",
       "        text-align: right;\n",
       "    }\n",
       "</style>\n",
       "<table border=\"1\" class=\"dataframe\">\n",
       "  <thead>\n",
       "    <tr style=\"text-align: right;\">\n",
       "      <th></th>\n",
       "      <th>around world photos</th>\n",
       "      <th>back to school</th>\n",
       "      <th>best dressed list</th>\n",
       "      <th>black lives matter</th>\n",
       "      <th>can teach us</th>\n",
       "      <th>cooking off cuff</th>\n",
       "      <th>craft of day</th>\n",
       "      <th>cute kid note</th>\n",
       "      <th>didn know about</th>\n",
       "      <th>donald trump has</th>\n",
       "      <th>...</th>\n",
       "      <th>trump travel ban</th>\n",
       "      <th>trump white house</th>\n",
       "      <th>vintage clothing finds</th>\n",
       "      <th>vintage home finds</th>\n",
       "      <th>weekly meditations healthy</th>\n",
       "      <th>weekly roundup of</th>\n",
       "      <th>weight loss success</th>\n",
       "      <th>with donald trump</th>\n",
       "      <th>women in business</th>\n",
       "      <th>york fashion week</th>\n",
       "    </tr>\n",
       "  </thead>\n",
       "  <tbody>\n",
       "    <tr>\n",
       "      <th>0</th>\n",
       "      <td>0</td>\n",
       "      <td>0</td>\n",
       "      <td>0</td>\n",
       "      <td>0</td>\n",
       "      <td>0</td>\n",
       "      <td>0</td>\n",
       "      <td>0</td>\n",
       "      <td>0</td>\n",
       "      <td>0</td>\n",
       "      <td>0</td>\n",
       "      <td>...</td>\n",
       "      <td>0</td>\n",
       "      <td>0</td>\n",
       "      <td>0</td>\n",
       "      <td>0</td>\n",
       "      <td>0</td>\n",
       "      <td>0</td>\n",
       "      <td>0</td>\n",
       "      <td>0</td>\n",
       "      <td>0</td>\n",
       "      <td>0</td>\n",
       "    </tr>\n",
       "    <tr>\n",
       "      <th>1</th>\n",
       "      <td>0</td>\n",
       "      <td>2</td>\n",
       "      <td>0</td>\n",
       "      <td>0</td>\n",
       "      <td>1</td>\n",
       "      <td>0</td>\n",
       "      <td>0</td>\n",
       "      <td>0</td>\n",
       "      <td>1</td>\n",
       "      <td>0</td>\n",
       "      <td>...</td>\n",
       "      <td>0</td>\n",
       "      <td>0</td>\n",
       "      <td>1</td>\n",
       "      <td>0</td>\n",
       "      <td>0</td>\n",
       "      <td>1</td>\n",
       "      <td>0</td>\n",
       "      <td>0</td>\n",
       "      <td>0</td>\n",
       "      <td>0</td>\n",
       "    </tr>\n",
       "    <tr>\n",
       "      <th>2</th>\n",
       "      <td>0</td>\n",
       "      <td>0</td>\n",
       "      <td>0</td>\n",
       "      <td>0</td>\n",
       "      <td>0</td>\n",
       "      <td>0</td>\n",
       "      <td>0</td>\n",
       "      <td>0</td>\n",
       "      <td>0</td>\n",
       "      <td>0</td>\n",
       "      <td>...</td>\n",
       "      <td>0</td>\n",
       "      <td>0</td>\n",
       "      <td>0</td>\n",
       "      <td>0</td>\n",
       "      <td>0</td>\n",
       "      <td>0</td>\n",
       "      <td>0</td>\n",
       "      <td>0</td>\n",
       "      <td>0</td>\n",
       "      <td>0</td>\n",
       "    </tr>\n",
       "    <tr>\n",
       "      <th>3</th>\n",
       "      <td>0</td>\n",
       "      <td>0</td>\n",
       "      <td>0</td>\n",
       "      <td>0</td>\n",
       "      <td>0</td>\n",
       "      <td>0</td>\n",
       "      <td>0</td>\n",
       "      <td>0</td>\n",
       "      <td>0</td>\n",
       "      <td>0</td>\n",
       "      <td>...</td>\n",
       "      <td>0</td>\n",
       "      <td>0</td>\n",
       "      <td>0</td>\n",
       "      <td>0</td>\n",
       "      <td>0</td>\n",
       "      <td>0</td>\n",
       "      <td>0</td>\n",
       "      <td>0</td>\n",
       "      <td>0</td>\n",
       "      <td>0</td>\n",
       "    </tr>\n",
       "    <tr>\n",
       "      <th>4</th>\n",
       "      <td>0</td>\n",
       "      <td>0</td>\n",
       "      <td>0</td>\n",
       "      <td>0</td>\n",
       "      <td>0</td>\n",
       "      <td>0</td>\n",
       "      <td>0</td>\n",
       "      <td>0</td>\n",
       "      <td>0</td>\n",
       "      <td>0</td>\n",
       "      <td>...</td>\n",
       "      <td>0</td>\n",
       "      <td>0</td>\n",
       "      <td>0</td>\n",
       "      <td>0</td>\n",
       "      <td>0</td>\n",
       "      <td>0</td>\n",
       "      <td>0</td>\n",
       "      <td>0</td>\n",
       "      <td>0</td>\n",
       "      <td>0</td>\n",
       "    </tr>\n",
       "    <tr>\n",
       "      <th>...</th>\n",
       "      <td>...</td>\n",
       "      <td>...</td>\n",
       "      <td>...</td>\n",
       "      <td>...</td>\n",
       "      <td>...</td>\n",
       "      <td>...</td>\n",
       "      <td>...</td>\n",
       "      <td>...</td>\n",
       "      <td>...</td>\n",
       "      <td>...</td>\n",
       "      <td>...</td>\n",
       "      <td>...</td>\n",
       "      <td>...</td>\n",
       "      <td>...</td>\n",
       "      <td>...</td>\n",
       "      <td>...</td>\n",
       "      <td>...</td>\n",
       "      <td>...</td>\n",
       "      <td>...</td>\n",
       "      <td>...</td>\n",
       "      <td>...</td>\n",
       "    </tr>\n",
       "    <tr>\n",
       "      <th>313</th>\n",
       "      <td>0</td>\n",
       "      <td>0</td>\n",
       "      <td>0</td>\n",
       "      <td>0</td>\n",
       "      <td>0</td>\n",
       "      <td>0</td>\n",
       "      <td>0</td>\n",
       "      <td>0</td>\n",
       "      <td>0</td>\n",
       "      <td>0</td>\n",
       "      <td>...</td>\n",
       "      <td>0</td>\n",
       "      <td>0</td>\n",
       "      <td>0</td>\n",
       "      <td>0</td>\n",
       "      <td>0</td>\n",
       "      <td>0</td>\n",
       "      <td>0</td>\n",
       "      <td>0</td>\n",
       "      <td>0</td>\n",
       "      <td>0</td>\n",
       "    </tr>\n",
       "    <tr>\n",
       "      <th>314</th>\n",
       "      <td>0</td>\n",
       "      <td>0</td>\n",
       "      <td>0</td>\n",
       "      <td>0</td>\n",
       "      <td>0</td>\n",
       "      <td>0</td>\n",
       "      <td>0</td>\n",
       "      <td>0</td>\n",
       "      <td>0</td>\n",
       "      <td>0</td>\n",
       "      <td>...</td>\n",
       "      <td>0</td>\n",
       "      <td>0</td>\n",
       "      <td>0</td>\n",
       "      <td>0</td>\n",
       "      <td>0</td>\n",
       "      <td>0</td>\n",
       "      <td>0</td>\n",
       "      <td>0</td>\n",
       "      <td>0</td>\n",
       "      <td>0</td>\n",
       "    </tr>\n",
       "    <tr>\n",
       "      <th>315</th>\n",
       "      <td>0</td>\n",
       "      <td>0</td>\n",
       "      <td>0</td>\n",
       "      <td>0</td>\n",
       "      <td>0</td>\n",
       "      <td>0</td>\n",
       "      <td>0</td>\n",
       "      <td>0</td>\n",
       "      <td>0</td>\n",
       "      <td>0</td>\n",
       "      <td>...</td>\n",
       "      <td>0</td>\n",
       "      <td>0</td>\n",
       "      <td>0</td>\n",
       "      <td>0</td>\n",
       "      <td>0</td>\n",
       "      <td>0</td>\n",
       "      <td>0</td>\n",
       "      <td>0</td>\n",
       "      <td>0</td>\n",
       "      <td>0</td>\n",
       "    </tr>\n",
       "    <tr>\n",
       "      <th>316</th>\n",
       "      <td>0</td>\n",
       "      <td>0</td>\n",
       "      <td>0</td>\n",
       "      <td>0</td>\n",
       "      <td>0</td>\n",
       "      <td>0</td>\n",
       "      <td>0</td>\n",
       "      <td>0</td>\n",
       "      <td>0</td>\n",
       "      <td>0</td>\n",
       "      <td>...</td>\n",
       "      <td>0</td>\n",
       "      <td>0</td>\n",
       "      <td>0</td>\n",
       "      <td>0</td>\n",
       "      <td>0</td>\n",
       "      <td>0</td>\n",
       "      <td>0</td>\n",
       "      <td>0</td>\n",
       "      <td>0</td>\n",
       "      <td>0</td>\n",
       "    </tr>\n",
       "    <tr>\n",
       "      <th>317</th>\n",
       "      <td>0</td>\n",
       "      <td>0</td>\n",
       "      <td>0</td>\n",
       "      <td>0</td>\n",
       "      <td>0</td>\n",
       "      <td>0</td>\n",
       "      <td>0</td>\n",
       "      <td>0</td>\n",
       "      <td>0</td>\n",
       "      <td>0</td>\n",
       "      <td>...</td>\n",
       "      <td>0</td>\n",
       "      <td>0</td>\n",
       "      <td>0</td>\n",
       "      <td>0</td>\n",
       "      <td>0</td>\n",
       "      <td>0</td>\n",
       "      <td>0</td>\n",
       "      <td>0</td>\n",
       "      <td>0</td>\n",
       "      <td>0</td>\n",
       "    </tr>\n",
       "  </tbody>\n",
       "</table>\n",
       "<p>318 rows × 67 columns</p>\n",
       "</div>"
      ],
      "text/plain": [
       "     around world photos  back to school  best dressed list  \\\n",
       "0                      0               0                  0   \n",
       "1                      0               2                  0   \n",
       "2                      0               0                  0   \n",
       "3                      0               0                  0   \n",
       "4                      0               0                  0   \n",
       "..                   ...             ...                ...   \n",
       "313                    0               0                  0   \n",
       "314                    0               0                  0   \n",
       "315                    0               0                  0   \n",
       "316                    0               0                  0   \n",
       "317                    0               0                  0   \n",
       "\n",
       "     black lives matter  can teach us  cooking off cuff  craft of day  \\\n",
       "0                     0             0                 0             0   \n",
       "1                     0             1                 0             0   \n",
       "2                     0             0                 0             0   \n",
       "3                     0             0                 0             0   \n",
       "4                     0             0                 0             0   \n",
       "..                  ...           ...               ...           ...   \n",
       "313                   0             0                 0             0   \n",
       "314                   0             0                 0             0   \n",
       "315                   0             0                 0             0   \n",
       "316                   0             0                 0             0   \n",
       "317                   0             0                 0             0   \n",
       "\n",
       "     cute kid note  didn know about  donald trump has  ...  trump travel ban  \\\n",
       "0                0                0                 0  ...                 0   \n",
       "1                0                1                 0  ...                 0   \n",
       "2                0                0                 0  ...                 0   \n",
       "3                0                0                 0  ...                 0   \n",
       "4                0                0                 0  ...                 0   \n",
       "..             ...              ...               ...  ...               ...   \n",
       "313              0                0                 0  ...                 0   \n",
       "314              0                0                 0  ...                 0   \n",
       "315              0                0                 0  ...                 0   \n",
       "316              0                0                 0  ...                 0   \n",
       "317              0                0                 0  ...                 0   \n",
       "\n",
       "     trump white house  vintage clothing finds  vintage home finds  \\\n",
       "0                    0                       0                   0   \n",
       "1                    0                       1                   0   \n",
       "2                    0                       0                   0   \n",
       "3                    0                       0                   0   \n",
       "4                    0                       0                   0   \n",
       "..                 ...                     ...                 ...   \n",
       "313                  0                       0                   0   \n",
       "314                  0                       0                   0   \n",
       "315                  0                       0                   0   \n",
       "316                  0                       0                   0   \n",
       "317                  0                       0                   0   \n",
       "\n",
       "     weekly meditations healthy  weekly roundup of  weight loss success  \\\n",
       "0                             0                  0                    0   \n",
       "1                             0                  1                    0   \n",
       "2                             0                  0                    0   \n",
       "3                             0                  0                    0   \n",
       "4                             0                  0                    0   \n",
       "..                          ...                ...                  ...   \n",
       "313                           0                  0                    0   \n",
       "314                           0                  0                    0   \n",
       "315                           0                  0                    0   \n",
       "316                           0                  0                    0   \n",
       "317                           0                  0                    0   \n",
       "\n",
       "     with donald trump  women in business  york fashion week  \n",
       "0                    0                  0                  0  \n",
       "1                    0                  0                  0  \n",
       "2                    0                  0                  0  \n",
       "3                    0                  0                  0  \n",
       "4                    0                  0                  0  \n",
       "..                 ...                ...                ...  \n",
       "313                  0                  0                  0  \n",
       "314                  0                  0                  0  \n",
       "315                  0                  0                  0  \n",
       "316                  0                  0                  0  \n",
       "317                  0                  0                  0  \n",
       "\n",
       "[318 rows x 67 columns]"
      ]
     },
     "execution_count": 70,
     "metadata": {},
     "output_type": "execute_result"
    }
   ],
   "source": [
    "X_test_count"
   ]
  },
  {
   "cell_type": "code",
   "execution_count": null,
   "id": "27770c7d",
   "metadata": {},
   "outputs": [],
   "source": []
  },
  {
   "cell_type": "markdown",
   "id": "e1adaf4c",
   "metadata": {},
   "source": [
    "Policzmy ile jest kolumn w których są same 0 (tak z ciekawości)"
   ]
  },
  {
   "cell_type": "code",
   "execution_count": 71,
   "id": "7f32025c",
   "metadata": {},
   "outputs": [],
   "source": [
    "only_zeros_columns = []\n",
    "for col in X_test_count.columns:\n",
    "    if X_test_count[col].value_counts().size == 1:\n",
    "        only_zeros_columns.append(col)"
   ]
  },
  {
   "cell_type": "code",
   "execution_count": 72,
   "id": "844ee358",
   "metadata": {},
   "outputs": [
    {
     "data": {
      "text/plain": [
       "15"
      ]
     },
     "execution_count": 72,
     "metadata": {},
     "output_type": "execute_result"
    }
   ],
   "source": [
    "len(only_zeros_columns)"
   ]
  },
  {
   "cell_type": "markdown",
   "id": "62b724f6",
   "metadata": {},
   "source": [
    "# Modele"
   ]
  },
  {
   "cell_type": "code",
   "execution_count": 73,
   "id": "5def36b6",
   "metadata": {},
   "outputs": [],
   "source": [
    "from sklearn.model_selection import StratifiedKFold\n",
    "from sklearn.pipeline import Pipeline\n",
    "from sklearn.model_selection import GridSearchCV\n",
    "from sklearn.svm import SVC\n",
    "from sklearn.linear_model import LogisticRegression\n",
    "\n",
    "seed=123\n",
    "kfold = StratifiedKFold(n_splits=5)\n",
    "\n",
    "COLUMNS = X_train_count.columns\n",
    "\n",
    "X_train_count = X_train_count.values\n",
    "X_test_count = X_test_count.values"
   ]
  },
  {
   "cell_type": "markdown",
   "id": "9af2a803",
   "metadata": {},
   "source": [
    "## DecisionTreeClassifier "
   ]
  },
  {
   "cell_type": "code",
   "execution_count": null,
   "id": "35c7d0dd",
   "metadata": {},
   "outputs": [],
   "source": [
    "from sklearn.tree import DecisionTreeClassifier\n",
    "\n",
    "pipe = Pipeline([\n",
    "    ('classifier', DecisionTreeClassifier())])\n",
    "param_grid = {\n",
    "            'classifier__criterion': ['gini', 'entropy', 'log_loss'],\n",
    "            'classifier__splitter': ['best', 'random'],\n",
    "            'classifier__min_samples_split':[1,2,4,10, 20, 50, 100],\n",
    "            'classifier__min_samples_leaf':[1,2,4,10, 20, 50, 100]\n",
    "}\n",
    "grid_0 = GridSearchCV(pipe, param_grid, cv=kfold)\n",
    "grid_0.fit(X_train_count, y_train)\n",
    "# grid_0.best_params_"
   ]
  },
  {
   "cell_type": "code",
   "execution_count": 75,
   "id": "ec592f20",
   "metadata": {},
   "outputs": [
    {
     "data": {
      "text/plain": [
       "{'classifier__criterion': 'gini',\n",
       " 'classifier__min_samples_leaf': 100,\n",
       " 'classifier__min_samples_split': 2,\n",
       " 'classifier__splitter': 'best'}"
      ]
     },
     "execution_count": 75,
     "metadata": {},
     "output_type": "execute_result"
    }
   ],
   "source": [
    "grid_0.best_params_"
   ]
  },
  {
   "cell_type": "markdown",
   "id": "542ff6ff",
   "metadata": {},
   "source": [
    "## SVM (linear)"
   ]
  },
  {
   "cell_type": "code",
   "execution_count": 76,
   "id": "01aa6aa3",
   "metadata": {},
   "outputs": [
    {
     "data": {
      "text/plain": [
       "GridSearchCV(cv=StratifiedKFold(n_splits=5, random_state=None, shuffle=False),\n",
       "             estimator=Pipeline(steps=[('classifier', SVC(kernel='linear'))]),\n",
       "             param_grid={'classifier__C': [1e-06, 1e-05, 0.0001, 0.001, 0.01,\n",
       "                                           0.1, 1, 10, 100]})"
      ]
     },
     "execution_count": 76,
     "metadata": {},
     "output_type": "execute_result"
    }
   ],
   "source": [
    "pipe = Pipeline([\n",
    "    ('classifier', SVC(kernel='linear'))])\n",
    "param_grid = {\n",
    "            'classifier__C': [0.000001, 0.00001, 0.0001, 0.001, 0.01, 0.1, 1, 10, 100]\n",
    "}\n",
    "grid_1 = GridSearchCV(pipe, param_grid, cv=kfold)\n",
    "grid_1.fit(X_train_count, y_train)\n",
    "# grid_1.best_params_"
   ]
  },
  {
   "cell_type": "code",
   "execution_count": 77,
   "id": "3ec1cc09",
   "metadata": {},
   "outputs": [
    {
     "data": {
      "text/plain": [
       "{'classifier__C': 1e-06}"
      ]
     },
     "execution_count": 77,
     "metadata": {},
     "output_type": "execute_result"
    }
   ],
   "source": [
    "grid_1.best_params_"
   ]
  },
  {
   "cell_type": "markdown",
   "id": "2c8ca8c0",
   "metadata": {},
   "source": [
    "## LogisticRegression"
   ]
  },
  {
   "cell_type": "code",
   "execution_count": null,
   "id": "0de9521b",
   "metadata": {},
   "outputs": [],
   "source": [
    "from sklearn.linear_model import LogisticRegression\n",
    "pipe = Pipeline([\n",
    "    ('classifier', LogisticRegression(max_iter=10000))])\n",
    "\n",
    "param_grid = {\n",
    "            'classifier__C' : np.linspace(0, 0.1, 100),\n",
    "            'classifier__solver':['newton-cg', 'lbfgs', 'liblinear'],\n",
    "            'classifier__penalty' : ['l1', 'l2'],\n",
    "            'classifier__tol':[1e-5, 1e-4, 1e-3],\n",
    "            'classifier__fit_intercept':[False, True]\n",
    "}\n",
    "\n",
    "grid_2 = GridSearchCV(pipe, param_grid, cv=kfold,scoring='accuracy')\n",
    "grid_2.fit(X_train_count, y_train)\n",
    "# grid_2.best_params_"
   ]
  },
  {
   "cell_type": "code",
   "execution_count": 79,
   "id": "bd930b80",
   "metadata": {},
   "outputs": [
    {
     "data": {
      "text/plain": [
       "{'classifier__C': 0.03737373737373737,\n",
       " 'classifier__fit_intercept': True,\n",
       " 'classifier__penalty': 'l2',\n",
       " 'classifier__solver': 'newton-cg',\n",
       " 'classifier__tol': 1e-05}"
      ]
     },
     "execution_count": 79,
     "metadata": {},
     "output_type": "execute_result"
    }
   ],
   "source": [
    "grid_2.best_params_"
   ]
  },
  {
   "cell_type": "markdown",
   "id": "988791d9",
   "metadata": {},
   "source": [
    "## XGBClassifier "
   ]
  },
  {
   "cell_type": "code",
   "execution_count": 80,
   "id": "0378fd8e",
   "metadata": {},
   "outputs": [
    {
     "data": {
      "text/plain": [
       "{'classifier__alpha': 1,\n",
       " 'classifier__eta': 0.001,\n",
       " 'classifier__gamma': 0,\n",
       " 'classifier__lambda': 10,\n",
       " 'classifier__max_depth': 6,\n",
       " 'classifier__min_child_weight': 5,\n",
       " 'classifier__subsample': 0.5}"
      ]
     },
     "execution_count": 80,
     "metadata": {},
     "output_type": "execute_result"
    }
   ],
   "source": [
    "import xgboost\n",
    "\n",
    "xgb_cls = xgboost.XGBClassifier(n_estimators=10, verbosity = 0, use_label_encoder=False)\n",
    "\n",
    "pipe = Pipeline([\n",
    "    ('classifier', xgb_cls)])\n",
    "\n",
    "param_grid = {\n",
    "        'classifier__min_child_weight': [3,4,5],\n",
    "        'classifier__gamma': [0, 1, 10],\n",
    "        'classifier__subsample': [0.1, 0.3, 0.5],\n",
    "        'classifier__lambda': [0.1, 1, 10, 100],\n",
    "        'classifier__alpha': [0, 1, 10, 100],\n",
    "        'classifier__max_depth': [3,6,9],\n",
    "        'classifier__eta':[0.001, 0.01, 0.1, 0.3, 1],\n",
    "}\n",
    "# grid_3 = GridSearchCV(pipe, param_grid, cv=kfold, verbose=10, scoring='accuracy')\n",
    "grid_3 = GridSearchCV(pipe, param_grid, cv=kfold, scoring='accuracy')\n",
    "grid_3.fit(X_train_count, y_train)\n",
    "grid_3.best_params_"
   ]
  },
  {
   "cell_type": "markdown",
   "id": "c50bfc30",
   "metadata": {},
   "source": [
    "## RandomForestClassifier "
   ]
  },
  {
   "cell_type": "code",
   "execution_count": null,
   "id": "208a149b",
   "metadata": {},
   "outputs": [],
   "source": [
    "from sklearn.ensemble import RandomForestClassifier\n",
    "\n",
    "pipe = Pipeline([\n",
    "    ('classifier', RandomForestClassifier())])\n",
    "param_grid = {\n",
    "            'classifier__criterion': ['gini', 'entropy', 'log_loss'],\n",
    "            'classifier__n_estimators': [10,100,400],\n",
    "            'classifier__min_samples_split':[2,4,10, 20, 50, 100],\n",
    "            'classifier__min_samples_leaf':[1,2,4,10, 20, 50, 100]\n",
    "}\n",
    "grid_4 = GridSearchCV(pipe, param_grid, cv=kfold)\n",
    "grid_4.fit(X_train_count, y_train)\n",
    "# grid_4.best_params_"
   ]
  },
  {
   "cell_type": "code",
   "execution_count": 82,
   "id": "7ff57bc8",
   "metadata": {},
   "outputs": [
    {
     "data": {
      "text/plain": [
       "{'classifier__criterion': 'entropy',\n",
       " 'classifier__min_samples_leaf': 4,\n",
       " 'classifier__min_samples_split': 20,\n",
       " 'classifier__n_estimators': 100}"
      ]
     },
     "execution_count": 82,
     "metadata": {},
     "output_type": "execute_result"
    }
   ],
   "source": [
    "grid_4.best_params_"
   ]
  },
  {
   "cell_type": "markdown",
   "id": "58e54211",
   "metadata": {},
   "source": [
    "## MLPClassifier "
   ]
  },
  {
   "cell_type": "code",
   "execution_count": null,
   "id": "c2daa8ab",
   "metadata": {},
   "outputs": [],
   "source": [
    "from sklearn.neural_network import MLPClassifier\n",
    "mlp = MLPClassifier(alpha=1e-5, max_iter=100,random_state=1)\n",
    "\n",
    "pipe = Pipeline([\n",
    "    ('classifier', mlp)])\n",
    "\n",
    "param_grid = {\n",
    "              'classifier__solver':['sgd', 'adam'],\n",
    "#               'classifier__alpha': [0.0001, 0.001, 0.01, 0.1],\n",
    "                'classifier__alpha': [0.001, 0.01, 0.1],\n",
    "              'classifier__activation':['identity', 'logistic', 'relu'],\n",
    "              'classifier__shuffle': [False, True],\n",
    "              'classifier__early_stopping': [False, True],\n",
    "              'classifier__hidden_layer_sizes':[(100,)],\n",
    "              'classifier__learning_rate':['invscaling', 'adaptive'],\n",
    "              'classifier__batch_size':[50, 100, 200, 300]\n",
    "             }\n",
    "\n",
    "grid_5 = GridSearchCV(pipe, param_grid, cv=kfold, scoring='accuracy')\n",
    "# grid_5 = mlp\n",
    "grid_5.fit(X_train_count, y_train)\n",
    "# grid_5.best_params_"
   ]
  },
  {
   "cell_type": "code",
   "execution_count": 84,
   "id": "085eee7f",
   "metadata": {},
   "outputs": [
    {
     "data": {
      "text/plain": [
       "{'classifier__activation': 'logistic',\n",
       " 'classifier__alpha': 0.1,\n",
       " 'classifier__batch_size': 200,\n",
       " 'classifier__early_stopping': True,\n",
       " 'classifier__hidden_layer_sizes': (100,),\n",
       " 'classifier__learning_rate': 'invscaling',\n",
       " 'classifier__shuffle': True,\n",
       " 'classifier__solver': 'adam'}"
      ]
     },
     "execution_count": 84,
     "metadata": {},
     "output_type": "execute_result"
    }
   ],
   "source": [
    "grid_5.best_params_"
   ]
  },
  {
   "cell_type": "markdown",
   "id": "71d47173",
   "metadata": {},
   "source": [
    "## GradientBoostingClassifier"
   ]
  },
  {
   "cell_type": "code",
   "execution_count": null,
   "id": "815b27b8",
   "metadata": {},
   "outputs": [],
   "source": [
    "from sklearn.ensemble import GradientBoostingClassifier\n",
    "pipe = Pipeline([\n",
    "    ('classifier', GradientBoostingClassifier())])\n",
    "\n",
    "param_grid = {\n",
    "            'classifier__n_estimators': [1,10,30, 60],\n",
    "            'classifier__learning_rate': [0.01, 0.1, 0.3, 0.6, 0.8, 1],\n",
    "            'classifier__criterion': ['friedman_mse', 'squared_error'],\n",
    "            'classifier__min_samples_split':[2,4,10, 20, 50, 100],\n",
    "            'classifier__min_samples_leaf':[1,2,4,10, 20, 50, 100]\n",
    "}\n",
    "\n",
    "grid_6 = GridSearchCV(pipe, param_grid, cv=kfold, scoring='accuracy')\n",
    "grid_6.fit(X_train_count, y_train)\n",
    "grid_6.best_params_"
   ]
  },
  {
   "cell_type": "code",
   "execution_count": 86,
   "id": "40bfcd19",
   "metadata": {
    "scrolled": true
   },
   "outputs": [
    {
     "data": {
      "text/plain": [
       "{'classifier__criterion': 'friedman_mse',\n",
       " 'classifier__learning_rate': 0.8,\n",
       " 'classifier__min_samples_leaf': 2,\n",
       " 'classifier__min_samples_split': 10,\n",
       " 'classifier__n_estimators': 60}"
      ]
     },
     "execution_count": 86,
     "metadata": {},
     "output_type": "execute_result"
    }
   ],
   "source": [
    "grid_6.best_params_"
   ]
  },
  {
   "cell_type": "markdown",
   "id": "0e7c0483",
   "metadata": {},
   "source": [
    "## AdaBoostClassifier "
   ]
  },
  {
   "cell_type": "code",
   "execution_count": null,
   "id": "8411fd84",
   "metadata": {},
   "outputs": [],
   "source": [
    "from sklearn.ensemble import AdaBoostClassifier\n",
    "pipe = Pipeline([\n",
    "    ('classifier', AdaBoostClassifier())])\n",
    "\n",
    "param_grid = {\n",
    "            'classifier__n_estimators': [1,10,30,40,50,60,70],\n",
    "            'classifier__learning_rate': [0.001, 0.01, 0.1,0.3, 0.6, 0.8, 1,2,4,6, 10],\n",
    "            'classifier__algorithm': ['SAMME', 'SAMME.R']\n",
    "}\n",
    "\n",
    "grid_7 = GridSearchCV(pipe, param_grid, cv=kfold, scoring='accuracy')\n",
    "grid_7.fit(X_train_count, y_train)\n",
    "# grid_7.best_params_"
   ]
  },
  {
   "cell_type": "code",
   "execution_count": 88,
   "id": "a023f775",
   "metadata": {},
   "outputs": [
    {
     "data": {
      "text/plain": [
       "{'classifier__algorithm': 'SAMME',\n",
       " 'classifier__learning_rate': 1,\n",
       " 'classifier__n_estimators': 50}"
      ]
     },
     "execution_count": 88,
     "metadata": {},
     "output_type": "execute_result"
    }
   ],
   "source": [
    "grid_7.best_params_"
   ]
  },
  {
   "cell_type": "markdown",
   "id": "8cfae22d",
   "metadata": {},
   "source": [
    "## Keras bez early stopping "
   ]
  },
  {
   "cell_type": "code",
   "execution_count": 89,
   "id": "8e2a93f6",
   "metadata": {},
   "outputs": [
    {
     "name": "stdout",
     "output_type": "stream",
     "text": [
      "Model: \"sequential\"\n",
      "_________________________________________________________________\n",
      "Layer (type)                 Output Shape              Param #   \n",
      "=================================================================\n",
      "flatten (Flatten)            (None, 67)                0         \n",
      "_________________________________________________________________\n",
      "dense (Dense)                (None, 300)               20400     \n",
      "_________________________________________________________________\n",
      "batch_normalization (BatchNo (None, 300)               1200      \n",
      "_________________________________________________________________\n",
      "activation (Activation)      (None, 300)               0         \n",
      "_________________________________________________________________\n",
      "dropout (Dropout)            (None, 300)               0         \n",
      "_________________________________________________________________\n",
      "dense_1 (Dense)              (None, 150)               45150     \n",
      "_________________________________________________________________\n",
      "batch_normalization_1 (Batch (None, 150)               600       \n",
      "_________________________________________________________________\n",
      "activation_1 (Activation)    (None, 150)               0         \n",
      "_________________________________________________________________\n",
      "dropout_1 (Dropout)          (None, 150)               0         \n",
      "_________________________________________________________________\n",
      "dense_2 (Dense)              (None, 50)                7550      \n",
      "_________________________________________________________________\n",
      "batch_normalization_2 (Batch (None, 50)                200       \n",
      "_________________________________________________________________\n",
      "activation_2 (Activation)    (None, 50)                0         \n",
      "_________________________________________________________________\n",
      "dropout_2 (Dropout)          (None, 50)                0         \n",
      "_________________________________________________________________\n",
      "dense_3 (Dense)              (None, 1)                 51        \n",
      "=================================================================\n",
      "Total params: 75,151\n",
      "Trainable params: 74,151\n",
      "Non-trainable params: 1,000\n",
      "_________________________________________________________________\n"
     ]
    }
   ],
   "source": [
    "from tensorflow import keras\n",
    "from tensorflow.keras.models import Sequential\n",
    "from tensorflow.keras.layers import Dense, LSTM\n",
    "\n",
    "from tensorflow.keras.callbacks import History\n",
    "\n",
    "from tensorflow.keras.models import Sequential\n",
    "from tensorflow.keras.layers import Dense, Flatten\n",
    "from tensorflow.keras.layers import BatchNormalization\n",
    "from tensorflow.keras.layers import Activation\n",
    "from tensorflow.keras.layers import Dropout\n",
    "\n",
    "keras.backend.clear_session()\n",
    "\n",
    "history_1 = History()\n",
    "keras_1 = Sequential()\n",
    "\n",
    "keras_1.add(Flatten(input_shape=((X_train_count).shape[1],)))\n",
    "\n",
    "keras_1.add(Dense(300))\n",
    "keras_1.add(BatchNormalization())\n",
    "keras_1.add(Activation(\"elu\"))\n",
    "keras_1.add(Dropout(0.3))\n",
    "\n",
    "keras_1.add(Dense(150))\n",
    "keras_1.add(BatchNormalization())\n",
    "keras_1.add(Activation(\"elu\"))\n",
    "keras_1.add(Dropout(0.3))\n",
    "\n",
    "keras_1.add(Dense(50))\n",
    "keras_1.add(BatchNormalization())\n",
    "keras_1.add(Activation(\"elu\"))\n",
    "keras_1.add(Dropout(0.3))\n",
    "\n",
    "keras_1.add(Dense(1,activation=\"sigmoid\"))\n",
    "\n",
    "keras_1.summary()"
   ]
  },
  {
   "cell_type": "code",
   "execution_count": 90,
   "id": "c894f4a1",
   "metadata": {},
   "outputs": [],
   "source": [
    "keras_1.compile(loss=\"binary_crossentropy\",optimizer='adam', metrics=[\"accuracy\"])"
   ]
  },
  {
   "cell_type": "code",
   "execution_count": 91,
   "id": "138f0c28",
   "metadata": {
    "scrolled": true
   },
   "outputs": [
    {
     "name": "stdout",
     "output_type": "stream",
     "text": [
      "Epoch 1/200\n",
      "40/40 [==============================] - 0s 8ms/step - loss: 0.8156 - accuracy: 0.5024 - val_loss: 0.6949 - val_accuracy: 0.5314\n",
      "Epoch 2/200\n",
      "40/40 [==============================] - 0s 3ms/step - loss: 0.7453 - accuracy: 0.5307 - val_loss: 0.6988 - val_accuracy: 0.5314\n",
      "Epoch 3/200\n",
      "40/40 [==============================] - 0s 3ms/step - loss: 0.7327 - accuracy: 0.5480 - val_loss: 0.6975 - val_accuracy: 0.5377\n",
      "Epoch 4/200\n",
      "40/40 [==============================] - 0s 3ms/step - loss: 0.7275 - accuracy: 0.5362 - val_loss: 0.7014 - val_accuracy: 0.5252\n",
      "Epoch 5/200\n",
      "40/40 [==============================] - 0s 3ms/step - loss: 0.7342 - accuracy: 0.5142 - val_loss: 0.7005 - val_accuracy: 0.5157\n",
      "Epoch 6/200\n",
      "40/40 [==============================] - 0s 3ms/step - loss: 0.7077 - accuracy: 0.5220 - val_loss: 0.7064 - val_accuracy: 0.5409\n",
      "Epoch 7/200\n",
      "40/40 [==============================] - 0s 3ms/step - loss: 0.7092 - accuracy: 0.5668 - val_loss: 0.7163 - val_accuracy: 0.5314\n",
      "Epoch 8/200\n",
      "40/40 [==============================] - 0s 3ms/step - loss: 0.6896 - accuracy: 0.5763 - val_loss: 0.7150 - val_accuracy: 0.5377\n",
      "Epoch 9/200\n",
      "40/40 [==============================] - 0s 3ms/step - loss: 0.6933 - accuracy: 0.5613 - val_loss: 0.7115 - val_accuracy: 0.5189\n",
      "Epoch 10/200\n",
      "40/40 [==============================] - 0s 3ms/step - loss: 0.6843 - accuracy: 0.5621 - val_loss: 0.7146 - val_accuracy: 0.5252\n",
      "Epoch 11/200\n",
      "40/40 [==============================] - 0s 3ms/step - loss: 0.6675 - accuracy: 0.5983 - val_loss: 0.7221 - val_accuracy: 0.5440\n",
      "Epoch 12/200\n",
      "40/40 [==============================] - 0s 3ms/step - loss: 0.6646 - accuracy: 0.5967 - val_loss: 0.7189 - val_accuracy: 0.5409\n",
      "Epoch 13/200\n",
      "40/40 [==============================] - 0s 3ms/step - loss: 0.6787 - accuracy: 0.5645 - val_loss: 0.7241 - val_accuracy: 0.5409\n",
      "Epoch 14/200\n",
      "40/40 [==============================] - 0s 3ms/step - loss: 0.6817 - accuracy: 0.5818 - val_loss: 0.7347 - val_accuracy: 0.5094\n",
      "Epoch 15/200\n",
      "40/40 [==============================] - 0s 3ms/step - loss: 0.6806 - accuracy: 0.5684 - val_loss: 0.7361 - val_accuracy: 0.5409\n",
      "Epoch 16/200\n",
      "40/40 [==============================] - 0s 3ms/step - loss: 0.6631 - accuracy: 0.5896 - val_loss: 0.7345 - val_accuracy: 0.5314\n",
      "Epoch 17/200\n",
      "40/40 [==============================] - 0s 3ms/step - loss: 0.6622 - accuracy: 0.5912 - val_loss: 0.7335 - val_accuracy: 0.5377\n",
      "Epoch 18/200\n",
      "40/40 [==============================] - 0s 3ms/step - loss: 0.6635 - accuracy: 0.5825 - val_loss: 0.7394 - val_accuracy: 0.4686\n",
      "Epoch 19/200\n",
      "40/40 [==============================] - 0s 3ms/step - loss: 0.6427 - accuracy: 0.6116 - val_loss: 0.7329 - val_accuracy: 0.5346\n",
      "Epoch 20/200\n",
      "40/40 [==============================] - 0s 3ms/step - loss: 0.6517 - accuracy: 0.6171 - val_loss: 0.7522 - val_accuracy: 0.5314\n",
      "Epoch 21/200\n",
      "40/40 [==============================] - 0s 3ms/step - loss: 0.6518 - accuracy: 0.5998 - val_loss: 0.7386 - val_accuracy: 0.5314\n",
      "Epoch 22/200\n",
      "40/40 [==============================] - 0s 3ms/step - loss: 0.6574 - accuracy: 0.5991 - val_loss: 0.7403 - val_accuracy: 0.5189\n",
      "Epoch 23/200\n",
      "40/40 [==============================] - 0s 3ms/step - loss: 0.6418 - accuracy: 0.6226 - val_loss: 0.7385 - val_accuracy: 0.5377\n",
      "Epoch 24/200\n",
      "40/40 [==============================] - 0s 3ms/step - loss: 0.6525 - accuracy: 0.6140 - val_loss: 0.7377 - val_accuracy: 0.5189\n",
      "Epoch 25/200\n",
      "40/40 [==============================] - 0s 3ms/step - loss: 0.6435 - accuracy: 0.6101 - val_loss: 0.7464 - val_accuracy: 0.5220\n",
      "Epoch 26/200\n",
      "40/40 [==============================] - 0s 3ms/step - loss: 0.6348 - accuracy: 0.6297 - val_loss: 0.7477 - val_accuracy: 0.5283\n",
      "Epoch 27/200\n",
      "40/40 [==============================] - 0s 3ms/step - loss: 0.6422 - accuracy: 0.6148 - val_loss: 0.7453 - val_accuracy: 0.5377\n",
      "Epoch 28/200\n",
      "40/40 [==============================] - 0s 3ms/step - loss: 0.6356 - accuracy: 0.6101 - val_loss: 0.7397 - val_accuracy: 0.5283\n",
      "Epoch 29/200\n",
      "40/40 [==============================] - 0s 3ms/step - loss: 0.6358 - accuracy: 0.6360 - val_loss: 0.7470 - val_accuracy: 0.5252\n",
      "Epoch 30/200\n",
      "40/40 [==============================] - 0s 3ms/step - loss: 0.6328 - accuracy: 0.6179 - val_loss: 0.7380 - val_accuracy: 0.5409\n",
      "Epoch 31/200\n",
      "40/40 [==============================] - 0s 3ms/step - loss: 0.6329 - accuracy: 0.6211 - val_loss: 0.7461 - val_accuracy: 0.5220\n",
      "Epoch 32/200\n",
      "40/40 [==============================] - 0s 3ms/step - loss: 0.6322 - accuracy: 0.6250 - val_loss: 0.7480 - val_accuracy: 0.5314\n",
      "Epoch 33/200\n",
      "40/40 [==============================] - 0s 3ms/step - loss: 0.6273 - accuracy: 0.6195 - val_loss: 0.7437 - val_accuracy: 0.5377\n",
      "Epoch 34/200\n",
      "40/40 [==============================] - 0s 3ms/step - loss: 0.6269 - accuracy: 0.6211 - val_loss: 0.7573 - val_accuracy: 0.5220\n",
      "Epoch 35/200\n",
      "40/40 [==============================] - 0s 3ms/step - loss: 0.6437 - accuracy: 0.6250 - val_loss: 0.7501 - val_accuracy: 0.5252\n",
      "Epoch 36/200\n",
      "40/40 [==============================] - 0s 3ms/step - loss: 0.6221 - accuracy: 0.6219 - val_loss: 0.7507 - val_accuracy: 0.5220\n",
      "Epoch 37/200\n",
      "40/40 [==============================] - 0s 3ms/step - loss: 0.6260 - accuracy: 0.6336 - val_loss: 0.7520 - val_accuracy: 0.5283\n",
      "Epoch 38/200\n",
      "40/40 [==============================] - 0s 3ms/step - loss: 0.6136 - accuracy: 0.6454 - val_loss: 0.7531 - val_accuracy: 0.5346\n",
      "Epoch 39/200\n",
      "40/40 [==============================] - 0s 3ms/step - loss: 0.6156 - accuracy: 0.6376 - val_loss: 0.7541 - val_accuracy: 0.5377\n",
      "Epoch 40/200\n",
      "40/40 [==============================] - 0s 3ms/step - loss: 0.6179 - accuracy: 0.6336 - val_loss: 0.7519 - val_accuracy: 0.5031\n",
      "Epoch 41/200\n",
      "40/40 [==============================] - 0s 3ms/step - loss: 0.6116 - accuracy: 0.6470 - val_loss: 0.7683 - val_accuracy: 0.4434\n",
      "Epoch 42/200\n",
      "40/40 [==============================] - 0s 3ms/step - loss: 0.6116 - accuracy: 0.6454 - val_loss: 0.7705 - val_accuracy: 0.5094\n",
      "Epoch 43/200\n",
      "40/40 [==============================] - 0s 3ms/step - loss: 0.6097 - accuracy: 0.6525 - val_loss: 0.7617 - val_accuracy: 0.4340\n",
      "Epoch 44/200\n",
      "40/40 [==============================] - 0s 3ms/step - loss: 0.6282 - accuracy: 0.5920 - val_loss: 0.7520 - val_accuracy: 0.5377\n",
      "Epoch 45/200\n",
      "40/40 [==============================] - 0s 3ms/step - loss: 0.6158 - accuracy: 0.6423 - val_loss: 0.7505 - val_accuracy: 0.4528\n",
      "Epoch 46/200\n",
      "40/40 [==============================] - 0s 3ms/step - loss: 0.6086 - accuracy: 0.6360 - val_loss: 0.7611 - val_accuracy: 0.5252\n",
      "Epoch 47/200\n",
      "40/40 [==============================] - 0s 3ms/step - loss: 0.6143 - accuracy: 0.6399 - val_loss: 0.7798 - val_accuracy: 0.5126\n",
      "Epoch 48/200\n",
      "40/40 [==============================] - 0s 3ms/step - loss: 0.6123 - accuracy: 0.6336 - val_loss: 0.7604 - val_accuracy: 0.5346\n",
      "Epoch 49/200\n",
      "40/40 [==============================] - 0s 3ms/step - loss: 0.6033 - accuracy: 0.6431 - val_loss: 0.7708 - val_accuracy: 0.5189\n",
      "Epoch 50/200\n",
      "40/40 [==============================] - 0s 3ms/step - loss: 0.6060 - accuracy: 0.6470 - val_loss: 0.7783 - val_accuracy: 0.5157\n",
      "Epoch 51/200\n",
      "40/40 [==============================] - 0s 3ms/step - loss: 0.5978 - accuracy: 0.6478 - val_loss: 0.7603 - val_accuracy: 0.5283\n",
      "Epoch 52/200\n",
      "40/40 [==============================] - 0s 3ms/step - loss: 0.6033 - accuracy: 0.6588 - val_loss: 0.7604 - val_accuracy: 0.5346\n",
      "Epoch 53/200\n",
      "40/40 [==============================] - 0s 3ms/step - loss: 0.6057 - accuracy: 0.6462 - val_loss: 0.7601 - val_accuracy: 0.5252\n",
      "Epoch 54/200\n",
      "40/40 [==============================] - 0s 3ms/step - loss: 0.6076 - accuracy: 0.6447 - val_loss: 0.7687 - val_accuracy: 0.5063\n",
      "Epoch 55/200\n",
      "40/40 [==============================] - 0s 3ms/step - loss: 0.6011 - accuracy: 0.6698 - val_loss: 0.7557 - val_accuracy: 0.5346\n",
      "Epoch 56/200\n",
      "40/40 [==============================] - 0s 3ms/step - loss: 0.5909 - accuracy: 0.6612 - val_loss: 0.7736 - val_accuracy: 0.5094\n",
      "Epoch 57/200\n",
      "40/40 [==============================] - 0s 3ms/step - loss: 0.5941 - accuracy: 0.6470 - val_loss: 0.7695 - val_accuracy: 0.5189\n",
      "Epoch 58/200\n",
      "40/40 [==============================] - 0s 3ms/step - loss: 0.5994 - accuracy: 0.6447 - val_loss: 0.7971 - val_accuracy: 0.5220\n"
     ]
    },
    {
     "name": "stdout",
     "output_type": "stream",
     "text": [
      "Epoch 59/200\n",
      "40/40 [==============================] - 0s 3ms/step - loss: 0.5882 - accuracy: 0.6619 - val_loss: 0.7658 - val_accuracy: 0.5189\n",
      "Epoch 60/200\n",
      "40/40 [==============================] - 0s 3ms/step - loss: 0.5888 - accuracy: 0.6604 - val_loss: 0.7725 - val_accuracy: 0.5283\n",
      "Epoch 61/200\n",
      "40/40 [==============================] - 0s 3ms/step - loss: 0.5792 - accuracy: 0.6722 - val_loss: 0.7768 - val_accuracy: 0.5189\n",
      "Epoch 62/200\n",
      "40/40 [==============================] - 0s 3ms/step - loss: 0.5904 - accuracy: 0.6627 - val_loss: 0.7850 - val_accuracy: 0.5094\n",
      "Epoch 63/200\n",
      "40/40 [==============================] - 0s 3ms/step - loss: 0.5704 - accuracy: 0.6714 - val_loss: 0.7971 - val_accuracy: 0.5063\n",
      "Epoch 64/200\n",
      "40/40 [==============================] - 0s 3ms/step - loss: 0.5735 - accuracy: 0.6824 - val_loss: 0.7868 - val_accuracy: 0.5283\n",
      "Epoch 65/200\n",
      "40/40 [==============================] - 0s 3ms/step - loss: 0.5834 - accuracy: 0.6572 - val_loss: 0.7735 - val_accuracy: 0.5189\n",
      "Epoch 66/200\n",
      "40/40 [==============================] - 0s 3ms/step - loss: 0.5893 - accuracy: 0.6564 - val_loss: 0.8077 - val_accuracy: 0.5220\n",
      "Epoch 67/200\n",
      "40/40 [==============================] - 0s 3ms/step - loss: 0.5872 - accuracy: 0.6690 - val_loss: 0.7799 - val_accuracy: 0.5126\n",
      "Epoch 68/200\n",
      "40/40 [==============================] - 0s 3ms/step - loss: 0.5880 - accuracy: 0.6824 - val_loss: 0.7909 - val_accuracy: 0.4560\n",
      "Epoch 69/200\n",
      "40/40 [==============================] - 0s 3ms/step - loss: 0.5771 - accuracy: 0.6675 - val_loss: 0.7834 - val_accuracy: 0.5157\n",
      "Epoch 70/200\n",
      "40/40 [==============================] - 0s 3ms/step - loss: 0.5726 - accuracy: 0.6769 - val_loss: 0.7911 - val_accuracy: 0.5377\n",
      "Epoch 71/200\n",
      "40/40 [==============================] - 0s 3ms/step - loss: 0.5831 - accuracy: 0.6643 - val_loss: 0.7972 - val_accuracy: 0.5346\n",
      "Epoch 72/200\n",
      "40/40 [==============================] - 0s 3ms/step - loss: 0.5793 - accuracy: 0.6690 - val_loss: 0.7722 - val_accuracy: 0.5283\n",
      "Epoch 73/200\n",
      "40/40 [==============================] - 0s 3ms/step - loss: 0.5838 - accuracy: 0.6785 - val_loss: 0.7963 - val_accuracy: 0.5252\n",
      "Epoch 74/200\n",
      "40/40 [==============================] - 0s 3ms/step - loss: 0.5732 - accuracy: 0.6730 - val_loss: 0.7952 - val_accuracy: 0.5126\n",
      "Epoch 75/200\n",
      "40/40 [==============================] - 0s 3ms/step - loss: 0.5778 - accuracy: 0.6588 - val_loss: 0.7980 - val_accuracy: 0.5189\n",
      "Epoch 76/200\n",
      "40/40 [==============================] - 0s 3ms/step - loss: 0.5682 - accuracy: 0.6643 - val_loss: 0.8075 - val_accuracy: 0.5220\n",
      "Epoch 77/200\n",
      "40/40 [==============================] - 0s 3ms/step - loss: 0.5811 - accuracy: 0.6659 - val_loss: 0.7955 - val_accuracy: 0.5314\n",
      "Epoch 78/200\n",
      "40/40 [==============================] - 0s 3ms/step - loss: 0.5782 - accuracy: 0.6745 - val_loss: 0.8022 - val_accuracy: 0.5094\n",
      "Epoch 79/200\n",
      "40/40 [==============================] - 0s 3ms/step - loss: 0.5807 - accuracy: 0.6604 - val_loss: 0.7964 - val_accuracy: 0.5157\n",
      "Epoch 80/200\n",
      "40/40 [==============================] - 0s 3ms/step - loss: 0.5662 - accuracy: 0.6706 - val_loss: 0.8057 - val_accuracy: 0.4434\n",
      "Epoch 81/200\n",
      "40/40 [==============================] - 0s 3ms/step - loss: 0.5791 - accuracy: 0.6517 - val_loss: 0.7983 - val_accuracy: 0.5189\n",
      "Epoch 82/200\n",
      "40/40 [==============================] - 0s 3ms/step - loss: 0.5728 - accuracy: 0.6832 - val_loss: 0.8339 - val_accuracy: 0.4465\n",
      "Epoch 83/200\n",
      "40/40 [==============================] - 0s 3ms/step - loss: 0.5658 - accuracy: 0.6730 - val_loss: 0.8150 - val_accuracy: 0.4277\n",
      "Epoch 84/200\n",
      "40/40 [==============================] - 0s 3ms/step - loss: 0.5633 - accuracy: 0.6777 - val_loss: 0.8218 - val_accuracy: 0.5094\n",
      "Epoch 85/200\n",
      "40/40 [==============================] - 0s 3ms/step - loss: 0.5620 - accuracy: 0.6706 - val_loss: 0.8155 - val_accuracy: 0.5346\n",
      "Epoch 86/200\n",
      "40/40 [==============================] - 0s 3ms/step - loss: 0.5605 - accuracy: 0.6863 - val_loss: 0.8356 - val_accuracy: 0.4308\n",
      "Epoch 87/200\n",
      "40/40 [==============================] - 0s 3ms/step - loss: 0.5535 - accuracy: 0.6840 - val_loss: 0.8270 - val_accuracy: 0.5126\n",
      "Epoch 88/200\n",
      "40/40 [==============================] - 0s 3ms/step - loss: 0.5615 - accuracy: 0.6580 - val_loss: 0.8279 - val_accuracy: 0.5094\n",
      "Epoch 89/200\n",
      "40/40 [==============================] - 0s 3ms/step - loss: 0.5653 - accuracy: 0.6895 - val_loss: 0.8084 - val_accuracy: 0.5157\n",
      "Epoch 90/200\n",
      "40/40 [==============================] - 0s 3ms/step - loss: 0.5658 - accuracy: 0.6816 - val_loss: 0.8080 - val_accuracy: 0.5472\n",
      "Epoch 91/200\n",
      "40/40 [==============================] - 0s 3ms/step - loss: 0.5601 - accuracy: 0.6745 - val_loss: 0.7968 - val_accuracy: 0.5346\n",
      "Epoch 92/200\n",
      "40/40 [==============================] - 0s 3ms/step - loss: 0.5590 - accuracy: 0.6824 - val_loss: 0.8279 - val_accuracy: 0.5220\n",
      "Epoch 93/200\n",
      "40/40 [==============================] - 0s 3ms/step - loss: 0.5569 - accuracy: 0.6753 - val_loss: 0.8207 - val_accuracy: 0.5157\n",
      "Epoch 94/200\n",
      "40/40 [==============================] - 0s 3ms/step - loss: 0.5588 - accuracy: 0.6895 - val_loss: 0.8396 - val_accuracy: 0.5189\n",
      "Epoch 95/200\n",
      "40/40 [==============================] - 0s 3ms/step - loss: 0.5571 - accuracy: 0.6667 - val_loss: 0.8035 - val_accuracy: 0.5220\n",
      "Epoch 96/200\n",
      "40/40 [==============================] - 0s 3ms/step - loss: 0.5546 - accuracy: 0.6879 - val_loss: 0.8238 - val_accuracy: 0.5126\n",
      "Epoch 97/200\n",
      "40/40 [==============================] - 0s 3ms/step - loss: 0.5637 - accuracy: 0.6816 - val_loss: 0.8083 - val_accuracy: 0.5252\n",
      "Epoch 98/200\n",
      "40/40 [==============================] - 0s 3ms/step - loss: 0.5709 - accuracy: 0.6604 - val_loss: 0.8193 - val_accuracy: 0.5157\n",
      "Epoch 99/200\n",
      "40/40 [==============================] - 0s 3ms/step - loss: 0.5459 - accuracy: 0.6895 - val_loss: 0.8107 - val_accuracy: 0.5189\n",
      "Epoch 100/200\n",
      "40/40 [==============================] - 0s 3ms/step - loss: 0.5596 - accuracy: 0.6643 - val_loss: 0.8288 - val_accuracy: 0.5220\n",
      "Epoch 101/200\n",
      "40/40 [==============================] - 0s 3ms/step - loss: 0.5508 - accuracy: 0.6824 - val_loss: 0.8114 - val_accuracy: 0.5126\n",
      "Epoch 102/200\n",
      "40/40 [==============================] - 0s 3ms/step - loss: 0.5616 - accuracy: 0.6808 - val_loss: 0.8332 - val_accuracy: 0.4465\n",
      "Epoch 103/200\n",
      "40/40 [==============================] - 0s 3ms/step - loss: 0.5506 - accuracy: 0.6816 - val_loss: 0.8362 - val_accuracy: 0.5126\n",
      "Epoch 104/200\n",
      "40/40 [==============================] - 0s 3ms/step - loss: 0.5519 - accuracy: 0.6808 - val_loss: 0.8272 - val_accuracy: 0.5126\n",
      "Epoch 105/200\n",
      "40/40 [==============================] - 0s 3ms/step - loss: 0.5551 - accuracy: 0.6997 - val_loss: 0.8138 - val_accuracy: 0.5314\n",
      "Epoch 106/200\n",
      "40/40 [==============================] - 0s 3ms/step - loss: 0.5325 - accuracy: 0.7075 - val_loss: 0.8323 - val_accuracy: 0.5126\n",
      "Epoch 107/200\n",
      "40/40 [==============================] - 0s 3ms/step - loss: 0.5458 - accuracy: 0.6950 - val_loss: 0.8255 - val_accuracy: 0.5063\n",
      "Epoch 108/200\n",
      "40/40 [==============================] - 0s 3ms/step - loss: 0.5345 - accuracy: 0.6918 - val_loss: 0.8472 - val_accuracy: 0.5063\n",
      "Epoch 109/200\n",
      "40/40 [==============================] - 0s 3ms/step - loss: 0.5417 - accuracy: 0.6879 - val_loss: 0.8262 - val_accuracy: 0.5252\n",
      "Epoch 110/200\n",
      "40/40 [==============================] - 0s 3ms/step - loss: 0.5497 - accuracy: 0.6950 - val_loss: 0.8493 - val_accuracy: 0.5220\n",
      "Epoch 111/200\n",
      "40/40 [==============================] - 0s 3ms/step - loss: 0.5447 - accuracy: 0.6714 - val_loss: 0.8485 - val_accuracy: 0.5283\n",
      "Epoch 112/200\n",
      "40/40 [==============================] - 0s 3ms/step - loss: 0.5414 - accuracy: 0.6737 - val_loss: 0.8625 - val_accuracy: 0.5094\n",
      "Epoch 113/200\n",
      "40/40 [==============================] - 0s 3ms/step - loss: 0.5463 - accuracy: 0.6800 - val_loss: 0.8356 - val_accuracy: 0.5252\n",
      "Epoch 114/200\n",
      "40/40 [==============================] - 0s 3ms/step - loss: 0.5337 - accuracy: 0.6965 - val_loss: 0.8608 - val_accuracy: 0.5126\n",
      "Epoch 115/200\n",
      "40/40 [==============================] - 0s 3ms/step - loss: 0.5528 - accuracy: 0.6682 - val_loss: 0.8403 - val_accuracy: 0.5252\n",
      "Epoch 116/200\n",
      "40/40 [==============================] - 0s 3ms/step - loss: 0.5431 - accuracy: 0.6973 - val_loss: 0.8468 - val_accuracy: 0.5252\n",
      "Epoch 117/200\n",
      "40/40 [==============================] - 0s 3ms/step - loss: 0.5378 - accuracy: 0.6863 - val_loss: 0.8327 - val_accuracy: 0.5063\n",
      "Epoch 118/200\n",
      "40/40 [==============================] - 0s 3ms/step - loss: 0.5334 - accuracy: 0.7013 - val_loss: 0.8519 - val_accuracy: 0.5094\n",
      "Epoch 119/200\n",
      "40/40 [==============================] - 0s 3ms/step - loss: 0.5417 - accuracy: 0.6965 - val_loss: 0.8552 - val_accuracy: 0.5283\n",
      "Epoch 120/200\n",
      "40/40 [==============================] - 0s 3ms/step - loss: 0.5314 - accuracy: 0.6958 - val_loss: 0.8516 - val_accuracy: 0.5157\n",
      "Epoch 121/200\n",
      "40/40 [==============================] - 0s 3ms/step - loss: 0.5357 - accuracy: 0.6855 - val_loss: 0.8485 - val_accuracy: 0.5189\n",
      "Epoch 122/200\n",
      "40/40 [==============================] - 0s 3ms/step - loss: 0.5560 - accuracy: 0.6824 - val_loss: 0.8237 - val_accuracy: 0.5189\n",
      "Epoch 123/200\n",
      "40/40 [==============================] - 0s 3ms/step - loss: 0.5390 - accuracy: 0.6926 - val_loss: 0.8621 - val_accuracy: 0.5220\n",
      "Epoch 124/200\n",
      "40/40 [==============================] - 0s 3ms/step - loss: 0.5402 - accuracy: 0.6879 - val_loss: 0.8189 - val_accuracy: 0.5377\n",
      "Epoch 125/200\n",
      "40/40 [==============================] - 0s 3ms/step - loss: 0.5469 - accuracy: 0.6989 - val_loss: 0.8202 - val_accuracy: 0.5314\n",
      "Epoch 126/200\n",
      "40/40 [==============================] - 0s 3ms/step - loss: 0.5395 - accuracy: 0.6958 - val_loss: 0.8188 - val_accuracy: 0.5409\n",
      "Epoch 127/200\n",
      "40/40 [==============================] - 0s 3ms/step - loss: 0.5395 - accuracy: 0.6973 - val_loss: 0.8517 - val_accuracy: 0.5157\n",
      "Epoch 128/200\n",
      "40/40 [==============================] - 0s 3ms/step - loss: 0.5429 - accuracy: 0.6910 - val_loss: 0.8305 - val_accuracy: 0.5314\n",
      "Epoch 129/200\n",
      "40/40 [==============================] - 0s 3ms/step - loss: 0.5326 - accuracy: 0.6973 - val_loss: 0.8434 - val_accuracy: 0.5157\n",
      "Epoch 130/200\n",
      "40/40 [==============================] - 0s 3ms/step - loss: 0.5388 - accuracy: 0.6918 - val_loss: 0.8478 - val_accuracy: 0.5409\n",
      "Epoch 131/200\n",
      "40/40 [==============================] - 0s 3ms/step - loss: 0.5323 - accuracy: 0.7075 - val_loss: 0.8522 - val_accuracy: 0.5252\n",
      "Epoch 132/200\n",
      "40/40 [==============================] - 0s 3ms/step - loss: 0.5360 - accuracy: 0.6879 - val_loss: 0.8656 - val_accuracy: 0.5283\n",
      "Epoch 133/200\n",
      "40/40 [==============================] - 0s 3ms/step - loss: 0.5411 - accuracy: 0.6769 - val_loss: 0.8375 - val_accuracy: 0.5283\n",
      "Epoch 134/200\n",
      "40/40 [==============================] - 0s 3ms/step - loss: 0.5274 - accuracy: 0.6989 - val_loss: 0.8470 - val_accuracy: 0.5409\n",
      "Epoch 135/200\n",
      "40/40 [==============================] - 0s 3ms/step - loss: 0.5370 - accuracy: 0.6918 - val_loss: 0.8464 - val_accuracy: 0.5283\n",
      "Epoch 136/200\n",
      "40/40 [==============================] - 0s 3ms/step - loss: 0.5338 - accuracy: 0.6989 - val_loss: 0.8529 - val_accuracy: 0.5252\n",
      "Epoch 137/200\n",
      "40/40 [==============================] - 0s 3ms/step - loss: 0.5308 - accuracy: 0.6855 - val_loss: 0.8868 - val_accuracy: 0.5157\n",
      "Epoch 138/200\n",
      "40/40 [==============================] - 0s 3ms/step - loss: 0.5294 - accuracy: 0.6958 - val_loss: 0.8582 - val_accuracy: 0.4591\n",
      "Epoch 139/200\n",
      "40/40 [==============================] - 0s 3ms/step - loss: 0.5204 - accuracy: 0.7028 - val_loss: 0.8547 - val_accuracy: 0.5189\n",
      "Epoch 140/200\n",
      "40/40 [==============================] - 0s 3ms/step - loss: 0.5311 - accuracy: 0.6903 - val_loss: 0.8591 - val_accuracy: 0.5314\n",
      "Epoch 141/200\n",
      "40/40 [==============================] - 0s 3ms/step - loss: 0.5208 - accuracy: 0.6903 - val_loss: 0.8529 - val_accuracy: 0.5126\n",
      "Epoch 142/200\n",
      "40/40 [==============================] - 0s 3ms/step - loss: 0.5231 - accuracy: 0.7115 - val_loss: 0.8753 - val_accuracy: 0.5126\n",
      "Epoch 143/200\n",
      "40/40 [==============================] - 0s 3ms/step - loss: 0.5256 - accuracy: 0.6989 - val_loss: 0.8578 - val_accuracy: 0.5220\n",
      "Epoch 144/200\n",
      "40/40 [==============================] - 0s 3ms/step - loss: 0.5198 - accuracy: 0.6918 - val_loss: 0.8428 - val_accuracy: 0.5440\n",
      "Epoch 145/200\n",
      "40/40 [==============================] - 0s 3ms/step - loss: 0.5332 - accuracy: 0.6667 - val_loss: 0.8690 - val_accuracy: 0.5094\n",
      "Epoch 146/200\n",
      "40/40 [==============================] - 0s 3ms/step - loss: 0.5221 - accuracy: 0.6958 - val_loss: 0.8574 - val_accuracy: 0.5377\n",
      "Epoch 147/200\n",
      "40/40 [==============================] - 0s 3ms/step - loss: 0.5270 - accuracy: 0.6950 - val_loss: 0.8437 - val_accuracy: 0.5252\n",
      "Epoch 148/200\n",
      "40/40 [==============================] - 0s 3ms/step - loss: 0.5365 - accuracy: 0.6808 - val_loss: 0.8721 - val_accuracy: 0.5377\n",
      "Epoch 149/200\n",
      "40/40 [==============================] - 0s 3ms/step - loss: 0.5185 - accuracy: 0.7052 - val_loss: 0.8474 - val_accuracy: 0.5283\n",
      "Epoch 150/200\n",
      "40/40 [==============================] - 0s 3ms/step - loss: 0.5132 - accuracy: 0.6973 - val_loss: 0.8733 - val_accuracy: 0.5220\n",
      "Epoch 151/200\n",
      "40/40 [==============================] - 0s 3ms/step - loss: 0.5290 - accuracy: 0.6973 - val_loss: 0.9022 - val_accuracy: 0.5314\n",
      "Epoch 152/200\n",
      "40/40 [==============================] - 0s 3ms/step - loss: 0.5334 - accuracy: 0.6800 - val_loss: 0.8832 - val_accuracy: 0.5252\n",
      "Epoch 153/200\n",
      "40/40 [==============================] - 0s 3ms/step - loss: 0.5292 - accuracy: 0.7052 - val_loss: 0.8696 - val_accuracy: 0.5157\n",
      "Epoch 154/200\n",
      "40/40 [==============================] - 0s 3ms/step - loss: 0.5216 - accuracy: 0.7005 - val_loss: 0.8735 - val_accuracy: 0.5189\n",
      "Epoch 155/200\n",
      "40/40 [==============================] - 0s 3ms/step - loss: 0.5162 - accuracy: 0.7013 - val_loss: 0.8669 - val_accuracy: 0.5157\n",
      "Epoch 156/200\n",
      "40/40 [==============================] - 0s 3ms/step - loss: 0.5163 - accuracy: 0.7060 - val_loss: 0.8673 - val_accuracy: 0.5220\n",
      "Epoch 157/200\n",
      "40/40 [==============================] - 0s 3ms/step - loss: 0.5135 - accuracy: 0.7036 - val_loss: 0.8703 - val_accuracy: 0.5220\n",
      "Epoch 158/200\n",
      "40/40 [==============================] - 0s 3ms/step - loss: 0.5327 - accuracy: 0.6863 - val_loss: 0.8815 - val_accuracy: 0.5157\n",
      "Epoch 159/200\n",
      "40/40 [==============================] - 0s 3ms/step - loss: 0.5285 - accuracy: 0.6855 - val_loss: 0.8635 - val_accuracy: 0.5189\n",
      "Epoch 160/200\n",
      "40/40 [==============================] - 0s 3ms/step - loss: 0.5225 - accuracy: 0.6910 - val_loss: 0.8519 - val_accuracy: 0.5189\n",
      "Epoch 161/200\n",
      "40/40 [==============================] - 0s 3ms/step - loss: 0.5244 - accuracy: 0.7138 - val_loss: 0.8567 - val_accuracy: 0.5220\n",
      "Epoch 162/200\n",
      "40/40 [==============================] - 0s 3ms/step - loss: 0.5125 - accuracy: 0.6981 - val_loss: 0.8645 - val_accuracy: 0.5346\n",
      "Epoch 163/200\n",
      "40/40 [==============================] - 0s 3ms/step - loss: 0.5109 - accuracy: 0.6981 - val_loss: 0.8756 - val_accuracy: 0.5157\n",
      "Epoch 164/200\n",
      "40/40 [==============================] - 0s 3ms/step - loss: 0.5086 - accuracy: 0.7115 - val_loss: 0.8812 - val_accuracy: 0.5189\n",
      "Epoch 165/200\n",
      "40/40 [==============================] - 0s 3ms/step - loss: 0.5176 - accuracy: 0.6997 - val_loss: 0.8841 - val_accuracy: 0.5157\n",
      "Epoch 166/200\n",
      "40/40 [==============================] - 0s 3ms/step - loss: 0.5169 - accuracy: 0.7115 - val_loss: 0.9038 - val_accuracy: 0.5157\n",
      "Epoch 167/200\n",
      "40/40 [==============================] - 0s 3ms/step - loss: 0.5205 - accuracy: 0.6950 - val_loss: 0.8605 - val_accuracy: 0.5126\n",
      "Epoch 168/200\n",
      "40/40 [==============================] - 0s 3ms/step - loss: 0.5159 - accuracy: 0.7028 - val_loss: 0.8937 - val_accuracy: 0.5157\n",
      "Epoch 169/200\n",
      "40/40 [==============================] - 0s 3ms/step - loss: 0.5237 - accuracy: 0.7075 - val_loss: 0.8818 - val_accuracy: 0.5126\n",
      "Epoch 170/200\n",
      "40/40 [==============================] - 0s 3ms/step - loss: 0.5137 - accuracy: 0.6950 - val_loss: 0.8852 - val_accuracy: 0.5283\n",
      "Epoch 171/200\n",
      "40/40 [==============================] - 0s 3ms/step - loss: 0.5118 - accuracy: 0.7170 - val_loss: 0.8718 - val_accuracy: 0.5189\n",
      "Epoch 172/200\n",
      "40/40 [==============================] - 0s 3ms/step - loss: 0.5168 - accuracy: 0.7091 - val_loss: 0.9269 - val_accuracy: 0.4528\n",
      "Epoch 173/200\n"
     ]
    },
    {
     "name": "stdout",
     "output_type": "stream",
     "text": [
      "40/40 [==============================] - 0s 3ms/step - loss: 0.5175 - accuracy: 0.7020 - val_loss: 0.9025 - val_accuracy: 0.5126\n",
      "Epoch 174/200\n",
      "40/40 [==============================] - 0s 3ms/step - loss: 0.5101 - accuracy: 0.7241 - val_loss: 0.9010 - val_accuracy: 0.5314\n",
      "Epoch 175/200\n",
      "40/40 [==============================] - 0s 3ms/step - loss: 0.5307 - accuracy: 0.6855 - val_loss: 0.8547 - val_accuracy: 0.5189\n",
      "Epoch 176/200\n",
      "40/40 [==============================] - 0s 3ms/step - loss: 0.5265 - accuracy: 0.6997 - val_loss: 0.8889 - val_accuracy: 0.5283\n",
      "Epoch 177/200\n",
      "40/40 [==============================] - 0s 3ms/step - loss: 0.4991 - accuracy: 0.7099 - val_loss: 0.8930 - val_accuracy: 0.5126\n",
      "Epoch 178/200\n",
      "40/40 [==============================] - 0s 3ms/step - loss: 0.5149 - accuracy: 0.6973 - val_loss: 0.8899 - val_accuracy: 0.5314\n",
      "Epoch 179/200\n",
      "40/40 [==============================] - 0s 3ms/step - loss: 0.5042 - accuracy: 0.7186 - val_loss: 0.8898 - val_accuracy: 0.5126\n",
      "Epoch 180/200\n",
      "40/40 [==============================] - 0s 3ms/step - loss: 0.5051 - accuracy: 0.7020 - val_loss: 0.9220 - val_accuracy: 0.5377\n",
      "Epoch 181/200\n",
      "40/40 [==============================] - 0s 3ms/step - loss: 0.5184 - accuracy: 0.6989 - val_loss: 0.8960 - val_accuracy: 0.5252\n",
      "Epoch 182/200\n",
      "40/40 [==============================] - 0s 3ms/step - loss: 0.5264 - accuracy: 0.6973 - val_loss: 0.8867 - val_accuracy: 0.5157\n",
      "Epoch 183/200\n",
      "40/40 [==============================] - 0s 3ms/step - loss: 0.5122 - accuracy: 0.6965 - val_loss: 0.8856 - val_accuracy: 0.5094\n",
      "Epoch 184/200\n",
      "40/40 [==============================] - 0s 3ms/step - loss: 0.4987 - accuracy: 0.7154 - val_loss: 0.8991 - val_accuracy: 0.5189\n",
      "Epoch 185/200\n",
      "40/40 [==============================] - 0s 3ms/step - loss: 0.5238 - accuracy: 0.6934 - val_loss: 0.9049 - val_accuracy: 0.5157\n",
      "Epoch 186/200\n",
      "40/40 [==============================] - 0s 3ms/step - loss: 0.5169 - accuracy: 0.7075 - val_loss: 0.8973 - val_accuracy: 0.5283\n",
      "Epoch 187/200\n",
      "40/40 [==============================] - 0s 3ms/step - loss: 0.5050 - accuracy: 0.7099 - val_loss: 0.9084 - val_accuracy: 0.5252\n",
      "Epoch 188/200\n",
      "40/40 [==============================] - 0s 3ms/step - loss: 0.5126 - accuracy: 0.6989 - val_loss: 0.9340 - val_accuracy: 0.5157\n",
      "Epoch 189/200\n",
      "40/40 [==============================] - 0s 3ms/step - loss: 0.5127 - accuracy: 0.7052 - val_loss: 0.8886 - val_accuracy: 0.5252\n",
      "Epoch 190/200\n",
      "40/40 [==============================] - 0s 3ms/step - loss: 0.5169 - accuracy: 0.6997 - val_loss: 0.8914 - val_accuracy: 0.5220\n",
      "Epoch 191/200\n",
      "40/40 [==============================] - 0s 3ms/step - loss: 0.5099 - accuracy: 0.7036 - val_loss: 0.8830 - val_accuracy: 0.5157\n",
      "Epoch 192/200\n",
      "40/40 [==============================] - 0s 3ms/step - loss: 0.5110 - accuracy: 0.7020 - val_loss: 0.8711 - val_accuracy: 0.5220\n",
      "Epoch 193/200\n",
      "40/40 [==============================] - 0s 3ms/step - loss: 0.5161 - accuracy: 0.7005 - val_loss: 0.8801 - val_accuracy: 0.5346\n",
      "Epoch 194/200\n",
      "40/40 [==============================] - 0s 3ms/step - loss: 0.4926 - accuracy: 0.7178 - val_loss: 0.8921 - val_accuracy: 0.5252\n",
      "Epoch 195/200\n",
      "40/40 [==============================] - 0s 3ms/step - loss: 0.5074 - accuracy: 0.7036 - val_loss: 0.8692 - val_accuracy: 0.5189\n",
      "Epoch 196/200\n",
      "40/40 [==============================] - 0s 3ms/step - loss: 0.5117 - accuracy: 0.6926 - val_loss: 0.8704 - val_accuracy: 0.5314\n",
      "Epoch 197/200\n",
      "40/40 [==============================] - 0s 3ms/step - loss: 0.4978 - accuracy: 0.7131 - val_loss: 0.9139 - val_accuracy: 0.5126\n",
      "Epoch 198/200\n",
      "40/40 [==============================] - 0s 3ms/step - loss: 0.5080 - accuracy: 0.7178 - val_loss: 0.8970 - val_accuracy: 0.5189\n",
      "Epoch 199/200\n",
      "40/40 [==============================] - 0s 3ms/step - loss: 0.5006 - accuracy: 0.7272 - val_loss: 0.8962 - val_accuracy: 0.5220\n",
      "Epoch 200/200\n",
      "40/40 [==============================] - 0s 3ms/step - loss: 0.5149 - accuracy: 0.6981 - val_loss: 0.9019 - val_accuracy: 0.5063\n"
     ]
    },
    {
     "data": {
      "text/plain": [
       "<tensorflow.python.keras.callbacks.History at 0x77ed989eb0>"
      ]
     },
     "execution_count": 91,
     "metadata": {},
     "output_type": "execute_result"
    }
   ],
   "source": [
    "keras_1.fit(X_train_count, y_train,validation_data=(X_test_count, y_test), batch_size=32,epochs=200, callbacks=[history_1])"
   ]
  },
  {
   "cell_type": "markdown",
   "id": "49ba77cc",
   "metadata": {},
   "source": [
    "## Keras z early stopping"
   ]
  },
  {
   "cell_type": "code",
   "execution_count": 92,
   "id": "eb510c4e",
   "metadata": {},
   "outputs": [
    {
     "name": "stdout",
     "output_type": "stream",
     "text": [
      "Model: \"sequential\"\n",
      "_________________________________________________________________\n",
      "Layer (type)                 Output Shape              Param #   \n",
      "=================================================================\n",
      "flatten (Flatten)            (None, 67)                0         \n",
      "_________________________________________________________________\n",
      "dense (Dense)                (None, 300)               20400     \n",
      "_________________________________________________________________\n",
      "batch_normalization (BatchNo (None, 300)               1200      \n",
      "_________________________________________________________________\n",
      "activation (Activation)      (None, 300)               0         \n",
      "_________________________________________________________________\n",
      "dropout (Dropout)            (None, 300)               0         \n",
      "_________________________________________________________________\n",
      "dense_1 (Dense)              (None, 150)               45150     \n",
      "_________________________________________________________________\n",
      "batch_normalization_1 (Batch (None, 150)               600       \n",
      "_________________________________________________________________\n",
      "activation_1 (Activation)    (None, 150)               0         \n",
      "_________________________________________________________________\n",
      "dropout_1 (Dropout)          (None, 150)               0         \n",
      "_________________________________________________________________\n",
      "dense_2 (Dense)              (None, 50)                7550      \n",
      "_________________________________________________________________\n",
      "batch_normalization_2 (Batch (None, 50)                200       \n",
      "_________________________________________________________________\n",
      "activation_2 (Activation)    (None, 50)                0         \n",
      "_________________________________________________________________\n",
      "dropout_2 (Dropout)          (None, 50)                0         \n",
      "_________________________________________________________________\n",
      "dense_3 (Dense)              (None, 1)                 51        \n",
      "=================================================================\n",
      "Total params: 75,151\n",
      "Trainable params: 74,151\n",
      "Non-trainable params: 1,000\n",
      "_________________________________________________________________\n"
     ]
    }
   ],
   "source": [
    "keras.backend.clear_session()\n",
    "\n",
    "history_2 = History()\n",
    "keras_2 = Sequential()\n",
    "\n",
    "keras_2.add(Flatten(input_shape=((X_train_count).shape[1],)))\n",
    "\n",
    "keras_2.add(Dense(300))\n",
    "keras_2.add(BatchNormalization())\n",
    "keras_2.add(Activation(\"elu\"))\n",
    "keras_2.add(Dropout(0.3))\n",
    "\n",
    "keras_2.add(Dense(150))\n",
    "keras_2.add(BatchNormalization())\n",
    "keras_2.add(Activation(\"elu\"))\n",
    "keras_2.add(Dropout(0.3))\n",
    "\n",
    "keras_2.add(Dense(50))\n",
    "keras_2.add(BatchNormalization())\n",
    "keras_2.add(Activation(\"elu\"))\n",
    "keras_2.add(Dropout(0.3))\n",
    "\n",
    "keras_2.add(Dense(1,activation=\"sigmoid\"))\n",
    "\n",
    "keras_2.summary()"
   ]
  },
  {
   "cell_type": "code",
   "execution_count": 93,
   "id": "59cf8531",
   "metadata": {},
   "outputs": [],
   "source": [
    "keras_2.compile(loss=\"binary_crossentropy\",optimizer='adam', metrics=[\"accuracy\"])"
   ]
  },
  {
   "cell_type": "code",
   "execution_count": 94,
   "id": "5ad32360",
   "metadata": {},
   "outputs": [],
   "source": [
    "from tensorflow.keras.callbacks import EarlyStopping\n",
    "early_stopping = EarlyStopping(monitor='val_accuracy', patience=10, mode='max', verbose=1)"
   ]
  },
  {
   "cell_type": "code",
   "execution_count": 95,
   "id": "4a4df7a5",
   "metadata": {},
   "outputs": [
    {
     "name": "stdout",
     "output_type": "stream",
     "text": [
      "Epoch 1/200\n",
      "40/40 [==============================] - 0s 7ms/step - loss: 0.8501 - accuracy: 0.4898 - val_loss: 0.6909 - val_accuracy: 0.5566\n",
      "Epoch 2/200\n",
      "40/40 [==============================] - 0s 3ms/step - loss: 0.7598 - accuracy: 0.5173 - val_loss: 0.6979 - val_accuracy: 0.5346\n",
      "Epoch 3/200\n",
      "40/40 [==============================] - 0s 3ms/step - loss: 0.7334 - accuracy: 0.5299 - val_loss: 0.6973 - val_accuracy: 0.5252\n",
      "Epoch 4/200\n",
      "40/40 [==============================] - 0s 3ms/step - loss: 0.7182 - accuracy: 0.5425 - val_loss: 0.7005 - val_accuracy: 0.5440\n",
      "Epoch 5/200\n",
      "40/40 [==============================] - 0s 3ms/step - loss: 0.7106 - accuracy: 0.5377 - val_loss: 0.7070 - val_accuracy: 0.5346\n",
      "Epoch 6/200\n",
      "40/40 [==============================] - 0s 3ms/step - loss: 0.7021 - accuracy: 0.5723 - val_loss: 0.7049 - val_accuracy: 0.5346\n",
      "Epoch 7/200\n",
      "40/40 [==============================] - 0s 3ms/step - loss: 0.6926 - accuracy: 0.5778 - val_loss: 0.7118 - val_accuracy: 0.5314\n",
      "Epoch 8/200\n",
      "40/40 [==============================] - 0s 3ms/step - loss: 0.6937 - accuracy: 0.5519 - val_loss: 0.7135 - val_accuracy: 0.5283\n",
      "Epoch 9/200\n",
      "40/40 [==============================] - 0s 3ms/step - loss: 0.6834 - accuracy: 0.5763 - val_loss: 0.7224 - val_accuracy: 0.5157\n",
      "Epoch 10/200\n",
      "40/40 [==============================] - 0s 3ms/step - loss: 0.6780 - accuracy: 0.5747 - val_loss: 0.7241 - val_accuracy: 0.5252\n",
      "Epoch 11/200\n",
      "40/40 [==============================] - 0s 3ms/step - loss: 0.6694 - accuracy: 0.5841 - val_loss: 0.7338 - val_accuracy: 0.5189\n",
      "Epoch 00011: early stopping\n"
     ]
    },
    {
     "data": {
      "text/plain": [
       "<tensorflow.python.keras.callbacks.History at 0x794a309f70>"
      ]
     },
     "execution_count": 95,
     "metadata": {},
     "output_type": "execute_result"
    }
   ],
   "source": [
    "keras_2.fit(X_train_count, y_train,validation_data=(X_test_count, y_test), batch_size=32,epochs=200, callbacks=[history_2,early_stopping])"
   ]
  },
  {
   "cell_type": "markdown",
   "id": "6675e7f8",
   "metadata": {},
   "source": [
    "# Wyniki"
   ]
  },
  {
   "cell_type": "markdown",
   "id": "300905eb",
   "metadata": {},
   "source": [
    "Po kolei sprawdzamy accuracy dla każdego modelu oraz dodajemy niekiedy dodatkowe rzeczy w postaci np. wykresów."
   ]
  },
  {
   "cell_type": "markdown",
   "id": "2b672323",
   "metadata": {},
   "source": [
    "**Na samym dole w tabelce zebraliśmy wszystkie wyniki razem**"
   ]
  },
  {
   "cell_type": "code",
   "execution_count": 96,
   "id": "3b56ad16",
   "metadata": {},
   "outputs": [],
   "source": [
    "from sklearn import  metrics"
   ]
  },
  {
   "cell_type": "code",
   "execution_count": 97,
   "id": "803aaeae",
   "metadata": {},
   "outputs": [
    {
     "name": "stdout",
     "output_type": "stream",
     "text": [
      "accuracy_score: 0.5408805031446541\n"
     ]
    }
   ],
   "source": [
    "#DecisionTreeClassifier\n",
    "print(\"accuracy_score: {}\".format( metrics.accuracy_score(y_test, grid_0.predict(X_test_count)) ))"
   ]
  },
  {
   "cell_type": "markdown",
   "id": "88b7648a",
   "metadata": {},
   "source": [
    "Generowanie drzewa (wizualizacja)"
   ]
  },
  {
   "cell_type": "code",
   "execution_count": 98,
   "id": "31ec1b12",
   "metadata": {},
   "outputs": [
    {
     "data": {
      "image/png": "[encoded data removed]",
      "text/plain": [
       "<IPython.core.display.Image object>"
      ]
     },
     "execution_count": 98,
     "metadata": {},
     "output_type": "execute_result"
    }
   ],
   "source": [
    "from sklearn.tree import export_graphviz\n",
    "from six import StringIO\n",
    "from IPython.display import Image\n",
    "import pydotplus\n",
    "\n",
    "model = grid_0.best_estimator_.named_steps['classifier']\n",
    "dot_data = StringIO()\n",
    "export_graphviz(\n",
    "    model,\n",
    "    out_file=dot_data,\n",
    "    filled=True,\n",
    "    rounded=True,\n",
    "    special_characters=True,\n",
    "    feature_names=COLUMNS,\n",
    "    class_names=['0', '1']\n",
    ")\n",
    "\n",
    "graph = pydotplus.graph_from_dot_data(dot_data.getvalue())\n",
    "graph.write_png('tree.png')\n",
    "Image(graph.create_png())"
   ]
  },
  {
   "cell_type": "code",
   "execution_count": 99,
   "id": "07f75a1f",
   "metadata": {},
   "outputs": [
    {
     "name": "stdout",
     "output_type": "stream",
     "text": [
      "accuracy_score: 0.5408805031446541\n"
     ]
    }
   ],
   "source": [
    "#SVM\n",
    "print(\"accuracy_score: {}\".format( metrics.accuracy_score(y_test, grid_1.predict(X_test_count)) ))"
   ]
  },
  {
   "cell_type": "code",
   "execution_count": 100,
   "id": "af3f67de",
   "metadata": {},
   "outputs": [
    {
     "name": "stdout",
     "output_type": "stream",
     "text": [
      "accuracy_score: 0.5314465408805031\n"
     ]
    }
   ],
   "source": [
    "#Logistic regression\n",
    "print(\"accuracy_score: {}\".format( metrics.accuracy_score(y_test, grid_2.predict(X_test_count)) ))"
   ]
  },
  {
   "cell_type": "code",
   "execution_count": 101,
   "id": "7bd4f53a",
   "metadata": {},
   "outputs": [
    {
     "name": "stdout",
     "output_type": "stream",
     "text": [
      "accuracy_score: 0.5471698113207547\n"
     ]
    }
   ],
   "source": [
    "#XGBoost\n",
    "print(\"accuracy_score: {}\".format( metrics.accuracy_score(y_test, grid_3.predict(X_test_count)) ))"
   ]
  },
  {
   "cell_type": "code",
   "execution_count": 102,
   "id": "49d3b0cd",
   "metadata": {},
   "outputs": [
    {
     "name": "stdout",
     "output_type": "stream",
     "text": [
      "accuracy_score: 0.5283018867924528\n"
     ]
    }
   ],
   "source": [
    "#RandomForestClassifier\n",
    "print(\"accuracy_score: {}\".format( metrics.accuracy_score(y_test, grid_4.predict(X_test_count)) ))"
   ]
  },
  {
   "cell_type": "code",
   "execution_count": 103,
   "id": "7fcb7f33",
   "metadata": {
    "scrolled": true
   },
   "outputs": [
    {
     "name": "stdout",
     "output_type": "stream",
     "text": [
      "accuracy_score: 0.5345911949685535\n"
     ]
    }
   ],
   "source": [
    "#MLP\n",
    "print(\"accuracy_score: {}\".format( metrics.accuracy_score(y_test, grid_5.predict(X_test_count)) ))"
   ]
  },
  {
   "cell_type": "code",
   "execution_count": 104,
   "id": "c152c58f",
   "metadata": {},
   "outputs": [
    {
     "name": "stdout",
     "output_type": "stream",
     "text": [
      "accuracy_score: 0.5062893081761006\n"
     ]
    }
   ],
   "source": [
    "#GradientBoostingClassifeir\n",
    "print(\"accuracy_score: {}\".format( metrics.accuracy_score(y_test, grid_6.predict(X_test_count)) ))"
   ]
  },
  {
   "cell_type": "code",
   "execution_count": 105,
   "id": "a49eebe2",
   "metadata": {},
   "outputs": [
    {
     "name": "stdout",
     "output_type": "stream",
     "text": [
      "accuracy_score: 0.5314465408805031\n"
     ]
    }
   ],
   "source": [
    "#AdaBoostingClassifeir\n",
    "print(\"accuracy_score: {}\".format( metrics.accuracy_score(y_test, grid_7.predict(X_test_count)) ))"
   ]
  },
  {
   "cell_type": "code",
   "execution_count": 106,
   "id": "7f619cb5",
   "metadata": {},
   "outputs": [
    {
     "name": "stdout",
     "output_type": "stream",
     "text": [
      "WARNING:tensorflow:From <ipython-input-106-06499adb4e3c>:2: Sequential.predict_classes (from tensorflow.python.keras.engine.sequential) is deprecated and will be removed after 2021-01-01.\n",
      "Instructions for updating:\n",
      "Please use instead:* `np.argmax(model.predict(x), axis=-1)`,   if your model does multi-class classification   (e.g. if it uses a `softmax` last-layer activation).* `(model.predict(x) > 0.5).astype(\"int32\")`,   if your model does binary classification   (e.g. if it uses a `sigmoid` last-layer activation).\n",
      "accuracy_score: 0.5062893081761006\n"
     ]
    }
   ],
   "source": [
    "#Keras bez early stopping\n",
    "print(\"accuracy_score: {}\".format( metrics.accuracy_score(y_test, keras_1.predict_classes(X_test_count)) ))"
   ]
  },
  {
   "cell_type": "code",
   "execution_count": 107,
   "id": "8f9fa9d2",
   "metadata": {
    "scrolled": true
   },
   "outputs": [
    {
     "data": {
      "image/png": "[encoded data removed]",
      "text/plain": [
       "<Figure size 576x360 with 1 Axes>"
      ]
     },
     "metadata": {
      "needs_background": "light"
     },
     "output_type": "display_data"
    }
   ],
   "source": [
    "import pandas as pd\n",
    "\n",
    "pd.DataFrame(history_1.history).plot(figsize=(8, 5))\n",
    "plt.grid(True)\n",
    "plt.gca().set_ylim(0, 1)\n",
    "plt.yticks(np.linspace(0,1,11))\n",
    "plt.show()"
   ]
  },
  {
   "cell_type": "code",
   "execution_count": 108,
   "id": "87b669b0",
   "metadata": {},
   "outputs": [
    {
     "name": "stdout",
     "output_type": "stream",
     "text": [
      "accuracy_score: 0.5188679245283019\n"
     ]
    }
   ],
   "source": [
    "#Keras z early stopping\n",
    "print(\"accuracy_score: {}\".format( metrics.accuracy_score(y_test, keras_2.predict_classes(X_test_count)) ))"
   ]
  },
  {
   "cell_type": "code",
   "execution_count": 109,
   "id": "c9aeda58",
   "metadata": {},
   "outputs": [
    {
     "data": {
      "image/png": "[encoded data removed]",
      "text/plain": [
       "<Figure size 576x360 with 1 Axes>"
      ]
     },
     "metadata": {
      "needs_background": "light"
     },
     "output_type": "display_data"
    }
   ],
   "source": [
    "pd.DataFrame(history_2.history).plot(figsize=(8, 5))\n",
    "plt.grid(True)\n",
    "plt.gca().set_ylim(0, 1)\n",
    "plt.yticks(np.linspace(0,1,11))\n",
    "plt.show()"
   ]
  },
  {
   "cell_type": "markdown",
   "id": "54f6bdd6",
   "metadata": {},
   "source": [
    "## Zwizualizujmy wyniki w tabelce "
   ]
  },
  {
   "cell_type": "code",
   "execution_count": 114,
   "id": "8654e409",
   "metadata": {},
   "outputs": [
    {
     "name": "stdout",
     "output_type": "stream",
     "text": [
      "WARNING:tensorflow:From <ipython-input-114-57adaa2f28e3>:28: Sequential.predict_proba (from tensorflow.python.keras.engine.sequential) is deprecated and will be removed after 2021-01-01.\n",
      "Instructions for updating:\n",
      "Please use `model.predict()` instead.\n"
     ]
    },
    {
     "data": {
      "image/png": "[encoded data removed]",
      "text/plain": [
       "<Figure size 864x864 with 1 Axes>"
      ]
     },
     "metadata": {
      "needs_background": "light"
     },
     "output_type": "display_data"
    }
   ],
   "source": [
    "models = []\n",
    "models.append(('Decision tree classifier', grid_0))\n",
    "models.append(('SVM linear', grid_1))\n",
    "models.append(('Logistic regression', grid_2))\n",
    "models.append(('XGBoost classifier', grid_3))\n",
    "models.append(('Random forest classifier', grid_4))\n",
    "models.append(('MLPClassifier', grid_5))\n",
    "models.append(('Gradient boosting classifier', grid_6))\n",
    "models.append(('Ada boostring classifier', grid_7))\n",
    "models.append(('Keras', keras_1))\n",
    "models.append(('Keras early stopping', keras_2))\n",
    "\n",
    "precision_score = []\n",
    "recall_score = []\n",
    "f1_score = []\n",
    "accuracy_score = []\n",
    "roc_auc_val = []\n",
    "plt.figure(figsize=(12, 12))\n",
    "for name, model in models:\n",
    "    if((name == 'Keras') or (name == 'Keras early stopping')):\n",
    "        precision_score.append(metrics.precision_score(y_test, model.predict_classes(X_test_count)))\n",
    "        recall_score.append(metrics.recall_score(y_test, model.predict_classes(X_test_count)))\n",
    "        f1_score.append( metrics.f1_score(y_test, model.predict_classes(X_test_count)))\n",
    "        accuracy_score.append(metrics.accuracy_score(y_test, model.predict_classes(X_test_count)))\n",
    "        \n",
    "        \n",
    "        # calculate the fpr and tpr for all thresholds of the classification\n",
    "        probs = model.predict_proba(X_test_count)\n",
    "        preds = probs\n",
    "        fpr, tpr, threshold = metrics.roc_curve(y_test, preds)\n",
    "        roc_auc = metrics.auc(fpr, tpr)\n",
    "        roc_auc_val.append(roc_auc)\n",
    "        \n",
    "    else:\n",
    "        precision_score.append(metrics.precision_score(y_test, model.predict(X_test_count)))\n",
    "        recall_score.append(metrics.recall_score(y_test, model.predict(X_test_count)))\n",
    "        f1_score.append( metrics.f1_score(y_test, model.predict(X_test_count)))\n",
    "        accuracy_score.append(metrics.accuracy_score(y_test, model.predict(X_test_count)))\n",
    "        \n",
    "        if (name != 'SVM linear'):\n",
    "            # calculate the fpr and tpr for all thresholds of the classification\n",
    "            probs = model.predict_proba(X_test_count)\n",
    "            preds = probs[:,1]\n",
    "            fpr, tpr, threshold = metrics.roc_curve(y_test, preds)\n",
    "            roc_auc = metrics.auc(fpr, tpr)\n",
    "            roc_auc_val.append(roc_auc)\n",
    "            \n",
    "            \n",
    "    if (name != 'SVM linear'):\n",
    "        # method I: plt\n",
    "        import matplotlib.pyplot as plt\n",
    "        plt.title('Receiver Operating Characteristic')\n",
    "        plt.plot(fpr, tpr, label = '%s AUC = %0.10f' % (name, roc_auc))\n",
    "        plt.legend(loc = 'lower right')\n",
    "        plt.plot([-0.1, 1.1], [0, 1],'r--')\n",
    "        plt.xlim([-0.1, 1.1])\n",
    "        plt.ylim([-0.1, 1.1])\n",
    "        plt.ylabel('True Positive Rate')\n",
    "        plt.xlabel('False Positive Rate')\n",
    "plt.rcParams['figure.figsize'] = [2, 2]\n",
    "plt.show()"
   ]
  },
  {
   "cell_type": "code",
   "execution_count": 115,
   "id": "12677217",
   "metadata": {},
   "outputs": [
    {
     "data": {
      "text/html": [
       "<div>\n",
       "<style scoped>\n",
       "    .dataframe tbody tr th:only-of-type {\n",
       "        vertical-align: middle;\n",
       "    }\n",
       "\n",
       "    .dataframe tbody tr th {\n",
       "        vertical-align: top;\n",
       "    }\n",
       "\n",
       "    .dataframe thead th {\n",
       "        text-align: right;\n",
       "    }\n",
       "</style>\n",
       "<table border=\"1\" class=\"dataframe\">\n",
       "  <thead>\n",
       "    <tr style=\"text-align: right;\">\n",
       "      <th></th>\n",
       "      <th>Method</th>\n",
       "      <th>precision_score</th>\n",
       "      <th>recall_score</th>\n",
       "      <th>f1_score</th>\n",
       "      <th>accuracy_score</th>\n",
       "    </tr>\n",
       "  </thead>\n",
       "  <tbody>\n",
       "    <tr>\n",
       "      <th>3</th>\n",
       "      <td>XGBoost classifier</td>\n",
       "      <td>0.544586</td>\n",
       "      <td>0.994186</td>\n",
       "      <td>0.703704</td>\n",
       "      <td>0.547170</td>\n",
       "    </tr>\n",
       "    <tr>\n",
       "      <th>0</th>\n",
       "      <td>Decision tree classifier</td>\n",
       "      <td>0.540881</td>\n",
       "      <td>1.000000</td>\n",
       "      <td>0.702041</td>\n",
       "      <td>0.540881</td>\n",
       "    </tr>\n",
       "    <tr>\n",
       "      <th>1</th>\n",
       "      <td>SVM linear</td>\n",
       "      <td>0.540881</td>\n",
       "      <td>1.000000</td>\n",
       "      <td>0.702041</td>\n",
       "      <td>0.540881</td>\n",
       "    </tr>\n",
       "    <tr>\n",
       "      <th>5</th>\n",
       "      <td>MLPClassifier</td>\n",
       "      <td>0.538710</td>\n",
       "      <td>0.970930</td>\n",
       "      <td>0.692946</td>\n",
       "      <td>0.534591</td>\n",
       "    </tr>\n",
       "    <tr>\n",
       "      <th>2</th>\n",
       "      <td>Logistic regression</td>\n",
       "      <td>0.538462</td>\n",
       "      <td>0.936047</td>\n",
       "      <td>0.683652</td>\n",
       "      <td>0.531447</td>\n",
       "    </tr>\n",
       "    <tr>\n",
       "      <th>7</th>\n",
       "      <td>Ada boostring classifier</td>\n",
       "      <td>0.536508</td>\n",
       "      <td>0.982558</td>\n",
       "      <td>0.694045</td>\n",
       "      <td>0.531447</td>\n",
       "    </tr>\n",
       "    <tr>\n",
       "      <th>4</th>\n",
       "      <td>Random forest classifier</td>\n",
       "      <td>0.546610</td>\n",
       "      <td>0.750000</td>\n",
       "      <td>0.632353</td>\n",
       "      <td>0.528302</td>\n",
       "    </tr>\n",
       "    <tr>\n",
       "      <th>9</th>\n",
       "      <td>Keras early stopping</td>\n",
       "      <td>0.539749</td>\n",
       "      <td>0.750000</td>\n",
       "      <td>0.627737</td>\n",
       "      <td>0.518868</td>\n",
       "    </tr>\n",
       "    <tr>\n",
       "      <th>6</th>\n",
       "      <td>Gradient boosting classifier</td>\n",
       "      <td>0.533040</td>\n",
       "      <td>0.703488</td>\n",
       "      <td>0.606516</td>\n",
       "      <td>0.506289</td>\n",
       "    </tr>\n",
       "    <tr>\n",
       "      <th>8</th>\n",
       "      <td>Keras</td>\n",
       "      <td>0.534562</td>\n",
       "      <td>0.674419</td>\n",
       "      <td>0.596401</td>\n",
       "      <td>0.506289</td>\n",
       "    </tr>\n",
       "  </tbody>\n",
       "</table>\n",
       "</div>"
      ],
      "text/plain": [
       "                         Method  precision_score  recall_score  f1_score  \\\n",
       "3            XGBoost classifier         0.544586      0.994186  0.703704   \n",
       "0      Decision tree classifier         0.540881      1.000000  0.702041   \n",
       "1                    SVM linear         0.540881      1.000000  0.702041   \n",
       "5                 MLPClassifier         0.538710      0.970930  0.692946   \n",
       "2           Logistic regression         0.538462      0.936047  0.683652   \n",
       "7      Ada boostring classifier         0.536508      0.982558  0.694045   \n",
       "4      Random forest classifier         0.546610      0.750000  0.632353   \n",
       "9          Keras early stopping         0.539749      0.750000  0.627737   \n",
       "6  Gradient boosting classifier         0.533040      0.703488  0.606516   \n",
       "8                         Keras         0.534562      0.674419  0.596401   \n",
       "\n",
       "   accuracy_score  \n",
       "3        0.547170  \n",
       "0        0.540881  \n",
       "1        0.540881  \n",
       "5        0.534591  \n",
       "2        0.531447  \n",
       "7        0.531447  \n",
       "4        0.528302  \n",
       "9        0.518868  \n",
       "6        0.506289  \n",
       "8        0.506289  "
      ]
     },
     "execution_count": 115,
     "metadata": {},
     "output_type": "execute_result"
    }
   ],
   "source": [
    "d = {\n",
    "     'precision_score': precision_score, \n",
    "     'recall_score': recall_score, \n",
    "     'f1_score': f1_score,\n",
    "     'accuracy_score' : accuracy_score,\n",
    "#      'roc_auc': roc_auc_val\n",
    "    }\n",
    "df = pd.DataFrame(data=d)\n",
    "df.insert(loc=0, column='Method', value=[model[0] for model in models])\n",
    "df.sort_values(by='accuracy_score', ascending=False)"
   ]
  },
  {
   "cell_type": "code",
   "execution_count": 116,
   "id": "126680bd",
   "metadata": {},
   "outputs": [
    {
     "data": {
      "text/plain": [
       "1    851\n",
       "0    739\n",
       "Name: Increased, dtype: int64"
      ]
     },
     "execution_count": 116,
     "metadata": {},
     "output_type": "execute_result"
    }
   ],
   "source": [
    "data['Increased'].value_counts()"
   ]
  },
  {
   "cell_type": "code",
   "execution_count": 118,
   "id": "e2a2cb06",
   "metadata": {},
   "outputs": [
    {
     "data": {
      "text/plain": [
       "0.5352201257861635"
      ]
     },
     "execution_count": 118,
     "metadata": {},
     "output_type": "execute_result"
    }
   ],
   "source": [
    "851/(851+739)"
   ]
  },
  {
   "cell_type": "code",
   "execution_count": null,
   "id": "6901698e",
   "metadata": {},
   "outputs": [],
   "source": []
  }
 ],
 "metadata": {
  "kernelspec": {
   "display_name": "Python 3",
   "language": "python",
   "name": "python3"
  },
  "language_info": {
   "codemirror_mode": {
    "name": "ipython",
    "version": 3
   },
   "file_extension": ".py",
   "mimetype": "text/x-python",
   "name": "python",
   "nbconvert_exporter": "python",
   "pygments_lexer": "ipython3",
   "version": "3.8.8"
  }
 },
 "nbformat": 4,
 "nbformat_minor": 5
}
